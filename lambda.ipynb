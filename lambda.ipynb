{
 "cells": [
  {
   "cell_type": "markdown",
   "id": "b2ea5bd0-3699-41b9-9c9f-4b6f0c201728",
   "metadata": {},
   "source": [
    "# 람다 함수   \n",
    "\n",
    "선언 >> lambda <매개변수> : 코드\n",
    "호출 >> (lambda <매개변수> : 코드) (매개변수값)"
   ]
  }
 ],
 "metadata": {
  "kernelspec": {
   "display_name": "Python 3 (ipykernel)",
   "language": "python",
   "name": "python3"
  },
  "language_info": {
   "codemirror_mode": {
    "name": "ipython",
    "version": 3
   },
   "file_extension": ".py",
   "mimetype": "text/x-python",
   "name": "python",
   "nbconvert_exporter": "python",
   "pygments_lexer": "ipython3",
   "version": "3.12.9"
  }
 },
 "nbformat": 4,
 "nbformat_minor": 5
}
