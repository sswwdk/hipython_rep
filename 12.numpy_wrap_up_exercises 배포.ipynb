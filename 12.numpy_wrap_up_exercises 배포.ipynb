{
 "cells": [
  {
   "cell_type": "markdown",
   "metadata": {},
   "source": [
    "# NumPy 랩업 문제\n",
    "다음 문제들은 NumPy의 기본 개념부터 고급 개념까지 순차적으로 학습할 수 있도록 설계되었습니다. \n",
    "\n",
    "문제의 난이도는 하, 중, 상으로 나뉘어 있으며, 각각 5개의 문제로 구성되어 있습니다.\n",
    "\n"
   ]
  },
  {
   "cell_type": "markdown",
   "metadata": {},
   "source": [
    "## 1단계 문제\n"
   ]
  },
  {
   "cell_type": "markdown",
   "metadata": {},
   "source": [
    "1. 크기가 10인 null 벡터를 만드세요. (힌트: `np.zeros()`)\n"
   ]
  },
  {
   "cell_type": "markdown",
   "metadata": {},
   "source": [
    "2. numpy 버전과 설정을 출력하세요. (힌트: `np.__version__`, `np.show_config()`)\n"
   ]
  },
  {
   "cell_type": "markdown",
   "metadata": {},
   "source": [
    "3. 값이 10에서 49까지인 벡터를 만드세요. (힌트: `np.arange(10, 50)`)\n"
   ]
  },
  {
   "cell_type": "markdown",
   "metadata": {},
   "source": [
    "4. 벡터를 역순으로 만드세요 (첫 번째 요소가 마지막이 됩니다). (힌트: 배열을 뒤집기 위해 `[::-1]`)\n"
   ]
  },
  {
   "cell_type": "markdown",
   "metadata": {},
   "source": [
    "5. 크기가 3x3이고 0에서 8까지의 값을 갖는 행렬을 만드세요. (힌트: `np.arange()`와 `reshape()`)\n"
   ]
  },
  {
   "cell_type": "markdown",
   "metadata": {},
   "source": [
    "## 2단계 문제\n"
   ]
  },
  {
   "cell_type": "markdown",
   "metadata": {},
   "source": [
    "1. 1D 배열을 3x3 행렬로 변환하세요. (힌트: `reshape()`)\n"
   ]
  },
  {
   "cell_type": "markdown",
   "metadata": {},
   "source": [
    "2. 0에서 1 사이의 랜덤한 값으로 채워진 3x3 배열을 만드세요. (힌트: `np.random.random()`)\n"
   ]
  },
  {
   "cell_type": "markdown",
   "metadata": {},
   "source": [
    "3. 5x5 단위 행렬을 만드세요. (힌트: `np.eye(5)`)\n"
   ]
  },
  {
   "cell_type": "markdown",
   "metadata": {},
   "source": [
    "4. 임의의 1D 배열에서 가장 큰 값의 인덱스를 찾으세요. (힌트: `np.argmax()`)\n"
   ]
  },
  {
   "cell_type": "markdown",
   "metadata": {},
   "source": [
    "5. 크기가 10인 배열을 생성하고, 3에서 8까지의 값을 0으로 바꾸세요. (힌트: 슬라이싱과 배열 인덱싱)\n"
   ]
  },
  {
   "cell_type": "markdown",
   "metadata": {},
   "source": [
    "## 3단계 문제\n"
   ]
  },
  {
   "cell_type": "markdown",
   "metadata": {},
   "source": [
    "1. 임의의 배열에서 가장 작은 값과 가장 큰 값을 교환하세요. (힌트: `np.min()`, `np.max()`와 인덱싱)\n"
   ]
  },
  {
   "cell_type": "markdown",
   "metadata": {},
   "source": [
    "2. 3차원 배열의 각 슬라이스마다 평균값을 계산하세요. (힌트: `np.mean()`과 축 설정)\n"
   ]
  },
  {
   "cell_type": "markdown",
   "metadata": {},
   "source": [
    "3. 크기가 100인 배열을 생성하고 평균, 표준편차를 계산하세요. (힌트: `np.mean()`, `np.std()`)\n"
   ]
  },
  {
   "cell_type": "markdown",
   "metadata": {},
   "source": [
    "4. 주어진 2D 배열에서 고유한 행을 찾으세요. (힌트: `np.unique()`와 `axis` 설정)\n"
   ]
  },
  {
   "cell_type": "markdown",
   "metadata": {},
   "source": [
    "5. 임의의 10x10 배열에서 가장 큰 값 5개를 찾으세요. (힌트: `np.argsort()`와 슬라이싱)\n"
   ]
  }
 ],
 "metadata": {
  "kernelspec": {
   "display_name": "Python 3 (ipykernel)",
   "language": "python",
   "name": "python3"
  },
  "language_info": {
   "codemirror_mode": {
    "name": "ipython",
    "version": 3
   },
   "file_extension": ".py",
   "mimetype": "text/x-python",
   "name": "python",
   "nbconvert_exporter": "python",
   "pygments_lexer": "ipython3",
   "version": "3.11.4"
  }
 },
 "nbformat": 4,
 "nbformat_minor": 4
}
