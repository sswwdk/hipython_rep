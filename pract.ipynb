{
 "cells": [
  {
   "cell_type": "code",
   "execution_count": null,
   "id": "45fcedbb",
   "metadata": {},
   "outputs": [],
   "source": [
    "# # 항공사별 pct_carrier_delay\n",
    "\n",
    "# plt.figure(figsize=(12, 7))\n",
    "\n",
    "# # x축에는 그룹(범주형 변수), y축에는 값(수치형 변수)을 지정합니다.\n",
    "# sns.boxplot(data=df, x='airline', y='pct_carrier_delay')\n",
    "\n",
    "# plt.title('항공사별 pct_carrier_delay', fontsize=15)\n",
    "# plt.xlabel('항공사')\n",
    "# plt.ylabel('항공사 요인 지연율 (%)')\n",
    "# plt.xticks(rotation=45) # x축 라벨이 겹치면 회전시켜줍니다.\n",
    "# plt.show()"
   ]
  },
  {
   "cell_type": "code",
   "execution_count": null,
   "id": "a0716111",
   "metadata": {},
   "outputs": [],
   "source": [
    "# # 항공사별 pct_atc_delay\n",
    "\n",
    "# plt.figure(figsize=(12, 7))\n",
    "\n",
    "# # x축에는 그룹(범주형 변수), y축에는 값(수치형 변수)을 지정합니다.\n",
    "# sns.boxplot(data=df, x='airline', y='pct_atc_delay')\n",
    "\n",
    "# plt.title('항공사별 pct_atc_delay', fontsize=15)\n",
    "# plt.xlabel('항공사')\n",
    "# plt.ylabel('항공사 요인 지연율 (%)')\n",
    "# plt.xticks(rotation=45) # x축 라벨이 겹치면 회전시켜줍니다.\n",
    "# plt.show()"
   ]
  },
  {
   "cell_type": "code",
   "execution_count": null,
   "id": "e93c4dc3",
   "metadata": {},
   "outputs": [],
   "source": [
    "# # 항공사별 pct_weather_delay\n",
    "\n",
    "# plt.figure(figsize=(12, 7))\n",
    "\n",
    "# # x축에는 그룹(범주형 변수), y축에는 값(수치형 변수)을 지정합니다.\n",
    "# sns.boxplot(data=df, x='airline', y='pct_weather_delay')\n",
    "\n",
    "# plt.title('항공사별 pct_weather_delay', fontsize=15)\n",
    "# plt.xlabel('항공사')\n",
    "# plt.ylabel('항공사 요인 지연율 (%)')\n",
    "# plt.ylim(0,15)\n",
    "# plt.xticks(rotation=45) # x축 라벨이 겹치면 회전시켜줍니다.\n",
    "# plt.show()"
   ]
  },
  {
   "cell_type": "code",
   "execution_count": null,
   "id": "6ac49931",
   "metadata": {},
   "outputs": [],
   "source": [
    "# --- 2-A. pct_carrier_delay 박스플롯 그리기 (하나의 변수) ---\n",
    "\n",
    "plt.figure(figsize=(6, 8))\n",
    "\n",
    "# Seaborn을 사용하는 것이 훨씬 직관적이고 편리합니다.\n",
    "sns.boxplot(data=df, y='pct_carrier_delay')\n",
    "\n",
    "plt.title('항공사 요인 지연율(%) 요약', fontsize=15)\n",
    "plt.ylabel('항공사 요인 지연율 (%)')\n",
    "plt.show()"
   ]
  },
  {
   "cell_type": "code",
   "execution_count": null,
   "id": "8a49f34b",
   "metadata": {},
   "outputs": [],
   "source": [
    "# 각 수치형 변수에 대해 항공사별 히스토그램 나눠 그리기\n",
    "for col in numerical_cols:\n",
    "    # col='airline' #항공사별로 다른 열에 그림\n",
    "    # col_wrap=3: 한 줄에 3개씩 그림\n",
    "    g = sns.displot(data=df, x=col, col='airline', col_wrap=3, kind='hist', kde=True, height=4)\n",
    "    \n",
    "    # 전체 그래프에 대한 주 제목 설정\n",
    "    g.fig.suptitle(f'항공사별 \"{col}\" 분포 (나눠 그리기)', y=1.03, fontsize=16)\n",
    "    plt.show()"
   ]
  },
  {
   "cell_type": "code",
   "execution_count": null,
   "id": "73cd2a82",
   "metadata": {},
   "outputs": [],
   "source": []
  },
  {
   "cell_type": "code",
   "execution_count": null,
   "id": "64a841af",
   "metadata": {},
   "outputs": [],
   "source": []
  },
  {
   "cell_type": "code",
   "execution_count": null,
   "id": "545c9b1d",
   "metadata": {},
   "outputs": [],
   "source": []
  }
 ],
 "metadata": {
  "language_info": {
   "name": "python"
  }
 },
 "nbformat": 4,
 "nbformat_minor": 5
}
