{
 "cells": [
  {
   "cell_type": "markdown",
   "id": "de701956",
   "metadata": {},
   "source": [
    "https://www.kaggle.com/c/bike-sharing-demand/data?select=train.csv"
   ]
  },
  {
   "cell_type": "code",
   "execution_count": null,
   "id": "6e03527a",
   "metadata": {
    "vscode": {
     "languageId": "plaintext"
    }
   },
   "outputs": [],
   "source": [
    "# 자전거 대여량 예측 모델 "
   ]
  },
  {
   "cell_type": "code",
   "execution_count": null,
   "id": "512293e2",
   "metadata": {
    "vscode": {
     "languageId": "plaintext"
    }
   },
   "outputs": [],
   "source": [
    "# LinearRegression,RandomForestRegressor\n",
    "# GradientBoostingRegressor, XGBRegressor, LGBMRegressor"
   ]
  },
  {
   "cell_type": "code",
   "execution_count": null,
   "id": "15a87e09",
   "metadata": {
    "vscode": {
     "languageId": "plaintext"
    }
   },
   "outputs": [],
   "source": []
  }
 ],
 "metadata": {
  "language_info": {
   "name": "python"
  }
 },
 "nbformat": 4,
 "nbformat_minor": 5
}
