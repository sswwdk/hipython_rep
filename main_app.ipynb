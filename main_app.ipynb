{
 "cells": [
  {
   "cell_type": "code",
   "execution_count": 1,
   "id": "b5aae7e5-a311-4537-9db8-4c704b1528c5",
   "metadata": {},
   "outputs": [
    {
     "ename": "AttributeError",
     "evalue": "module 'magic_calc' has no attribute 'basic_ops'",
     "output_type": "error",
     "traceback": [
      "\u001b[31m---------------------------------------------------------------------------\u001b[39m",
      "\u001b[31mAttributeError\u001b[39m                            Traceback (most recent call last)",
      "\u001b[36mCell\u001b[39m\u001b[36m \u001b[39m\u001b[32mIn[1]\u001b[39m\u001b[32m, line 3\u001b[39m\n\u001b[32m      1\u001b[39m \u001b[38;5;28;01mimport\u001b[39;00m\u001b[38;5;250m \u001b[39m\u001b[34;01mmagic_calc\u001b[39;00m\n\u001b[32m----> \u001b[39m\u001b[32m3\u001b[39m result_add = magic_calc.basic_ops.add(\u001b[32m10\u001b[39m,\u001b[32m5\u001b[39m)\n\u001b[32m      4\u001b[39m \u001b[38;5;28mprint\u001b[39m(result_add)\n",
      "\u001b[31mAttributeError\u001b[39m: module 'magic_calc' has no attribute 'basic_ops'"
     ]
    }
   ],
   "source": [
    "import magic_calc\n",
    "\n",
    "result_add = magic_calc.basic_ops.add(10,5)\n",
    "print(result_add)"
   ]
  },
  {
   "cell_type": "code",
   "execution_count": 1,
   "id": "b67cc877-2e6f-4579-87d5-b0c72526c0ff",
   "metadata": {},
   "outputs": [
    {
     "name": "stdout",
     "output_type": "stream",
     "text": [
      "magic calc loaded\n",
      "15\n"
     ]
    }
   ],
   "source": [
    "#방법1 # __init__.py를 먼저 불러옴\n",
    "import magic_calc\n",
    "\n",
    "result_add = magic_calc.basic_ops.add(10,5)\n",
    "print(result_add)"
   ]
  },
  {
   "cell_type": "code",
   "execution_count": 2,
   "id": "ed44d561-96aa-4ed0-abb3-6e5d2efeacf4",
   "metadata": {},
   "outputs": [
    {
     "data": {
      "text/plain": [
       "56"
      ]
     },
     "execution_count": 2,
     "metadata": {},
     "output_type": "execute_result"
    }
   ],
   "source": [
    "import magic_calc.advanced_ops as adops\n",
    "adops.magic_multiply(7,8)"
   ]
  },
  {
   "cell_type": "code",
   "execution_count": 3,
   "id": "a9362069-ca1a-4da4-a6d7-31f5c56977cb",
   "metadata": {},
   "outputs": [
    {
     "name": "stdout",
     "output_type": "stream",
     "text": [
      "70\n"
     ]
    }
   ],
   "source": [
    "#방법2\n",
    "from magic_calc import basic_ops, advanced_ops\n",
    "result_sub = basic_ops.subtract(100, 30)\n",
    "print(result_sub)"
   ]
  },
  {
   "cell_type": "code",
   "execution_count": 5,
   "id": "62509b5c-2eb8-4212-a157-4f4d0314e110",
   "metadata": {},
   "outputs": [
    {
     "name": "stdout",
     "output_type": "stream",
     "text": [
      "\n",
      "--- 방법 3: multiply, divide, power 직접 사용 ---\n",
      "7 * 8 = 56\n"
     ]
    }
   ],
   "source": [
    "# 방법 3: 패키지 내 모듈에서 특정 함수 직접 임포트\n",
    "from magic_calc.basic_ops import multiply, divide\n",
    "from magic_calc.advanced_ops import power\n",
    "\n",
    "print(\"\\n--- 방법 3: multiply, divide, power 직접 사용 ---\")\n",
    "result_mul = multiply(7, 8)\n",
    "print(f\"7 * 8 = {result_mul}\")"
   ]
  },
  {
   "cell_type": "code",
   "execution_count": null,
   "id": "3981197c-85df-490c-9fc6-2fd357382cab",
   "metadata": {},
   "outputs": [],
   "source": []
  }
 ],
 "metadata": {
  "kernelspec": {
   "display_name": "Python 3 (ipykernel)",
   "language": "python",
   "name": "python3"
  },
  "language_info": {
   "codemirror_mode": {
    "name": "ipython",
    "version": 3
   },
   "file_extension": ".py",
   "mimetype": "text/x-python",
   "name": "python",
   "nbconvert_exporter": "python",
   "pygments_lexer": "ipython3",
   "version": "3.12.9"
  }
 },
 "nbformat": 4,
 "nbformat_minor": 5
}
