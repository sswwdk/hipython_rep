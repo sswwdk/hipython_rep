{
 "cells": [
  {
   "cell_type": "code",
   "execution_count": 13,
   "id": "7aed7661",
   "metadata": {},
   "outputs": [],
   "source": [
    "import pandas as pd\n",
    "from sklearn.cluster import KMeans\n",
    "from sklearn.metrics import  silhouette_score, silhouette_samples\n",
    "from sklearn.decomposition import PCA\n",
    "from sklearn.preprocessing import StandardScaler"
   ]
  },
  {
   "cell_type": "code",
   "execution_count": 14,
   "id": "7f3bdbe5",
   "metadata": {},
   "outputs": [],
   "source": [
    "from sklearn.datasets import load_breast_cancer"
   ]
  },
  {
   "cell_type": "code",
   "execution_count": 15,
   "id": "f9d96210",
   "metadata": {},
   "outputs": [],
   "source": [
    "cancer = load_breast_cancer()"
   ]
  },
  {
   "cell_type": "code",
   "execution_count": 33,
   "id": "ad350263",
   "metadata": {},
   "outputs": [
    {
     "data": {
      "text/plain": [
       "(569, 30)"
      ]
     },
     "execution_count": 33,
     "metadata": {},
     "output_type": "execute_result"
    }
   ],
   "source": [
    "from sklearn.datasets import load_breast_cancer\n",
    "cancer = load_breast_cancer()\n",
    "cancer.data.shape"
   ]
  },
  {
   "cell_type": "code",
   "execution_count": null,
   "id": "37d5a3ec",
   "metadata": {},
   "outputs": [],
   "source": [
    "# pca 2개의 주성분, ... 그이상 주성분 추출\n",
    "# explained_variance_ratio_ 이 가장 높은 주성분의 갯수\n",
    "# kmeans data=pca1, pca2, cluster=2"
   ]
  },
  {
   "cell_type": "code",
   "execution_count": 17,
   "id": "8579bec3",
   "metadata": {},
   "outputs": [],
   "source": [
    "X = cancer.data"
   ]
  },
  {
   "cell_type": "code",
   "execution_count": 18,
   "id": "bc05d089",
   "metadata": {},
   "outputs": [],
   "source": [
    "from sklearn.decomposition import PCA\n",
    "\n",
    "# PCA 모델 a생성 - 주성분 2개\n",
    "pca_1 = PCA(n_components=2)\n",
    "\n",
    "# 모델 학습(규칙 설정)\n",
    "pca_1.fit(X)\n",
    "\n",
    "# 데이터 변환(PCA 적용)\n",
    "X_pca = pca_1.transform(X)\n",
    "X_pca[:2]\n",
    "df_1 = pd.DataFrame(X_pca, columns=['ftr1', 'ftr2'])"
   ]
  },
  {
   "cell_type": "code",
   "execution_count": 19,
   "id": "d2e9b5d0",
   "metadata": {},
   "outputs": [
    {
     "data": {
      "text/plain": [
       "(2, 30)"
      ]
     },
     "execution_count": 19,
     "metadata": {},
     "output_type": "execute_result"
    }
   ],
   "source": [
    "pca_1.components_.shape"
   ]
  },
  {
   "cell_type": "code",
   "execution_count": 34,
   "id": "502d5a79",
   "metadata": {},
   "outputs": [
    {
     "data": {
      "text/html": [
       "<div>\n",
       "<style scoped>\n",
       "    .dataframe tbody tr th:only-of-type {\n",
       "        vertical-align: middle;\n",
       "    }\n",
       "\n",
       "    .dataframe tbody tr th {\n",
       "        vertical-align: top;\n",
       "    }\n",
       "\n",
       "    .dataframe thead th {\n",
       "        text-align: right;\n",
       "    }\n",
       "</style>\n",
       "<table border=\"1\" class=\"dataframe\">\n",
       "  <thead>\n",
       "    <tr style=\"text-align: right;\">\n",
       "      <th></th>\n",
       "      <th>ftr1</th>\n",
       "      <th>ftr2</th>\n",
       "      <th>kmeans_label</th>\n",
       "    </tr>\n",
       "  </thead>\n",
       "  <tbody>\n",
       "    <tr>\n",
       "      <th>0</th>\n",
       "      <td>1160.142574</td>\n",
       "      <td>-293.917544</td>\n",
       "      <td>0</td>\n",
       "    </tr>\n",
       "    <tr>\n",
       "      <th>1</th>\n",
       "      <td>1269.122443</td>\n",
       "      <td>15.630182</td>\n",
       "      <td>0</td>\n",
       "    </tr>\n",
       "    <tr>\n",
       "      <th>2</th>\n",
       "      <td>995.793889</td>\n",
       "      <td>39.156743</td>\n",
       "      <td>0</td>\n",
       "    </tr>\n",
       "    <tr>\n",
       "      <th>3</th>\n",
       "      <td>-407.180803</td>\n",
       "      <td>-67.380320</td>\n",
       "      <td>1</td>\n",
       "    </tr>\n",
       "    <tr>\n",
       "      <th>4</th>\n",
       "      <td>930.341180</td>\n",
       "      <td>189.340742</td>\n",
       "      <td>0</td>\n",
       "    </tr>\n",
       "    <tr>\n",
       "      <th>...</th>\n",
       "      <td>...</td>\n",
       "      <td>...</td>\n",
       "      <td>...</td>\n",
       "    </tr>\n",
       "    <tr>\n",
       "      <th>564</th>\n",
       "      <td>1414.126684</td>\n",
       "      <td>110.222492</td>\n",
       "      <td>0</td>\n",
       "    </tr>\n",
       "    <tr>\n",
       "      <th>565</th>\n",
       "      <td>1045.018854</td>\n",
       "      <td>77.057589</td>\n",
       "      <td>0</td>\n",
       "    </tr>\n",
       "    <tr>\n",
       "      <th>566</th>\n",
       "      <td>314.501756</td>\n",
       "      <td>47.553525</td>\n",
       "      <td>1</td>\n",
       "    </tr>\n",
       "    <tr>\n",
       "      <th>567</th>\n",
       "      <td>1124.858115</td>\n",
       "      <td>34.129225</td>\n",
       "      <td>0</td>\n",
       "    </tr>\n",
       "    <tr>\n",
       "      <th>568</th>\n",
       "      <td>-771.527622</td>\n",
       "      <td>-88.643106</td>\n",
       "      <td>1</td>\n",
       "    </tr>\n",
       "  </tbody>\n",
       "</table>\n",
       "<p>569 rows × 3 columns</p>\n",
       "</div>"
      ],
      "text/plain": [
       "            ftr1        ftr2  kmeans_label\n",
       "0    1160.142574 -293.917544             0\n",
       "1    1269.122443   15.630182             0\n",
       "2     995.793889   39.156743             0\n",
       "3    -407.180803  -67.380320             1\n",
       "4     930.341180  189.340742             0\n",
       "..           ...         ...           ...\n",
       "564  1414.126684  110.222492             0\n",
       "565  1045.018854   77.057589             0\n",
       "566   314.501756   47.553525             1\n",
       "567  1124.858115   34.129225             0\n",
       "568  -771.527622  -88.643106             1\n",
       "\n",
       "[569 rows x 3 columns]"
      ]
     },
     "execution_count": 34,
     "metadata": {},
     "output_type": "execute_result"
    }
   ],
   "source": [
    "df_1"
   ]
  },
  {
   "cell_type": "code",
   "execution_count": 20,
   "id": "65c422be",
   "metadata": {},
   "outputs": [
    {
     "data": {
      "text/plain": [
       "array([0.98204467, 0.01617649])"
      ]
     },
     "execution_count": 20,
     "metadata": {},
     "output_type": "execute_result"
    }
   ],
   "source": [
    "pca_1.explained_variance_ratio_"
   ]
  },
  {
   "cell_type": "code",
   "execution_count": 21,
   "id": "c98ee44f",
   "metadata": {},
   "outputs": [
    {
     "name": "stdout",
     "output_type": "stream",
     "text": [
      "KMeans Silhouette Score: 0.6984195775999954\n"
     ]
    },
    {
     "name": "stderr",
     "output_type": "stream",
     "text": [
      "c:\\Users\\Admin\\miniconda3\\envs\\hi_ml_env\\lib\\site-packages\\sklearn\\cluster\\_kmeans.py:1446: UserWarning: KMeans is known to have a memory leak on Windows with MKL, when there are less chunks than available threads. You can avoid it by setting the environment variable OMP_NUM_THREADS=3.\n",
      "  warnings.warn(\n"
     ]
    }
   ],
   "source": [
    "from sklearn.cluster import KMeans, DBSCAN\n",
    "from sklearn.metrics import silhouette_score\n",
    "import matplotlib.pyplot as plt\n",
    "\n",
    "kmeans = KMeans(n_clusters=2, random_state=42)\n",
    "kmeans_labels = kmeans.fit_predict(X_pca)\n",
    "\n",
    "df_1['kmeans_label'] = kmeans_labels\n",
    "\n",
    "print(\"KMeans Silhouette Score:\", silhouette_score(X_pca, kmeans_labels))"
   ]
  },
  {
   "cell_type": "markdown",
   "id": "3ed25a2e",
   "metadata": {},
   "source": [
    "# scaled data"
   ]
  },
  {
   "cell_type": "code",
   "execution_count": 22,
   "id": "f3e0faac",
   "metadata": {},
   "outputs": [],
   "source": [
    "scaler = StandardScaler()\n",
    "scaler.fit(cancer.data)\n",
    "X_scaled = scaler.transform(cancer.data)"
   ]
  },
  {
   "cell_type": "markdown",
   "id": "07af9f5f",
   "metadata": {},
   "source": [
    "PCA 1, PCA 2"
   ]
  },
  {
   "cell_type": "code",
   "execution_count": 23,
   "id": "716815fa",
   "metadata": {},
   "outputs": [],
   "source": [
    "from sklearn.decomposition import PCA\n",
    "\n",
    "# PCA 모델 a생성 - 주성분 2개\n",
    "pca_2 = PCA(n_components=2)\n",
    "\n",
    "# 모델 학습(규칙 설정)\n",
    "pca_2.fit(X_scaled)\n",
    "\n",
    "# 데이터 변환(PCA 적용)\n",
    "X_pca_2 = pca_2.transform(X_scaled)"
   ]
  },
  {
   "cell_type": "code",
   "execution_count": 24,
   "id": "e493ed4d",
   "metadata": {},
   "outputs": [
    {
     "data": {
      "text/plain": [
       "array([0.44272026, 0.18971182])"
      ]
     },
     "execution_count": 24,
     "metadata": {},
     "output_type": "execute_result"
    }
   ],
   "source": [
    "pca_2.explained_variance_ratio_"
   ]
  },
  {
   "cell_type": "code",
   "execution_count": 25,
   "id": "f207eb48",
   "metadata": {},
   "outputs": [
    {
     "data": {
      "text/plain": [
       "array([0.98204467, 0.01617649])"
      ]
     },
     "execution_count": 25,
     "metadata": {},
     "output_type": "execute_result"
    }
   ],
   "source": [
    "pca_1.explained_variance_ratio_"
   ]
  },
  {
   "cell_type": "code",
   "execution_count": 26,
   "id": "85e0318b",
   "metadata": {},
   "outputs": [],
   "source": [
    "# 주성분 갯수 5"
   ]
  },
  {
   "cell_type": "code",
   "execution_count": 27,
   "id": "f078be9e",
   "metadata": {},
   "outputs": [],
   "source": [
    "import numpy as np"
   ]
  },
  {
   "cell_type": "code",
   "execution_count": 28,
   "id": "f611a5cd",
   "metadata": {},
   "outputs": [
    {
     "name": "stdout",
     "output_type": "stream",
     "text": [
      "[0.443 0.19  0.094 0.066 0.055]\n",
      "[0.443 0.632 0.726 0.792 0.847]\n"
     ]
    }
   ],
   "source": [
    "pca_3 = PCA(n_components=5)\n",
    "pca_3.fit(X_scaled)\n",
    "print(np.round(pca_3.explained_variance_ratio_, 3))\n",
    "print(np.round(np.cumsum(pca_3.explained_variance_ratio_), 3))"
   ]
  },
  {
   "cell_type": "code",
   "execution_count": 29,
   "id": "6caee3ca",
   "metadata": {},
   "outputs": [
    {
     "name": "stdout",
     "output_type": "stream",
     "text": [
      "[0.443 0.19  0.094 0.066 0.055 0.04  0.023]\n",
      "[0.443 0.632 0.726 0.792 0.847 0.888 0.91 ]\n"
     ]
    }
   ],
   "source": [
    "pca_4 = PCA(n_components=7)\n",
    "pca_4.fit(X_scaled)\n",
    "print(np.round(pca_4.explained_variance_ratio_, 3))\n",
    "print(np.round(np.cumsum(pca_4.explained_variance_ratio_), 3))"
   ]
  },
  {
   "cell_type": "markdown",
   "id": "1db50ed7",
   "metadata": {},
   "source": [
    "# 주성분 7개로 kmeans클러스터링"
   ]
  },
  {
   "cell_type": "code",
   "execution_count": 30,
   "id": "1fbdc61c",
   "metadata": {},
   "outputs": [
    {
     "data": {
      "text/plain": [
       "(569, 7)"
      ]
     },
     "execution_count": 30,
     "metadata": {},
     "output_type": "execute_result"
    }
   ],
   "source": [
    "# 데이터 변환(PCA 적용)\n",
    "X_pca_2 = pca_4.transform(X_scaled)\n",
    "X_pca_2.shape\n"
   ]
  },
  {
   "cell_type": "code",
   "execution_count": 31,
   "id": "27075564",
   "metadata": {},
   "outputs": [
    {
     "data": {
      "text/html": [
       "<div>\n",
       "<style scoped>\n",
       "    .dataframe tbody tr th:only-of-type {\n",
       "        vertical-align: middle;\n",
       "    }\n",
       "\n",
       "    .dataframe tbody tr th {\n",
       "        vertical-align: top;\n",
       "    }\n",
       "\n",
       "    .dataframe thead th {\n",
       "        text-align: right;\n",
       "    }\n",
       "</style>\n",
       "<table border=\"1\" class=\"dataframe\">\n",
       "  <thead>\n",
       "    <tr style=\"text-align: right;\">\n",
       "      <th></th>\n",
       "      <th>ftr1</th>\n",
       "      <th>ftr2</th>\n",
       "      <th>ftr3</th>\n",
       "      <th>ftr4</th>\n",
       "      <th>ftr5</th>\n",
       "      <th>ftr6</th>\n",
       "      <th>ftr7</th>\n",
       "    </tr>\n",
       "  </thead>\n",
       "  <tbody>\n",
       "    <tr>\n",
       "      <th>0</th>\n",
       "      <td>9.192837</td>\n",
       "      <td>1.948583</td>\n",
       "      <td>-1.123166</td>\n",
       "      <td>3.633731</td>\n",
       "      <td>-1.195110</td>\n",
       "      <td>1.411424</td>\n",
       "      <td>2.159368</td>\n",
       "    </tr>\n",
       "    <tr>\n",
       "      <th>1</th>\n",
       "      <td>2.387802</td>\n",
       "      <td>-3.768172</td>\n",
       "      <td>-0.529293</td>\n",
       "      <td>1.118264</td>\n",
       "      <td>0.621775</td>\n",
       "      <td>0.028656</td>\n",
       "      <td>0.013359</td>\n",
       "    </tr>\n",
       "    <tr>\n",
       "      <th>2</th>\n",
       "      <td>5.733896</td>\n",
       "      <td>-1.075174</td>\n",
       "      <td>-0.551748</td>\n",
       "      <td>0.912083</td>\n",
       "      <td>-0.177086</td>\n",
       "      <td>0.541452</td>\n",
       "      <td>-0.668167</td>\n",
       "    </tr>\n",
       "  </tbody>\n",
       "</table>\n",
       "</div>"
      ],
      "text/plain": [
       "       ftr1      ftr2      ftr3      ftr4      ftr5      ftr6      ftr7\n",
       "0  9.192837  1.948583 -1.123166  3.633731 -1.195110  1.411424  2.159368\n",
       "1  2.387802 -3.768172 -0.529293  1.118264  0.621775  0.028656  0.013359\n",
       "2  5.733896 -1.075174 -0.551748  0.912083 -0.177086  0.541452 -0.668167"
      ]
     },
     "execution_count": 31,
     "metadata": {},
     "output_type": "execute_result"
    }
   ],
   "source": [
    "df_2 = pd.DataFrame(X_pca_2, columns=['ftr1', 'ftr2',\n",
    "                                      'ftr3', 'ftr4',\n",
    "                                      'ftr5', 'ftr6',\n",
    "                                      'ftr7'])\n",
    "df_2[:3]"
   ]
  },
  {
   "cell_type": "code",
   "execution_count": 32,
   "id": "fbd03f45",
   "metadata": {},
   "outputs": [
    {
     "name": "stdout",
     "output_type": "stream",
     "text": [
      "KMeans Silhouette Score: 0.3708218892715253\n"
     ]
    },
    {
     "name": "stderr",
     "output_type": "stream",
     "text": [
      "c:\\Users\\Admin\\miniconda3\\envs\\hi_ml_env\\lib\\site-packages\\sklearn\\cluster\\_kmeans.py:1446: UserWarning: KMeans is known to have a memory leak on Windows with MKL, when there are less chunks than available threads. You can avoid it by setting the environment variable OMP_NUM_THREADS=3.\n",
      "  warnings.warn(\n"
     ]
    }
   ],
   "source": [
    "kmeans_2 = KMeans(n_clusters=2, random_state=42)\n",
    "kmeans_2_labels = kmeans_2.fit_predict(X_pca_2)\n",
    "\n",
    "df_2['kmeans_label'] = kmeans_2_labels\n",
    "\n",
    "print(\"KMeans Silhouette Score:\", silhouette_score(X_pca_2, kmeans_2_labels))"
   ]
  },
  {
   "cell_type": "code",
   "execution_count": null,
   "id": "a0b1217a",
   "metadata": {},
   "outputs": [],
   "source": []
  },
  {
   "cell_type": "code",
   "execution_count": null,
   "id": "643946e7",
   "metadata": {},
   "outputs": [],
   "source": []
  },
  {
   "cell_type": "code",
   "execution_count": null,
   "id": "e4dcabbe",
   "metadata": {},
   "outputs": [],
   "source": []
  },
  {
   "cell_type": "code",
   "execution_count": null,
   "id": "e1b5c9bb",
   "metadata": {},
   "outputs": [],
   "source": []
  },
  {
   "cell_type": "code",
   "execution_count": null,
   "id": "14a134a8",
   "metadata": {},
   "outputs": [],
   "source": []
  },
  {
   "cell_type": "code",
   "execution_count": null,
   "id": "b461d9a9",
   "metadata": {},
   "outputs": [],
   "source": []
  },
  {
   "cell_type": "code",
   "execution_count": null,
   "id": "20e95346",
   "metadata": {},
   "outputs": [],
   "source": []
  },
  {
   "cell_type": "code",
   "execution_count": null,
   "id": "0ab5ea7c",
   "metadata": {},
   "outputs": [],
   "source": []
  },
  {
   "cell_type": "code",
   "execution_count": null,
   "id": "516cc268",
   "metadata": {},
   "outputs": [],
   "source": []
  }
 ],
 "metadata": {
  "kernelspec": {
   "display_name": "hi_ml_env",
   "language": "python",
   "name": "python3"
  },
  "language_info": {
   "codemirror_mode": {
    "name": "ipython",
    "version": 3
   },
   "file_extension": ".py",
   "mimetype": "text/x-python",
   "name": "python",
   "nbconvert_exporter": "python",
   "pygments_lexer": "ipython3",
   "version": "3.10.16"
  }
 },
 "nbformat": 4,
 "nbformat_minor": 5
}
