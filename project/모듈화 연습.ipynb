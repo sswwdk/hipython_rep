{
 "cells": [
  {
   "cell_type": "code",
   "execution_count": 1,
   "id": "8b5ec3b2-9a5b-4e45-8adb-1b5e55736aeb",
   "metadata": {},
   "outputs": [
    {
     "name": "stdout",
     "output_type": "stream",
     "text": [
      "testtest\n"
     ]
    },
    {
     "ename": "NameError",
     "evalue": "name 'main_func' is not defined",
     "output_type": "error",
     "traceback": [
      "\u001b[31m---------------------------------------------------------------------------\u001b[39m",
      "\u001b[31mNameError\u001b[39m                                 Traceback (most recent call last)",
      "\u001b[36mCell\u001b[39m\u001b[36m \u001b[39m\u001b[32mIn[1]\u001b[39m\u001b[32m, line 9\u001b[39m\n\u001b[32m      6\u001b[39m \u001b[38;5;66;03m# import project_package.kiosk_util\u001b[39;00m\n\u001b[32m      7\u001b[39m \u001b[38;5;28;01mimport\u001b[39;00m\u001b[38;5;250m \u001b[39m\u001b[34;01mproject_package\u001b[39;00m\u001b[34;01m.\u001b[39;00m\u001b[34;01mmain_func\u001b[39;00m\n\u001b[32m----> \u001b[39m\u001b[32m9\u001b[39m main_func.start()\n",
      "\u001b[31mNameError\u001b[39m: name 'main_func' is not defined"
     ]
    }
   ],
   "source": [
    "# 필요한 라이브러리 import\n",
    "from datetime import datetime\n",
    "from wcwidth import wcswidth\n",
    "import time\n",
    "\n",
    "# import project_package.kiosk_util\n",
    "import project_package.main_func\n",
    "\n",
    "main_func.start()"
   ]
  },
  {
   "cell_type": "code",
   "execution_count": null,
   "id": "f6f3f1fa-6759-46dc-b70b-0fa7ea2243cb",
   "metadata": {},
   "outputs": [],
   "source": []
  }
 ],
 "metadata": {
  "kernelspec": {
   "display_name": "Python 3 (ipykernel)",
   "language": "python",
   "name": "python3"
  },
  "language_info": {
   "codemirror_mode": {
    "name": "ipython",
    "version": 3
   },
   "file_extension": ".py",
   "mimetype": "text/x-python",
   "name": "python",
   "nbconvert_exporter": "python",
   "pygments_lexer": "ipython3",
   "version": "3.12.9"
  }
 },
 "nbformat": 4,
 "nbformat_minor": 5
}
