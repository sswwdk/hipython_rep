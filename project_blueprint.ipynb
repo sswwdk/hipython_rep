{
 "cells": [
  {
   "cell_type": "code",
   "execution_count": null,
   "id": "5237895f-952c-492b-adfa-dfc33f64519c",
   "metadata": {},
   "outputs": [
    {
     "name": "stdout",
     "output_type": "stream",
     "text": [
      "========================================\n",
      "어서오세요 또와유에 오신 것을 환영합니다!\n",
      "========================================\n",
      "\n",
      "📋 메뉴:\n",
      "1. 초코\n",
      "2. 바닐라\n",
      "3. 딸기\n",
      "4. 우유\n",
      "5. 민트초코\n",
      "6. 말차\n",
      "----------------------------------------\n",
      "📏 사이즈 및 가격:\n",
      "1. 사이즈: S, 가격: 2000원\n",
      "2. 사이즈: M, 가격: 3000원\n",
      "3. 사이즈: L, 가격: 4000원\n",
      "----------------------------------------\n"
     ]
    },
    {
     "name": "stdin",
     "output_type": "stream",
     "text": [
      "\n",
      "메뉴를 선택하세요 (1~6, 0: 종료):  1\n"
     ]
    },
    {
     "name": "stdout",
     "output_type": "stream",
     "text": [
      "\n",
      "사이즈를 선택하세요:\n",
      "1. S - 2000원\n",
      "2. M - 3000원\n",
      "3. L - 4000원\n",
      "0. 이전으로 돌아가기\n"
     ]
    },
    {
     "name": "stdin",
     "output_type": "stream",
     "text": [
      "사이즈 선택 (1~3, 0: 이전):  0\n"
     ]
    },
    {
     "name": "stdout",
     "output_type": "stream",
     "text": [
      "\n",
      "🛒 현재 장바구니:\n",
      "총 결제 금액: 0원\n"
     ]
    },
    {
     "name": "stdin",
     "output_type": "stream",
     "text": [
      "\n",
      "결제하시겠습니까? (yes / no / add / remove):  no\n"
     ]
    },
    {
     "name": "stdout",
     "output_type": "stream",
     "text": [
      "장바구니를 비우고 처음으로 돌아갑니다.\n"
     ]
    },
    {
     "name": "stdin",
     "output_type": "stream",
     "text": [
      "\n",
      "메뉴를 선택하세요 (1~6, 0: 종료):  1\n"
     ]
    },
    {
     "name": "stdout",
     "output_type": "stream",
     "text": [
      "\n",
      "사이즈를 선택하세요:\n",
      "1. S - 2000원\n",
      "2. M - 3000원\n",
      "3. L - 4000원\n",
      "0. 이전으로 돌아가기\n"
     ]
    },
    {
     "name": "stdin",
     "output_type": "stream",
     "text": [
      "사이즈 선택 (1~3, 0: 이전):  0\n"
     ]
    },
    {
     "name": "stdout",
     "output_type": "stream",
     "text": [
      "\n",
      "🛒 현재 장바구니:\n",
      "총 결제 금액: 0원\n"
     ]
    }
   ],
   "source": [
    "store_name = '또와유'\n",
    "menu_list = ['초코', '바닐라', '딸기', '우유', '민트초코', '말차']\n",
    "size_price = {'S': 2000, 'M': 3000, 'L': 4000}\n",
    "cart = []\n",
    "\n",
    "print('=' * 40)\n",
    "print(f'어서오세요 {store_name}에 오신 것을 환영합니다!')\n",
    "print('=' * 40)\n",
    "\n",
    "# 메뉴 및 사이즈 한 번만 출력\n",
    "print('\\n📋 메뉴:')\n",
    "for i, menu in enumerate(menu_list):\n",
    "    print(f'{i + 1}. {menu}')\n",
    "print('-' * 40)\n",
    "\n",
    "print('📏 사이즈 및 가격:')\n",
    "for i, (size, price) in enumerate(size_price.items()):\n",
    "    print(f'{i + 1}. 사이즈: {size}, 가격: {price}원')\n",
    "print('-' * 40)\n",
    "\n",
    "# 주문 루프\n",
    "while True:\n",
    "    menu_input = input('\\n메뉴를 선택하세요 (1~6, 0: 종료): ')\n",
    "    if menu_input == '0':\n",
    "        print('\\n감사합니다 또 오세요!')\n",
    "        break\n",
    "    if not menu_input.isdigit() or not 1 <= int(menu_input) <= 6:\n",
    "        print('유효한 메뉴 번호를 입력하세요.')\n",
    "        continue\n",
    "\n",
    "    menu_index = int(menu_input) - 1\n",
    "    menu_name = menu_list[menu_index]\n",
    "\n",
    "    while True:\n",
    "        print('\\n사이즈를 선택하세요:')\n",
    "        for i, (size, price) in enumerate(size_price.items()):\n",
    "            print(f'{i + 1}. {size} - {price}원')\n",
    "        print('0. 이전으로 돌아가기')\n",
    "\n",
    "        size_input = input('사이즈 선택 (1~3, 0: 이전): ')\n",
    "        if size_input == '0':\n",
    "            break\n",
    "        if not size_input.isdigit() or not 1 <= int(size_input) <= 3:\n",
    "            print('유효한 번호를 입력하세요.')\n",
    "            continue\n",
    "\n",
    "        size_key = list(size_price.keys())[int(size_input) - 1]\n",
    "        size_value = size_price[size_key]\n",
    "\n",
    "        while True:\n",
    "            qty_input = input('주문 개수를 입력하세요 (0: 이전): ')\n",
    "            if not qty_input.isdigit():\n",
    "                print('숫자로 입력해주세요.')\n",
    "                continue\n",
    "            qty = int(qty_input)\n",
    "            if qty == 0:\n",
    "                # 수량 0일 경우 사이즈 선택으로 돌아가기\n",
    "                break  # <-- 이 break는 수량 입력 루프에서 빠져나가 사이즈 선택 루프로 돌아감\n",
    "            cart.append({'name': menu_name, 'size': size_key, 'qty': qty, 'price': size_value})\n",
    "            print(f'{menu_name}({size_key}) {qty}개가 장바구니에 담겼습니다.')\n",
    "            break  # 수량 정상 입력 후 사이즈 선택 루프 종료\n",
    "\n",
    "        if qty == 0:\n",
    "            continue  # 사이즈 선택 루프로 다시 이동\n",
    "        break  # 메뉴 선택 루프 종료\n",
    "\n",
    "    # 결제 단계\n",
    "    while True:\n",
    "        print('\\n🛒 현재 장바구니:')\n",
    "        total_price = 0\n",
    "        for idx, item in enumerate(cart):\n",
    "            item_total = item['qty'] * item['price']\n",
    "            print(f'{idx + 1}. {item[\"name\"]}({item[\"size\"]}) * {item[\"qty\"]} = {item_total}원')\n",
    "            total_price += item_total\n",
    "        print(f'총 결제 금액: {total_price}원')\n",
    "\n",
    "        next_action = input('\\n결제하시겠습니까? (yes / no / add / remove): ').strip().lower()\n",
    "\n",
    "        if next_action == 'yes':\n",
    "            membership = input('멤버십을 적립하시겠습니까? (yes / no): ').strip().lower()\n",
    "            if membership == 'yes':\n",
    "                phone = input('핸드폰 번호를 입력해주세요: ')\n",
    "                print(f'{phone} 번호로 멤버십이 적립되었습니다.')\n",
    "\n",
    "            print('\\n💳 결제 완료!')\n",
    "            print('🧾 영수증:')\n",
    "            for item in cart:\n",
    "                item_total = item['qty'] * item['price']\n",
    "                print(f'- {item[\"name\"]}({item[\"size\"]}) * {item[\"qty\"]} = {item_total}원')\n",
    "            print(f'총 결제 금액: {total_price}원')\n",
    "            print('감사합니다!')\n",
    "            break\n",
    "\n",
    "        elif next_action == 'no':\n",
    "            print('장바구니를 비우고 처음으로 돌아갑니다.')\n",
    "            cart.clear()\n",
    "            break\n",
    "\n",
    "        elif next_action == 'add':\n",
    "            break\n",
    "\n",
    "        elif next_action == 'remove':\n",
    "            if not cart:\n",
    "                print('장바구니가 비어 있습니다.')\n",
    "                continue\n",
    "            print('\\n❌ 삭제할 항목 번호를 입력하세요:')\n",
    "            for idx, item in enumerate(cart):\n",
    "                print(f'{idx + 1}. {item[\"name\"]}({item[\"size\"]}) * {item[\"qty\"]}')\n",
    "            del_input = input('삭제할 번호 입력 (0: 취소): ')\n",
    "            if del_input == '0':\n",
    "                continue\n",
    "            if del_input.isdigit():\n",
    "                del_index = int(del_input) - 1\n",
    "                if 0 <= del_index < len(cart):\n",
    "                    removed = cart.pop(del_index)\n",
    "                    print(f'{removed[\"name\"]}({removed[\"size\"]})가 삭제되었습니다.')\n",
    "                else:\n",
    "                    print('잘못된 번호입니다.')\n",
    "            else:\n",
    "                print('숫자를 입력해주세요.')\n",
    "        else:\n",
    "            print('입력 오류: 다시 입력해주세요.')\n"
   ]
  },
  {
   "cell_type": "code",
   "execution_count": null,
   "id": "748fed00-3472-432b-b98a-0547fb668377",
   "metadata": {},
   "outputs": [],
   "source": []
  },
  {
   "cell_type": "markdown",
   "id": "45012252-48ad-49b5-9a7d-7b45e2ec57ea",
   "metadata": {},
   "source": [
    "# 흐름"
   ]
  },
  {
   "cell_type": "code",
   "execution_count": null,
   "id": "4bf20a81-31fc-4391-b16d-b5e2dda55329",
   "metadata": {
    "jupyter": {
     "source_hidden": true
    }
   },
   "outputs": [],
   "source": [
    "def 초기화면():\n",
    "    메뉴\n",
    "    사이즈\n",
    "    개수\n",
    "    pass\n",
    "\n",
    "def 장바구니출력():\n",
    "    if  장바구니 == yes: #결제\n",
    "        멤버십_결제출력()\n",
    "    elif 장바구니 == add: #추가\n",
    "        초기화면()\n",
    "    elif 장바구니 == remove: #제거\n",
    "        #\n",
    "    pass\n",
    "\n",
    "def 멤버십_결제출력():\n",
    "    if 멤버십 == yes: \n",
    "        멤버십입력()\n",
    "    elif 멤버십 == no:\n",
    "        결제()\n",
    "    pass"
   ]
  },
  {
   "cell_type": "code",
   "execution_count": null,
   "id": "336b1d5e-6600-40f0-b652-4c7e4fbcafb0",
   "metadata": {},
   "outputs": [],
   "source": []
  },
  {
   "cell_type": "markdown",
   "id": "7f177ebf-380d-4d42-9744-383cca4bceba",
   "metadata": {},
   "source": [
    "----"
   ]
  },
  {
   "cell_type": "code",
   "execution_count": null,
   "id": "518e5831-8b85-4381-9698-e8696154a1fa",
   "metadata": {},
   "outputs": [],
   "source": []
  },
  {
   "cell_type": "code",
   "execution_count": null,
   "id": "72e93ef9-0de1-4bd3-9bcc-c8baeae08d54",
   "metadata": {},
   "outputs": [],
   "source": [
    "# 환영인사\n",
    "\n",
    "# (1)초기화면 \n",
    "1. 메뉴 출력\n",
    "2. a = input(메뉴입력)\n",
    "3. 사이즈 출력\n",
    "4. b = input(사이즈 입력)\n",
    "5. 주문개수를 입력해주세요\n",
    "6. c = input 주문개수 입력\n",
    "7. a,b,c를 장바구니 리스트에 추가\n",
    "\n",
    "# (2)징바구니\n",
    "1. 장바구니 보여주기 \n",
    "2. 추가/삭제/결제 여부\n",
    "3. 추가 ->함수1 // 삭제 -> 함수3 // 결제-> 함수4\n",
    "\n",
    "# (3)장바구니 목록 삭제\n",
    "1. index - 주문 삭제할 번호 입력\n",
    "2. 리스트에서 선택 index삭제\n",
    "3. 함수2 다시 보여주기 (장바구니 항목이 없을 경우( 예 \" 장바구니가 비어있습니다.\"  ) 초기화면으로 이동하기)\n",
    "\n",
    "# (4)멤버십\n",
    "1. 멤버쉽 결제하시겠습니까 물어보기\n",
    "2. yes > 멤버쉽 전화번호 입력 받음(11자리 유효성 테스트) > 적립되었습니다 멘트 > 카드를 넣어주세여 > 결제가 완료..\n",
    "+ 멤버쉽 적립 딕셔너리(만들수 있으면...)\n",
    "3. no > 카드를 넣어주세요 > 결제가 완료되었습니다."
   ]
  },
  {
   "cell_type": "code",
   "execution_count": null,
   "id": "dcca28ee-6d57-4e3b-96ef-71227189ad6a",
   "metadata": {},
   "outputs": [],
   "source": []
  },
  {
   "cell_type": "code",
   "execution_count": null,
   "id": "050a6335-bd51-4e09-b41f-789418bf43b6",
   "metadata": {},
   "outputs": [],
   "source": [
    "#main\n",
    "\n",
    "#초기화면 선언\n",
    "menu_list = #메뉴\n",
    "size_price = #사이즈 \n",
    "qty = #개수\n",
    "\n",
    "#장바구니, 장바구니 목록 삭제\n",
    "cart = #장바구니 \n",
    "\n",
    "#멤버십 선언\n",
    "member = \n",
    "membership =\n",
    "total_price = \n",
    "membership_dict =\n",
    "\n",
    "# main \n",
    "함수 1()\n",
    "\n",
    "함수 2()\n",
    "\n",
    "함수 3()\n",
    "\n",
    "함수 4()\n",
    "\n",
    "함수 5()\n"
   ]
  },
  {
   "cell_type": "code",
   "execution_count": null,
   "id": "35ed1f4f-0e88-4b71-868d-0e1a8b761913",
   "metadata": {},
   "outputs": [],
   "source": []
  },
  {
   "cell_type": "code",
   "execution_count": null,
   "id": "a6de81e8-20f8-4aa6-be92-036b1e3d190c",
   "metadata": {},
   "outputs": [],
   "source": []
  },
  {
   "cell_type": "code",
   "execution_count": null,
   "id": "b5718fd8-6f4d-4e88-b46c-9cb653657bae",
   "metadata": {},
   "outputs": [],
   "source": []
  },
  {
   "cell_type": "code",
   "execution_count": null,
   "id": "3e88d10a-78f2-40ba-b4d8-4fd9b0d98826",
   "metadata": {},
   "outputs": [],
   "source": []
  }
 ],
 "metadata": {
  "kernelspec": {
   "display_name": "Python 3 (ipykernel)",
   "language": "python",
   "name": "python3"
  },
  "language_info": {
   "codemirror_mode": {
    "name": "ipython",
    "version": 3
   },
   "file_extension": ".py",
   "mimetype": "text/x-python",
   "name": "python",
   "nbconvert_exporter": "python",
   "pygments_lexer": "ipython3",
   "version": "3.12.9"
  }
 },
 "nbformat": 4,
 "nbformat_minor": 5
}
