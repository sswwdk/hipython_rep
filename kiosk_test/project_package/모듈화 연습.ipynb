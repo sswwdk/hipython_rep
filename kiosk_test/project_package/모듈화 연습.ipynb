{
 "cells": [
  {
   "cell_type": "code",
   "execution_count": null,
   "id": "8b5ec3b2-9a5b-4e45-8adb-1b5e55736aeb",
   "metadata": {},
   "outputs": [
    {
     "name": "stdout",
     "output_type": "stream",
     "text": [
      "==================================================\n",
      "        보고싶었어요! I Miss You Cram!🍦\n",
      "==================================================\n",
      "\n",
      "📋 메뉴판\n",
      "\n",
      "1. 초코\n",
      "2. 바닐라\n",
      "3. 딸기\n",
      "4. 우유\n",
      "5. 말차\n",
      "6. 민트초코\n"
     ]
    }
   ],
   "source": [
    "# 필요한 라이브러리 import\n",
    "from datetime import datetime\n",
    "from wcwidth import wcswidth\n",
    "import time\n",
    "\n",
    "# import project_package.kiosk_util\n",
    "import main_func\n",
    "\n",
    "main_func.start()"
   ]
  },
  {
   "cell_type": "code",
   "execution_count": null,
   "id": "f6f3f1fa-6759-46dc-b70b-0fa7ea2243cb",
   "metadata": {},
   "outputs": [],
   "source": []
  }
 ],
 "metadata": {
  "kernelspec": {
   "display_name": "Python 3 (ipykernel)",
   "language": "python",
   "name": "python3"
  },
  "language_info": {
   "codemirror_mode": {
    "name": "ipython",
    "version": 3
   },
   "file_extension": ".py",
   "mimetype": "text/x-python",
   "name": "python",
   "nbconvert_exporter": "python",
   "pygments_lexer": "ipython3",
   "version": "3.12.9"
  }
 },
 "nbformat": 4,
 "nbformat_minor": 5
}
