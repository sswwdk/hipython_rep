{
 "cells": [
  {
   "cell_type": "code",
   "execution_count": 8,
   "id": "de5eff93",
   "metadata": {},
   "outputs": [],
   "source": [
    "import pandas as pd\n",
    "import numpy as np\n",
    "from sklearn.cluster import KMeans\n",
    "from sklearn.metrics import  silhouette_score, silhouette_samples\n",
    "from sklearn.decomposition import PCA\n",
    "from sklearn.preprocessing import StandardScaler"
   ]
  },
  {
   "cell_type": "code",
   "execution_count": 3,
   "id": "819cedae",
   "metadata": {},
   "outputs": [],
   "source": [
    "from sklearn.datasets import load_breast_cancer"
   ]
  },
  {
   "cell_type": "code",
   "execution_count": 4,
   "id": "4bea7902",
   "metadata": {},
   "outputs": [
    {
     "data": {
      "text/plain": [
       "(569, 30)"
      ]
     },
     "execution_count": 4,
     "metadata": {},
     "output_type": "execute_result"
    }
   ],
   "source": [
    "from sklearn.datasets import load_breast_cancer\n",
    "cancer = load_breast_cancer()\n",
    "cancer.data.shape"
   ]
  },
  {
   "cell_type": "code",
   "execution_count": 5,
   "id": "ad36a6e9",
   "metadata": {},
   "outputs": [],
   "source": [
    "# pca 2개의 주성분, ... 그이상 주성분 추출\n",
    "# explained_variance_ratio_ 이 가장 높은 주성분의 갯수\n",
    "# kmeans data=pca1, pca2, cluster=2"
   ]
  },
  {
   "cell_type": "code",
   "execution_count": 10,
   "id": "7d21d841",
   "metadata": {},
   "outputs": [],
   "source": [
    "X = cancer.data"
   ]
  },
  {
   "cell_type": "code",
   "execution_count": null,
   "id": "5af65502",
   "metadata": {},
   "outputs": [],
   "source": [
    "from sklearn.decomposition import PCA\n",
    "\n",
    "# PCA 모델 a생성 - 주성분 2개\n",
    "pca_1 = PCA(n_components=2)\n",
    "\n",
    "# 모델 학습(규칙 설정)\n",
    "pca_1.fit(X)\n",
    "\n",
    "# 데이터 변환(PCA 적용)\n",
    "X_pca = pca_1.transform(X)\n",
    "X_pca[:2]\n",
    "df_1 = pd.DataFrame(X_pca, columns=['ftr1', 'ftr2'])"
   ]
  },
  {
   "cell_type": "code",
   "execution_count": 11,
   "id": "90e0b975",
   "metadata": {},
   "outputs": [],
   "source": [
    "from sklearn.decomposition import PCA\n",
    "\n",
    "# PCA 객체 생성 (주성분 2개로 축소)\n",
    "pca_1 = PCA(n_components=2)\n",
    "\n",
    "# 모델 학습\n",
    "pca_1.fit_transform(X)\n",
    "\n",
    "# 데이터 변환(PCA 적용)\n",
    "X_pca = pca_1.transform(X)\n",
    "X_pca[:2]\n",
    "df_1 = pd.DataFrame(X_pca, columns=['ftr1', 'ftr2'])"
   ]
  },
  {
   "cell_type": "code",
   "execution_count": 12,
   "id": "000da1a9",
   "metadata": {},
   "outputs": [
    {
     "data": {
      "text/html": [
       "<div>\n",
       "<style scoped>\n",
       "    .dataframe tbody tr th:only-of-type {\n",
       "        vertical-align: middle;\n",
       "    }\n",
       "\n",
       "    .dataframe tbody tr th {\n",
       "        vertical-align: top;\n",
       "    }\n",
       "\n",
       "    .dataframe thead th {\n",
       "        text-align: right;\n",
       "    }\n",
       "</style>\n",
       "<table border=\"1\" class=\"dataframe\">\n",
       "  <thead>\n",
       "    <tr style=\"text-align: right;\">\n",
       "      <th></th>\n",
       "      <th>ftr1</th>\n",
       "      <th>ftr2</th>\n",
       "    </tr>\n",
       "  </thead>\n",
       "  <tbody>\n",
       "    <tr>\n",
       "      <th>0</th>\n",
       "      <td>1160.142574</td>\n",
       "      <td>-293.917544</td>\n",
       "    </tr>\n",
       "    <tr>\n",
       "      <th>1</th>\n",
       "      <td>1269.122443</td>\n",
       "      <td>15.630182</td>\n",
       "    </tr>\n",
       "    <tr>\n",
       "      <th>2</th>\n",
       "      <td>995.793889</td>\n",
       "      <td>39.156743</td>\n",
       "    </tr>\n",
       "    <tr>\n",
       "      <th>3</th>\n",
       "      <td>-407.180803</td>\n",
       "      <td>-67.380320</td>\n",
       "    </tr>\n",
       "    <tr>\n",
       "      <th>4</th>\n",
       "      <td>930.341180</td>\n",
       "      <td>189.340742</td>\n",
       "    </tr>\n",
       "    <tr>\n",
       "      <th>...</th>\n",
       "      <td>...</td>\n",
       "      <td>...</td>\n",
       "    </tr>\n",
       "    <tr>\n",
       "      <th>564</th>\n",
       "      <td>1414.126684</td>\n",
       "      <td>110.222492</td>\n",
       "    </tr>\n",
       "    <tr>\n",
       "      <th>565</th>\n",
       "      <td>1045.018854</td>\n",
       "      <td>77.057589</td>\n",
       "    </tr>\n",
       "    <tr>\n",
       "      <th>566</th>\n",
       "      <td>314.501756</td>\n",
       "      <td>47.553525</td>\n",
       "    </tr>\n",
       "    <tr>\n",
       "      <th>567</th>\n",
       "      <td>1124.858115</td>\n",
       "      <td>34.129225</td>\n",
       "    </tr>\n",
       "    <tr>\n",
       "      <th>568</th>\n",
       "      <td>-771.527622</td>\n",
       "      <td>-88.643106</td>\n",
       "    </tr>\n",
       "  </tbody>\n",
       "</table>\n",
       "<p>569 rows × 2 columns</p>\n",
       "</div>"
      ],
      "text/plain": [
       "            ftr1        ftr2\n",
       "0    1160.142574 -293.917544\n",
       "1    1269.122443   15.630182\n",
       "2     995.793889   39.156743\n",
       "3    -407.180803  -67.380320\n",
       "4     930.341180  189.340742\n",
       "..           ...         ...\n",
       "564  1414.126684  110.222492\n",
       "565  1045.018854   77.057589\n",
       "566   314.501756   47.553525\n",
       "567  1124.858115   34.129225\n",
       "568  -771.527622  -88.643106\n",
       "\n",
       "[569 rows x 2 columns]"
      ]
     },
     "execution_count": 12,
     "metadata": {},
     "output_type": "execute_result"
    }
   ],
   "source": [
    "df_1"
   ]
  }
 ],
 "metadata": {
  "kernelspec": {
   "display_name": "hi_ml_env",
   "language": "python",
   "name": "python3"
  },
  "language_info": {
   "codemirror_mode": {
    "name": "ipython",
    "version": 3
   },
   "file_extension": ".py",
   "mimetype": "text/x-python",
   "name": "python",
   "nbconvert_exporter": "python",
   "pygments_lexer": "ipython3",
   "version": "3.10.16"
  }
 },
 "nbformat": 4,
 "nbformat_minor": 5
}
