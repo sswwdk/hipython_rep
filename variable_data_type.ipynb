{
 "cells": [
  {
   "cell_type": "markdown",
   "id": "28a7e06f-5da7-425f-8e4b-d6ffdb4ce68b",
   "metadata": {
    "jp-MarkdownHeadingCollapsed": true
   },
   "source": [
    "## 들어가기 : 주석"
   ]
  },
  {
   "cell_type": "code",
   "execution_count": null,
   "id": "9d6da92b-ecf6-4eb9-be32-8e4b6c554259",
   "metadata": {},
   "outputs": [],
   "source": []
  },
  {
   "cell_type": "code",
   "execution_count": null,
   "id": "0fcbbb6c-59f5-4340-8d15-c223412ec7a9",
   "metadata": {},
   "outputs": [],
   "source": []
  },
  {
   "cell_type": "code",
   "execution_count": null,
   "id": "9feb752b-be27-4af5-9024-7ade969d51e0",
   "metadata": {},
   "outputs": [],
   "source": []
  },
  {
   "cell_type": "markdown",
   "id": "9b9ae50c-4961-4b29-a549-6be0e4a09d8f",
   "metadata": {},
   "source": [
    "# 표준 입력과 표준 출력"
   ]
  },
  {
   "cell_type": "markdown",
   "id": "75653165-a5fe-4c06-880c-159d6932f376",
   "metadata": {},
   "source": [
    "## 입력"
   ]
  },
  {
   "cell_type": "code",
   "execution_count": 4,
   "id": "0e09dd06-607b-4444-8082-a42b08321041",
   "metadata": {},
   "outputs": [
    {
     "data": {
      "text/plain": [
       "10"
      ]
     },
     "execution_count": 4,
     "metadata": {},
     "output_type": "execute_result"
    }
   ],
   "source": [
    "12345\n",
    "10\n",
    "# ipython 라이브러리의 기본 기능\n",
    "# print(12345) 표준출력 니응을 내장하고 있다."
   ]
  },
  {
   "cell_type": "code",
   "execution_count": 3,
   "id": "f9be0e70-6f24-4b0e-8b6e-fb2f7e65d713",
   "metadata": {},
   "outputs": [
    {
     "name": "stdout",
     "output_type": "stream",
     "text": [
      "12345\n"
     ]
    },
    {
     "data": {
      "text/plain": [
       "10"
      ]
     },
     "execution_count": 3,
     "metadata": {},
     "output_type": "execute_result"
    }
   ],
   "source": [
    "print(12345)\n",
    "10"
   ]
  },
  {
   "cell_type": "code",
   "execution_count": 15,
   "id": "ffa70f44-b1e3-4d35-9c76-c429bfd25d42",
   "metadata": {},
   "outputs": [
    {
     "data": {
      "text/plain": [
       "str"
      ]
     },
     "execution_count": 15,
     "metadata": {},
     "output_type": "execute_result"
    }
   ],
   "source": [
    "type('12345') #문자열 ' '"
   ]
  },
  {
   "cell_type": "code",
   "execution_count": 14,
   "id": "91ccbe93-87ce-48b0-be01-ef97304ba982",
   "metadata": {},
   "outputs": [
    {
     "data": {
      "text/plain": [
       "str"
      ]
     },
     "execution_count": 14,
     "metadata": {},
     "output_type": "execute_result"
    }
   ],
   "source": [
    "type(\"12345\") #문자열 \" \""
   ]
  },
  {
   "cell_type": "code",
   "execution_count": 13,
   "id": "5a72f332-8f86-4dd7-8140-d854f160d8f0",
   "metadata": {},
   "outputs": [
    {
     "data": {
      "text/plain": [
       "'123451234512345'"
      ]
     },
     "execution_count": 13,
     "metadata": {},
     "output_type": "execute_result"
    }
   ],
   "source": [
    "\"12345\" * 3 #문자열에  *(곱하기) 는 된다. [문자열을 3번 출력해라]"
   ]
  },
  {
   "cell_type": "code",
   "execution_count": 7,
   "id": "18e5c7fe-554e-48ae-95ae-699740d9d0a4",
   "metadata": {},
   "outputs": [
    {
     "data": {
      "text/plain": [
       "int"
      ]
     },
     "execution_count": 7,
     "metadata": {},
     "output_type": "execute_result"
    }
   ],
   "source": [
    "type(12345) "
   ]
  },
  {
   "cell_type": "code",
   "execution_count": 16,
   "id": "b9217098-3189-4870-a59a-625037abe497",
   "metadata": {},
   "outputs": [],
   "source": [
    "# '12345'+10 => TYPE ERROR"
   ]
  },
  {
   "cell_type": "markdown",
   "id": "e81b14ae-154c-4437-8d9b-3aefbdbe8fdb",
   "metadata": {},
   "source": [
    "## 출력"
   ]
  },
  {
   "cell_type": "code",
   "execution_count": 22,
   "id": "eb4da67f-774f-421a-a58e-c8cd3c0cc4e2",
   "metadata": {},
   "outputs": [
    {
     "name": "stdin",
     "output_type": "stream",
     "text": [
      "당신의 이름을 입력하세요 장승원\n"
     ]
    },
    {
     "data": {
      "text/plain": [
       "'장승원'"
      ]
     },
     "execution_count": 22,
     "metadata": {},
     "output_type": "execute_result"
    }
   ],
   "source": [
    "name = input(\"당신의 이름을 입력하세요\")\n",
    "name"
   ]
  },
  {
   "cell_type": "code",
   "execution_count": 31,
   "id": "2a5a93f8-5c48-43fb-88b5-ca713225ef97",
   "metadata": {},
   "outputs": [
    {
     "name": "stdin",
     "output_type": "stream",
     "text": [
      "당신의 나이를 입력하세요 24\n"
     ]
    },
    {
     "data": {
      "text/plain": [
       "'24'"
      ]
     },
     "execution_count": 31,
     "metadata": {},
     "output_type": "execute_result"
    }
   ],
   "source": [
    "age = input(\"당신의 나이를 입력하세요\")\n",
    "age"
   ]
  },
  {
   "cell_type": "code",
   "execution_count": 23,
   "id": "4c7a2ddc-dc80-4045-9d8d-9c2b51094657",
   "metadata": {},
   "outputs": [
    {
     "data": {
      "text/plain": [
       "'장승원'"
      ]
     },
     "execution_count": 23,
     "metadata": {},
     "output_type": "execute_result"
    }
   ],
   "source": [
    "name"
   ]
  },
  {
   "cell_type": "code",
   "execution_count": 32,
   "id": "cfd96b3a-15f9-47a9-bf4a-6b5a7abb062c",
   "metadata": {},
   "outputs": [
    {
     "data": {
      "text/plain": [
       "('24', '장승원')"
      ]
     },
     "execution_count": 32,
     "metadata": {},
     "output_type": "execute_result"
    }
   ],
   "source": [
    "age, name"
   ]
  },
  {
   "cell_type": "code",
   "execution_count": 33,
   "id": "b11e3121-6a37-4c47-aadb-8a7bd94765df",
   "metadata": {},
   "outputs": [
    {
     "name": "stdout",
     "output_type": "stream",
     "text": [
      "나는  장승원 이고 나이는  24 입니다\n",
      "나는 장승원이고 나이는 24입니다\n"
     ]
    }
   ],
   "source": [
    "print(\"나는 \",name,\"이고 나이는 \",age,\"입니다\")\n",
    "print(\"나는 \"+name+\"이고 나이는 \"+age+\"입니다\")"
   ]
  },
  {
   "cell_type": "code",
   "execution_count": 34,
   "id": "58493706-f933-4020-a90f-13b3b4db8681",
   "metadata": {},
   "outputs": [],
   "source": [
    "# age + 10 #type ERROR "
   ]
  },
  {
   "cell_type": "markdown",
   "id": "3c33da86-d972-4f42-ab05-7a13a6563dcc",
   "metadata": {},
   "source": [
    "input으로 받는 값은 무조건 문자열이다"
   ]
  },
  {
   "cell_type": "code",
   "execution_count": 35,
   "id": "3e3dcfde-d322-4e39-af60-dfda7fa26bd3",
   "metadata": {},
   "outputs": [
    {
     "data": {
      "text/plain": [
       "24"
      ]
     },
     "execution_count": 35,
     "metadata": {},
     "output_type": "execute_result"
    }
   ],
   "source": [
    "int(age)"
   ]
  },
  {
   "cell_type": "code",
   "execution_count": 38,
   "id": "be53f6fe-595c-4c5f-83b2-d73a37c441d3",
   "metadata": {},
   "outputs": [
    {
     "data": {
      "text/plain": [
       "34"
      ]
     },
     "execution_count": 38,
     "metadata": {},
     "output_type": "execute_result"
    }
   ],
   "source": [
    "int(age) + 10 # age + 10 은 여전히 안된다. int(age)를 했다 해도 위에서는 age의 값을 int값으로 출력만 해준 것이기 때문 "
   ]
  },
  {
   "cell_type": "code",
   "execution_count": null,
   "id": "0029ad99-5b46-4977-b55f-f1f74b3f89c9",
   "metadata": {},
   "outputs": [],
   "source": []
  },
  {
   "cell_type": "code",
   "execution_count": 48,
   "id": "7d7ebcc7-8b27-4d05-999d-feb415d0ce8e",
   "metadata": {},
   "outputs": [
    {
     "name": "stdout",
     "output_type": "stream",
     "text": [
      "장 : 장승원 \n",
      "승 : 승원장 \n",
      "원 : 원승장 \n"
     ]
    }
   ],
   "source": [
    "#자기 이름으로 삼행시 짓기\n",
    "\n",
    "print(\"장 : 장승원 \")\n",
    "print(\"승 : 승원장 \")\n",
    "print(\"원 : 원승장 \")"
   ]
  },
  {
   "cell_type": "code",
   "execution_count": 49,
   "id": "5231dae0-f532-4492-9593-c330cafbb4db",
   "metadata": {},
   "outputs": [
    {
     "name": "stdin",
     "output_type": "stream",
     "text": [
      "장 : 장승원\n",
      "승 : 승원장\n",
      "원 : 원승장\n"
     ]
    },
    {
     "name": "stdout",
     "output_type": "stream",
     "text": [
      "장승원!승원장!원승장\n"
     ]
    }
   ],
   "source": [
    "first = input(\"장 :\")\n",
    "second = input(\"승 :\")\n",
    "third = input(\"원 :\")\n",
    "\n",
    "print(first,second,third, sep=\"!\") #각 쉽표 매개변수와 매개변수 사이를 separator로 변환한다."
   ]
  },
  {
   "cell_type": "code",
   "execution_count": 52,
   "id": "ce13bf92-9ddd-4f2d-b1e1-6d6ef8fb48f3",
   "metadata": {},
   "outputs": [
    {
     "name": "stdout",
     "output_type": "stream",
     "text": [
      "장승원\n",
      "승원장\n",
      "원승장\n"
     ]
    }
   ],
   "source": [
    "print(first, second, third, sep=\"\\n\") # \\n : 줄바꿈 기호, <br>느낌 # /아니라 역슬레시 \\"
   ]
  },
  {
   "cell_type": "markdown",
   "id": "6dacf6ef-54bd-4ed2-b4ff-30b643b44123",
   "metadata": {},
   "source": [
    "# 변수"
   ]
  },
  {
   "cell_type": "markdown",
   "id": "7a14b735-393a-4741-a3e8-140ec74b2cb5",
   "metadata": {},
   "source": [
    "변수 type safe : 변수를 선언할 때 타입(유형)을 지정하지 않아도 되는 특성<br>\n",
    "변수명 = 값<br>\n",
    "## 변수의 명명규칙 \n",
    "1.문자, 숫자, 밑줄을 가지고 만든다<br>\n",
    "2. 숫자로 시작하면 X<br>\n",
    "3. 대소문자를 구분한다<br>\n",
    "4. 예약어, 특수문자, 공백 X"
   ]
  },
  {
   "cell_type": "code",
   "execution_count": 60,
   "id": "911b2c31-f5f1-4a6d-8fe5-3c285d96c9e6",
   "metadata": {},
   "outputs": [
    {
     "data": {
      "text/plain": [
       "(int, str, float)"
      ]
     },
     "execution_count": 60,
     "metadata": {},
     "output_type": "execute_result"
    }
   ],
   "source": [
    "x = 10\n",
    "y = \"hello\"\n",
    "z = 3.141592\n",
    "\n",
    "x,y,z\n",
    "\n",
    "type(x),type(y),type(z)"
   ]
  },
  {
   "cell_type": "code",
   "execution_count": 61,
   "id": "72fc0b39-7339-4ddc-aba5-39580e4bc7d5",
   "metadata": {},
   "outputs": [
    {
     "name": "stdout",
     "output_type": "stream",
     "text": [
      "<class 'int'> <class 'str'> <class 'float'>\n"
     ]
    }
   ],
   "source": [
    "print(type(x),type(y),type(z))"
   ]
  },
  {
   "cell_type": "code",
   "execution_count": 65,
   "id": "0b10f65f-74b2-413f-bd9a-7c99cc398867",
   "metadata": {},
   "outputs": [
    {
     "data": {
      "text/plain": [
       "(10, 20, 30)"
      ]
     },
     "execution_count": 65,
     "metadata": {},
     "output_type": "execute_result"
    }
   ],
   "source": [
    "a, b, c = 10, 20, 30\n",
    "a, b, c"
   ]
  },
  {
   "cell_type": "code",
   "execution_count": 64,
   "id": "e896d074-1a8e-45db-bd16-bf84c60c1948",
   "metadata": {},
   "outputs": [
    {
     "data": {
      "text/plain": [
       "(10, 20, 30)"
      ]
     },
     "execution_count": 64,
     "metadata": {},
     "output_type": "execute_result"
    }
   ],
   "source": [
    "a = 10\n",
    "b = 20\n",
    "c = 30\n",
    "a, b, c"
   ]
  },
  {
   "cell_type": "code",
   "execution_count": 67,
   "id": "e082e3a8-8640-4726-983d-6f8626bf0ce1",
   "metadata": {},
   "outputs": [
    {
     "data": {
      "text/plain": [
       "(40, 40, 40)"
      ]
     },
     "execution_count": 67,
     "metadata": {},
     "output_type": "execute_result"
    }
   ],
   "source": [
    "a = b = c = 40\n",
    "a, b, c"
   ]
  },
  {
   "cell_type": "code",
   "execution_count": 77,
   "id": "038edb22-a98f-4064-97a1-19d72a8869ca",
   "metadata": {},
   "outputs": [
    {
     "data": {
      "text/plain": [
       "(True, None)"
      ]
     },
     "execution_count": 77,
     "metadata": {},
     "output_type": "execute_result"
    }
   ],
   "source": [
    "d = True #bool형\n",
    "e = None #type이 없음 : NoneType\n",
    "d, e"
   ]
  },
  {
   "cell_type": "code",
   "execution_count": 9,
   "id": "f83dacbf-88a2-407e-8f2a-5a58b19bda99",
   "metadata": {},
   "outputs": [
    {
     "name": "stdout",
     "output_type": "stream",
     "text": [
      "10 10\n"
     ]
    },
    {
     "data": {
      "text/plain": [
       "(140706064181976, 140706064181976)"
      ]
     },
     "execution_count": 9,
     "metadata": {},
     "output_type": "execute_result"
    }
   ],
   "source": [
    "aa = 10\n",
    "bb= aa\n",
    "print(aa, bb)\n",
    "id(aa), id(bb)"
   ]
  },
  {
   "cell_type": "code",
   "execution_count": 11,
   "id": "cf4ea7bb-631a-46c5-a97c-f0ab833e76f9",
   "metadata": {},
   "outputs": [
    {
     "name": "stdout",
     "output_type": "stream",
     "text": [
      "30 10\n"
     ]
    },
    {
     "data": {
      "text/plain": [
       "(140706064182616, 140706064181976)"
      ]
     },
     "execution_count": 11,
     "metadata": {},
     "output_type": "execute_result"
    }
   ],
   "source": [
    "aa = 30\n",
    "print(aa, bb)\n",
    "id(aa), id(bb)"
   ]
  },
  {
   "cell_type": "code",
   "execution_count": 13,
   "id": "961c07ba-2d89-4eec-b0f7-4c356e92f103",
   "metadata": {},
   "outputs": [],
   "source": [
    "#의미를 부여 하기 어려운 변수명 \n",
    "x = 100\n",
    "y = 100\n",
    "\n",
    "#의미있는 변수명\n",
    "age = 20\n",
    "name = \"Jangseungwon\"\n",
    "user_name = \"JSW\"\n",
    "admin_Name = \"JSWW\"\n",
    "\n",
    "#대문자 Upper-case 상수에 사용\n",
    "PI = 3.141592\n",
    "MAX_VALUE = 10 #최대값\n",
    "MIN_VALUE = 0 #최솟값"
   ]
  },
  {
   "cell_type": "markdown",
   "id": "a186ec95-e624-4b8d-bcf8-8ea8c6216232",
   "metadata": {},
   "source": [
    "## NAME_SPACE\n",
    "변수가 최로로 정의된 영역에 따라 유효범위가 결정됩니다.    \n",
    "- 지역변수 : 함수 영역 내에서 선언한 변수\n",
    "- 전역변수 : 함수 영역 밖에서 선언한 변수, global 키워드 사용\n",
    "- 정적변수 : 클래스에서 사용하는 변수"
   ]
  },
  {
   "cell_type": "code",
   "execution_count": 26,
   "id": "b0ba8e94-c3c9-497a-a3ac-f06da22cf783",
   "metadata": {},
   "outputs": [
    {
     "name": "stdout",
     "output_type": "stream",
     "text": [
      "여기는 함수의 영역입니다 100\n"
     ]
    }
   ],
   "source": [
    "# 지역 변수\n",
    "def local_example():\n",
    "    local_var = 100\n",
    "    print(\"여기는 함수의 영역입니다\", local_var)\n",
    " \n",
    "# local_var #NameError: name 'local_var' is not defined\n",
    "local_example()"
   ]
  },
  {
   "cell_type": "code",
   "execution_count": 28,
   "id": "51bae920-6fc8-49cb-9f19-2b362264ce45",
   "metadata": {},
   "outputs": [
    {
     "name": "stdout",
     "output_type": "stream",
     "text": [
      "나는 전역이다\n",
      "여기는 함수의 영역입니다 100 나는 전역이다\n"
     ]
    }
   ],
   "source": [
    "# 전역 변수\n",
    "global_var = \"나는 전역이다\"\n",
    "print(global_var)\n",
    "\n",
    "def global_example():\n",
    "    local_var = 100\n",
    "    print(\"여기는 함수의 영역입니다\", local_var, global_var)\n",
    "global_example()"
   ]
  },
  {
   "cell_type": "markdown",
   "id": "060cc019-9937-421d-89d1-43e202cf95bf",
   "metadata": {},
   "source": [
    "## global"
   ]
  },
  {
   "cell_type": "code",
   "execution_count": 34,
   "id": "1854ef2b-a3ae-4023-9e8f-ce77592eabcb",
   "metadata": {},
   "outputs": [
    {
     "name": "stdout",
     "output_type": "stream",
     "text": [
      "나는 전역이다\n",
      "여기는 함수의 영역입니다 나는 전역이다\n",
      "나는 전역이다\n"
     ]
    }
   ],
   "source": [
    "var_test = \"나는 전역이다\"\n",
    "print(var_test)\n",
    "\n",
    "def global_example():\n",
    "    # global var_test = 100 <= 틀린 표현 #선언과 할당을 같이 할 수 없다 \n",
    "    global var_test\n",
    "    print(\"여기는 함수의 영역입니다\", var_test)\n",
    "\n",
    "global_example()\n",
    "print(var_test)\n",
    "# global 함수 앞에 붙이면 함수 밖에서 불러와라 의미"
   ]
  },
  {
   "cell_type": "code",
   "execution_count": 48,
   "id": "d1935a07-8a00-4e36-b3cf-a37a5169724e",
   "metadata": {},
   "outputs": [
    {
     "name": "stdout",
     "output_type": "stream",
     "text": [
      "카운터 : 1\n",
      "카운터 : 2\n"
     ]
    }
   ],
   "source": [
    "# 변수 영역 연습\n",
    "counter = 0  #global\n",
    "\n",
    "def increment_counter():\n",
    "    #counter = counter + 1\n",
    "    global counter #갖고 오기\n",
    "    counter += 1\n",
    "    print(\"카운터 :\", counter)\n",
    "\n",
    "increment_counter()\n",
    "increment_counter()"
   ]
  },
  {
   "cell_type": "markdown",
   "id": "8fbe13a8-dea5-48fe-a35b-da6a69fdbbbd",
   "metadata": {},
   "source": [
    "# 교재 변수연습"
   ]
  },
  {
   "cell_type": "code",
   "execution_count": 51,
   "id": "4022b120-cb04-4b7d-a52c-ccadeb56fc66",
   "metadata": {},
   "outputs": [
    {
     "data": {
      "text/plain": [
       "(3077941402240, 3077941402240)"
      ]
     },
     "execution_count": 51,
     "metadata": {},
     "output_type": "execute_result"
    }
   ],
   "source": [
    "a = [1, 2, 3]\n",
    "b = a\n",
    "\n",
    "id(a), id(b)"
   ]
  },
  {
   "cell_type": "code",
   "execution_count": 56,
   "id": "2cefb5d2-67c8-4d32-9713-6d8e45b47997",
   "metadata": {},
   "outputs": [
    {
     "data": {
      "text/plain": [
       "([1, 3, 4], [1, 3, 5])"
      ]
     },
     "execution_count": 56,
     "metadata": {},
     "output_type": "execute_result"
    }
   ],
   "source": [
    "a = [1 ,3, 5]\n",
    "b = a[:]\n",
    "a[2] = 4\n",
    "a, b"
   ]
  },
  {
   "cell_type": "markdown",
   "id": "249ad06c-33fd-4984-ae49-8e11107cdf7a",
   "metadata": {
    "jp-MarkdownHeadingCollapsed": true
   },
   "source": [
    "# 초보자를 위한 파이썬 300제"
   ]
  },
  {
   "cell_type": "code",
   "execution_count": 68,
   "id": "6e908de7-fbf3-445e-867b-642d18b79dcb",
   "metadata": {},
   "outputs": [
    {
     "name": "stdout",
     "output_type": "stream",
     "text": [
      "Hello World\n"
     ]
    }
   ],
   "source": [
    "#1\n",
    "print(\"Hello World\")"
   ]
  },
  {
   "cell_type": "code",
   "execution_count": 69,
   "id": "aec76977-3948-4ec7-bf9d-856ac10db3ba",
   "metadata": {},
   "outputs": [
    {
     "name": "stdout",
     "output_type": "stream",
     "text": [
      "Mary's cosmetic\n"
     ]
    }
   ],
   "source": [
    "#2\n",
    "print(\"Mary's cosmetic\")"
   ]
  },
  {
   "cell_type": "code",
   "execution_count": 70,
   "id": "ec0c4962-8b1d-4c06-8bad-35d18c6ef61b",
   "metadata": {},
   "outputs": [
    {
     "name": "stdout",
     "output_type": "stream",
     "text": [
      "신씨가 소리질렀다. \"도둑이야\".\n"
     ]
    }
   ],
   "source": [
    "#3\n",
    "print('신씨가 소리질렀다. \"도둑이야\".')"
   ]
  },
  {
   "cell_type": "code",
   "execution_count": 96,
   "id": "a5f17509-d08d-4bdf-9685-5c44af7e47f2",
   "metadata": {},
   "outputs": [
    {
     "name": "stdout",
     "output_type": "stream",
     "text": [
      "C:\\Windows\n"
     ]
    },
    {
     "name": "stderr",
     "output_type": "stream",
     "text": [
      "<>:2: SyntaxWarning: invalid escape sequence '\\W'\n",
      "<>:2: SyntaxWarning: invalid escape sequence '\\W'\n",
      "C:\\Users\\Admin\\AppData\\Local\\Temp\\ipykernel_13164\\1801644531.py:2: SyntaxWarning: invalid escape sequence '\\W'\n",
      "  print(\"C:\\Windows\")\n"
     ]
    }
   ],
   "source": [
    "#4\n",
    "print(\"C:\\Windows\")"
   ]
  },
  {
   "cell_type": "code",
   "execution_count": 72,
   "id": "013b1d40-c518-4e87-8d4c-1fdc0831013c",
   "metadata": {},
   "outputs": [
    {
     "name": "stdout",
     "output_type": "stream",
     "text": [
      "안녕하세요.\n",
      "만나서\t\t반갑습니다.\n"
     ]
    }
   ],
   "source": [
    "#5\n",
    "print(\"안녕하세요.\\n만나서\\t\\t반갑습니다.\")\n",
    "#\\n은 줄바꿈, \\t는 tab"
   ]
  },
  {
   "cell_type": "code",
   "execution_count": 73,
   "id": "790a0e4a-8f9f-4cde-9712-bbb34eb2b6c9",
   "metadata": {},
   "outputs": [
    {
     "name": "stdout",
     "output_type": "stream",
     "text": [
      "오늘은 일요일\n"
     ]
    }
   ],
   "source": [
    "#6\n",
    "print(\"오늘은\",\"일요일\")"
   ]
  },
  {
   "cell_type": "code",
   "execution_count": 78,
   "id": "52459a3a-14b2-4ef1-857e-72ad32fba7a6",
   "metadata": {},
   "outputs": [
    {
     "name": "stdout",
     "output_type": "stream",
     "text": [
      "naver;kakao;sk;samsung\n"
     ]
    }
   ],
   "source": [
    "#7\n",
    "print(\"naver\",\"kakao\",\"sk\",\"samsung\", sep=\";\")"
   ]
  },
  {
   "cell_type": "code",
   "execution_count": 79,
   "id": "4b780c86-91b9-4171-9c09-3597061aef81",
   "metadata": {},
   "outputs": [
    {
     "name": "stdout",
     "output_type": "stream",
     "text": [
      "naver/kakao/sk/samsung\n"
     ]
    }
   ],
   "source": [
    "#8\n",
    "print(\"naver\",\"kakao\",\"sk\",\"samsung\",sep=\"/\")"
   ]
  },
  {
   "cell_type": "code",
   "execution_count": 82,
   "id": "9310d8ce-ee04-4a96-ba1f-dc201c093c4a",
   "metadata": {},
   "outputs": [
    {
     "name": "stdout",
     "output_type": "stream",
     "text": [
      "first second\n"
     ]
    }
   ],
   "source": [
    "#9\n",
    "print(\"first\",end=\" \");print(\"second\")"
   ]
  },
  {
   "cell_type": "code",
   "execution_count": 86,
   "id": "68d88389-74c6-4ef9-81c7-48462a9a4aeb",
   "metadata": {},
   "outputs": [
    {
     "name": "stdout",
     "output_type": "stream",
     "text": [
      "1.6666666666666667\n"
     ]
    }
   ],
   "source": [
    "#10\n",
    "print(5/3)"
   ]
  },
  {
   "cell_type": "code",
   "execution_count": 91,
   "id": "0bcecafb-4ca0-462f-9fd2-eec64530bd3f",
   "metadata": {},
   "outputs": [
    {
     "name": "stdout",
     "output_type": "stream",
     "text": [
      "500000\n"
     ]
    }
   ],
   "source": [
    "#11\n",
    "삼성전자 = 50000\n",
    "총평가금액 = 삼성전자 * 10\n",
    "print(총평가금액)"
   ]
  },
  {
   "cell_type": "code",
   "execution_count": 92,
   "id": "223c653f-f9a1-42fb-9dee-aff0e72df325",
   "metadata": {},
   "outputs": [
    {
     "name": "stdout",
     "output_type": "stream",
     "text": [
      "2980\n",
      "50000\n",
      "15.79\n"
     ]
    },
    {
     "data": {
      "text/plain": [
       "(None, None, None)"
      ]
     },
     "execution_count": 92,
     "metadata": {},
     "output_type": "execute_result"
    }
   ],
   "source": [
    "#11\n",
    "시가총액 = 2980\n",
    "현재가 = 50000\n",
    "PER = 15.79\n",
    "\n",
    "print(시가총액),print(현재가),print(PER)"
   ]
  },
  {
   "cell_type": "markdown",
   "id": "5ceb694d-d46e-44a0-975a-fbc8a456c51a",
   "metadata": {},
   "source": [
    "# 자료형\n",
    "-기본자료형: 숫자형, 문자열형 str, 부울형   \n",
    "-복합자료형: 리스트, 셋, 튜플, 딕셔너리 "
   ]
  },
  {
   "cell_type": "markdown",
   "id": "cb6ffa77-e2f7-44cf-974b-b2d4577ec1d3",
   "metadata": {},
   "source": [
    "| type | 설명 | 예 |\n",
    "|-----|-----|-----|\n",
    "|정수형(int) | 정수를 저장하는 자료형 | 1, -5, 100|\n",
    "|실수형 (float)|소수점이 있는 숫자를 저장하는 자료형|3.14, -0.001, 2.0|\n",
    "|문자열 (str) |텍스트를 저장하는 자료형 |\"Hello\", '파이썬'|\n",
    "|논리형 (bool)|참/거짓 값을 저장하는 자료형|True, False|"
   ]
  },
  {
   "cell_type": "markdown",
   "id": "f6c1b98c-e0cb-4fcb-adea-da042241aaba",
   "metadata": {},
   "source": [
    "-수정 불가능한 데이터 타입 : 수치형, 부울형, 문자열, 튜플   \n",
    "-수정 가능한 데이터 타입 :  리스트, 딕셔너리, 셋"
   ]
  },
  {
   "cell_type": "code",
   "execution_count": 100,
   "id": "fd538539-012b-4cdf-bd5e-0ae47ca6f143",
   "metadata": {},
   "outputs": [
    {
     "data": {
      "text/plain": [
       "(20, int)"
      ]
     },
     "execution_count": 100,
     "metadata": {},
     "output_type": "execute_result"
    }
   ],
   "source": [
    "#수치형\n",
    "20, type(20)"
   ]
  },
  {
   "cell_type": "code",
   "execution_count": 101,
   "id": "5358bd4b-22fd-479f-9f8f-08a66e831506",
   "metadata": {},
   "outputs": [
    {
     "data": {
      "text/plain": [
       "int"
      ]
     },
     "execution_count": 101,
     "metadata": {},
     "output_type": "execute_result"
    }
   ],
   "source": [
    "age = 20\n",
    "type(age)"
   ]
  },
  {
   "cell_type": "markdown",
   "id": "282323c4-07c2-46c3-89e7-dc79f569e76d",
   "metadata": {},
   "source": [
    "### 진법   \n",
    "1. 진법 : 10진수, 2진수, 8진수, 16진수   \n",
    "2. 입력하는 방법은 다르지만, print() 결과는 동일하다."
   ]
  },
  {
   "cell_type": "code",
   "execution_count": 109,
   "id": "47aef085-579f-4603-b62c-6ebb5c019f67",
   "metadata": {},
   "outputs": [
    {
     "data": {
      "text/plain": [
       "(10, 5)"
      ]
     },
     "execution_count": 109,
     "metadata": {},
     "output_type": "execute_result"
    }
   ],
   "source": [
    "a = 10\n",
    "b = 0b0101 #2진수 0,1로 표현하는 방법 => 0b 0101 -> 1+0+4+0 = 5  # 0b b는 2진수\n",
    "a, b"
   ]
  },
  {
   "cell_type": "code",
   "execution_count": 112,
   "id": "4e230a35-23d2-4d4a-af41-1a955d5c5808",
   "metadata": {},
   "outputs": [
    {
     "data": {
      "text/plain": [
       "(8, 27)"
      ]
     },
     "execution_count": 112,
     "metadata": {},
     "output_type": "execute_result"
    }
   ],
   "source": [
    "c = 0o10 # o는 8진수 옥타곤\n",
    "d = 0x1B\n",
    "c, d"
   ]
  },
  {
   "cell_type": "markdown",
   "id": "041304bd-d525-461c-a472-47d9a82cca2c",
   "metadata": {},
   "source": [
    "|진수|접두사 |예시|\n",
    "|-----|-----|-----|\n",
    "|2진수|0b 또는 0B|0b1010 → 10|\n",
    "|8진수|0o 또는 0O|0o12 → 10|\n",
    "|16진수|0x 또는 0X|0xA → 10|\n",
    "\n",
    "16진수는 1 ~ 9는 숫자, 10 ~ 15는 A, B, C, D, E, F"
   ]
  },
  {
   "cell_type": "code",
   "execution_count": 113,
   "id": "d82fdb07-fa62-4ef1-8eed-b63bf1d934b7",
   "metadata": {},
   "outputs": [
    {
     "data": {
      "text/plain": [
       "float"
      ]
     },
     "execution_count": 113,
     "metadata": {},
     "output_type": "execute_result"
    }
   ],
   "source": [
    "#float\n",
    "b= 3.14\n",
    "type(b)"
   ]
  },
  {
   "cell_type": "markdown",
   "id": "54490336-dd7c-4252-bfe6-0d918c5ca0ac",
   "metadata": {},
   "source": [
    "### 지수의 표기    \n",
    "숫자e2 -> 10^2의 곱 = 10** *2   \n",
    "숫자e-2 -> 10^-2의 곱 = 10**  -2"
   ]
  },
  {
   "cell_type": "code",
   "execution_count": 114,
   "id": "78a040be-5d42-4e51-9d6d-c7a8387853f4",
   "metadata": {},
   "outputs": [
    {
     "data": {
      "text/plain": [
       "1000.0"
      ]
     },
     "execution_count": 114,
     "metadata": {},
     "output_type": "execute_result"
    }
   ],
   "source": [
    "fa = 10e2\n",
    "fa\n"
   ]
  },
  {
   "cell_type": "code",
   "execution_count": 115,
   "id": "1c1817f2-9e70-474c-8bda-f76030cccc7b",
   "metadata": {},
   "outputs": [
    {
     "data": {
      "text/plain": [
       "0.1"
      ]
     },
     "execution_count": 115,
     "metadata": {},
     "output_type": "execute_result"
    }
   ],
   "source": [
    "fb = 10e-2\n",
    "fb"
   ]
  },
  {
   "cell_type": "code",
   "execution_count": 116,
   "id": "de75a72d-66c4-4fd3-827b-b12a4e73be4a",
   "metadata": {},
   "outputs": [
    {
     "data": {
      "text/plain": [
       "314.1592"
      ]
     },
     "execution_count": 116,
     "metadata": {},
     "output_type": "execute_result"
    }
   ],
   "source": [
    "fc = 3.141592e2\n",
    "fc"
   ]
  },
  {
   "cell_type": "markdown",
   "id": "082093bf-047d-499c-be49-8a96aa22be22",
   "metadata": {},
   "source": [
    "### BOOLEAN - True, False   \n",
    "논리연산, 비교연산"
   ]
  },
  {
   "cell_type": "code",
   "execution_count": 144,
   "id": "de7844b5-b9e6-48ad-96b6-1744ab2c41f7",
   "metadata": {},
   "outputs": [],
   "source": [
    "ba  = True\n",
    "bb = true #true는 변수 [ERROR 이름이 true가 정의되지 않았다]\n",
    "\n",
    "type(ba), type(bb)"
   ]
  },
  {
   "cell_type": "code",
   "execution_count": 124,
   "id": "94de6572-724b-4d51-8ca0-f4e569c96206",
   "metadata": {},
   "outputs": [
    {
     "data": {
      "text/plain": [
       "True"
      ]
     },
     "execution_count": 124,
     "metadata": {},
     "output_type": "execute_result"
    }
   ],
   "source": [
    "ba == 1  #True == 1 , False == 0"
   ]
  },
  {
   "cell_type": "code",
   "execution_count": 125,
   "id": "c9df22f3-8caa-4985-adbe-513811ff575f",
   "metadata": {},
   "outputs": [
    {
     "data": {
      "text/plain": [
       "1"
      ]
     },
     "execution_count": 125,
     "metadata": {},
     "output_type": "execute_result"
    }
   ],
   "source": [
    "# 논리 연산자 and or not\n",
    "bc = 1\n",
    "ba and bc"
   ]
  },
  {
   "cell_type": "code",
   "execution_count": 126,
   "id": "0e573b28-8add-4bf1-8e5a-e75493fcbd9d",
   "metadata": {},
   "outputs": [],
   "source": [
    "#사칙연선 + - * / // %\n",
    "a = 2 \n",
    "b = 3"
   ]
  },
  {
   "cell_type": "code",
   "execution_count": 131,
   "id": "58ea4c55-233c-4882-b742-8965f92034a9",
   "metadata": {},
   "outputs": [
    {
     "data": {
      "text/plain": [
       "(0.6666666666666666, 0, 2)"
      ]
     },
     "execution_count": 131,
     "metadata": {},
     "output_type": "execute_result"
    }
   ],
   "source": [
    "a+b   \n",
    "a-b   \n",
    "a*b\n",
    "a/b, a//b, a%b # /나누기, //몫, %나머지"
   ]
  },
  {
   "cell_type": "code",
   "execution_count": 137,
   "id": "5fa7009a-dce1-4f18-bd27-5224748143bd",
   "metadata": {},
   "outputs": [
    {
     "data": {
      "text/plain": [
       "True"
      ]
     },
     "execution_count": 137,
     "metadata": {},
     "output_type": "execute_result"
    }
   ],
   "source": [
    "#비교연산자\n",
    "1+2 == 3 #True\n",
    "1+2 != 3 #False\n",
    "1+3 > 3 #True\n",
    "1+3 < 3 #False\n",
    "1+3 <= 4 #True"
   ]
  },
  {
   "cell_type": "code",
   "execution_count": 138,
   "id": "bb82d286-af01-422a-b697-324450a4b595",
   "metadata": {},
   "outputs": [
    {
     "data": {
      "text/plain": [
       "True"
      ]
     },
     "execution_count": 138,
     "metadata": {},
     "output_type": "execute_result"
    }
   ],
   "source": [
    "#비교연산자와 논리연산자의 결합\n",
    "\n",
    "10%2 == 0 and 12%3 == 0"
   ]
  },
  {
   "cell_type": "code",
   "execution_count": 140,
   "id": "d7b54cde-75fd-4282-ab7e-0ee667a4b611",
   "metadata": {},
   "outputs": [
    {
     "data": {
      "text/plain": [
       "('1234', '5678', 3077900966272, 3077949443600)"
      ]
     },
     "execution_count": 140,
     "metadata": {},
     "output_type": "execute_result"
    }
   ],
   "source": [
    "a = '1234'\n",
    "b = '5678'\n",
    "a,b,id(a),id(b)"
   ]
  },
  {
   "cell_type": "code",
   "execution_count": 141,
   "id": "b2122384-c787-4bf1-a959-6ccd157a1d2c",
   "metadata": {},
   "outputs": [
    {
     "data": {
      "text/plain": [
       "False"
      ]
     },
     "execution_count": 141,
     "metadata": {},
     "output_type": "execute_result"
    }
   ],
   "source": [
    "id(a) == id(b)"
   ]
  },
  {
   "cell_type": "code",
   "execution_count": 145,
   "id": "2fd056c1-dbe7-4c40-b076-26accf9fc15d",
   "metadata": {},
   "outputs": [
    {
     "data": {
      "text/plain": [
       "(10, 12)"
      ]
     },
     "execution_count": 145,
     "metadata": {},
     "output_type": "execute_result"
    }
   ],
   "source": [
    "#대입연산자\n",
    "a = 10\n",
    "b = a + 2\n",
    "a,b "
   ]
  },
  {
   "cell_type": "code",
   "execution_count": 147,
   "id": "612f822f-f4e2-4899-a03c-642a8324f13b",
   "metadata": {},
   "outputs": [
    {
     "data": {
      "text/plain": [
       "21"
      ]
     },
     "execution_count": 147,
     "metadata": {},
     "output_type": "execute_result"
    }
   ],
   "source": [
    "a = 20\n",
    "a +=1  # a = a + 1\n",
    "a"
   ]
  },
  {
   "cell_type": "code",
   "execution_count": 149,
   "id": "d90d417c-6504-41b8-8770-dc76f61284f7",
   "metadata": {},
   "outputs": [
    {
     "data": {
      "text/plain": [
       "19"
      ]
     },
     "execution_count": 149,
     "metadata": {},
     "output_type": "execute_result"
    }
   ],
   "source": [
    "a = 20 \n",
    "a -=1 # a = a - 1\n",
    "a"
   ]
  },
  {
   "cell_type": "code",
   "execution_count": 154,
   "id": "5b7ee3b1-30bd-4a89-b4f0-d4947d3eb389",
   "metadata": {},
   "outputs": [
    {
     "data": {
      "text/plain": [
       "7"
      ]
     },
     "execution_count": 154,
     "metadata": {},
     "output_type": "execute_result"
    }
   ],
   "source": [
    "a = 3\n",
    "b =2 \n",
    "a+=2 + b \n",
    "a"
   ]
  },
  {
   "cell_type": "markdown",
   "id": "eaece560-149d-444d-8fb1-d35ff8da99b3",
   "metadata": {},
   "source": [
    "# 문자열 str   \n",
    "' ', \" \", \"\"\" \"\"\", ''' ''' docstring   \n",
    "인코드 > 코드 > 숫자값 정해져 있다. \"코드표\""
   ]
  },
  {
   "cell_type": "markdown",
   "id": "4ebe3f50-8c19-4081-b19d-40af78379418",
   "metadata": {},
   "source": [
    "유니코드 문자 표준\n",
    "영어는 ascii -> 유니코드\n",
    "한국어도 유니코드\n",
    "\n",
    "유니코드가 글자의 크기에 따라 utf-8, [utf-16, utf-32] 디코딩\n",
    "\n",
    "파이썬의 문자열 str -> unicode 기반이다.\n",
    "\n",
    "euk-kr <예전에 사용하던 한글 코드>, cp949<예전 ms에서 사용하던 한글코드>\n",
    "\n",
    "인코딩 사람문자 -> 컴퓨터, 디코딩 컴퓨터 -> 사람"
   ]
  },
  {
   "cell_type": "code",
   "execution_count": 2,
   "id": "d66683f9-87c3-4fce-a743-b10e651d9eb6",
   "metadata": {},
   "outputs": [
    {
     "name": "stdout",
     "output_type": "stream",
     "text": [
      "54028\n"
     ]
    }
   ],
   "source": [
    "text = \"파이썬\"\n",
    "\n",
    "print(ord('파')) #유니코드"
   ]
  },
  {
   "cell_type": "code",
   "execution_count": 3,
   "id": "84f0a1e4-a5dc-48f4-955e-28e1942675e4",
   "metadata": {},
   "outputs": [
    {
     "name": "stdout",
     "output_type": "stream",
     "text": [
      "b'\\xed\\x8c\\x8c\\xec\\x9d\\xb4\\xec\\x8d\\xac'\n"
     ]
    }
   ],
   "source": [
    "#인코딩\n",
    "enc_text = text.encode(\"utf-8\")\n",
    "print(enc_text)"
   ]
  },
  {
   "cell_type": "code",
   "execution_count": 21,
   "id": "d08a4e10-6f40-4aa2-993e-5f4ce1c32f21",
   "metadata": {},
   "outputs": [
    {
     "name": "stdout",
     "output_type": "stream",
     "text": [
      "파이썬\n"
     ]
    }
   ],
   "source": [
    "#디코딩\n",
    "dec_text = enc_text.decode(\"utf-8\")\n",
    "print(dec_text)"
   ]
  },
  {
   "cell_type": "code",
   "execution_count": 157,
   "id": "15ff56b7-2e1c-4be9-bb9f-f5564b676727",
   "metadata": {},
   "outputs": [
    {
     "data": {
      "text/plain": [
       "'hello python'"
      ]
     },
     "execution_count": 157,
     "metadata": {},
     "output_type": "execute_result"
    }
   ],
   "source": [
    "# +는 문자열끼리\n",
    "a = \"hello \"\n",
    "b = \"python\"\n",
    "a + b"
   ]
  },
  {
   "cell_type": "code",
   "execution_count": 161,
   "id": "37d3c181-5cfb-49e9-a576-fd589590eff2",
   "metadata": {},
   "outputs": [
    {
     "data": {
      "text/plain": [
       "'**********'"
      ]
     },
     "execution_count": 161,
     "metadata": {},
     "output_type": "execute_result"
    }
   ],
   "source": [
    "# *문자열*숫자\n",
    "c = \"*\"\n",
    "c*10"
   ]
  },
  {
   "cell_type": "code",
   "execution_count": 163,
   "id": "c28728fd-c483-4aab-96b1-714e3c121c96",
   "metadata": {},
   "outputs": [
    {
     "data": {
      "text/plain": [
       "(\"Kim's Family\", '\"jang\" said')"
      ]
     },
     "execution_count": 163,
     "metadata": {},
     "output_type": "execute_result"
    }
   ],
   "source": [
    "d =\"Kim's Family\"\n",
    "e ='\"jang\" said'\n",
    "d, e"
   ]
  },
  {
   "cell_type": "code",
   "execution_count": 164,
   "id": "2b48a850-8bdf-48d1-9273-9515095e7cce",
   "metadata": {},
   "outputs": [
    {
     "data": {
      "text/plain": [
       "True"
      ]
     },
     "execution_count": 164,
     "metadata": {},
     "output_type": "execute_result"
    }
   ],
   "source": [
    "#문자열에서 비교연산\n",
    "e = \"1\"\n",
    "e ==\"1\""
   ]
  },
  {
   "cell_type": "code",
   "execution_count": 185,
   "id": "e186b614-b4e2-47ad-b455-501f251742f2",
   "metadata": {},
   "outputs": [
    {
     "data": {
      "text/plain": [
       "'0'"
      ]
     },
     "execution_count": 185,
     "metadata": {},
     "output_type": "execute_result"
    }
   ],
   "source": [
    "#문자열은 리스트, 열거형\n",
    "a =\"20250528ABCDE\" #13개의 글자의 목록\n",
    "a[1] #숫자 자리수 > 인덱스"
   ]
  },
  {
   "cell_type": "code",
   "execution_count": 186,
   "id": "49f097e7-8544-4382-9ee7-27f60736ffbc",
   "metadata": {},
   "outputs": [
    {
     "data": {
      "text/plain": [
       "'5'"
      ]
     },
     "execution_count": 186,
     "metadata": {},
     "output_type": "execute_result"
    }
   ],
   "source": [
    "a[3]"
   ]
  },
  {
   "cell_type": "code",
   "execution_count": 187,
   "id": "0dcbc6e4-32ef-459d-9fc0-43d30c0ae9de",
   "metadata": {},
   "outputs": [
    {
     "data": {
      "text/plain": [
       "'2025'"
      ]
     },
     "execution_count": 187,
     "metadata": {},
     "output_type": "execute_result"
    }
   ],
   "source": [
    "a[0:4] #4개 가져와!~! #슬라이싱 slice"
   ]
  },
  {
   "cell_type": "code",
   "execution_count": 188,
   "id": "9c898441-ea83-437c-b661-5935f2344698",
   "metadata": {},
   "outputs": [
    {
     "data": {
      "text/plain": [
       "'0528'"
      ]
     },
     "execution_count": 188,
     "metadata": {},
     "output_type": "execute_result"
    }
   ],
   "source": [
    "a[4:8]"
   ]
  },
  {
   "cell_type": "code",
   "execution_count": 189,
   "id": "0ee3d4e9-ec40-4b31-a24d-f8281dd9a4da",
   "metadata": {},
   "outputs": [
    {
     "data": {
      "text/plain": [
       "'2025'"
      ]
     },
     "execution_count": 189,
     "metadata": {},
     "output_type": "execute_result"
    }
   ],
   "source": [
    "a[:4]"
   ]
  },
  {
   "cell_type": "code",
   "execution_count": 191,
   "id": "c0492b12-6369-4c4a-9bc4-6d64db53b970",
   "metadata": {},
   "outputs": [
    {
     "data": {
      "text/plain": [
       "'BCDE'"
      ]
     },
     "execution_count": 191,
     "metadata": {},
     "output_type": "execute_result"
    }
   ],
   "source": [
    "a[-4:]"
   ]
  },
  {
   "cell_type": "code",
   "execution_count": 192,
   "id": "8a178133-5dbe-4ac5-8595-3d713868b5a8",
   "metadata": {},
   "outputs": [
    {
     "data": {
      "text/plain": [
       "'E'"
      ]
     },
     "execution_count": 192,
     "metadata": {},
     "output_type": "execute_result"
    }
   ],
   "source": [
    "a[-1:]"
   ]
  },
  {
   "cell_type": "code",
   "execution_count": 196,
   "id": "351474a2-87fa-45a3-abd8-5d874713d8d8",
   "metadata": {},
   "outputs": [
    {
     "data": {
      "text/plain": [
       "True"
      ]
     },
     "execution_count": 196,
     "metadata": {},
     "output_type": "execute_result"
    }
   ],
   "source": [
    "s = \"abc\"\n",
    "a =s\n",
    "a is s"
   ]
  },
  {
   "cell_type": "code",
   "execution_count": 204,
   "id": "d5188bd2-81e5-42dc-bd51-02da88cb013d",
   "metadata": {},
   "outputs": [
    {
     "data": {
      "text/plain": [
       "True"
      ]
     },
     "execution_count": 204,
     "metadata": {},
     "output_type": "execute_result"
    }
   ],
   "source": [
    "b = s[:] #전체 가져와\n",
    "a is b "
   ]
  },
  {
   "cell_type": "markdown",
   "id": "5e3fadbb-f74d-4046-a86c-dc4d61eaa76a",
   "metadata": {},
   "source": [
    "`'''' docstring    \n",
    "start \\n   \n",
    "end \\n   \n",
    "'''    \n",
    "'    \n",
    "     \n",
    "\"\"\" \"\"\"   "
   ]
  },
  {
   "cell_type": "code",
   "execution_count": 50,
   "id": "c5d3e40d-03a7-47df-b8b1-32f907432771",
   "metadata": {},
   "outputs": [
    {
     "data": {
      "text/plain": [
       "'docstring\\nstart\\nend\\n'"
      ]
     },
     "execution_count": 50,
     "metadata": {},
     "output_type": "execute_result"
    }
   ],
   "source": [
    "doc_string = \"\"\"docstring\n",
    "start\n",
    "end\n",
    "\"\"\"\n",
    "doc_string\n",
    "# print(doc_string)  #docstring도 문자열이다 .!."
   ]
  },
  {
   "cell_type": "code",
   "execution_count": 32,
   "id": "a1bd97ba-951b-48cc-9837-d64b949824e3",
   "metadata": {},
   "outputs": [
    {
     "data": {
      "text/plain": [
       "str"
      ]
     },
     "execution_count": 32,
     "metadata": {},
     "output_type": "execute_result"
    }
   ],
   "source": [
    "type(text)"
   ]
  },
  {
   "cell_type": "markdown",
   "id": "a46254ec-8eaa-437b-9763-93ae957d57fe",
   "metadata": {},
   "source": [
    "# str 의 함수 < = 메서드\n",
    "dir() # 뭐 있는지 확인하는 함수"
   ]
  },
  {
   "cell_type": "code",
   "execution_count": 6,
   "id": "d2cc492f-8b7b-499b-888c-dab2662d648f",
   "metadata": {},
   "outputs": [
    {
     "data": {
      "text/plain": [
       "'파이썬안녕'"
      ]
     },
     "execution_count": 6,
     "metadata": {},
     "output_type": "execute_result"
    }
   ],
   "source": [
    "text.__add__(\"안녕\")"
   ]
  },
  {
   "cell_type": "code",
   "execution_count": 8,
   "id": "0576965d-41cd-4d95-8f4b-a168aaf328e0",
   "metadata": {},
   "outputs": [
    {
     "data": {
      "text/plain": [
       "1"
      ]
     },
     "execution_count": 8,
     "metadata": {},
     "output_type": "execute_result"
    }
   ],
   "source": [
    "text.count(\"파\")"
   ]
  },
  {
   "cell_type": "code",
   "execution_count": 33,
   "id": "50b3b82d-0229-45de-9090-06aa1574afb2",
   "metadata": {},
   "outputs": [],
   "source": [
    "# dir(text)"
   ]
  },
  {
   "cell_type": "code",
   "execution_count": 20,
   "id": "007bccae-05f7-4e58-b466-87ccfd3ffe4f",
   "metadata": {},
   "outputs": [
    {
     "name": "stdout",
     "output_type": "stream",
     "text": [
      "나는 \"escape문자\"라고 말했어\n"
     ]
    }
   ],
   "source": [
    "print(\"나는 \\\"escape문자\\\"라고 말했어\") # \\사용하면 뒤에 문자라고 알려주는 것"
   ]
  },
  {
   "cell_type": "markdown",
   "id": "7479d21a-40a8-43c0-9378-69e23f714ee0",
   "metadata": {},
   "source": [
    "# R STRING\n",
    "\n",
    "r \"12\\4\""
   ]
  },
  {
   "cell_type": "code",
   "execution_count": null,
   "id": "071009c4-8155-4735-87b6-e6710166e8ed",
   "metadata": {},
   "outputs": [],
   "source": [
    "r\"12\\4\"\n"
   ]
  },
  {
   "cell_type": "code",
   "execution_count": 42,
   "id": "82fcbec4-6d76-438e-bd08-61925f1ee897",
   "metadata": {},
   "outputs": [
    {
     "name": "stdout",
     "output_type": "stream",
     "text": [
      "hellow\\nworld\n"
     ]
    }
   ],
   "source": [
    "raw_str_1 =r\"hellow\\nworld\"\n",
    "print(raw_str_1)"
   ]
  },
  {
   "cell_type": "markdown",
   "id": "503d8d42-0949-407a-9682-61d11b75a4b6",
   "metadata": {},
   "source": [
    "# F STRING\n",
    "\n",
    "f\"{수식}문자열이에요{변수}\""
   ]
  },
  {
   "cell_type": "code",
   "execution_count": 44,
   "id": "c26e46a0-32df-4e0d-8fcd-298f9a2a8201",
   "metadata": {},
   "outputs": [
    {
     "name": "stdout",
     "output_type": "stream",
     "text": [
      "제 이름은 seungwon 내 나이는 25 입니다\n"
     ]
    }
   ],
   "source": [
    "name =\"seungwon\"\n",
    "age = 25\n",
    "\n",
    "print(\"제 이름은\", name, \"내 나이는\", age, \"입니다\")"
   ]
  },
  {
   "cell_type": "code",
   "execution_count": 45,
   "id": "318db0be-c48b-4c21-bf0f-67282598c218",
   "metadata": {},
   "outputs": [
    {
     "data": {
      "text/plain": [
       "'제 이름은 seungwon 내 나이는 25 입니다.'"
      ]
     },
     "execution_count": 45,
     "metadata": {},
     "output_type": "execute_result"
    }
   ],
   "source": [
    "f_str_1 = f\"제 이름은 {name} 내 나이는 {age} 입니다.\"\n",
    "f_str_1"
   ]
  },
  {
   "cell_type": "raw",
   "id": "99311616-af2b-48dc-94d4-516315989256",
   "metadata": {},
   "source": [
    "Type\n",
    "b"
   ]
  },
  {
   "cell_type": "markdown",
   "id": "867aae08-e9f1-438f-8ebc-fa903d52dd10",
   "metadata": {},
   "source": [
    "Type"
   ]
  },
  {
   "cell_type": "code",
   "execution_count": 37,
   "id": "9470182e-5f21-45da-95a3-a18d95033a8d",
   "metadata": {},
   "outputs": [],
   "source": [
    "b = 2\n",
    "c = '3'\n",
    "b + c #typeError "
   ]
  },
  {
   "cell_type": "code",
   "execution_count": 39,
   "id": "8cd73a36-5e9d-4937-a145-bfef8bb8fd37",
   "metadata": {},
   "outputs": [
    {
     "data": {
      "text/plain": [
       "5"
      ]
     },
     "execution_count": 39,
     "metadata": {},
     "output_type": "execute_result"
    }
   ],
   "source": [
    "int(c)\n",
    "b+ int(c)"
   ]
  },
  {
   "cell_type": "code",
   "execution_count": 41,
   "id": "3f9f97ca-ee65-40fd-affa-7a08d29fd2cd",
   "metadata": {},
   "outputs": [
    {
     "data": {
      "text/plain": [
       "5"
      ]
     },
     "execution_count": 41,
     "metadata": {},
     "output_type": "execute_result"
    }
   ],
   "source": [
    "c = \"3a\"\n",
    "# b + int(c) #ValueERROR\n",
    "b + int(c[:1])"
   ]
  },
  {
   "cell_type": "markdown",
   "id": "92982ed9-d0f3-49b2-a4b4-c10695a5c190",
   "metadata": {},
   "source": [
    "# 이름과 자기소개를 입력받아서 출력하는 프로그램 작성"
   ]
  },
  {
   "cell_type": "code",
   "execution_count": 47,
   "id": "7f235c82-f217-4cc0-9efe-04889de3e5ae",
   "metadata": {},
   "outputs": [
    {
     "name": "stdin",
     "output_type": "stream",
     "text": [
      "이름을 입력하세요 장승원\n",
      "나이를 입력하세요 27살\n"
     ]
    },
    {
     "name": "stdout",
     "output_type": "stream",
     "text": [
      "제 이름은 장승원이고 나이는 27살입니다.\n"
     ]
    }
   ],
   "source": [
    "name = input(\"이름을 입력하세요\")\n",
    "age = input(\"나이를 입력하세요\")\n",
    "\n",
    "intro = f\"제 이름은 {name}이고 나이는 {age}입니다.\"\n",
    "print(intro)"
   ]
  },
  {
   "cell_type": "markdown",
   "id": "da0b9827-89bd-4265-8b9f-ecb35f846b00",
   "metadata": {},
   "source": [
    "# 문자열.format string"
   ]
  },
  {
   "cell_type": "code",
   "execution_count": 56,
   "id": "4976be0a-cae5-4da9-a7db-16e78f635d7b",
   "metadata": {},
   "outputs": [
    {
     "data": {
      "text/plain": [
       "' 99.990000 dollors are worth US$ 100'"
      ]
     },
     "execution_count": 56,
     "metadata": {},
     "output_type": "execute_result"
    }
   ],
   "source": [
    "#dir(f_str_1)\n",
    "format_str = \" {0:4f} {1:s} are worth US$ {2:d}\" #template\n",
    "format_str.format(99.99,\"dollors\", 100)"
   ]
  },
  {
   "cell_type": "code",
   "execution_count": 61,
   "id": "16bd7aad-5fb3-4c88-8043-ef98ba4e89e5",
   "metadata": {},
   "outputs": [
    {
     "name": "stdin",
     "output_type": "stream",
     "text": [
      "주문할 메뉴를 입력하세요 치즈버거\n",
      "한 개 가격이 얼마인가요 2000\n",
      "몇 개나 주문하세요 2\n"
     ]
    },
    {
     "name": "stdout",
     "output_type": "stream",
     "text": [
      "치즈버거메뉴의 2개 가격은 총 4000원 입니다\n"
     ]
    }
   ],
   "source": [
    "menu = input(\"주문할 메뉴를 입력하세요\")\n",
    "price = input(\"한 개 가격이 얼마인가요\")\n",
    "count = input(\"몇 개나 주문하세요\")\n",
    "\n",
    "total = int(price)*int(count)\n",
    "msg = \"{}메뉴의 {}개 가격은 총 {}원 입니다\"\n",
    "print(msg.format(menu, count,total))"
   ]
  },
  {
   "cell_type": "code",
   "execution_count": 75,
   "id": "9062359a-06c2-4273-bdb3-b65842a46129",
   "metadata": {},
   "outputs": [
    {
     "name": "stdin",
     "output_type": "stream",
     "text": [
      "주문할 메뉴를 입력하세요 치즈버거\n",
      "한 개 가격이 얼마인가요 3000\n",
      "몇 개나 주문하세요 3\n"
     ]
    },
    {
     "name": "stdout",
     "output_type": "stream",
     "text": [
      "치즈버거메뉴의 3개 가격은 총 9000원 입니다\n"
     ]
    }
   ],
   "source": [
    "menu = input(\"주문할 메뉴를 입력하세요\")\n",
    "price = int(input(\"한 개 가격이 얼마인가요\"))\n",
    "count = int(input(\"몇 개나 주문하세요\"))\n",
    "\n",
    "total = price*count\n",
    "msg = \"{}메뉴의 {}개 가격은 총 {}원 입니다\"\n",
    "print(msg.format(menu, count,total))"
   ]
  },
  {
   "cell_type": "markdown",
   "id": "e8f1696c-d90d-456c-95c2-d76d7109fd7b",
   "metadata": {},
   "source": [
    "# 리스트"
   ]
  },
  {
   "cell_type": "code",
   "execution_count": 74,
   "id": "6d1fb822-869b-4ecf-a1c7-e1391b8ee768",
   "metadata": {},
   "outputs": [],
   "source": [
    "item = [\n",
    "    {\"name\": \"아메리카노\", \"price\": 3000, \"qty\": 2},\n",
    "    {\"name\": \"카페라떼\", \"price\": 4000, \"qty\": 1},\n",
    "    {\"name\": \"샌드위치\", \"price\": 5500, \"qty\": 3}\n",
    "] \n",
    "# {} : 딕셔너리  # [] : 리스트"
   ]
  },
  {
   "cell_type": "code",
   "execution_count": 115,
   "id": "06bfd2b5-a342-44c4-a1ef-d9e1397ba5c3",
   "metadata": {},
   "outputs": [
    {
     "name": "stdout",
     "output_type": "stream",
     "text": [
      "상품명               가격        수량        총액        \n",
      "--------------------------------------------------\n",
      "아메리카노          3,000원         2개     6,000원\n",
      "카페라떼           4,000원         1개     4,000원\n",
      "샌드위치           5,500원         3개    16,500원\n"
     ]
    }
   ],
   "source": [
    "item = [\n",
    "    {\"name\": \"아메리카노\", \"price\": 3000, \"qty\": 2},\n",
    "    {\"name\": \"카페라떼\", \"price\": 4000, \"qty\": 1},\n",
    "    {\"name\": \"샌드위치\", \"price\": 5500, \"qty\": 3}\n",
    "] \n",
    "header_str = \"{0:18}{1:10}{2:10}{3:10}\" #{인덱스:데이터길이}\n",
    "print(header_str.format(\"상품명\",\"가격\", \"수량\", \"총액\"))\n",
    "print(\"-\"*50)\n",
    "\n",
    "data_str = \"{0:10}{1:10,}원{2:10}개{3:10,}원\" \n",
    "\n",
    "for item in item:\n",
    "    item_name = item[\"name\"]\n",
    "    item_price = item[\"price\"]\n",
    "    item_qty = item[\"qty\"]\n",
    "    total_price = item_price * item_qty\n",
    "    print(data_str.format(item_name,item_price,item_qty,total_price))\n",
    "\n",
    "    ##데이터와 헤더를 나눠서 데이터를 따로 조작할 수 있게 나눴다."
   ]
  },
  {
   "cell_type": "markdown",
   "id": "e336c656-b542-4890-ba29-4482d5078427",
   "metadata": {},
   "source": [
    "# 많이 사용하는 문자열의 method 함수\n",
    "\n",
    "\n",
    "| 함수                  | 설명                  | 예시                                        |\n",
    "| ------------------- | ------------------- | ----------------------------------------- |\n",
    "| `lower()`           | 모두 소문자로 변환          | `\"Python\".lower()` → `\"python\"`           |\n",
    "| `upper()`           | 모두 대문자로 변환          | `\"python\".upper()` → `\"PYTHON\"`           |\n",
    "| `capitalize()`      | 첫 글자만 대문자           | `\"hello\".capitalize()` → `\"Hello\"`        |\n",
    "| `title()`           | 각 단어의 첫 글자 대문자      | `\"hello world\".title()` → `\"Hello World\"` |\n",
    "| `strip()`           | 앞뒤 공백 제거            | `\" hello \".strip()` → `\"hello\"`           |\n",
    "| `lstrip()`          | 왼쪽 공백 제거            | `\" hello\".lstrip()`                       |\n",
    "| `rstrip()`          | 오른쪽 공백 제거           | `\"hello \".rstrip()`                       |\n",
    "| `replace(old, new)` | 문자열 바꾸기             | `\"hello\".replace(\"l\", \"x\")` → `\"hexxo\"`   |\n",
    "| `split()`           | 문자열 나누기 (기본: 공백)    | `\"a b c\".split()` → `['a', 'b', 'c']`     |\n",
    "| `join(list)`        | 리스트를 문자열로 결합        | `\" \".join(['a', 'b'])` → `\"a b\"`          |\n",
    "| `find(sub)`         | 처음 등장하는 위치 (없으면 -1) | `\"apple\".find(\"p\")` → `1`                 |\n",
    "| `index(sub)`        | 처음 등장하는 위치 (없으면 오류) | `\"apple\".index(\"p\")` → `1`                |\n",
    "| `count(sub)`        | 부분 문자열 개수           | `\"banana\".count(\"a\")` → `3`               |\n",
    "| `startswith(sub)`   | 해당 문자열로 시작?         | `\"python\".startswith(\"py\")` → `True`      |\n",
    "| `endswith(sub)`     | 해당 문자열로 끝남?         | `\"python\".endswith(\"on\")` → `True`        |\n",
    "| `isalnum()`         | 영문자+숫자인가?           | `\"abc123\".isalnum()` → `True`             |\n",
    "| `isalpha()`         | 영문자만인가?             | `\"abc\".isalpha()` → `True`                |\n",
    "| `isdigit()`         | 숫자만인가?              | `\"123\".isdigit()` → `True`                |\n",
    "| `isspace()`         | 공백문자만 있는가?          | `\" \\t\\n\".isspace()` → `True`              |"
   ]
  },
  {
   "cell_type": "code",
   "execution_count": 127,
   "id": "9cf838f0-81c3-45be-a9a4-e3a8b154b036",
   "metadata": {},
   "outputs": [
    {
     "data": {
      "text/plain": [
       "('jang seung won', 'JANG SEUNG WON', 'Jang seung won', 'Jang Seung Won')"
      ]
     },
     "execution_count": 127,
     "metadata": {},
     "output_type": "execute_result"
    }
   ],
   "source": [
    "text = \"jang seung won\"\n",
    "text.lower(), text.upper(), text.capitalize(), text.title()"
   ]
  },
  {
   "cell_type": "code",
   "execution_count": 118,
   "id": "d4c55b48-49bf-4fdd-bf4a-8eaa21b1829d",
   "metadata": {},
   "outputs": [
    {
     "data": {
      "text/plain": [
       "('jang', 'jang ', ' jang')"
      ]
     },
     "execution_count": 118,
     "metadata": {},
     "output_type": "execute_result"
    }
   ],
   "source": [
    "text2 = \" jang \"\n",
    "text2.strip(), text2.lstrip(), text2.rstrip() # strip는 양쪽 공백을, l은 왼, r은 좌 공백을 없어진다."
   ]
  },
  {
   "cell_type": "code",
   "execution_count": 129,
   "id": "c392ee44-ce16-4938-a93f-2fa96970231c",
   "metadata": {},
   "outputs": [
    {
     "data": {
      "text/plain": [
       "('jaXg seuXg woX', ['jang', 'seung', 'won'], ['ja', 'g seu', 'g wo', ''])"
      ]
     },
     "execution_count": 129,
     "metadata": {},
     "output_type": "execute_result"
    }
   ],
   "source": [
    "text.replace(\"n\", \"X\"), text.split(), text.split(\"n\") # n을 기준으로 나눈다 기준이 된 글자는 없어진다."
   ]
  },
  {
   "cell_type": "code",
   "execution_count": null,
   "id": "e25ecb80-6e84-4564-927d-777cf3254530",
   "metadata": {},
   "outputs": [],
   "source": []
  },
  {
   "cell_type": "markdown",
   "id": "d87b7859-d25e-439a-90ee-5febc8b025db",
   "metadata": {},
   "source": [
    "# 복합자료 리스트   \n",
    "\n",
    "여러개의 값을 묶어서 하나의 변수로 다루는 자료형   \n",
    "\n",
    "생성법   \n",
    "1. [] 대괄호를 사용\n",
    "2. 데이터는 , 쉼표로 구분\n",
    "3. [] 빈 대괄호는 초기화\n",
    "4. 숫자, 문자, 부울, 리스트 같은 객체 모두 담을 수 있다\n",
    "5. 숫자 index를 가진다. (0 시작)\n",
    "6. 음수 인덱스도 꺼낼 수 있다."
   ]
  },
  {
   "cell_type": "code",
   "execution_count": 1,
   "id": "c09299ad-83f8-4008-865f-335851af3056",
   "metadata": {},
   "outputs": [
    {
     "data": {
      "text/plain": [
       "30"
      ]
     },
     "execution_count": 1,
     "metadata": {},
     "output_type": "execute_result"
    }
   ],
   "source": [
    "score = [30, 50, 60, 80, 100]\n",
    "score[0] #첫번째 학생 점수"
   ]
  },
  {
   "cell_type": "code",
   "execution_count": 2,
   "id": "ea15a552-8886-453d-a435-300fb243b274",
   "metadata": {},
   "outputs": [
    {
     "data": {
      "text/plain": [
       "(list, int)"
      ]
     },
     "execution_count": 2,
     "metadata": {},
     "output_type": "execute_result"
    }
   ],
   "source": [
    "type(score), type(score[0])  #리스트 안에 들어이는 건 int, score은 list"
   ]
  },
  {
   "cell_type": "code",
   "execution_count": 3,
   "id": "780c9f5b-cb4e-4b78-828d-f33334f2b14e",
   "metadata": {
    "collapsed": true,
    "jupyter": {
     "outputs_hidden": true
    }
   },
   "outputs": [
    {
     "data": {
      "text/plain": [
       "['__add__',\n",
       " '__class__',\n",
       " '__class_getitem__',\n",
       " '__contains__',\n",
       " '__delattr__',\n",
       " '__delitem__',\n",
       " '__dir__',\n",
       " '__doc__',\n",
       " '__eq__',\n",
       " '__format__',\n",
       " '__ge__',\n",
       " '__getattribute__',\n",
       " '__getitem__',\n",
       " '__getstate__',\n",
       " '__gt__',\n",
       " '__hash__',\n",
       " '__iadd__',\n",
       " '__imul__',\n",
       " '__init__',\n",
       " '__init_subclass__',\n",
       " '__iter__',\n",
       " '__le__',\n",
       " '__len__',\n",
       " '__lt__',\n",
       " '__mul__',\n",
       " '__ne__',\n",
       " '__new__',\n",
       " '__reduce__',\n",
       " '__reduce_ex__',\n",
       " '__repr__',\n",
       " '__reversed__',\n",
       " '__rmul__',\n",
       " '__setattr__',\n",
       " '__setitem__',\n",
       " '__sizeof__',\n",
       " '__str__',\n",
       " '__subclasshook__',\n",
       " 'append',\n",
       " 'clear',\n",
       " 'copy',\n",
       " 'count',\n",
       " 'extend',\n",
       " 'index',\n",
       " 'insert',\n",
       " 'pop',\n",
       " 'remove',\n",
       " 'reverse',\n",
       " 'sort']"
      ]
     },
     "execution_count": 3,
     "metadata": {},
     "output_type": "execute_result"
    }
   ],
   "source": [
    "dir(list)"
   ]
  },
  {
   "cell_type": "code",
   "execution_count": 6,
   "id": "9e9610db-cd8c-41d5-ab73-595136858dea",
   "metadata": {},
   "outputs": [
    {
     "data": {
      "text/plain": [
       "[]"
      ]
     },
     "execution_count": 6,
     "metadata": {},
     "output_type": "execute_result"
    }
   ],
   "source": [
    "list() # list 생성자"
   ]
  },
  {
   "cell_type": "code",
   "execution_count": 21,
   "id": "038f37b2-e754-4873-bc78-90f0830affb0",
   "metadata": {},
   "outputs": [],
   "source": [
    "ra = range(2,20,2)"
   ]
  },
  {
   "cell_type": "code",
   "execution_count": 22,
   "id": "a447d2b4-cf1e-4bb4-93f1-6482bc4a8fea",
   "metadata": {},
   "outputs": [],
   "source": [
    "num_list = list(ra)"
   ]
  },
  {
   "cell_type": "code",
   "execution_count": 23,
   "id": "6618b301-94a2-4fa5-818c-46793513751d",
   "metadata": {},
   "outputs": [
    {
     "data": {
      "text/plain": [
       "[2, 4, 6, 8, 10, 12, 14, 16, 18]"
      ]
     },
     "execution_count": 23,
     "metadata": {},
     "output_type": "execute_result"
    }
   ],
   "source": [
    "num_list"
   ]
  },
  {
   "cell_type": "code",
   "execution_count": 25,
   "id": "7fc2e517-abe4-49bb-9783-eb63d8cd85c2",
   "metadata": {},
   "outputs": [
    {
     "data": {
      "text/plain": [
       "18"
      ]
     },
     "execution_count": 25,
     "metadata": {},
     "output_type": "execute_result"
    }
   ],
   "source": [
    "num_list[-1] # 리스트에 제일 마지막 "
   ]
  },
  {
   "cell_type": "code",
   "execution_count": 26,
   "id": "9c1ec635-6cb5-46a0-b14f-d1d89d15aa37",
   "metadata": {},
   "outputs": [
    {
     "data": {
      "text/plain": [
       "9"
      ]
     },
     "execution_count": 26,
     "metadata": {},
     "output_type": "execute_result"
    }
   ],
   "source": [
    "ra.__len__() "
   ]
  },
  {
   "cell_type": "markdown",
   "id": "4b52e6e3-9f88-4585-8ee3-7f2f69d6d61c",
   "metadata": {},
   "source": [
    "range(), list() <== function(함수),  ra.__len__() <== Method(메서드)"
   ]
  },
  {
   "cell_type": "markdown",
   "id": "afd5f19f-72a8-4b5d-bb8f-bd99d1f02cf4",
   "metadata": {},
   "source": [
    "method 와 function   \n",
    "\n",
    "1. method : 객체의 한해서 동작하는 함수 => 객체명.함수()\n",
    "2. function : 함수( 매개변수) => 매개변수로 동작하는 함수\n",
    "\n",
    "   dir() > function\n",
    "   list_obj.len() > method"
   ]
  },
  {
   "cell_type": "code",
   "execution_count": 39,
   "id": "8fd68bde-1f05-4f7b-930b-72e2772b5c32",
   "metadata": {},
   "outputs": [
    {
     "ename": "TypeError",
     "evalue": "'str' object does not support item assignment",
     "output_type": "error",
     "traceback": [
      "\u001b[31m---------------------------------------------------------------------------\u001b[39m",
      "\u001b[31mTypeError\u001b[39m                                 Traceback (most recent call last)",
      "\u001b[36mCell\u001b[39m\u001b[36m \u001b[39m\u001b[32mIn[39]\u001b[39m\u001b[32m, line 2\u001b[39m\n\u001b[32m      1\u001b[39m str_1 = \u001b[33m\"\u001b[39m\u001b[33mhello\u001b[39m\u001b[33m\"\u001b[39m\n\u001b[32m----> \u001b[39m\u001b[32m2\u001b[39m str_1[\u001b[32m0\u001b[39m] = \u001b[33m\"\u001b[39m\u001b[33mH\u001b[39m\u001b[33m\"\u001b[39m\n",
      "\u001b[31mTypeError\u001b[39m: 'str' object does not support item assignment"
     ]
    }
   ],
   "source": [
    "str_1 = \"hello\" # 문자열\n",
    "str_1[0] = \"H\" #Type ERROR --> str IMMUTABLE 문자열 고치기 불가능"
   ]
  },
  {
   "cell_type": "code",
   "execution_count": 43,
   "id": "9a7ca401-2be5-4400-bd26-37616f77ead7",
   "metadata": {},
   "outputs": [],
   "source": [
    "str_2 = list(str_1) # 문자열 리스트 \\\\ 문자열 > 문자열리스트"
   ]
  },
  {
   "cell_type": "code",
   "execution_count": 44,
   "id": "acf212d1-07d1-4d2c-8410-a22dd483b7ac",
   "metadata": {},
   "outputs": [
    {
     "data": {
      "text/plain": [
       "['H', 'e', 'l', 'l', 'o']"
      ]
     },
     "execution_count": 44,
     "metadata": {},
     "output_type": "execute_result"
    }
   ],
   "source": [
    "str_2[0] = \"H\" #문자열 리스트는 고치기 가능\n",
    "str_2"
   ]
  },
  {
   "cell_type": "code",
   "execution_count": 47,
   "id": "7c24a8d5-10a1-4aae-82f9-6a88b58f70fc",
   "metadata": {},
   "outputs": [
    {
     "data": {
      "text/plain": [
       "str"
      ]
     },
     "execution_count": 47,
     "metadata": {},
     "output_type": "execute_result"
    }
   ],
   "source": [
    "str_3 = str(str_2)\n",
    "type(str_3)"
   ]
  },
  {
   "cell_type": "code",
   "execution_count": 50,
   "id": "3e9c5ae4-6ead-4b70-ad3c-be26f91de415",
   "metadata": {},
   "outputs": [
    {
     "data": {
      "text/plain": [
       "[['aaa', 'bbb', 'ccc'], [1, 2, 'aaa', 'bbb']]"
      ]
     },
     "execution_count": 50,
     "metadata": {},
     "output_type": "execute_result"
    }
   ],
   "source": [
    "#리스트의 생성\n",
    "\n",
    "a = list()\n",
    "a = []\n",
    "b = [1,2,3,4,5]\n",
    "c = [\"aaa\", \"bbb\", \"ccc\"]\n",
    "d = [1,2,\"aaa\",\"bbb\"]\n",
    "e = [c, d]\n",
    "e"
   ]
  },
  {
   "cell_type": "code",
   "execution_count": 53,
   "id": "db0fa6a2-21e4-4671-87d0-36dcb0983890",
   "metadata": {},
   "outputs": [
    {
     "data": {
      "text/plain": [
       "(['aaa', 'bbb', 'ccc'], list)"
      ]
     },
     "execution_count": 53,
     "metadata": {},
     "output_type": "execute_result"
    }
   ],
   "source": [
    "e[0], type(e[0])"
   ]
  },
  {
   "cell_type": "code",
   "execution_count": 54,
   "id": "9a7d646c-0b60-43ef-bca2-c4363ee78e6f",
   "metadata": {},
   "outputs": [
    {
     "data": {
      "text/plain": [
       "([1, 2, 'aaa', 'bbb'], [1, 2, 'aaa', 'bbb'])"
      ]
     },
     "execution_count": 54,
     "metadata": {},
     "output_type": "execute_result"
    }
   ],
   "source": [
    "e[1], e[-1]"
   ]
  },
  {
   "cell_type": "code",
   "execution_count": 58,
   "id": "35f28a46-e78b-4a48-b47a-bb297c45e2c3",
   "metadata": {},
   "outputs": [
    {
     "data": {
      "text/plain": [
       "('aaa', 'bbb')"
      ]
     },
     "execution_count": 58,
     "metadata": {},
     "output_type": "execute_result"
    }
   ],
   "source": [
    "e[1][2], e[1][3]"
   ]
  },
  {
   "cell_type": "code",
   "execution_count": 62,
   "id": "ec0fa0cf-ac96-4c82-a130-6217fac10916",
   "metadata": {},
   "outputs": [
    {
     "data": {
      "text/plain": [
       "('bbb', 'bbb')"
      ]
     },
     "execution_count": 62,
     "metadata": {},
     "output_type": "execute_result"
    }
   ],
   "source": [
    "e[-1][3], e[1][3]"
   ]
  },
  {
   "cell_type": "code",
   "execution_count": 63,
   "id": "c4881875-77d3-49fe-a634-e5b11606a93f",
   "metadata": {},
   "outputs": [
    {
     "data": {
      "text/plain": [
       "[[1, 2], [3, 4]]"
      ]
     },
     "execution_count": 63,
     "metadata": {},
     "output_type": "execute_result"
    }
   ],
   "source": [
    "score = [[1,2], [3,4]]\n",
    "score"
   ]
  },
  {
   "cell_type": "markdown",
   "id": "94b55aef-a0ab-4104-8461-42b642bc6848",
   "metadata": {},
   "source": [
    "# 복사\n",
    "1. 얕은 복사 shallow copy \n",
    "2. 깊은 복사 deep copy"
   ]
  },
  {
   "cell_type": "code",
   "execution_count": 70,
   "id": "140aefca-cefd-46c8-9842-0cf2c304a3dc",
   "metadata": {},
   "outputs": [
    {
     "data": {
      "text/plain": [
       "[[100, 2], [3, 4]]"
      ]
     },
     "execution_count": 70,
     "metadata": {},
     "output_type": "execute_result"
    }
   ],
   "source": [
    "new_score = score[:] #score에 있는 모든 데이터를 새로 만들어서 줘 \n",
    "new_score[0][0] = 100\n",
    "new_score"
   ]
  },
  {
   "cell_type": "code",
   "execution_count": 71,
   "id": "766efacc-bbaf-4868-9b23-31dc9e595f94",
   "metadata": {},
   "outputs": [
    {
     "data": {
      "text/plain": [
       "[[100, 2], [3, 4]]"
      ]
     },
     "execution_count": 71,
     "metadata": {},
     "output_type": "execute_result"
    }
   ],
   "source": [
    "score # score에서 갖고와서 new_score을 만들고 바꿨는데 score도 바꼈네. \n",
    "#얕은 카피"
   ]
  },
  {
   "cell_type": "code",
   "execution_count": 72,
   "id": "221b3513-04a9-455a-a998-3b18ed0ed2a1",
   "metadata": {},
   "outputs": [
    {
     "data": {
      "text/plain": [
       "[[100, 93], [3, 4]]"
      ]
     },
     "execution_count": 72,
     "metadata": {},
     "output_type": "execute_result"
    }
   ],
   "source": [
    "# 얕은 복사 SHALLOW COPY\n",
    "import copy\n",
    "copied = copy.copy(score)\n",
    "copied[0][1] = 93\n",
    "copied"
   ]
  },
  {
   "cell_type": "code",
   "execution_count": 73,
   "id": "02f77fb4-15a5-4613-b81e-c4aa40f1ad97",
   "metadata": {},
   "outputs": [
    {
     "data": {
      "text/plain": [
       "[[100, 93], [3, 4]]"
      ]
     },
     "execution_count": 73,
     "metadata": {},
     "output_type": "execute_result"
    }
   ],
   "source": [
    "score"
   ]
  },
  {
   "cell_type": "code",
   "execution_count": 74,
   "id": "3713b02c-bff6-4870-9ffc-5303778851a8",
   "metadata": {},
   "outputs": [
    {
     "data": {
      "text/plain": [
       "([[100, 93], [100, 4]], [[100, 93], [3, 4]])"
      ]
     },
     "execution_count": 74,
     "metadata": {},
     "output_type": "execute_result"
    }
   ],
   "source": [
    "# 깊은 복사 DEEP COPY\n",
    "import copy\n",
    "deepcopied = copy.deepcopy(score)\n",
    "deepcopied[1][0] = 100\n",
    "deepcopied, copied"
   ]
  },
  {
   "cell_type": "markdown",
   "id": "b810fae6-fb84-4670-86f5-59576f7fc384",
   "metadata": {},
   "source": [
    "# 리스트의 연산   \n",
    "\n",
    "- '+'__add__()\n",
    "- '*'__mul__()\n",
    "- del list[항목]\n",
    "- in list -> True/False"
   ]
  },
  {
   "cell_type": "code",
   "execution_count": 99,
   "id": "b38d248c-51f2-49b7-86d0-fd7e43b8db42",
   "metadata": {},
   "outputs": [
    {
     "data": {
      "text/plain": [
       "['해물라면', '샐러드', '떡볶이', '오므라이스', '볶음밥', '떡볶이', '제육', '주먹밥']"
      ]
     },
     "execution_count": 99,
     "metadata": {},
     "output_type": "execute_result"
    }
   ],
   "source": [
    "lunch1=['해물라면','샐러드','떡볶이']\n",
    "lunch2=['오므라이스','볶음밥','떡볶이','제육','주먹밥']\n",
    "lunch1 + lunch2"
   ]
  },
  {
   "cell_type": "code",
   "execution_count": 100,
   "id": "4389a2fb-835e-4d1b-ac92-bc55301f79b7",
   "metadata": {},
   "outputs": [
    {
     "data": {
      "text/plain": [
       "['해물라면', '샐러드', '떡볶이', '해물라면', '샐러드', '떡볶이']"
      ]
     },
     "execution_count": 100,
     "metadata": {},
     "output_type": "execute_result"
    }
   ],
   "source": [
    "lunch1 * 2"
   ]
  },
  {
   "cell_type": "code",
   "execution_count": 101,
   "id": "1c607bcf-a8a6-4231-a750-bd89a1e87099",
   "metadata": {},
   "outputs": [],
   "source": [
    "del lunch1[2]"
   ]
  },
  {
   "cell_type": "code",
   "execution_count": 102,
   "id": "71db1594-700b-4a02-800f-8d948871ed5e",
   "metadata": {},
   "outputs": [
    {
     "data": {
      "text/plain": [
       "['해물라면', '샐러드']"
      ]
     },
     "execution_count": 102,
     "metadata": {},
     "output_type": "execute_result"
    }
   ],
   "source": [
    "lunch1"
   ]
  },
  {
   "cell_type": "code",
   "execution_count": 103,
   "id": "5209942e-6937-4451-841e-57ff14010004",
   "metadata": {},
   "outputs": [
    {
     "data": {
      "text/plain": [
       "['해물라면', '샐러드', '오므라이스', '볶음밥', '떡볶이', '제육', '주먹밥']"
      ]
     },
     "execution_count": 103,
     "metadata": {},
     "output_type": "execute_result"
    }
   ],
   "source": [
    "lunch1 + lunch2"
   ]
  },
  {
   "cell_type": "code",
   "execution_count": 104,
   "id": "d1d77851-a1de-446e-a429-59fe2f022727",
   "metadata": {},
   "outputs": [
    {
     "data": {
      "text/plain": [
       "['해물라면', '샐러드', '떡볶이', '오므라이스', '볶음밥', '제육', '주먹밥']"
      ]
     },
     "execution_count": 104,
     "metadata": {},
     "output_type": "execute_result"
    }
   ],
   "source": [
    "# lunch1과 lunch2를 합하고 '떡볶이' 1개를 제외하세요.\n",
    "lunch1=['해물라면','샐러드','떡볶이']\n",
    "lunch2=['오므라이스','볶음밥','떡볶이','제육','주먹밥']\n",
    "total = lunch1 + lunch2\n",
    "del total[5]\n",
    "total"
   ]
  },
  {
   "cell_type": "code",
   "execution_count": 105,
   "id": "863d30c1-702b-419c-a7dc-f6d54f2f6eba",
   "metadata": {},
   "outputs": [
    {
     "data": {
      "text/plain": [
       "True"
      ]
     },
     "execution_count": 105,
     "metadata": {},
     "output_type": "execute_result"
    }
   ],
   "source": [
    "'떡볶이' in total"
   ]
  },
  {
   "cell_type": "code",
   "execution_count": 124,
   "id": "49e84088-c107-44e3-9102-5217f93e2dc1",
   "metadata": {},
   "outputs": [
    {
     "name": "stdin",
     "output_type": "stream",
     "text": [
      "먹고 싶은 간식을 추가하세요. 단, 쉼표(,)로 연결하세요 아이스티\n"
     ]
    }
   ],
   "source": [
    "#간식박스 관리 프로그램\n",
    "snack_box = ['초콜릿','하리보','껌']\n",
    "new_snack = input(\"먹고 싶은 간식을 추가하세요. 단, 쉼표(,)로 연결하세요\").split(\",\")\n",
    "snack_box += new_snack"
   ]
  },
  {
   "cell_type": "code",
   "execution_count": 125,
   "id": "7d6eb4dd-ca0c-48c5-8bf2-eed7fce4f6e5",
   "metadata": {},
   "outputs": [
    {
     "data": {
      "text/plain": [
       "['초콜릿', '하리보', '껌', '아이스티']"
      ]
     },
     "execution_count": 125,
     "metadata": {},
     "output_type": "execute_result"
    }
   ],
   "source": [
    "snack_box"
   ]
  },
  {
   "cell_type": "code",
   "execution_count": 126,
   "id": "0dbabfee-2cdf-414b-8cb9-fc25abc53fc1",
   "metadata": {},
   "outputs": [
    {
     "name": "stdin",
     "output_type": "stream",
     "text": [
      "간식박스 몇 세트로 포장할까요? 2\n"
     ]
    }
   ],
   "source": [
    "#간식박스 관리 프로그램2\n",
    "qty= int(input(\"간식박스 몇 세트로 포장할까요?\"))"
   ]
  },
  {
   "cell_type": "code",
   "execution_count": 127,
   "id": "f103b266-7097-48e9-bd43-8d1a6506442d",
   "metadata": {},
   "outputs": [
    {
     "data": {
      "text/plain": [
       "['초콜릿', '하리보', '껌', '아이스티', '초콜릿', '하리보', '껌', '아이스티']"
      ]
     },
     "execution_count": 127,
     "metadata": {},
     "output_type": "execute_result"
    }
   ],
   "source": [
    "snack_box *= qty\n",
    "snack_box"
   ]
  },
  {
   "cell_type": "code",
   "execution_count": 118,
   "id": "7978066e-3913-4221-bf17-e1fdb8458376",
   "metadata": {},
   "outputs": [
    {
     "name": "stdout",
     "output_type": "stream",
     "text": [
      "주문하신 간식상자는 초콜릿,하리보,껌,아이스티티 등입니다. 확인해주세요\n"
     ]
    }
   ],
   "source": [
    "\n",
    "print(f\"주문하신 간식상자는 {snack_box[0]},{snack_box[1]},{snack_box[2]},{snack_box[3]} 등입니다. 확인해주세요\")"
   ]
  },
  {
   "cell_type": "code",
   "execution_count": 132,
   "id": "d5830785-440c-4c35-8c17-68d1850e6c02",
   "metadata": {},
   "outputs": [
    {
     "name": "stdin",
     "output_type": "stream",
     "text": [
      "혹시 빼고 싶은 간식이 있으면 번호를 입력하세요 (0~(len(snack_box)-1)) 3\n"
     ]
    }
   ],
   "source": [
    "#간식박스 관리 프로그램3\n",
    "msg = f\"혹시 빼고 싶은 간식이 있으면 번호를 입력하세요 (0~(len(snack_box)-1))\"\n",
    "snack_no = int(input(msg))"
   ]
  },
  {
   "cell_type": "code",
   "execution_count": 133,
   "id": "d1c8640d-7681-4691-9a7a-529f4d497d9f",
   "metadata": {},
   "outputs": [
    {
     "data": {
      "text/plain": [
       "['초콜릿', '하리보', '껌', '하리보', '껌', '아이스티']"
      ]
     },
     "execution_count": 133,
     "metadata": {},
     "output_type": "execute_result"
    }
   ],
   "source": [
    "del snack_box[snack_no]\n",
    "snack_box"
   ]
  },
  {
   "cell_type": "code",
   "execution_count": 150,
   "id": "3bdb6b21-98d0-4d89-a4a9-0d70f69f476a",
   "metadata": {},
   "outputs": [
    {
     "name": "stdin",
     "output_type": "stream",
     "text": [
      "찾고 싶은 간식 이름을 작성하세요 하리보\n"
     ]
    },
    {
     "name": "stdout",
     "output_type": "stream",
     "text": [
      "있어요\n"
     ]
    }
   ],
   "source": [
    "#간식박스 관리 프로그램 4\n",
    "# 찾고 싶은 간식이름을 입력하세요\n",
    "#있어요 OR 없어요 출력\n",
    "snack_box\n",
    "find = input(\"찾고 싶은 간식 이름을 작성하세요\")\n",
    "find in snack_box\n",
    "\n",
    "if find in snack_box:\n",
    "    print(\"있어요\")\n",
    "else:\n",
    "    print(\"없어요\")"
   ]
  },
  {
   "cell_type": "code",
   "execution_count": 151,
   "id": "3c9e1fb5-2f71-458a-b770-62c03559172e",
   "metadata": {},
   "outputs": [
    {
     "name": "stdin",
     "output_type": "stream",
     "text": [
      "찾고 싶은 간식 이름을 작성하세요 하리보\n"
     ]
    },
    {
     "name": "stdout",
     "output_type": "stream",
     "text": [
      "있어요\n"
     ]
    }
   ],
   "source": [
    "snack_name = input(\"찾고 싶은 간식 이름을 작성하세요\")\n",
    "if snack_name in snack_box :\n",
    "    print(\"있어요\")\n",
    "else:\n",
    "    print(\"없어요\")"
   ]
  },
  {
   "cell_type": "code",
   "execution_count": 154,
   "id": "c63c0ae6-585c-478b-b122-8f665bfc114d",
   "metadata": {},
   "outputs": [
    {
     "name": "stdout",
     "output_type": "stream",
     "text": [
      "주문하신 간식박스는 위에서부터 다음과 같습니다.\n",
      "['아이스티', '껌', '하리보', '껌', '하리보', '초콜릿'], 총 6개 입니다\n"
     ]
    }
   ],
   "source": [
    "#간식박스 관리 프로그램 5\n",
    "print(\"주문하신 간식박스는 위에서부터 다음과 같습니다.\")\n",
    "print(f\"{snack_box[::-1]}, 총 {len(snack_box)}개 입니다\") # 뒤에서부터 출력 snack_box[::-1]"
   ]
  },
  {
   "cell_type": "code",
   "execution_count": 163,
   "id": "77aece43-43a7-4d35-92e3-41264e286034",
   "metadata": {
    "jupyter": {
     "source_hidden": true
    }
   },
   "outputs": [
    {
     "data": {
      "text/plain": [
       "(51, 25)"
      ]
     },
     "execution_count": 163,
     "metadata": {},
     "output_type": "execute_result"
    }
   ],
   "source": [
    "### 긴 문장 ''' ''' 을 사용해서 넣는다.\n",
    "baby_shark = '''아기상어\n",
    "뚜루루뚜루\n",
    "귀여운\n",
    "뚜루루뚜루\n",
    "바닷속\n",
    "뚜루루뚜루\n",
    "아기상어!\n",
    "엄마상어\n",
    "뚜루루뚜루\n",
    "어여쁜\n",
    "뚜루루뚜루\n",
    "바닷속\n",
    "뚜루루뚜루\n",
    "엄마상어!\n",
    "아빠상어\n",
    "뚜루루뚜루\n",
    "힘이 센\n",
    "뚜루루뚜루\n",
    "바닷속\n",
    "뚜루루뚜루\n",
    "아빠상어!\n",
    "할머니상어\n",
    "뚜루루뚜루\n",
    "자상한\n",
    "뚜루루뚜루\n",
    "바닷속\n",
    "뚜루루뚜루\n",
    "할머니상어!\n",
    "할아버지상어\n",
    "뚜루루뚜루\n",
    "멋있는\n",
    "뚜루루뚜루\n",
    "바닷속\n",
    "뚜루루뚜루\n",
    "할아버지상어!\n",
    "우리는\n",
    "뚜루루뚜루\n",
    "바다의\n",
    "뚜루루뚜루\n",
    "사냥꾼\n",
    "뚜루루뚜루\n",
    "상어가족!\n",
    "상어다\n",
    "뚜루루뚜루\n",
    "도망쳐\n",
    "뚜루루뚜루\n",
    "도망쳐\n",
    "뚜루루뚜루\n",
    "숨자! 으악!\n",
    "한번 더!\n",
    "상어다\n",
    "뚜루루뚜루\n",
    "도망쳐\n",
    "뚜루루뚜루\n",
    "도망쳐\n",
    "뚜루루뚜루\n",
    "숨자! 으악!\n",
    "아기상어\n",
    "뚜루루뚜루\n",
    "귀여운\n",
    "뚜루루뚜루\n",
    "바닷속\n",
    "뚜루루뚜루\n",
    "아기상어!\n",
    "엄마상어\n",
    "뚜루루뚜루\n",
    "어여쁜\n",
    "뚜루루뚜루\n",
    "바닷속\n",
    "뚜루루뚜루\n",
    "엄마상어!\n",
    "아빠상어\n",
    "뚜루루뚜루\n",
    "힘이 센\n",
    "뚜루루뚜루\n",
    "바닷속\n",
    "뚜루루뚜루\n",
    "아빠상어!\n",
    "할머니상어\n",
    "뚜루루뚜루\n",
    "자상한\n",
    "뚜루루뚜루\n",
    "바닷속\n",
    "뚜루루뚜루\n",
    "할머니상어!\n",
    "할아버지상어\n",
    "뚜루루뚜루\n",
    "멋있는\n",
    "뚜루루뚜루\n",
    "바닷속\n",
    "뚜루루뚜루\n",
    "할아버지상어!\n",
    "우리는\n",
    "뚜루루뚜루\n",
    "바다의\n",
    "뚜루루뚜루\n",
    "사냥꾼\n",
    "뚜루루뚜루\n",
    "상어가족!\n",
    "상어다\n",
    "뚜루루뚜루\n",
    "도망쳐\n",
    "뚜루루뚜루\n",
    "도망쳐\n",
    "뚜루루뚜루\n",
    "숨자! 으악!\n",
    "살았다\n",
    "뚜루루뚜루\n",
    "살았다\n",
    "뚜루루뚜루\n",
    "오늘도\n",
    "뚜루루뚜루\n",
    "살았다!\n",
    "신난다\n",
    "뚜루루뚜루\n",
    "신난다\n",
    "뚜루루뚜루\n",
    "춤을 춰\n",
    "뚜루루뚜루\n",
    "노래 끝'''\n",
    "duludulu = baby_shark.count('뚜루루뚜루')\n",
    "baby = baby_shark.count('상어')\n",
    "duludulu, baby"
   ]
  },
  {
   "cell_type": "markdown",
   "id": "4af3310e-3f52-4d2f-8346-90e312c21f71",
   "metadata": {},
   "source": [
    "# 많이 사용하는 리스트의 method 함수"
   ]
  },
  {
   "cell_type": "markdown",
   "id": "dd92ef68-d3aa-42fa-bb3d-d89b0a343fab",
   "metadata": {},
   "source": [
    "| 메서드                  | 사용 예시                    | 설명                |\n",
    "| -------------------- | ------------------------ | ----------------- |\n",
    "| `append(x)`          | `lst.append(4)`          | 맨 뒤에 `x` 추가       |\n",
    "| `insert(i, x)`       | `lst.insert(1, \"a\")`     | `i` 위치에 `x` 삽입    |\n",
    "| `extend(iter)`       | `lst.extend([4, 5])`     | 리스트에 여러 값 추가      |\n",
    "| `remove(x)`          | `lst.remove(\"a\")`        | `x`와 일치하는 첫 항목 삭제 |\n",
    "| `pop()`              | `lst.pop()`              | 마지막 항목 제거하고 반환    |\n",
    "| `pop(i)`             | `lst.pop(0)`             | `i`번째 항목 제거하고 반환  |\n",
    "| `clear()`            | `lst.clear()`            | 리스트 전체 비우기        |\n",
    "| `index(x)`           | `lst.index(\"a\")`         | `x`의 위치(인덱스) 반환   |\n",
    "| `count(x)`           | `lst.count(\"a\")`         | `x`의 개수 세기        |\n",
    "| `sort()`             | `lst.sort()`             | 오름차순 정렬 (원본 변경)   |\n",
    "| `sort(reverse=True)` | `lst.sort(reverse=True)` | 내림차순 정렬           |\n",
    "| `reverse()`          | `lst.reverse()`          | 항목 순서 뒤집기         |\n",
    "| `copy()`             | `lst2 = lst.copy()`      | 리스트 복사            |"
   ]
  },
  {
   "cell_type": "code",
   "execution_count": 42,
   "id": "11f75939-f184-4b1d-9b37-fcc97e345bf5",
   "metadata": {},
   "outputs": [
    {
     "data": {
      "text/plain": [
       "['감자', '고구마', '김치', '치즈', '우유']"
      ]
     },
     "execution_count": 42,
     "metadata": {},
     "output_type": "execute_result"
    }
   ],
   "source": [
    "food = [\"감자\", \"고구마\", \"김치\", \"치즈\"]\n",
    "food.append(\"우유\")\n",
    "food"
   ]
  },
  {
   "cell_type": "code",
   "execution_count": 43,
   "id": "f6ea1ca2-11b4-4b2b-be7a-8b6964b814e0",
   "metadata": {},
   "outputs": [
    {
     "data": {
      "text/plain": [
       "['소주', '감자', '고구마', '김치', '치즈', '우유']"
      ]
     },
     "execution_count": 43,
     "metadata": {},
     "output_type": "execute_result"
    }
   ],
   "source": [
    "food.insert(0,\"소주\")\n",
    "food"
   ]
  },
  {
   "cell_type": "code",
   "execution_count": 44,
   "id": "b814d7f7-0f9f-4d79-956a-6ebd7951f0c3",
   "metadata": {},
   "outputs": [
    {
     "data": {
      "text/plain": [
       "['소주', '감자', '고구마', '김치', '치즈', '우유', '빨강', '초록']"
      ]
     },
     "execution_count": 44,
     "metadata": {},
     "output_type": "execute_result"
    }
   ],
   "source": [
    "food.extend([\"빨강\", \"초록\"])\n",
    "food"
   ]
  },
  {
   "cell_type": "code",
   "execution_count": 45,
   "id": "bd2b077e-2044-4a10-8053-67b20e9cfa1d",
   "metadata": {},
   "outputs": [
    {
     "data": {
      "text/plain": [
       "['감자', '고구마', '김치', '치즈', '우유', '빨강', '초록']"
      ]
     },
     "execution_count": 45,
     "metadata": {},
     "output_type": "execute_result"
    }
   ],
   "source": [
    "food.remove(\"소주\")\n",
    "food"
   ]
  },
  {
   "cell_type": "code",
   "execution_count": 46,
   "id": "0dc60166-82bb-445f-922b-ad42663fdb20",
   "metadata": {},
   "outputs": [
    {
     "data": {
      "text/plain": [
       "('초록', ['감자', '고구마', '김치', '치즈', '우유', '빨강'])"
      ]
     },
     "execution_count": 46,
     "metadata": {},
     "output_type": "execute_result"
    }
   ],
   "source": [
    "food.pop(), food"
   ]
  },
  {
   "cell_type": "code",
   "execution_count": 47,
   "id": "e2280c10-e600-4136-ae6e-239aaea567ee",
   "metadata": {},
   "outputs": [
    {
     "data": {
      "text/plain": [
       "(None, [])"
      ]
     },
     "execution_count": 47,
     "metadata": {},
     "output_type": "execute_result"
    }
   ],
   "source": [
    "food.clear(), food"
   ]
  },
  {
   "cell_type": "code",
   "execution_count": 49,
   "id": "f0ff95e4-f0ec-461b-a7bd-40f2b07e3791",
   "metadata": {},
   "outputs": [
    {
     "data": {
      "text/plain": [
       "1"
      ]
     },
     "execution_count": 49,
     "metadata": {},
     "output_type": "execute_result"
    }
   ],
   "source": [
    "food = [\"감자\", \"고구마\", \"김치\", \"치즈\"]\n",
    "food.index(\"고구마\")"
   ]
  },
  {
   "cell_type": "code",
   "execution_count": 50,
   "id": "cbf2cb98-7216-40f3-8203-a229d6ee561a",
   "metadata": {},
   "outputs": [
    {
     "data": {
      "text/plain": [
       "2"
      ]
     },
     "execution_count": 50,
     "metadata": {},
     "output_type": "execute_result"
    }
   ],
   "source": [
    "food = [\"감자\", \"고구마\", \"감자\", \"치즈\"]\n",
    "food.count(\"감자\")"
   ]
  },
  {
   "cell_type": "code",
   "execution_count": 54,
   "id": "0e4e32d7-92d6-4f73-b204-3c3db9ae3724",
   "metadata": {},
   "outputs": [
    {
     "data": {
      "text/plain": [
       "([2, 6, 7, 8, 9, 20, 34], ['감자', '감자', '고구마', '치즈'])"
      ]
     },
     "execution_count": 54,
     "metadata": {},
     "output_type": "execute_result"
    }
   ],
   "source": [
    "num = [2,34,6,7,8,9,20]\n",
    "num.sort()\n",
    "food.sort()\n",
    "num, food"
   ]
  },
  {
   "cell_type": "code",
   "execution_count": null,
   "id": "0182e017-fb45-46fd-9312-149f0321ae86",
   "metadata": {},
   "outputs": [],
   "source": [
    "num."
   ]
  },
  {
   "cell_type": "markdown",
   "id": "9008f90b-439b-4d11-88f3-7236c8cc2da5",
   "metadata": {},
   "source": [
    "# 연산자   \n",
    "   \n",
    "- 식별연산자\n",
    "1.수치연산 : 사칙연산   \n",
    "  add() --> 특별메서드를 정의하고 객체에서 쓸 수 있다.   \n",
    "  숫자일 때는 기본연산   \n",
    "  항변환이 자동으로 일어난다. int+float > float, int/int > float   \n",
    "2.대입연산 : assign, 할당 '='   \n",
    "  변수 = 값   \n",
    "  자기 자신에게 대입하는 연산 > +=, -=, *=, /= > ()가 자동으로 적용\n",
    "3.비교연산\n",
    "  '=' 와 '=='\n",
    "  '!=', '>=', '<='  # =은 항상 오른쪽에 있어야된다\n",
    "\n",
    "  리스트의 비교 '==' -> 내용이 같은가? -> 리스트의 주소'id()'가 같은가? -> 메모리 영역이 같은가?\n",
    "  리스트의 비교 'is' -> 주소(id)가 같은가?\n",
    "  리스트의 주소 'id()' \n",
    "4.논리연산\n",
    "  and, or, not\n",
    "  &, &&, |, !\n",
    "\n",
    "\n",
    "\n",
    "  \n",
    "-식별연산자\n",
    "1.is is not"
   ]
  },
  {
   "cell_type": "code",
   "execution_count": 52,
   "id": "7c316af4-54ff-4ae3-b11b-edb35c77db3a",
   "metadata": {},
   "outputs": [
    {
     "data": {
      "text/plain": [
       "(False, True, False)"
      ]
     },
     "execution_count": 52,
     "metadata": {},
     "output_type": "execute_result"
    }
   ],
   "source": [
    "lunch1 = ['주먹밥', '치킨', '칼국수']\n",
    "lunch2 = ['주먹밥', '치킨', '칼국수']\n",
    "\n",
    "lunch1 is lunch2,lunch1 == lunch2, id(lunch1) == id(lunch2) # 내용은 같지만 주소(id)값은 다르다"
   ]
  },
  {
   "cell_type": "code",
   "execution_count": 5,
   "id": "ab9f2f64-845f-4d8d-97d3-091ab33c325a",
   "metadata": {},
   "outputs": [
    {
     "data": {
      "text/plain": [
       "30"
      ]
     },
     "execution_count": 5,
     "metadata": {},
     "output_type": "execute_result"
    }
   ],
   "source": [
    "a = 5\n",
    "b = 4\n",
    "\n",
    "a *=2 + b # a = a*2 +b > a = 5 * (2 + 4) ?? \n",
    "a"
   ]
  },
  {
   "cell_type": "code",
   "execution_count": 27,
   "id": "460b055a-892b-4b75-add0-2aeb2c2a98ad",
   "metadata": {},
   "outputs": [],
   "source": [
    "students = [\n",
    "               {'num':'1','name':'김철수','kor':90,'eng':80,'math':85,'total':0,'avg':0.0,'order':0 },\n",
    "               {'num':'2','name':'박제동','kor':90,'eng':85,'math':90,'total':0,'avg':0.0,'order':0 },\n",
    "               {'num':'3','name':'홍길동','kor':80,'eng':80,'math':80,'total':0,'avg':0.0,'order':0 }\n",
    "           ]"
   ]
  },
  {
   "cell_type": "code",
   "execution_count": 17,
   "id": "7eadf323-fe16-40ab-81d5-41dd101a52cc",
   "metadata": {},
   "outputs": [],
   "source": [
    "students[0]['total'] = students[0]['kor'] + students[0]['eng'] + students[0]['math']"
   ]
  },
  {
   "cell_type": "code",
   "execution_count": 18,
   "id": "d42f518b-9efd-4984-93a6-4d1e7bb12084",
   "metadata": {},
   "outputs": [],
   "source": [
    "students[1]['total'] = students[1]['kor'] + students[1]['eng'] + students[1]['math']"
   ]
  },
  {
   "cell_type": "code",
   "execution_count": 19,
   "id": "e751f472-4de4-4ce3-bc70-810c1964d1a3",
   "metadata": {},
   "outputs": [],
   "source": [
    "students[2]['total'] = students[2]['kor'] + students[2]['eng'] + students[2]['math']"
   ]
  },
  {
   "cell_type": "code",
   "execution_count": 20,
   "id": "27f69ab4-4c11-4bc0-a567-33755abaeed1",
   "metadata": {},
   "outputs": [
    {
     "data": {
      "text/plain": [
       "[{'num': '1',\n",
       "  'name': '김철수',\n",
       "  'kor': 90,\n",
       "  'eng': 80,\n",
       "  'math': 85,\n",
       "  'total': 255,\n",
       "  'avg': 0.0,\n",
       "  'order': 0},\n",
       " {'num': '2',\n",
       "  'name': '박제동',\n",
       "  'kor': 90,\n",
       "  'eng': 85,\n",
       "  'math': 90,\n",
       "  'total': 265,\n",
       "  'avg': 0.0,\n",
       "  'order': 0},\n",
       " {'num': '3',\n",
       "  'name': '홍길동',\n",
       "  'kor': 80,\n",
       "  'eng': 80,\n",
       "  'math': 80,\n",
       "  'total': 240,\n",
       "  'avg': 0.0,\n",
       "  'order': 0}]"
      ]
     },
     "execution_count": 20,
     "metadata": {},
     "output_type": "execute_result"
    }
   ],
   "source": [
    "students"
   ]
  },
  {
   "cell_type": "code",
   "execution_count": 37,
   "id": "8f1dc6b0-0743-4457-ae77-4ede2f36851b",
   "metadata": {},
   "outputs": [
    {
     "name": "stdout",
     "output_type": "stream",
     "text": [
      "255 85.0\n",
      "265 88.33333333333333\n",
      "240 80.0\n"
     ]
    }
   ],
   "source": [
    "for student in students : # 0,1,2\n",
    "    student['total'] = student['kor'] + student['eng'] + student['math']\n",
    "    student['avg'] = student['total'] / 3\n",
    "    print(student['total'], student['avg'])\n",
    "## 어떤 리스트인지 모르는데 student['total']한다고 어떻게 students[i]['total'] 을 가져올 수 있는거지?\n",
    "## stuent => students[i]"
   ]
  },
  {
   "cell_type": "code",
   "execution_count": 38,
   "id": "00951bdf-34ca-4fc4-984b-35cbd7541f5a",
   "metadata": {},
   "outputs": [
    {
     "name": "stdout",
     "output_type": "stream",
     "text": [
      "85.0\n",
      "88.33333333333333\n",
      "80.0\n"
     ]
    }
   ],
   "source": [
    "for student in students : # 0,1,2\n",
    "    student['avg'] = student['total'] / 3\n",
    "    print(student['avg'])"
   ]
  },
  {
   "cell_type": "code",
   "execution_count": 35,
   "id": "00f5c6d4-9183-4afa-8d2b-b183a486da94",
   "metadata": {},
   "outputs": [
    {
     "data": {
      "text/plain": [
       "[{'num': '1',\n",
       "  'name': '김철수',\n",
       "  'kor': 90,\n",
       "  'eng': 80,\n",
       "  'math': 85,\n",
       "  'total': 255,\n",
       "  'avg': 85.0,\n",
       "  'order': 0},\n",
       " {'num': '2',\n",
       "  'name': '박제동',\n",
       "  'kor': 90,\n",
       "  'eng': 85,\n",
       "  'math': 90,\n",
       "  'total': 265,\n",
       "  'avg': 88.33333333333333,\n",
       "  'order': 0},\n",
       " {'num': '3',\n",
       "  'name': '홍길동',\n",
       "  'kor': 80,\n",
       "  'eng': 80,\n",
       "  'math': 80,\n",
       "  'total': 240,\n",
       "  'avg': 80.0,\n",
       "  'order': 0}]"
      ]
     },
     "execution_count": 35,
     "metadata": {},
     "output_type": "execute_result"
    }
   ],
   "source": [
    "students"
   ]
  },
  {
   "cell_type": "code",
   "execution_count": 47,
   "id": "f6b35e7b-21a4-4e7b-a9f4-437a2ea4e687",
   "metadata": {},
   "outputs": [
    {
     "name": "stdout",
     "output_type": "stream",
     "text": [
      "김철수 2\n",
      "박제동 1\n",
      "홍길동 3\n"
     ]
    }
   ],
   "source": [
    "#students order  #total 값을 비교해서 order을 정함.\n",
    "for student in students : #students[0]\n",
    "    rank = 1\n",
    "    for other in students:\n",
    "        if other['total'] > student['total']:\n",
    "            rank += 1\n",
    "    student['order'] = rank\n",
    "    print(student['name'],student['order'])"
   ]
  },
  {
   "cell_type": "code",
   "execution_count": 48,
   "id": "db0d2a11-56ae-4064-92bd-82b6a4c30526",
   "metadata": {},
   "outputs": [
    {
     "name": "stdout",
     "output_type": "stream",
     "text": [
      "김철수 2 85.0\n",
      "박제동 1 88.33333333333333\n",
      "홍길동 3 80.0\n"
     ]
    }
   ],
   "source": [
    "for student in students:\n",
    "    print(student['name'], student['order'], student['avg'])"
   ]
  },
  {
   "cell_type": "markdown",
   "id": "6e43d855-ca18-4c73-8187-cd8de09948c7",
   "metadata": {},
   "source": [
    "# 리스트에 많이 쓰는 내장함수들\n",
    "- type()\n",
    "- sorted()\n",
    "- dir()\n",
    "- id()\n",
    "- len()\n",
    "- sum(), max(), min()"
   ]
  },
  {
   "cell_type": "code",
   "execution_count": 54,
   "id": "f0a2b5d5-e049-4d84-9b13-585ea3b811fa",
   "metadata": {},
   "outputs": [
    {
     "name": "stdout",
     "output_type": "stream",
     "text": [
      "<class 'int'>\n",
      "<class 'str'>\n",
      "<class 'list'>\n"
     ]
    }
   ],
   "source": [
    "# type(): 변수의 데이터 타입(자료형)을 알려줌\n",
    "\n",
    "a = 123\n",
    "b = \"hello\"\n",
    "c = [1, 2, 3]\n",
    "\n",
    "print(type(a))  # <class 'int'>\n",
    "print(type(b))  # <class 'str'>\n",
    "print(type(c))  # <class 'list'>"
   ]
  },
  {
   "cell_type": "code",
   "execution_count": 55,
   "id": "95703bdb-b323-4f5b-bc32-bbec8a8ff51c",
   "metadata": {},
   "outputs": [
    {
     "name": "stdout",
     "output_type": "stream",
     "text": [
      "오름차순: [1, 2, 3, 4, 5]\n",
      "내림차순: [5, 4, 3, 2, 1]\n",
      "원본: [5, 1, 4, 3, 2]\n"
     ]
    }
   ],
   "source": [
    "# sorted(): 정렬된 새 리스트를 반환. 원본은 그대로 유지됨\n",
    "\n",
    "nums = [5, 1, 4, 3, 2]\n",
    "\n",
    "print(\"오름차순:\", sorted(nums))         # [1, 2, 3, 4, 5]\n",
    "print(\"내림차순:\", sorted(nums, reverse=True))  # [5, 4, 3, 2, 1]\n",
    "print(\"원본:\", nums)  # 원본 리스트는 변경되지 않음"
   ]
  },
  {
   "cell_type": "code",
   "execution_count": 53,
   "id": "2acf45a9-8970-4d70-b6ad-3a6cbc36dff0",
   "metadata": {},
   "outputs": [
    {
     "name": "stdout",
     "output_type": "stream",
     "text": [
      "['__add__', '__class__', '__contains__', '__delattr__', '__dir__', '__doc__', '__eq__', '__format__', '__ge__', '__getattribute__', '__getitem__', '__getnewargs__', '__getstate__', '__gt__', '__hash__', '__init__', '__init_subclass__', '__iter__', '__le__', '__len__', '__lt__', '__mod__', '__mul__', '__ne__', '__new__', '__reduce__', '__reduce_ex__', '__repr__', '__rmod__', '__rmul__', '__setattr__', '__sizeof__', '__str__', '__subclasshook__', 'capitalize', 'casefold', 'center', 'count', 'encode', 'endswith', 'expandtabs', 'find', 'format', 'format_map', 'index', 'isalnum', 'isalpha', 'isascii', 'isdecimal', 'isdigit', 'isidentifier', 'islower', 'isnumeric', 'isprintable', 'isspace', 'istitle', 'isupper', 'join', 'ljust', 'lower', 'lstrip', 'maketrans', 'partition', 'removeprefix', 'removesuffix', 'replace', 'rfind', 'rindex', 'rjust', 'rpartition', 'rsplit', 'rstrip', 'split', 'splitlines', 'startswith', 'strip', 'swapcase', 'title', 'translate', 'upper', 'zfill']\n"
     ]
    }
   ],
   "source": [
    "# dir(): 해당 객체가 가지고 있는 변수와 함수 목록을 출력\n",
    "\n",
    "text = \"hello\"\n",
    "print(dir(text))  # 문자열에 적용 가능한 메서드들"
   ]
  },
  {
   "cell_type": "code",
   "execution_count": 56,
   "id": "03fe8ad4-ca2f-4d3e-b4de-8ba93b20121a",
   "metadata": {},
   "outputs": [
    {
     "name": "stdout",
     "output_type": "stream",
     "text": [
      "2293559646976\n",
      "2293559646976\n",
      "2293560026560\n"
     ]
    }
   ],
   "source": [
    "# id(): 객체의 메모리 주소(ID)를 확인함\n",
    "\n",
    "x = [1, 2, 3]\n",
    "y = x\n",
    "z = [1, 2, 3]\n",
    "\n",
    "print(id(x))  # x와 y는 같은 객체\n",
    "print(id(y))  # 같은 ID\n",
    "print(id(z))  # 다른 객체 (값은 같아도)"
   ]
  },
  {
   "cell_type": "code",
   "execution_count": 57,
   "id": "70289a4a-48dc-4800-9a8f-d944069f00f2",
   "metadata": {},
   "outputs": [
    {
     "name": "stdout",
     "output_type": "stream",
     "text": [
      "6\n",
      "4\n"
     ]
    }
   ],
   "source": [
    "# len(): 문자열, 리스트 등 시퀀스 자료형의 길이를 반환\n",
    "\n",
    "text = \"Python\"\n",
    "numbers = [10, 20, 30, 40]\n",
    "\n",
    "print(len(text))    # 6\n",
    "print(len(numbers)) # 4"
   ]
  },
  {
   "cell_type": "code",
   "execution_count": 58,
   "id": "a27d7cde-f5c2-4f0e-aee9-056d4b070c49",
   "metadata": {},
   "outputs": [
    {
     "name": "stdout",
     "output_type": "stream",
     "text": [
      "총합: 417\n",
      "최대값: 100\n",
      "최소값: 65\n"
     ]
    }
   ],
   "source": [
    "# sum(), max(), min(): 숫자 리스트의 총합, 최대값, 최소값 계산\n",
    "\n",
    "scores = [87, 95, 70, 100, 65]\n",
    "\n",
    "print(\"총합:\", sum(scores))    # 417\n",
    "print(\"최대값:\", max(scores))  # 100\n",
    "print(\"최소값:\", min(scores))  # 65"
   ]
  },
  {
   "cell_type": "code",
   "execution_count": null,
   "id": "03fc5351-0d95-42ce-bc5f-9fd3181b6dbe",
   "metadata": {},
   "outputs": [],
   "source": [
    "리스트 퀴즈\n",
    "Q1. [1,3,5,4,2]라는 리스트를 [5,4,3,2,1]로 만들어보자\n",
    "\n",
    "Q2. ['Life','is','too','short']라는 리스트를 Life is too short라는 문자열로 만들어 출력해 보자\n",
    "\n",
    "Q3. 다음 리스트 L의 순서를 아래와 같이 변경하시오. (힌트: pop())\n",
    "\n",
    "변경 전\n",
    "\n",
    "[1, 3, 5, 7, 9]\n",
    "\n",
    "변경 후\n",
    "\n",
    "[3, 5, 7, 9, 1]"
   ]
  },
  {
   "cell_type": "code",
   "execution_count": 62,
   "id": "814cc0ce-a486-48b6-b234-e47a80655d29",
   "metadata": {},
   "outputs": [
    {
     "data": {
      "text/plain": [
       "['Life', 'is', 'too', 'short']"
      ]
     },
     "execution_count": 62,
     "metadata": {},
     "output_type": "execute_result"
    }
   ],
   "source": [
    "list_1 = [1,3,5,4,2]\n",
    "list_2 = [5,4,3,2,1]\n",
    "lts = \"Life is too short\"\n",
    "\n",
    "list_3 = lts.split()\n",
    "list_3"
   ]
  },
  {
   "cell_type": "code",
   "execution_count": 73,
   "id": "04a5fe4b-f39b-44ae-89d9-06d6393c9eb7",
   "metadata": {},
   "outputs": [
    {
     "data": {
      "text/plain": [
       "[3, 5, 7, 9, '1']"
      ]
     },
     "execution_count": 73,
     "metadata": {},
     "output_type": "execute_result"
    }
   ],
   "source": [
    "L = [1, 3, 5, 7, 9]\n",
    "L.pop(0)\n",
    "L.append('1') # L.insert(0,'1'), L.extend('1')\n",
    "L"
   ]
  },
  {
   "cell_type": "markdown",
   "id": "e01604c5-e3ea-4269-9733-9e608dc8b333",
   "metadata": {},
   "source": [
    "# 딕셔너리   \n",
    "   \n",
    "' {키 : 값, 키 : 값} '     "
   ]
  },
  {
   "cell_type": "code",
   "execution_count": 114,
   "id": "83a84d83-6efb-43b1-8ed0-e2fbddef92b3",
   "metadata": {},
   "outputs": [
    {
     "data": {
      "text/plain": [
       "({'name': 'seungwon', 'age': 27, 'city': 'seoul'}, 'seungwon', 27)"
      ]
     },
     "execution_count": 114,
     "metadata": {},
     "output_type": "execute_result"
    }
   ],
   "source": [
    "person = {\"name\" : \"seungwon\", \"age\" : 27, \"city\": \"seoul\"}\n",
    "person, person[\"name\"], person[\"age\"]"
   ]
  },
  {
   "cell_type": "code",
   "execution_count": 115,
   "id": "d45f2bd4-fbff-400f-802a-87b6c3fbb97a",
   "metadata": {},
   "outputs": [
    {
     "data": {
      "text/plain": [
       "({'name': 'jojoba', 'age': 27, 'city': 'seoul'},\n",
       " {'name': 'jojoba', 'age': 27, 'city': 'seoul'})"
      ]
     },
     "execution_count": 115,
     "metadata": {},
     "output_type": "execute_result"
    }
   ],
   "source": [
    "person2 = {\"name\"  : \"jojoba\", \"age\" : 27, \"city\":\"seoul\"}\n",
    "person3 = dict(name = \"jojoba\", age=27, city =\"seoul\")\n",
    "person2, person3"
   ]
  },
  {
   "cell_type": "code",
   "execution_count": 83,
   "id": "facd6735-194a-4cfd-8c54-579c773cfa54",
   "metadata": {},
   "outputs": [],
   "source": [
    "person[0] = \"bob\""
   ]
  },
  {
   "cell_type": "code",
   "execution_count": 88,
   "id": "9203a27a-6dfa-4c98-8e29-def91a9f601e",
   "metadata": {},
   "outputs": [],
   "source": [
    "person[0] = \"jojo\"\n",
    "person[1] = \"bobo\" "
   ]
  },
  {
   "cell_type": "code",
   "execution_count": 89,
   "id": "84f2164b-cbef-4b3c-948c-6fd867d2ecdf",
   "metadata": {},
   "outputs": [
    {
     "data": {
      "text/plain": [
       "{'name': 'seungwon', 'age': 27, 'city': 'seoul', 0: 'jojo', 1: 'bobo'}"
      ]
     },
     "execution_count": 89,
     "metadata": {},
     "output_type": "execute_result"
    }
   ],
   "source": [
    "person"
   ]
  },
  {
   "cell_type": "code",
   "execution_count": 90,
   "id": "f46bac69-a093-4292-bc47-6c3bfb271afb",
   "metadata": {},
   "outputs": [
    {
     "data": {
      "text/plain": [
       "dict"
      ]
     },
     "execution_count": 90,
     "metadata": {},
     "output_type": "execute_result"
    }
   ],
   "source": [
    "type(person)"
   ]
  },
  {
   "cell_type": "code",
   "execution_count": 92,
   "id": "576e834a-9e20-42d9-81f4-adfe85633687",
   "metadata": {
    "scrolled": true
   },
   "outputs": [
    {
     "data": {
      "text/plain": [
       "['__class__',\n",
       " '__class_getitem__',\n",
       " '__contains__',\n",
       " '__delattr__',\n",
       " '__delitem__',\n",
       " '__dir__',\n",
       " '__doc__',\n",
       " '__eq__',\n",
       " '__format__',\n",
       " '__ge__',\n",
       " '__getattribute__',\n",
       " '__getitem__',\n",
       " '__getstate__',\n",
       " '__gt__',\n",
       " '__hash__',\n",
       " '__init__',\n",
       " '__init_subclass__',\n",
       " '__ior__',\n",
       " '__iter__',\n",
       " '__le__',\n",
       " '__len__',\n",
       " '__lt__',\n",
       " '__ne__',\n",
       " '__new__',\n",
       " '__or__',\n",
       " '__reduce__',\n",
       " '__reduce_ex__',\n",
       " '__repr__',\n",
       " '__reversed__',\n",
       " '__ror__',\n",
       " '__setattr__',\n",
       " '__setitem__',\n",
       " '__sizeof__',\n",
       " '__str__',\n",
       " '__subclasshook__',\n",
       " 'clear',\n",
       " 'copy',\n",
       " 'fromkeys',\n",
       " 'get',\n",
       " 'items',\n",
       " 'keys',\n",
       " 'pop',\n",
       " 'popitem',\n",
       " 'setdefault',\n",
       " 'update',\n",
       " 'values']"
      ]
     },
     "execution_count": 92,
     "metadata": {},
     "output_type": "execute_result"
    }
   ],
   "source": [
    "dir(person)"
   ]
  },
  {
   "cell_type": "code",
   "execution_count": 108,
   "id": "64a57dc6-65b4-4284-94d6-0d65ed3e1558",
   "metadata": {},
   "outputs": [
    {
     "data": {
      "text/plain": [
       "<function dict.items>"
      ]
     },
     "execution_count": 108,
     "metadata": {},
     "output_type": "execute_result"
    }
   ],
   "source": [
    "items= person.items\n",
    "items"
   ]
  },
  {
   "cell_type": "code",
   "execution_count": 109,
   "id": "e21191f9-cc5f-411e-9ce6-86c7cd31813a",
   "metadata": {},
   "outputs": [
    {
     "data": {
      "text/plain": [
       "(dict_keys, dict_keys(['name', 'age', 'city', 0, 1]))"
      ]
     },
     "execution_count": 109,
     "metadata": {},
     "output_type": "execute_result"
    }
   ],
   "source": [
    "keys = person.keys()\n",
    "type(keys), keys"
   ]
  },
  {
   "cell_type": "code",
   "execution_count": 110,
   "id": "fc3df2ec-0659-4023-8414-b590042e7596",
   "metadata": {},
   "outputs": [
    {
     "name": "stdout",
     "output_type": "stream",
     "text": [
      "name\n",
      "age\n",
      "city\n",
      "0\n",
      "1\n"
     ]
    }
   ],
   "source": [
    "for k in keys:\n",
    "    print(k)"
   ]
  },
  {
   "cell_type": "code",
   "execution_count": 123,
   "id": "a9ab72ff-68bd-43c5-a1cd-84eba30f3a56",
   "metadata": {},
   "outputs": [],
   "source": [
    "# update 는 딕셔너리에 딕셔너리를 추가한다.\n",
    "person = {\"name\" : \"seungwon\", \"age\" : 27, \"city\": \"seoul\"}\n",
    "person2 = {\"name\"  : \"jojoba\", \"age\" : 27, \"city\":\"seoul\"}\n",
    "person3 = dict(name = \"jojoba\", age=27, city =\"seoul\")\n",
    "person4 = {\"color\": \"red\", \"sex\": \"male\"}\n",
    "\n",
    "person.update(person2)\n",
    "person3.update(person4)"
   ]
  },
  {
   "cell_type": "code",
   "execution_count": 124,
   "id": "e0f19bae-1f11-480f-adac-ae0c18bf78ac",
   "metadata": {},
   "outputs": [
    {
     "data": {
      "text/plain": [
       "{'name': 'jojoba', 'age': 27, 'city': 'seoul'}"
      ]
     },
     "execution_count": 124,
     "metadata": {},
     "output_type": "execute_result"
    }
   ],
   "source": [
    "person"
   ]
  },
  {
   "cell_type": "code",
   "execution_count": 125,
   "id": "427f90c5-7bd9-41e6-af7e-b809e54fc967",
   "metadata": {},
   "outputs": [
    {
     "data": {
      "text/plain": [
       "{'name': 'jojoba', 'age': 27, 'city': 'seoul', 'color': 'red', 'sex': 'male'}"
      ]
     },
     "execution_count": 125,
     "metadata": {},
     "output_type": "execute_result"
    }
   ],
   "source": [
    "person3"
   ]
  },
  {
   "cell_type": "code",
   "execution_count": 169,
   "id": "a1c33faa-f051-4108-bf07-d1c263242add",
   "metadata": {},
   "outputs": [
    {
     "name": "stdout",
     "output_type": "stream",
     "text": [
      "************************************************************\n",
      "어서오세요바리스타 엘리's 카페에 오신것을 환영합니다\n",
      "1번째 에스프레소           3000\n",
      "2번째 아이스아메리카노        4000\n",
      "3번째 따뜻한라떼           5000\n"
     ]
    },
    {
     "name": "stdin",
     "output_type": "stream",
     "text": [
      "주문할 메뉴 번호를 입력하세요 3\n",
      "주문할 수량을 숫자로 입력하세요 :  2\n"
     ]
    },
    {
     "name": "stdout",
     "output_type": "stream",
     "text": [
      "주문하신 메뉴는 따뜻한라떼 입니다.  결제하실 금액은 10000 입니다\n"
     ]
    }
   ],
   "source": [
    "### store_name = '바리스타 엘리\\'s 카페'\n",
    "menu_list = ['에스프레소', '아이스아메리카노', '따뜻한라떼']\n",
    "price_list = [3000, 4000, 5000]\n",
    "\n",
    "#환영인사\n",
    "print('*'*60)\n",
    "print(f\"어서오세요{store_name}에 오신것을 환영합니다\")\n",
    "\n",
    "#메뉴목록 출력\n",
    "for i in range(len(menu_list)):\n",
    "    print(f\"{i+1}번째 {menu_list[i]:10}{price_list[i]:10}\")\n",
    "\n",
    "order_num = int(input(\"주문할 메뉴 번호를 입력하세요\"))\n",
    "qty = int(input('주문할 수량을 숫자로 입력하세요 : '))\n",
    "amt = qty * price_list[order_num -1]\n",
    "\n",
    "#주문결과 출력\n",
    "print(f'주문하신 메뉴는 {menu_list[order_num -1]} 입니다.  결제하실 금액은 {amt} 입니다')"
   ]
  },
  {
   "cell_type": "code",
   "execution_count": null,
   "id": "dea4dfc4-080c-4a3c-9e14-14ce8a4523b6",
   "metadata": {},
   "outputs": [],
   "source": []
  },
  {
   "cell_type": "code",
   "execution_count": null,
   "id": "b2bcbe6a-e35b-4e0e-ad32-534974b6f6b6",
   "metadata": {},
   "outputs": [],
   "source": []
  },
  {
   "cell_type": "code",
   "execution_count": null,
   "id": "6884dece-8d73-429e-9be5-c38d72ab6af9",
   "metadata": {},
   "outputs": [],
   "source": []
  },
  {
   "cell_type": "markdown",
   "id": "f2726df6-fb6a-4996-ac78-7388fcb40d46",
   "metadata": {},
   "source": [
    "# 튜플   ()\n",
    "리스트와 비슷하지만 **변경**이 안된다. "
   ]
  },
  {
   "cell_type": "code",
   "execution_count": 2,
   "id": "38b8b2ae-3b78-47c6-af5a-a23ce8fcddb8",
   "metadata": {},
   "outputs": [
    {
     "data": {
      "text/plain": [
       "((), tuple)"
      ]
     },
     "execution_count": 2,
     "metadata": {},
     "output_type": "execute_result"
    }
   ],
   "source": [
    "a =tuple()\n",
    "a, type(a)"
   ]
  },
  {
   "cell_type": "code",
   "execution_count": 17,
   "id": "81429d2a-ece2-42ea-851d-cdf6bbc7cdb4",
   "metadata": {},
   "outputs": [
    {
     "data": {
      "text/plain": [
       "((2,), 2, tuple, int)"
      ]
     },
     "execution_count": 17,
     "metadata": {},
     "output_type": "execute_result"
    }
   ],
   "source": [
    "b =(2,) #type = tuple\n",
    "b2 =(2) #type = int\n",
    "b,b2, type(b),type(b2) # type = int"
   ]
  },
  {
   "cell_type": "code",
   "execution_count": 4,
   "id": "150bb8a9-19b2-40a5-a31d-9de0dd31acd0",
   "metadata": {},
   "outputs": [
    {
     "data": {
      "text/plain": [
       "((1, 2), tuple)"
      ]
     },
     "execution_count": 4,
     "metadata": {},
     "output_type": "execute_result"
    }
   ],
   "source": [
    "bb = (1, 2)\n",
    "bb, type(bb)"
   ]
  },
  {
   "cell_type": "code",
   "execution_count": 10,
   "id": "7421d2bf-5246-40d8-910c-2b1b34ba1096",
   "metadata": {
    "scrolled": true
   },
   "outputs": [
    {
     "ename": "TypeError",
     "evalue": "'tuple' object does not support item assignment",
     "output_type": "error",
     "traceback": [
      "\u001b[31m---------------------------------------------------------------------------\u001b[39m",
      "\u001b[31mTypeError\u001b[39m                                 Traceback (most recent call last)",
      "\u001b[36mCell\u001b[39m\u001b[36m \u001b[39m\u001b[32mIn[10]\u001b[39m\u001b[32m, line 2\u001b[39m\n\u001b[32m      1\u001b[39m c = (\u001b[32m1\u001b[39m, \u001b[32m2\u001b[39m, (\u001b[32m3\u001b[39m,\u001b[32m4\u001b[39m), \u001b[33m\"\u001b[39m\u001b[33m5\u001b[39m\u001b[33m\"\u001b[39m)\n\u001b[32m----> \u001b[39m\u001b[32m2\u001b[39m c[\u001b[32m0\u001b[39m] =\u001b[32m3\u001b[39m \u001b[38;5;66;03m# tuple = immutable . type ERROR\u001b[39;00m\n\u001b[32m      3\u001b[39m c\n",
      "\u001b[31mTypeError\u001b[39m: 'tuple' object does not support item assignment"
     ]
    }
   ],
   "source": [
    "c = (1, 2, (3,4), \"5\")\n",
    "c[0] =3 # tuple = immutable . type ERROR\n",
    "c"
   ]
  },
  {
   "cell_type": "code",
   "execution_count": 11,
   "id": "8c975bd5-4f59-4981-87ec-5760a21d636f",
   "metadata": {},
   "outputs": [
    {
     "data": {
      "text/plain": [
       "(('사과', '복숭아', '딸기'), tuple)"
      ]
     },
     "execution_count": 11,
     "metadata": {},
     "output_type": "execute_result"
    }
   ],
   "source": [
    "fruit = '사과', '복숭아', '딸기' # tuple 의 ( ) 괄호는 생략 가능. 요소는 하나 이상이어야 한다.\n",
    "fruit, type(fruit)"
   ]
  },
  {
   "cell_type": "code",
   "execution_count": 15,
   "id": "d5bcf372-29e4-4f9a-ab8b-cabcb2eda739",
   "metadata": {},
   "outputs": [
    {
     "data": {
      "text/plain": [
       "(('한국',), tuple, str)"
      ]
     },
     "execution_count": 15,
     "metadata": {},
     "output_type": "execute_result"
    }
   ],
   "source": [
    "tire = '한국',\n",
    "tire2 = 'nexen'\n",
    "tire, type(tire), type(tire2)"
   ]
  },
  {
   "cell_type": "code",
   "execution_count": 22,
   "id": "cf326871-13a1-4202-a1b9-a62315f66ce3",
   "metadata": {},
   "outputs": [
    {
     "data": {
      "text/plain": [
       "('h', 'i')"
      ]
     },
     "execution_count": 22,
     "metadata": {},
     "output_type": "execute_result"
    }
   ],
   "source": [
    "# s = 'hello!'\n",
    "s ='hi'\n",
    "a,b = s\n",
    "a,b"
   ]
  },
  {
   "cell_type": "code",
   "execution_count": 24,
   "id": "707ca53a-27fb-4f8e-a879-eb0c8cfc4dcd",
   "metadata": {},
   "outputs": [
    {
     "ename": "ValueError",
     "evalue": "too many values to unpack (expected 2)",
     "output_type": "error",
     "traceback": [
      "\u001b[31m---------------------------------------------------------------------------\u001b[39m",
      "\u001b[31mValueError\u001b[39m                                Traceback (most recent call last)",
      "\u001b[36mCell\u001b[39m\u001b[36m \u001b[39m\u001b[32mIn[24]\u001b[39m\u001b[32m, line 2\u001b[39m\n\u001b[32m      1\u001b[39m s = \u001b[33m'\u001b[39m\u001b[33mhello\u001b[39m\u001b[33m'\u001b[39m\n\u001b[32m----> \u001b[39m\u001b[32m2\u001b[39m a,b = s\n\u001b[32m      3\u001b[39m a,b\n",
      "\u001b[31mValueError\u001b[39m: too many values to unpack (expected 2)"
     ]
    }
   ],
   "source": [
    "s = 'hello'\n",
    "a,b = s\n",
    "a,b"
   ]
  },
  {
   "cell_type": "code",
   "execution_count": 6,
   "id": "b301c709-6a5f-4015-b89d-3164233a1351",
   "metadata": {},
   "outputs": [
    {
     "data": {
      "text/plain": [
       "('h', ['e', 'l', 'l', 'o'])"
      ]
     },
     "execution_count": 6,
     "metadata": {},
     "output_type": "execute_result"
    }
   ],
   "source": [
    "s = 'hello' # packing\n",
    "a,*b = s # unpacking  * -> rest\n",
    "a,b"
   ]
  },
  {
   "cell_type": "code",
   "execution_count": 26,
   "id": "2b31a145-9e78-45cb-968b-71f7eb5a622b",
   "metadata": {},
   "outputs": [
    {
     "data": {
      "text/plain": [
       "('홍길동', 20, '1학년')"
      ]
     },
     "execution_count": 26,
     "metadata": {},
     "output_type": "execute_result"
    }
   ],
   "source": [
    "student = ('홍길동', 20, '1학년') #패킹\n",
    "student"
   ]
  },
  {
   "cell_type": "code",
   "execution_count": 8,
   "id": "1b2a5623-3c9f-4489-bdf4-be5fd7fbca29",
   "metadata": {},
   "outputs": [
    {
     "data": {
      "text/plain": [
       "('H', 'I')"
      ]
     },
     "execution_count": 8,
     "metadata": {},
     "output_type": "execute_result"
    }
   ],
   "source": [
    "hey = \"HI\"\n",
    "x, y = hey\n",
    "x,y"
   ]
  },
  {
   "cell_type": "code",
   "execution_count": 28,
   "id": "03316f34-48fc-4847-9553-b561c0d68217",
   "metadata": {},
   "outputs": [
    {
     "data": {
      "text/plain": [
       "'이름은홍길동이고, 나이는 20, 1학년 입니다.'"
      ]
     },
     "execution_count": 28,
     "metadata": {},
     "output_type": "execute_result"
    }
   ],
   "source": [
    "name, age, grade = student\n",
    "f'이름은{name}이고, 나이는 {age}, {grade} 입니다.'"
   ]
  },
  {
   "cell_type": "code",
   "execution_count": 31,
   "id": "d741d352-3336-460a-99d1-15398331e96b",
   "metadata": {},
   "outputs": [
    {
     "data": {
      "text/plain": [
       "'이름은가나다이고, 나이는 21, 2학년 입니다.'"
      ]
     },
     "execution_count": 31,
     "metadata": {},
     "output_type": "execute_result"
    }
   ],
   "source": [
    "student_2 = ('가나다', 21, '2학년')\n",
    "name, age , grade = student_2\n",
    "f'이름은 {name}이고, 나이는 {age}, {grade} 입니다.'"
   ]
  },
  {
   "cell_type": "code",
   "execution_count": 32,
   "id": "45162287-5ad3-48c1-833c-2b768f007ef7",
   "metadata": {},
   "outputs": [
    {
     "data": {
      "text/plain": [
       "(2, 1)"
      ]
     },
     "execution_count": 32,
     "metadata": {},
     "output_type": "execute_result"
    }
   ],
   "source": [
    "#미션 \n",
    "x = 1\n",
    "y = 2\n",
    "\n",
    "x,y = y,x\n",
    "x, y  #tuple의 패킹, 언패킹\n",
    " \n",
    "# \n",
    "x=2, y=1 "
   ]
  },
  {
   "cell_type": "code",
   "execution_count": null,
   "id": "702c58a0-bb35-4988-99d6-7b5b549b2185",
   "metadata": {},
   "outputs": [],
   "source": []
  },
  {
   "cell_type": "code",
   "execution_count": 44,
   "id": "16a88207-7bf2-46fb-9d73-3b391d206352",
   "metadata": {},
   "outputs": [
    {
     "data": {
      "text/plain": [
       "5"
      ]
     },
     "execution_count": 44,
     "metadata": {},
     "output_type": "execute_result"
    }
   ],
   "source": [
    "#함수의 정의\n",
    "def func_a(a) :\n",
    "    \n",
    "    return a\n",
    "\n",
    "#함수의 호출\n",
    "result = func_a(5)\n",
    "#함수의 반환값\n",
    "result"
   ]
  },
  {
   "cell_type": "code",
   "execution_count": 46,
   "id": "4ae70c4c-156d-4eb8-8869-731b4d43c3ee",
   "metadata": {},
   "outputs": [
    {
     "name": "stdout",
     "output_type": "stream",
     "text": [
      "1 2 3\n"
     ]
    },
    {
     "data": {
      "text/plain": [
       "((3, 2, 1), tuple)"
      ]
     },
     "execution_count": 46,
     "metadata": {},
     "output_type": "execute_result"
    }
   ],
   "source": [
    "#함수의 정의\n",
    "def func_a(a,b,c) :\n",
    "    print(a,b,c)\n",
    "    return c,b,a\n",
    "\n",
    "#함수의 호출\n",
    "result = func_a(1,2,3)\n",
    "#함수의 반환값\n",
    "result, type(result) #반환값을 튜플, 바꾸지 못하게 한다."
   ]
  },
  {
   "cell_type": "code",
   "execution_count": 48,
   "id": "4d043fb6-d811-4b44-8993-0c80ed3c5cf7",
   "metadata": {},
   "outputs": [
    {
     "name": "stdout",
     "output_type": "stream",
     "text": [
      "1 2 3\n"
     ]
    },
    {
     "data": {
      "text/plain": [
       "(3, 2, 1)"
      ]
     },
     "execution_count": 48,
     "metadata": {},
     "output_type": "execute_result"
    }
   ],
   "source": [
    "a1,b1,c1 = func_a(1,2,3)\n",
    "a1, b1, c1"
   ]
  },
  {
   "cell_type": "code",
   "execution_count": null,
   "id": "d5676a42-2794-4d02-b0c9-fc8ccf871616",
   "metadata": {},
   "outputs": [],
   "source": [
    "#형변환 (튜플 > 리스트 > 튜플)"
   ]
  },
  {
   "cell_type": "code",
   "execution_count": 49,
   "id": "a9c7a3d2-39f2-4725-863d-4f6f5e57cd58",
   "metadata": {},
   "outputs": [],
   "source": [
    "# tupled 에 값을 추가하려면?\n",
    "# 형변환 > 리스트"
   ]
  },
  {
   "cell_type": "code",
   "execution_count": 57,
   "id": "e9bf10eb-26b6-4fbe-954f-c2904471b2c2",
   "metadata": {},
   "outputs": [
    {
     "data": {
      "text/plain": [
       "('가연', '지훈', '지희')"
      ]
     },
     "execution_count": 57,
     "metadata": {},
     "output_type": "execute_result"
    }
   ],
   "source": [
    "name_tuple = ('가연', '지훈', '지희')\n",
    "name_tuple"
   ]
  },
  {
   "cell_type": "code",
   "execution_count": 58,
   "id": "91d093f8-e1e9-466d-b420-3399c91e7e49",
   "metadata": {},
   "outputs": [
    {
     "data": {
      "text/plain": [
       "('가연', '지훈', '지희', '유석')"
      ]
     },
     "execution_count": 58,
     "metadata": {},
     "output_type": "execute_result"
    }
   ],
   "source": [
    "name_list = list(name_tuple)\n",
    "name_list.append('유석')\n",
    "name_list\n",
    "name_tuple = tuple(name_list)\n",
    "name_tuple"
   ]
  },
  {
   "cell_type": "code",
   "execution_count": 61,
   "id": "aa929dc9-2880-47cd-95c3-f2f18a5ea2c3",
   "metadata": {},
   "outputs": [
    {
     "data": {
      "text/plain": [
       "['__add__',\n",
       " '__class__',\n",
       " '__class_getitem__',\n",
       " '__contains__',\n",
       " '__delattr__',\n",
       " '__dir__',\n",
       " '__doc__',\n",
       " '__eq__',\n",
       " '__format__',\n",
       " '__ge__',\n",
       " '__getattribute__',\n",
       " '__getitem__',\n",
       " '__getnewargs__',\n",
       " '__getstate__',\n",
       " '__gt__',\n",
       " '__hash__',\n",
       " '__init__',\n",
       " '__init_subclass__',\n",
       " '__iter__',\n",
       " '__le__',\n",
       " '__len__',\n",
       " '__lt__',\n",
       " '__mul__',\n",
       " '__ne__',\n",
       " '__new__',\n",
       " '__reduce__',\n",
       " '__reduce_ex__',\n",
       " '__repr__',\n",
       " '__rmul__',\n",
       " '__setattr__',\n",
       " '__sizeof__',\n",
       " '__str__',\n",
       " '__subclasshook__',\n",
       " 'count',\n",
       " 'index']"
      ]
     },
     "execution_count": 61,
     "metadata": {},
     "output_type": "execute_result"
    }
   ],
   "source": [
    "dir(name_tuple)"
   ]
  },
  {
   "cell_type": "code",
   "execution_count": 72,
   "id": "422e7821-e3f4-4ba6-8f1e-99d59bb7dd37",
   "metadata": {},
   "outputs": [
    {
     "data": {
      "text/plain": [
       "('가연', '지훈', '지희', '유석')"
      ]
     },
     "execution_count": 72,
     "metadata": {},
     "output_type": "execute_result"
    }
   ],
   "source": [
    "name_tuple = ('가연', '지훈', '지희')\n",
    "name_tuple\n",
    "# __add__\n",
    "# __mul__\n",
    "name_add= ('유석',)\n",
    "type(name_add)\n",
    "name_tuple = name_tuple.__add__(name_add)\n",
    "name_tuple"
   ]
  },
  {
   "cell_type": "code",
   "execution_count": 73,
   "id": "a6e3ac5f-a200-4e70-9645-687091e060cd",
   "metadata": {},
   "outputs": [
    {
     "data": {
      "text/plain": [
       "(1, 2, 3, 1, 2, 3)"
      ]
     },
     "execution_count": 73,
     "metadata": {},
     "output_type": "execute_result"
    }
   ],
   "source": [
    "t1 = (1,2,3)\n",
    "t3 = t1 *2\n",
    "t3"
   ]
  },
  {
   "cell_type": "code",
   "execution_count": 74,
   "id": "f6395192-eac9-469d-87a9-d9f4c2a9bcf3",
   "metadata": {},
   "outputs": [
    {
     "data": {
      "text/plain": [
       "(1, (1, 2, 3))"
      ]
     },
     "execution_count": 74,
     "metadata": {},
     "output_type": "execute_result"
    }
   ],
   "source": [
    "t3[0], t3[:3]"
   ]
  },
  {
   "cell_type": "code",
   "execution_count": 75,
   "id": "b736c909-10ae-46b3-ae2c-c7b854a1e64b",
   "metadata": {},
   "outputs": [
    {
     "ename": "TypeError",
     "evalue": "'tuple' object does not support item assignment",
     "output_type": "error",
     "traceback": [
      "\u001b[31m---------------------------------------------------------------------------\u001b[39m",
      "\u001b[31mTypeError\u001b[39m                                 Traceback (most recent call last)",
      "\u001b[36mCell\u001b[39m\u001b[36m \u001b[39m\u001b[32mIn[75]\u001b[39m\u001b[32m, line 1\u001b[39m\n\u001b[32m----> \u001b[39m\u001b[32m1\u001b[39m t3[\u001b[32m0\u001b[39m] = \u001b[32m2\u001b[39m\n",
      "\u001b[31mTypeError\u001b[39m: 'tuple' object does not support item assignment"
     ]
    }
   ],
   "source": [
    "t3[0] = 2 #type ERROR"
   ]
  },
  {
   "cell_type": "markdown",
   "id": "25cd97e0-98e2-4701-a1b8-1a6e524b808f",
   "metadata": {},
   "source": [
    "# 집합   \n",
    "\n",
    "- set(), { }\n",
    "- 중복이 안된다, 순서도 없다. 키도 없다.\n",
    "- 속도가 빠르다. 해싱을 하는 자료형(딕셔너리, 집합)"
   ]
  },
  {
   "cell_type": "code",
   "execution_count": 77,
   "id": "7e40e51e-96b2-47f8-a19e-169668ee606b",
   "metadata": {},
   "outputs": [
    {
     "data": {
      "text/plain": [
       "{1, 2, 3}"
      ]
     },
     "execution_count": 77,
     "metadata": {},
     "output_type": "execute_result"
    }
   ],
   "source": [
    "s = set([1,2,3]) # set([])\n",
    "s"
   ]
  },
  {
   "cell_type": "code",
   "execution_count": 79,
   "id": "a5204d72-5483-4a3e-840d-766ee20e4bc2",
   "metadata": {},
   "outputs": [
    {
     "data": {
      "text/plain": [
       "({1, 2, 3}, set)"
      ]
     },
     "execution_count": 79,
     "metadata": {},
     "output_type": "execute_result"
    }
   ],
   "source": [
    "s1 = {1, 2, 3}\n",
    "s1, type(s1)"
   ]
  },
  {
   "cell_type": "code",
   "execution_count": 85,
   "id": "caea8681-105d-40fd-afc3-9ca2b26fa8ea",
   "metadata": {},
   "outputs": [
    {
     "data": {
      "text/plain": [
       "{1, 2, 3}"
      ]
     },
     "execution_count": 85,
     "metadata": {},
     "output_type": "execute_result"
    }
   ],
   "source": [
    "# set은 중복을 제거한다.\n",
    "s2 = {1,2,3,1}\n",
    "s2"
   ]
  },
  {
   "cell_type": "code",
   "execution_count": 93,
   "id": "61d3d65a-4268-4b2f-95a1-bd8b5fe8b365",
   "metadata": {},
   "outputs": [
    {
     "data": {
      "text/plain": [
       "{1, 2, 3}"
      ]
     },
     "execution_count": 93,
     "metadata": {},
     "output_type": "execute_result"
    }
   ],
   "source": [
    "l2 = [1,2,3,1]\n",
    "l2 = l2* 2\n",
    "s3 = set(l2)\n",
    "s3"
   ]
  },
  {
   "cell_type": "code",
   "execution_count": 101,
   "id": "8c21325d-4f83-49e1-b848-2a23ab6c41c1",
   "metadata": {},
   "outputs": [
    {
     "data": {
      "text/plain": [
       "[1, 2, 3, 1, 1, 2, 3, 1, [4, 5, 6]]"
      ]
     },
     "execution_count": 101,
     "metadata": {},
     "output_type": "execute_result"
    }
   ],
   "source": [
    "l2 = [1,2,3,1]\n",
    "l2 = l2* 2\n",
    "l2.append([4,5,6]) \n",
    "l2\n",
    "\n",
    "# l2 = [1,2,3,1]\n",
    "# l3 = l2 + [4, 5, 6]\n",
    "# print(l3)"
   ]
  },
  {
   "cell_type": "code",
   "execution_count": 102,
   "id": "8e1da6d5-268f-47b8-9021-e4908d73a4c2",
   "metadata": {},
   "outputs": [
    {
     "data": {
      "text/plain": [
       "-5116378217491896938"
      ]
     },
     "execution_count": 102,
     "metadata": {},
     "output_type": "execute_result"
    }
   ],
   "source": [
    "hash('hi')"
   ]
  },
  {
   "cell_type": "code",
   "execution_count": 103,
   "id": "686840d4-9f7e-4cf7-b200-6936e3e7ba4f",
   "metadata": {},
   "outputs": [
    {
     "data": {
      "text/plain": [
       "123"
      ]
     },
     "execution_count": 103,
     "metadata": {},
     "output_type": "execute_result"
    }
   ],
   "source": [
    "hash(123) #해싱가능하다. int, float, boolean"
   ]
  },
  {
   "cell_type": "code",
   "execution_count": 121,
   "id": "452e3bc9-a1ab-4752-be81-7d152bb658e7",
   "metadata": {},
   "outputs": [
    {
     "data": {
      "text/plain": [
       "{123, 'hi'}"
      ]
     },
     "execution_count": 121,
     "metadata": {},
     "output_type": "execute_result"
    }
   ],
   "source": [
    "set(['hi', 123]) "
   ]
  },
  {
   "cell_type": "code",
   "execution_count": 104,
   "id": "31b0c5ec-0f8d-42e0-8b74-6c0eed7e6539",
   "metadata": {},
   "outputs": [
    {
     "data": {
      "text/plain": [
       "590899387183067792"
      ]
     },
     "execution_count": 104,
     "metadata": {},
     "output_type": "execute_result"
    }
   ],
   "source": [
    "tuple_2 = (1,2,3,4)\n",
    "hash(tuple_2)"
   ]
  },
  {
   "cell_type": "code",
   "execution_count": 105,
   "id": "db3debb0-62a8-4400-93fe-174ba696d0dd",
   "metadata": {},
   "outputs": [
    {
     "data": {
      "text/plain": [
       "529344067295497451"
      ]
     },
     "execution_count": 105,
     "metadata": {},
     "output_type": "execute_result"
    }
   ],
   "source": [
    "hash((1,2,3))"
   ]
  },
  {
   "cell_type": "code",
   "execution_count": 108,
   "id": "21247b3f-a39b-47c5-a510-8eb4d0e521a0",
   "metadata": {},
   "outputs": [
    {
     "ename": "TypeError",
     "evalue": "unhashable type: 'list'",
     "output_type": "error",
     "traceback": [
      "\u001b[31m---------------------------------------------------------------------------\u001b[39m",
      "\u001b[31mTypeError\u001b[39m                                 Traceback (most recent call last)",
      "\u001b[36mCell\u001b[39m\u001b[36m \u001b[39m\u001b[32mIn[108]\u001b[39m\u001b[32m, line 2\u001b[39m\n\u001b[32m      1\u001b[39m l1 =[\u001b[32m1\u001b[39m,\u001b[32m2\u001b[39m,\u001b[32m3\u001b[39m,\u001b[32m4\u001b[39m]\n\u001b[32m----> \u001b[39m\u001b[32m2\u001b[39m \u001b[38;5;28mhash\u001b[39m(l1)\n",
      "\u001b[31mTypeError\u001b[39m: unhashable type: 'list'"
     ]
    }
   ],
   "source": [
    "l1 =[1,2,3,4]\n",
    "hash(l1) #리스트 해싱 불가능"
   ]
  },
  {
   "cell_type": "code",
   "execution_count": 109,
   "id": "d12ba950-5799-4241-9e34-0e7f9db00a7d",
   "metadata": {},
   "outputs": [
    {
     "ename": "TypeError",
     "evalue": "unhashable type: 'set'",
     "output_type": "error",
     "traceback": [
      "\u001b[31m---------------------------------------------------------------------------\u001b[39m",
      "\u001b[31mTypeError\u001b[39m                                 Traceback (most recent call last)",
      "\u001b[36mCell\u001b[39m\u001b[36m \u001b[39m\u001b[32mIn[109]\u001b[39m\u001b[32m, line 1\u001b[39m\n\u001b[32m----> \u001b[39m\u001b[32m1\u001b[39m \u001b[38;5;28mhash\u001b[39m({\u001b[32m1\u001b[39m,\u001b[32m2\u001b[39m,\u001b[32m3\u001b[39m})\n",
      "\u001b[31mTypeError\u001b[39m: unhashable type: 'set'"
     ]
    }
   ],
   "source": [
    "hash({1,2,3}) # #"
   ]
  },
  {
   "cell_type": "markdown",
   "id": "fd4bb164-2007-4f9c-9b7c-3d9af7f1878b",
   "metadata": {},
   "source": [
    "# set 집합 연산   \n",
    "\n",
    "- 교집합 &, intersection()\n",
    "- 합집합 |, union()\n",
    "- 차집합 -, difference()"
   ]
  },
  {
   "cell_type": "code",
   "execution_count": 111,
   "id": "121fd391-f004-4ce4-8a78-90a56e891eb6",
   "metadata": {},
   "outputs": [],
   "source": [
    "s = set([1,2,3,4])\n",
    "x = {1,2,3}\n",
    "y = {3,4,5}"
   ]
  },
  {
   "cell_type": "code",
   "execution_count": 112,
   "id": "20d432f5-52db-486b-9bdf-20ed66b47f76",
   "metadata": {},
   "outputs": [
    {
     "data": {
      "text/plain": [
       "{3}"
      ]
     },
     "execution_count": 112,
     "metadata": {},
     "output_type": "execute_result"
    }
   ],
   "source": [
    "x & y "
   ]
  },
  {
   "cell_type": "code",
   "execution_count": 113,
   "id": "c94f3388-d0e9-4c26-bc4b-42f99a556c2d",
   "metadata": {},
   "outputs": [
    {
     "data": {
      "text/plain": [
       "{3}"
      ]
     },
     "execution_count": 113,
     "metadata": {},
     "output_type": "execute_result"
    }
   ],
   "source": [
    "x.intersection(y)"
   ]
  },
  {
   "cell_type": "code",
   "execution_count": 114,
   "id": "e731ffae-b359-4833-b4aa-d752686e6ce4",
   "metadata": {},
   "outputs": [
    {
     "data": {
      "text/plain": [
       "{1, 2, 3, 4, 5}"
      ]
     },
     "execution_count": 114,
     "metadata": {},
     "output_type": "execute_result"
    }
   ],
   "source": [
    "x | y"
   ]
  },
  {
   "cell_type": "code",
   "execution_count": 115,
   "id": "89a9ab87-dde8-4eed-9b8b-6bf99b968a6f",
   "metadata": {},
   "outputs": [
    {
     "data": {
      "text/plain": [
       "{1, 2, 3, 4, 5}"
      ]
     },
     "execution_count": 115,
     "metadata": {},
     "output_type": "execute_result"
    }
   ],
   "source": [
    "x.union(y)"
   ]
  },
  {
   "cell_type": "code",
   "execution_count": 116,
   "id": "6c29d978-ac05-4d6e-84a8-96642869d21b",
   "metadata": {},
   "outputs": [
    {
     "data": {
      "text/plain": [
       "{1, 2}"
      ]
     },
     "execution_count": 116,
     "metadata": {},
     "output_type": "execute_result"
    }
   ],
   "source": [
    "x - y"
   ]
  },
  {
   "cell_type": "code",
   "execution_count": 117,
   "id": "a5586d2f-e96b-464f-ad89-89902bc2e20c",
   "metadata": {},
   "outputs": [
    {
     "data": {
      "text/plain": [
       "{1, 2}"
      ]
     },
     "execution_count": 117,
     "metadata": {},
     "output_type": "execute_result"
    }
   ],
   "source": [
    "x.difference(y)"
   ]
  },
  {
   "cell_type": "code",
   "execution_count": 118,
   "id": "c2724815-8a70-47fb-a18f-4aacaeb730ba",
   "metadata": {
    "scrolled": true
   },
   "outputs": [
    {
     "data": {
      "text/plain": [
       "['__and__',\n",
       " '__class__',\n",
       " '__class_getitem__',\n",
       " '__contains__',\n",
       " '__delattr__',\n",
       " '__dir__',\n",
       " '__doc__',\n",
       " '__eq__',\n",
       " '__format__',\n",
       " '__ge__',\n",
       " '__getattribute__',\n",
       " '__getstate__',\n",
       " '__gt__',\n",
       " '__hash__',\n",
       " '__iand__',\n",
       " '__init__',\n",
       " '__init_subclass__',\n",
       " '__ior__',\n",
       " '__isub__',\n",
       " '__iter__',\n",
       " '__ixor__',\n",
       " '__le__',\n",
       " '__len__',\n",
       " '__lt__',\n",
       " '__ne__',\n",
       " '__new__',\n",
       " '__or__',\n",
       " '__rand__',\n",
       " '__reduce__',\n",
       " '__reduce_ex__',\n",
       " '__repr__',\n",
       " '__ror__',\n",
       " '__rsub__',\n",
       " '__rxor__',\n",
       " '__setattr__',\n",
       " '__sizeof__',\n",
       " '__str__',\n",
       " '__sub__',\n",
       " '__subclasshook__',\n",
       " '__xor__',\n",
       " 'add',\n",
       " 'clear',\n",
       " 'copy',\n",
       " 'difference',\n",
       " 'difference_update',\n",
       " 'discard',\n",
       " 'intersection',\n",
       " 'intersection_update',\n",
       " 'isdisjoint',\n",
       " 'issubset',\n",
       " 'issuperset',\n",
       " 'pop',\n",
       " 'remove',\n",
       " 'symmetric_difference',\n",
       " 'symmetric_difference_update',\n",
       " 'union',\n",
       " 'update']"
      ]
     },
     "execution_count": 118,
     "metadata": {},
     "output_type": "execute_result"
    }
   ],
   "source": [
    "dir(x)"
   ]
  },
  {
   "cell_type": "code",
   "execution_count": 124,
   "id": "afee6b80-3b3b-4f3b-bad1-0c15780789f2",
   "metadata": {},
   "outputs": [
    {
     "data": {
      "text/plain": [
       "110"
      ]
     },
     "execution_count": 124,
     "metadata": {},
     "output_type": "execute_result"
    }
   ],
   "source": [
    "#문제 1.리스트 numbers가 다음과 같을 때, 첫 번째 원소와 마지막 원소의 합을 구하는 코드를 작성하세요.\n",
    "numbers = [10, 20,  30,  40,  50,  60, 70, 80, 90, 100]\n",
    "numbers[0] + numbers[9]\n",
    "\n",
    "#number[0], numbers[-1]"
   ]
  },
  {
   "cell_type": "code",
   "execution_count": 138,
   "id": "a20203c2-291e-42d1-97ec-9ef5a7500758",
   "metadata": {},
   "outputs": [
    {
     "data": {
      "text/plain": [
       "['red', 'green', 'blue', 'orange', 'black']"
      ]
     },
     "execution_count": 138,
     "metadata": {},
     "output_type": "execute_result"
    }
   ],
   "source": [
    "#문제 2.리스트 colors가 다음과 같을 때, 첫 3개 원소와 마지막 2개 원소를 슬라이싱을 사용하여 출력하는 코드를 작성하세요.\n",
    "colors = [\"red\", \"green\", \"blue\", \"yellow\", \"purple\", \"orange\", \"black\"]\n",
    "colors[0:3] + colors[-2:]\n",
    "\n",
    "#colors[0:3], colors[-2:]"
   ]
  },
  {
   "cell_type": "code",
   "execution_count": 204,
   "id": "56defac4-518c-4453-a716-1973654cc52f",
   "metadata": {},
   "outputs": [
    {
     "name": "stdout",
     "output_type": "stream",
     "text": [
      "korean\n"
     ]
    }
   ],
   "source": [
    "#문제 3.다음 리스트에서 \"korean\"이라는 문자열을 찾아 출력하는 코드를 작성하세요. - indexing\n",
    "list_a = [\n",
    "    [1, 2, 3],\n",
    "    [\"red\", \"green\", \"blue\"],\n",
    "    [False, \"korean\", True]\n",
    "]\n",
    "list_a[2][1]\n",
    "\n",
    "#list_a[2][1]\n",
    "\n",
    "# for sub in list_a:\n",
    "#     for item in sub:\n",
    "#         if item == \"korean\":\n",
    "#             print(item)"
   ]
  },
  {
   "cell_type": "code",
   "execution_count": 205,
   "id": "940c2063-191e-4bf2-8218-923464fd5c44",
   "metadata": {},
   "outputs": [
    {
     "data": {
      "text/plain": [
       "[1, 2, 3, 4, 5, 6]"
      ]
     },
     "execution_count": 205,
     "metadata": {},
     "output_type": "execute_result"
    }
   ],
   "source": [
    "#문제 4.리스트 list_a과 list_b가 다음과 같을 때, 두 리스트를 합쳐서 새로운 리스트 list_c를 만드는 코드를 작성하세요.\n",
    "list_a = [1, 2, 3]\n",
    "list_b = [4, 5, 6]\n",
    "list_c = list_a + list_b\n",
    "list_c\n",
    "\n",
    "#list_c = list_a + list_b\n",
    "#list_c"
   ]
  },
  {
   "cell_type": "code",
   "execution_count": 206,
   "id": "4f2e867f-587b-4ea7-bea7-6085aa8b2cbc",
   "metadata": {},
   "outputs": [
    {
     "data": {
      "text/plain": [
       "((1, 'blueberry', 3), tuple)"
      ]
     },
     "execution_count": 206,
     "metadata": {},
     "output_type": "execute_result"
    }
   ],
   "source": [
    "#문제 5.아래의 튜플 tuple_a에서 \"banana\"를 \"blueberry\"로 변경하는 코드를 작성하세요.\n",
    "tuple_a = (\"apple\", \"banana\", \"cherry\")\n",
    "\n",
    "ist_a = list(tuple_a)\n",
    "list_a[1] = 'blueberry'\n",
    "tuple_a = tuple(list_a)\n",
    "tuple_a, type(tuple_a)\n",
    "\n",
    "#튜플은 변경 불가능 ... 튜플 -> 리스트 -> 튜플"
   ]
  },
  {
   "cell_type": "code",
   "execution_count": 207,
   "id": "31429ed8-9292-490d-aa85-7d08039bbd09",
   "metadata": {},
   "outputs": [
    {
     "data": {
      "text/plain": [
       "((5, 10, 15), tuple)"
      ]
     },
     "execution_count": 207,
     "metadata": {},
     "output_type": "execute_result"
    }
   ],
   "source": [
    "#문제 6.변수 a, b, c의 값을 사용하여 튜플 tuple_a를 생성하고 출력하는 코드를 작성하세요.\n",
    "a = 5\n",
    "b = 10\n",
    "c = 15\n",
    "\n",
    "tuple_abc = a,b,c\n",
    "tuple_abc, type(tuple_abc)\n",
    "\n",
    "#tuple_a = (a,b,c)\n",
    "#tuple_a"
   ]
  },
  {
   "cell_type": "code",
   "execution_count": 211,
   "id": "e71299a6-9681-4660-bd9c-363e4eb5c917",
   "metadata": {},
   "outputs": [
    {
     "data": {
      "text/plain": [
       "(19, 92)"
      ]
     },
     "execution_count": 211,
     "metadata": {},
     "output_type": "execute_result"
    }
   ],
   "source": [
    "#문제 7.튜플 numbers가 주어졌을 때, 튜플의 최대값과 최소값을 출력하는 코드를 작성하세요.\n",
    "numbers = (92, 89, 72, 31, 71, 33, 19)\n",
    "\n",
    "# dir(numbers)\n",
    "min(numbers), max(numbers)\n",
    "# dir(numbers)에 min,max 없지만 사용가능"
   ]
  },
  {
   "cell_type": "code",
   "execution_count": 212,
   "id": "bac53fbe-3b82-47b0-b581-5fecda69733b",
   "metadata": {},
   "outputs": [
    {
     "data": {
      "text/plain": [
       "({'name': 'Alice', 'age': 24, 'major': 'Computer Science'}, dict)"
      ]
     },
     "execution_count": 212,
     "metadata": {},
     "output_type": "execute_result"
    }
   ],
   "source": [
    "#문제 8.dict 타입의 student(변수명)를 생성하고, 아래의 키-값 쌍을 추가하는 코드를 작성하세요.\n",
    "name: \"Alice\"\n",
    "age: 24\n",
    "major: \"Computer Science\"\n",
    "\n",
    "student = dict(name=\"Alice\", age=24, major=\"Computer Science\")\n",
    "\n",
    "\n",
    "\n",
    "student, type(student)\n",
    "\n",
    "#student = { }\n",
    "#student[\"name\"] = \"Alice\"\n",
    "#student[\"age\"] = 24\n",
    "#student[\"major\"] = \"Computer Science\"\n",
    "#student"
   ]
  },
  {
   "cell_type": "code",
   "execution_count": 214,
   "id": "ea3433a9-4de2-44fd-83b9-b6d89d3663ab",
   "metadata": {},
   "outputs": [
    {
     "name": "stdout",
     "output_type": "stream",
     "text": [
      "name:Alice\n",
      "age:24\n",
      "major:Computer Science\n"
     ]
    }
   ],
   "source": [
    "#문제 9.위에서 생성한 student에서, 모든 키와 값을 출력하는 코드를 작성하세요\n",
    "student.keys(), student.values()\n",
    "\n",
    "#student.keys(), student.values() # . 하고 tab누르면 메서드 다 보임 \n",
    "\n",
    "# for k,v in student.items():\n",
    "#     print(f'{k}:{v}')"
   ]
  },
  {
   "cell_type": "code",
   "execution_count": 168,
   "id": "2203a078-dcfa-4d98-bfd5-cc7ce2a771aa",
   "metadata": {},
   "outputs": [
    {
     "data": {
      "text/plain": [
       "{'name': 'Alice', 'age': 26, 'major': 'Computer Science'}"
      ]
     },
     "execution_count": 168,
     "metadata": {},
     "output_type": "execute_result"
    }
   ],
   "source": [
    "#문제 10.위에서 생성한 student에서, age(나이)를 26으로 변경하세요.\n",
    "student['age'] = 26\n",
    "student"
   ]
  },
  {
   "cell_type": "code",
   "execution_count": 222,
   "id": "3651d3f6-b810-49ad-9e12-643047e43957",
   "metadata": {},
   "outputs": [
    {
     "data": {
      "text/plain": [
       "(['Alice', 'Bob', 'Charlie'], (24, 22, 23))"
      ]
     },
     "execution_count": 222,
     "metadata": {},
     "output_type": "execute_result"
    }
   ],
   "source": [
    "#문제 11. 다음 딕셔너리 students에서 name의 값을 리스트(name_list)로, age의 값을 튜플(age_tuple) 만드는 코드를 작성하세요\n",
    "students = {\n",
    "    \"student1\": {\"name\": \"Alice\", \"age\": 24},\n",
    "    \"student2\": {\"name\": \"Bob\", \"age\": 22},\n",
    "    \"student3\": {\"name\": \"Charlie\", \"age\": 23}\n",
    "}\n",
    "\n",
    "name_list = []\n",
    "age_list = []\n",
    "\n",
    "\n",
    "for key in students.keys():\n",
    "    stu = students[key]\n",
    "    name_list.append(stu['name'])\n",
    "    age_list.append(stu['age'])\n",
    "\n",
    "age_tuple = tuple(age_list)\n",
    "name_list, age_tuple\n",
    "\n"
   ]
  },
  {
   "cell_type": "code",
   "execution_count": null,
   "id": "ef7f7c8c-30af-4b1a-8497-71ba1e88b5c5",
   "metadata": {},
   "outputs": [],
   "source": []
  }
 ],
 "metadata": {
  "kernelspec": {
   "display_name": "Python 3 (ipykernel)",
   "language": "python",
   "name": "python3"
  },
  "language_info": {
   "codemirror_mode": {
    "name": "ipython",
    "version": 3
   },
   "file_extension": ".py",
   "mimetype": "text/x-python",
   "name": "python",
   "nbconvert_exporter": "python",
   "pygments_lexer": "ipython3",
   "version": "3.12.9"
  }
 },
 "nbformat": 4,
 "nbformat_minor": 5
}
