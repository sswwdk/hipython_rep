{
 "cells": [
  {
   "cell_type": "markdown",
   "id": "28a7e06f-5da7-425f-8e4b-d6ffdb4ce68b",
   "metadata": {
    "jp-MarkdownHeadingCollapsed": true
   },
   "source": [
    "## 들어가기 : 주석"
   ]
  },
  {
   "cell_type": "code",
   "execution_count": null,
   "id": "9d6da92b-ecf6-4eb9-be32-8e4b6c554259",
   "metadata": {},
   "outputs": [],
   "source": []
  },
  {
   "cell_type": "code",
   "execution_count": null,
   "id": "0fcbbb6c-59f5-4340-8d15-c223412ec7a9",
   "metadata": {},
   "outputs": [],
   "source": []
  },
  {
   "cell_type": "code",
   "execution_count": null,
   "id": "9feb752b-be27-4af5-9024-7ade969d51e0",
   "metadata": {},
   "outputs": [],
   "source": []
  },
  {
   "cell_type": "markdown",
   "id": "9b9ae50c-4961-4b29-a549-6be0e4a09d8f",
   "metadata": {},
   "source": [
    "# 표준 입력과 표준 출력"
   ]
  },
  {
   "cell_type": "markdown",
   "id": "75653165-a5fe-4c06-880c-159d6932f376",
   "metadata": {
    "jp-MarkdownHeadingCollapsed": true
   },
   "source": [
    "## 입력"
   ]
  },
  {
   "cell_type": "code",
   "execution_count": 4,
   "id": "0e09dd06-607b-4444-8082-a42b08321041",
   "metadata": {},
   "outputs": [
    {
     "data": {
      "text/plain": [
       "10"
      ]
     },
     "execution_count": 4,
     "metadata": {},
     "output_type": "execute_result"
    }
   ],
   "source": [
    "12345\n",
    "10\n",
    "# ipython 라이브러리의 기본 기능\n",
    "# print(12345) 표준출력 니응을 내장하고 있다."
   ]
  },
  {
   "cell_type": "code",
   "execution_count": 3,
   "id": "f9be0e70-6f24-4b0e-8b6e-fb2f7e65d713",
   "metadata": {},
   "outputs": [
    {
     "name": "stdout",
     "output_type": "stream",
     "text": [
      "12345\n"
     ]
    },
    {
     "data": {
      "text/plain": [
       "10"
      ]
     },
     "execution_count": 3,
     "metadata": {},
     "output_type": "execute_result"
    }
   ],
   "source": [
    "print(12345)\n",
    "10"
   ]
  },
  {
   "cell_type": "code",
   "execution_count": 15,
   "id": "ffa70f44-b1e3-4d35-9c76-c429bfd25d42",
   "metadata": {},
   "outputs": [
    {
     "data": {
      "text/plain": [
       "str"
      ]
     },
     "execution_count": 15,
     "metadata": {},
     "output_type": "execute_result"
    }
   ],
   "source": [
    "type('12345') #문자열 ' '"
   ]
  },
  {
   "cell_type": "code",
   "execution_count": 14,
   "id": "91ccbe93-87ce-48b0-be01-ef97304ba982",
   "metadata": {},
   "outputs": [
    {
     "data": {
      "text/plain": [
       "str"
      ]
     },
     "execution_count": 14,
     "metadata": {},
     "output_type": "execute_result"
    }
   ],
   "source": [
    "type(\"12345\") #문자열 \" \""
   ]
  },
  {
   "cell_type": "code",
   "execution_count": 13,
   "id": "5a72f332-8f86-4dd7-8140-d854f160d8f0",
   "metadata": {},
   "outputs": [
    {
     "data": {
      "text/plain": [
       "'123451234512345'"
      ]
     },
     "execution_count": 13,
     "metadata": {},
     "output_type": "execute_result"
    }
   ],
   "source": [
    "\"12345\" * 3 #문자열에  *(곱하기) 는 된다. [문자열을 3번 출력해라]"
   ]
  },
  {
   "cell_type": "code",
   "execution_count": 7,
   "id": "18e5c7fe-554e-48ae-95ae-699740d9d0a4",
   "metadata": {},
   "outputs": [
    {
     "data": {
      "text/plain": [
       "int"
      ]
     },
     "execution_count": 7,
     "metadata": {},
     "output_type": "execute_result"
    }
   ],
   "source": [
    "type(12345) "
   ]
  },
  {
   "cell_type": "code",
   "execution_count": 16,
   "id": "b9217098-3189-4870-a59a-625037abe497",
   "metadata": {},
   "outputs": [],
   "source": [
    "# '12345'+10 => TYPE ERROR"
   ]
  },
  {
   "cell_type": "markdown",
   "id": "e81b14ae-154c-4437-8d9b-3aefbdbe8fdb",
   "metadata": {
    "jp-MarkdownHeadingCollapsed": true
   },
   "source": [
    "## 출력"
   ]
  },
  {
   "cell_type": "code",
   "execution_count": 22,
   "id": "eb4da67f-774f-421a-a58e-c8cd3c0cc4e2",
   "metadata": {},
   "outputs": [
    {
     "name": "stdin",
     "output_type": "stream",
     "text": [
      "당신의 이름을 입력하세요 장승원\n"
     ]
    },
    {
     "data": {
      "text/plain": [
       "'장승원'"
      ]
     },
     "execution_count": 22,
     "metadata": {},
     "output_type": "execute_result"
    }
   ],
   "source": [
    "name = input(\"당신의 이름을 입력하세요\")\n",
    "name"
   ]
  },
  {
   "cell_type": "code",
   "execution_count": 31,
   "id": "2a5a93f8-5c48-43fb-88b5-ca713225ef97",
   "metadata": {},
   "outputs": [
    {
     "name": "stdin",
     "output_type": "stream",
     "text": [
      "당신의 나이를 입력하세요 24\n"
     ]
    },
    {
     "data": {
      "text/plain": [
       "'24'"
      ]
     },
     "execution_count": 31,
     "metadata": {},
     "output_type": "execute_result"
    }
   ],
   "source": [
    "age = input(\"당신의 나이를 입력하세요\")\n",
    "age"
   ]
  },
  {
   "cell_type": "code",
   "execution_count": 23,
   "id": "4c7a2ddc-dc80-4045-9d8d-9c2b51094657",
   "metadata": {},
   "outputs": [
    {
     "data": {
      "text/plain": [
       "'장승원'"
      ]
     },
     "execution_count": 23,
     "metadata": {},
     "output_type": "execute_result"
    }
   ],
   "source": [
    "name"
   ]
  },
  {
   "cell_type": "code",
   "execution_count": 32,
   "id": "cfd96b3a-15f9-47a9-bf4a-6b5a7abb062c",
   "metadata": {},
   "outputs": [
    {
     "data": {
      "text/plain": [
       "('24', '장승원')"
      ]
     },
     "execution_count": 32,
     "metadata": {},
     "output_type": "execute_result"
    }
   ],
   "source": [
    "age, name"
   ]
  },
  {
   "cell_type": "code",
   "execution_count": 33,
   "id": "b11e3121-6a37-4c47-aadb-8a7bd94765df",
   "metadata": {},
   "outputs": [
    {
     "name": "stdout",
     "output_type": "stream",
     "text": [
      "나는  장승원 이고 나이는  24 입니다\n",
      "나는 장승원이고 나이는 24입니다\n"
     ]
    }
   ],
   "source": [
    "print(\"나는 \",name,\"이고 나이는 \",age,\"입니다\")\n",
    "print(\"나는 \"+name+\"이고 나이는 \"+age+\"입니다\")"
   ]
  },
  {
   "cell_type": "code",
   "execution_count": 34,
   "id": "58493706-f933-4020-a90f-13b3b4db8681",
   "metadata": {},
   "outputs": [],
   "source": [
    "# age + 10 #type ERROR "
   ]
  },
  {
   "cell_type": "markdown",
   "id": "3c33da86-d972-4f42-ab05-7a13a6563dcc",
   "metadata": {},
   "source": [
    "input으로 받는 값은 무조건 문자열이다"
   ]
  },
  {
   "cell_type": "code",
   "execution_count": 35,
   "id": "3e3dcfde-d322-4e39-af60-dfda7fa26bd3",
   "metadata": {},
   "outputs": [
    {
     "data": {
      "text/plain": [
       "24"
      ]
     },
     "execution_count": 35,
     "metadata": {},
     "output_type": "execute_result"
    }
   ],
   "source": [
    "int(age)"
   ]
  },
  {
   "cell_type": "code",
   "execution_count": 38,
   "id": "be53f6fe-595c-4c5f-83b2-d73a37c441d3",
   "metadata": {},
   "outputs": [
    {
     "data": {
      "text/plain": [
       "34"
      ]
     },
     "execution_count": 38,
     "metadata": {},
     "output_type": "execute_result"
    }
   ],
   "source": [
    "int(age) + 10 # age + 10 은 여전히 안된다. int(age)를 했다 해도 위에서는 age의 값을 int값으로 출력만 해준 것이기 때문 "
   ]
  },
  {
   "cell_type": "code",
   "execution_count": null,
   "id": "0029ad99-5b46-4977-b55f-f1f74b3f89c9",
   "metadata": {},
   "outputs": [],
   "source": []
  },
  {
   "cell_type": "code",
   "execution_count": 48,
   "id": "7d7ebcc7-8b27-4d05-999d-feb415d0ce8e",
   "metadata": {},
   "outputs": [
    {
     "name": "stdout",
     "output_type": "stream",
     "text": [
      "장 : 장승원 \n",
      "승 : 승원장 \n",
      "원 : 원승장 \n"
     ]
    }
   ],
   "source": [
    "#자기 이름으로 삼행시 짓기\n",
    "\n",
    "print(\"장 : 장승원 \")\n",
    "print(\"승 : 승원장 \")\n",
    "print(\"원 : 원승장 \")"
   ]
  },
  {
   "cell_type": "code",
   "execution_count": 49,
   "id": "5231dae0-f532-4492-9593-c330cafbb4db",
   "metadata": {},
   "outputs": [
    {
     "name": "stdin",
     "output_type": "stream",
     "text": [
      "장 : 장승원\n",
      "승 : 승원장\n",
      "원 : 원승장\n"
     ]
    },
    {
     "name": "stdout",
     "output_type": "stream",
     "text": [
      "장승원!승원장!원승장\n"
     ]
    }
   ],
   "source": [
    "first = input(\"장 :\")\n",
    "second = input(\"승 :\")\n",
    "third = input(\"원 :\")\n",
    "\n",
    "print(first,second,third, sep=\"!\") #각 쉽표 매개변수와 매개변수 사이를 separator로 변환한다."
   ]
  },
  {
   "cell_type": "code",
   "execution_count": 52,
   "id": "ce13bf92-9ddd-4f2d-b1e1-6d6ef8fb48f3",
   "metadata": {},
   "outputs": [
    {
     "name": "stdout",
     "output_type": "stream",
     "text": [
      "장승원\n",
      "승원장\n",
      "원승장\n"
     ]
    }
   ],
   "source": [
    "print(first, second, third, sep=\"\\n\") # \\n : 줄바꿈 기호, <br>느낌 # /아니라 역슬레시 \\"
   ]
  },
  {
   "cell_type": "markdown",
   "id": "6dacf6ef-54bd-4ed2-b4ff-30b643b44123",
   "metadata": {
    "jp-MarkdownHeadingCollapsed": true
   },
   "source": [
    "# 변수"
   ]
  },
  {
   "cell_type": "markdown",
   "id": "7a14b735-393a-4741-a3e8-140ec74b2cb5",
   "metadata": {},
   "source": [
    "변수 type safe : 변수를 선언할 때 타입(유형)을 지정하지 않아도 되는 특성<br>\n",
    "변수명 = 값<br>\n",
    "## 변수의 명명규칙 \n",
    "1.문자, 숫자, 밑줄을 가지고 만든다<br>\n",
    "2. 숫자로 시작하면 X<br>\n",
    "3. 대소문자를 구분한다<br>\n",
    "4. 예약어, 특수문자, 공백 X"
   ]
  },
  {
   "cell_type": "code",
   "execution_count": 60,
   "id": "911b2c31-f5f1-4a6d-8fe5-3c285d96c9e6",
   "metadata": {},
   "outputs": [
    {
     "data": {
      "text/plain": [
       "(int, str, float)"
      ]
     },
     "execution_count": 60,
     "metadata": {},
     "output_type": "execute_result"
    }
   ],
   "source": [
    "x = 10\n",
    "y = \"hello\"\n",
    "z = 3.141592\n",
    "\n",
    "x,y,z\n",
    "\n",
    "type(x),type(y),type(z)"
   ]
  },
  {
   "cell_type": "code",
   "execution_count": 61,
   "id": "72fc0b39-7339-4ddc-aba5-39580e4bc7d5",
   "metadata": {},
   "outputs": [
    {
     "name": "stdout",
     "output_type": "stream",
     "text": [
      "<class 'int'> <class 'str'> <class 'float'>\n"
     ]
    }
   ],
   "source": [
    "print(type(x),type(y),type(z))"
   ]
  },
  {
   "cell_type": "code",
   "execution_count": 65,
   "id": "0b10f65f-74b2-413f-bd9a-7c99cc398867",
   "metadata": {},
   "outputs": [
    {
     "data": {
      "text/plain": [
       "(10, 20, 30)"
      ]
     },
     "execution_count": 65,
     "metadata": {},
     "output_type": "execute_result"
    }
   ],
   "source": [
    "a, b, c = 10, 20, 30\n",
    "a, b, c"
   ]
  },
  {
   "cell_type": "code",
   "execution_count": 64,
   "id": "e896d074-1a8e-45db-bd16-bf84c60c1948",
   "metadata": {},
   "outputs": [
    {
     "data": {
      "text/plain": [
       "(10, 20, 30)"
      ]
     },
     "execution_count": 64,
     "metadata": {},
     "output_type": "execute_result"
    }
   ],
   "source": [
    "a = 10\n",
    "b = 20\n",
    "c = 30\n",
    "a, b, c"
   ]
  },
  {
   "cell_type": "code",
   "execution_count": 67,
   "id": "e082e3a8-8640-4726-983d-6f8626bf0ce1",
   "metadata": {},
   "outputs": [
    {
     "data": {
      "text/plain": [
       "(40, 40, 40)"
      ]
     },
     "execution_count": 67,
     "metadata": {},
     "output_type": "execute_result"
    }
   ],
   "source": [
    "a = b = c = 40\n",
    "a, b, c"
   ]
  },
  {
   "cell_type": "code",
   "execution_count": 77,
   "id": "038edb22-a98f-4064-97a1-19d72a8869ca",
   "metadata": {},
   "outputs": [
    {
     "data": {
      "text/plain": [
       "(True, None)"
      ]
     },
     "execution_count": 77,
     "metadata": {},
     "output_type": "execute_result"
    }
   ],
   "source": [
    "d = True #bool형\n",
    "e = None #type이 없음 : NoneType\n",
    "d, e"
   ]
  },
  {
   "cell_type": "code",
   "execution_count": 9,
   "id": "f83dacbf-88a2-407e-8f2a-5a58b19bda99",
   "metadata": {},
   "outputs": [
    {
     "name": "stdout",
     "output_type": "stream",
     "text": [
      "10 10\n"
     ]
    },
    {
     "data": {
      "text/plain": [
       "(140706064181976, 140706064181976)"
      ]
     },
     "execution_count": 9,
     "metadata": {},
     "output_type": "execute_result"
    }
   ],
   "source": [
    "aa = 10\n",
    "bb= aa\n",
    "print(aa, bb)\n",
    "id(aa), id(bb)"
   ]
  },
  {
   "cell_type": "code",
   "execution_count": 11,
   "id": "cf4ea7bb-631a-46c5-a97c-f0ab833e76f9",
   "metadata": {},
   "outputs": [
    {
     "name": "stdout",
     "output_type": "stream",
     "text": [
      "30 10\n"
     ]
    },
    {
     "data": {
      "text/plain": [
       "(140706064182616, 140706064181976)"
      ]
     },
     "execution_count": 11,
     "metadata": {},
     "output_type": "execute_result"
    }
   ],
   "source": [
    "aa = 30\n",
    "print(aa, bb)\n",
    "id(aa), id(bb)"
   ]
  },
  {
   "cell_type": "code",
   "execution_count": 13,
   "id": "961c07ba-2d89-4eec-b0f7-4c356e92f103",
   "metadata": {},
   "outputs": [],
   "source": [
    "#의미를 부여 하기 어려운 변수명 \n",
    "x = 100\n",
    "y = 100\n",
    "\n",
    "#의미있는 변수명\n",
    "age = 20\n",
    "name = \"Jangseungwon\"\n",
    "user_name = \"JSW\"\n",
    "admin_Name = \"JSWW\"\n",
    "\n",
    "#대문자 Upper-case 상수에 사용\n",
    "PI = 3.141592\n",
    "MAX_VALUE = 10 #최대값\n",
    "MIN_VALUE = 0 #최솟값"
   ]
  },
  {
   "cell_type": "markdown",
   "id": "a186ec95-e624-4b8d-bcf8-8ea8c6216232",
   "metadata": {},
   "source": [
    "## NAME_SPACE\n",
    "변수가 최로로 정의된 영역에 따라 유효범위가 결정됩니다.    \n",
    "- 지역변수 : 함수 영역 내에서 선언한 변수\n",
    "- 전역변수 : 함수 영역 밖에서 선언한 변수, global 키워드 사용\n",
    "- 정적변수 : 클래스에서 사용하는 변수"
   ]
  },
  {
   "cell_type": "code",
   "execution_count": 26,
   "id": "b0ba8e94-c3c9-497a-a3ac-f06da22cf783",
   "metadata": {},
   "outputs": [
    {
     "name": "stdout",
     "output_type": "stream",
     "text": [
      "여기는 함수의 영역입니다 100\n"
     ]
    }
   ],
   "source": [
    "# 지역 변수\n",
    "def local_example():\n",
    "    local_var = 100\n",
    "    print(\"여기는 함수의 영역입니다\", local_var)\n",
    " \n",
    "# local_var #NameError: name 'local_var' is not defined\n",
    "local_example()"
   ]
  },
  {
   "cell_type": "code",
   "execution_count": 28,
   "id": "51bae920-6fc8-49cb-9f19-2b362264ce45",
   "metadata": {},
   "outputs": [
    {
     "name": "stdout",
     "output_type": "stream",
     "text": [
      "나는 전역이다\n",
      "여기는 함수의 영역입니다 100 나는 전역이다\n"
     ]
    }
   ],
   "source": [
    "# 전역 변수\n",
    "global_var = \"나는 전역이다\"\n",
    "print(global_var)\n",
    "\n",
    "def global_example():\n",
    "    local_var = 100\n",
    "    print(\"여기는 함수의 영역입니다\", local_var, global_var)\n",
    "global_example()"
   ]
  },
  {
   "cell_type": "markdown",
   "id": "060cc019-9937-421d-89d1-43e202cf95bf",
   "metadata": {},
   "source": [
    "## global"
   ]
  },
  {
   "cell_type": "code",
   "execution_count": 34,
   "id": "1854ef2b-a3ae-4023-9e8f-ce77592eabcb",
   "metadata": {},
   "outputs": [
    {
     "name": "stdout",
     "output_type": "stream",
     "text": [
      "나는 전역이다\n",
      "여기는 함수의 영역입니다 나는 전역이다\n",
      "나는 전역이다\n"
     ]
    }
   ],
   "source": [
    "var_test = \"나는 전역이다\"\n",
    "print(var_test)\n",
    "\n",
    "def global_example():\n",
    "    # global var_test = 100 <= 틀린 표현 #선언과 할당을 같이 할 수 없다 \n",
    "    global var_test\n",
    "    print(\"여기는 함수의 영역입니다\", var_test)\n",
    "\n",
    "global_example()\n",
    "print(var_test)\n",
    "# global 함수 앞에 붙이면 함수 밖에서 불러와라 의미"
   ]
  },
  {
   "cell_type": "code",
   "execution_count": 48,
   "id": "d1935a07-8a00-4e36-b3cf-a37a5169724e",
   "metadata": {},
   "outputs": [
    {
     "name": "stdout",
     "output_type": "stream",
     "text": [
      "카운터 : 1\n",
      "카운터 : 2\n"
     ]
    }
   ],
   "source": [
    "# 변수 영역 연습\n",
    "counter = 0  #global\n",
    "\n",
    "def increment_counter():\n",
    "    #counter = counter + 1\n",
    "    global counter #갖고 오기\n",
    "    counter += 1\n",
    "    print(\"카운터 :\", counter)\n",
    "\n",
    "increment_counter()\n",
    "increment_counter()"
   ]
  },
  {
   "cell_type": "markdown",
   "id": "8fbe13a8-dea5-48fe-a35b-da6a69fdbbbd",
   "metadata": {
    "jp-MarkdownHeadingCollapsed": true
   },
   "source": [
    "# 교재 변수연습"
   ]
  },
  {
   "cell_type": "code",
   "execution_count": 51,
   "id": "4022b120-cb04-4b7d-a52c-ccadeb56fc66",
   "metadata": {},
   "outputs": [
    {
     "data": {
      "text/plain": [
       "(3077941402240, 3077941402240)"
      ]
     },
     "execution_count": 51,
     "metadata": {},
     "output_type": "execute_result"
    }
   ],
   "source": [
    "a = [1, 2, 3]\n",
    "b = a\n",
    "\n",
    "id(a), id(b)"
   ]
  },
  {
   "cell_type": "code",
   "execution_count": 56,
   "id": "2cefb5d2-67c8-4d32-9713-6d8e45b47997",
   "metadata": {},
   "outputs": [
    {
     "data": {
      "text/plain": [
       "([1, 3, 4], [1, 3, 5])"
      ]
     },
     "execution_count": 56,
     "metadata": {},
     "output_type": "execute_result"
    }
   ],
   "source": [
    "a = [1 ,3, 5]\n",
    "b = a[:]\n",
    "a[2] = 4\n",
    "a, b"
   ]
  },
  {
   "cell_type": "markdown",
   "id": "249ad06c-33fd-4984-ae49-8e11107cdf7a",
   "metadata": {},
   "source": [
    "# 초보자를 위한 파이썬 300제"
   ]
  },
  {
   "cell_type": "code",
   "execution_count": 68,
   "id": "6e908de7-fbf3-445e-867b-642d18b79dcb",
   "metadata": {},
   "outputs": [
    {
     "name": "stdout",
     "output_type": "stream",
     "text": [
      "Hello World\n"
     ]
    }
   ],
   "source": [
    "#1\n",
    "print(\"Hello World\")"
   ]
  },
  {
   "cell_type": "code",
   "execution_count": 69,
   "id": "aec76977-3948-4ec7-bf9d-856ac10db3ba",
   "metadata": {},
   "outputs": [
    {
     "name": "stdout",
     "output_type": "stream",
     "text": [
      "Mary's cosmetic\n"
     ]
    }
   ],
   "source": [
    "#2\n",
    "print(\"Mary's cosmetic\")"
   ]
  },
  {
   "cell_type": "code",
   "execution_count": 70,
   "id": "ec0c4962-8b1d-4c06-8bad-35d18c6ef61b",
   "metadata": {},
   "outputs": [
    {
     "name": "stdout",
     "output_type": "stream",
     "text": [
      "신씨가 소리질렀다. \"도둑이야\".\n"
     ]
    }
   ],
   "source": [
    "#3\n",
    "print('신씨가 소리질렀다. \"도둑이야\".')"
   ]
  },
  {
   "cell_type": "code",
   "execution_count": 96,
   "id": "a5f17509-d08d-4bdf-9685-5c44af7e47f2",
   "metadata": {},
   "outputs": [
    {
     "name": "stdout",
     "output_type": "stream",
     "text": [
      "C:\\Windows\n"
     ]
    },
    {
     "name": "stderr",
     "output_type": "stream",
     "text": [
      "<>:2: SyntaxWarning: invalid escape sequence '\\W'\n",
      "<>:2: SyntaxWarning: invalid escape sequence '\\W'\n",
      "C:\\Users\\Admin\\AppData\\Local\\Temp\\ipykernel_13164\\1801644531.py:2: SyntaxWarning: invalid escape sequence '\\W'\n",
      "  print(\"C:\\Windows\")\n"
     ]
    }
   ],
   "source": [
    "#4\n",
    "print(\"C:\\Windows\")"
   ]
  },
  {
   "cell_type": "code",
   "execution_count": 72,
   "id": "013b1d40-c518-4e87-8d4c-1fdc0831013c",
   "metadata": {},
   "outputs": [
    {
     "name": "stdout",
     "output_type": "stream",
     "text": [
      "안녕하세요.\n",
      "만나서\t\t반갑습니다.\n"
     ]
    }
   ],
   "source": [
    "#5\n",
    "print(\"안녕하세요.\\n만나서\\t\\t반갑습니다.\")\n",
    "#\\n은 줄바꿈, \\t는 tab"
   ]
  },
  {
   "cell_type": "code",
   "execution_count": 73,
   "id": "790a0e4a-8f9f-4cde-9712-bbb34eb2b6c9",
   "metadata": {},
   "outputs": [
    {
     "name": "stdout",
     "output_type": "stream",
     "text": [
      "오늘은 일요일\n"
     ]
    }
   ],
   "source": [
    "#6\n",
    "print(\"오늘은\",\"일요일\")"
   ]
  },
  {
   "cell_type": "code",
   "execution_count": 78,
   "id": "52459a3a-14b2-4ef1-857e-72ad32fba7a6",
   "metadata": {},
   "outputs": [
    {
     "name": "stdout",
     "output_type": "stream",
     "text": [
      "naver;kakao;sk;samsung\n"
     ]
    }
   ],
   "source": [
    "#7\n",
    "print(\"naver\",\"kakao\",\"sk\",\"samsung\", sep=\";\")"
   ]
  },
  {
   "cell_type": "code",
   "execution_count": 79,
   "id": "4b780c86-91b9-4171-9c09-3597061aef81",
   "metadata": {},
   "outputs": [
    {
     "name": "stdout",
     "output_type": "stream",
     "text": [
      "naver/kakao/sk/samsung\n"
     ]
    }
   ],
   "source": [
    "#8\n",
    "print(\"naver\",\"kakao\",\"sk\",\"samsung\",sep=\"/\")"
   ]
  },
  {
   "cell_type": "code",
   "execution_count": 82,
   "id": "9310d8ce-ee04-4a96-ba1f-dc201c093c4a",
   "metadata": {},
   "outputs": [
    {
     "name": "stdout",
     "output_type": "stream",
     "text": [
      "first second\n"
     ]
    }
   ],
   "source": [
    "#9\n",
    "print(\"first\",end=\" \");print(\"second\")"
   ]
  },
  {
   "cell_type": "code",
   "execution_count": 86,
   "id": "68d88389-74c6-4ef9-81c7-48462a9a4aeb",
   "metadata": {},
   "outputs": [
    {
     "name": "stdout",
     "output_type": "stream",
     "text": [
      "1.6666666666666667\n"
     ]
    }
   ],
   "source": [
    "#10\n",
    "print(5/3)"
   ]
  },
  {
   "cell_type": "code",
   "execution_count": 91,
   "id": "0bcecafb-4ca0-462f-9fd2-eec64530bd3f",
   "metadata": {},
   "outputs": [
    {
     "name": "stdout",
     "output_type": "stream",
     "text": [
      "500000\n"
     ]
    }
   ],
   "source": [
    "#11\n",
    "삼성전자 = 50000\n",
    "총평가금액 = 삼성전자 * 10\n",
    "print(총평가금액)"
   ]
  },
  {
   "cell_type": "code",
   "execution_count": 92,
   "id": "223c653f-f9a1-42fb-9dee-aff0e72df325",
   "metadata": {},
   "outputs": [
    {
     "name": "stdout",
     "output_type": "stream",
     "text": [
      "2980\n",
      "50000\n",
      "15.79\n"
     ]
    },
    {
     "data": {
      "text/plain": [
       "(None, None, None)"
      ]
     },
     "execution_count": 92,
     "metadata": {},
     "output_type": "execute_result"
    }
   ],
   "source": [
    "#11\n",
    "시가총액 = 2980\n",
    "현재가 = 50000\n",
    "PER = 15.79\n",
    "\n",
    "print(시가총액),print(현재가),print(PER)"
   ]
  },
  {
   "cell_type": "markdown",
   "id": "5ceb694d-d46e-44a0-975a-fbc8a456c51a",
   "metadata": {},
   "source": [
    "# 자료형\n",
    "-기본자료형: 숫자형, 문자열형 str, 부울형   \n",
    "-복합자료형: 리스트, 셋, 튜플, 딕셔너리 "
   ]
  },
  {
   "cell_type": "markdown",
   "id": "cb6ffa77-e2f7-44cf-974b-b2d4577ec1d3",
   "metadata": {},
   "source": [
    "| type | 설명 | 예 |\n",
    "|-----|-----|-----|\n",
    "|정수형(int) | 정수를 저장하는 자료형 | 1, -5, 100|\n",
    "|실수형 (float)|소수점이 있는 숫자를 저장하는 자료형|3.14, -0.001, 2.0|\n",
    "|문자열 (str) |텍스트를 저장하는 자료형 |\"Hello\", '파이썬'|\n",
    "|논리형 (bool)|참/거짓 값을 저장하는 자료형|True, False|"
   ]
  },
  {
   "cell_type": "markdown",
   "id": "f6c1b98c-e0cb-4fcb-adea-da042241aaba",
   "metadata": {},
   "source": [
    "-수정 불가능한 데이터 타입 : 수치형, 부울형, 문자열, 튜플   \n",
    "-수정 가능한 데이터 타입 :  리스트, 딕셔너리, 셋"
   ]
  },
  {
   "cell_type": "code",
   "execution_count": 100,
   "id": "fd538539-012b-4cdf-bd5e-0ae47ca6f143",
   "metadata": {},
   "outputs": [
    {
     "data": {
      "text/plain": [
       "(20, int)"
      ]
     },
     "execution_count": 100,
     "metadata": {},
     "output_type": "execute_result"
    }
   ],
   "source": [
    "#수치형\n",
    "20, type(20)"
   ]
  },
  {
   "cell_type": "code",
   "execution_count": 101,
   "id": "5358bd4b-22fd-479f-9f8f-08a66e831506",
   "metadata": {},
   "outputs": [
    {
     "data": {
      "text/plain": [
       "int"
      ]
     },
     "execution_count": 101,
     "metadata": {},
     "output_type": "execute_result"
    }
   ],
   "source": [
    "age = 20\n",
    "type(age)"
   ]
  },
  {
   "cell_type": "markdown",
   "id": "282323c4-07c2-46c3-89e7-dc79f569e76d",
   "metadata": {},
   "source": [
    "### 진법   \n",
    "1. 진법 : 10진수, 2진수, 8진수, 16진수   \n",
    "2. 입력하는 방법은 다르지만, print() 결과는 동일하다."
   ]
  },
  {
   "cell_type": "code",
   "execution_count": 109,
   "id": "47aef085-579f-4603-b62c-6ebb5c019f67",
   "metadata": {},
   "outputs": [
    {
     "data": {
      "text/plain": [
       "(10, 5)"
      ]
     },
     "execution_count": 109,
     "metadata": {},
     "output_type": "execute_result"
    }
   ],
   "source": [
    "a = 10\n",
    "b = 0b0101 #2진수 0,1로 표현하는 방법 => 0b 0101 -> 1+0+4+0 = 5  # 0b b는 2진수\n",
    "a, b"
   ]
  },
  {
   "cell_type": "code",
   "execution_count": 112,
   "id": "4e230a35-23d2-4d4a-af41-1a955d5c5808",
   "metadata": {},
   "outputs": [
    {
     "data": {
      "text/plain": [
       "(8, 27)"
      ]
     },
     "execution_count": 112,
     "metadata": {},
     "output_type": "execute_result"
    }
   ],
   "source": [
    "c = 0o10 # o는 8진수 옥타곤\n",
    "d = 0x1B\n",
    "c, d"
   ]
  },
  {
   "cell_type": "markdown",
   "id": "041304bd-d525-461c-a472-47d9a82cca2c",
   "metadata": {},
   "source": [
    "|진수|접두사 |예시|\n",
    "|-----|-----|-----|\n",
    "|2진수|0b 또는 0B|0b1010 → 10|\n",
    "|8진수|0o 또는 0O|0o12 → 10|\n",
    "|16진수|0x 또는 0X|0xA → 10|\n",
    "\n",
    "16진수는 1 ~ 9는 숫자, 10 ~ 15는 A, B, C, D, E, F"
   ]
  },
  {
   "cell_type": "code",
   "execution_count": 113,
   "id": "d82fdb07-fa62-4ef1-8eed-b63bf1d934b7",
   "metadata": {},
   "outputs": [
    {
     "data": {
      "text/plain": [
       "float"
      ]
     },
     "execution_count": 113,
     "metadata": {},
     "output_type": "execute_result"
    }
   ],
   "source": [
    "#float\n",
    "b= 3.14\n",
    "type(b)"
   ]
  },
  {
   "cell_type": "markdown",
   "id": "54490336-dd7c-4252-bfe6-0d918c5ca0ac",
   "metadata": {},
   "source": [
    "### 지수의 표기    \n",
    "숫자e2 -> 10^2의 곱 = 10** *2   \n",
    "숫자e-2 -> 10^-2의 곱 = 10**  -2"
   ]
  },
  {
   "cell_type": "code",
   "execution_count": 114,
   "id": "78a040be-5d42-4e51-9d6d-c7a8387853f4",
   "metadata": {},
   "outputs": [
    {
     "data": {
      "text/plain": [
       "1000.0"
      ]
     },
     "execution_count": 114,
     "metadata": {},
     "output_type": "execute_result"
    }
   ],
   "source": [
    "fa = 10e2\n",
    "fa\n"
   ]
  },
  {
   "cell_type": "code",
   "execution_count": 115,
   "id": "1c1817f2-9e70-474c-8bda-f76030cccc7b",
   "metadata": {},
   "outputs": [
    {
     "data": {
      "text/plain": [
       "0.1"
      ]
     },
     "execution_count": 115,
     "metadata": {},
     "output_type": "execute_result"
    }
   ],
   "source": [
    "fb = 10e-2\n",
    "fb"
   ]
  },
  {
   "cell_type": "code",
   "execution_count": 116,
   "id": "de75a72d-66c4-4fd3-827b-b12a4e73be4a",
   "metadata": {},
   "outputs": [
    {
     "data": {
      "text/plain": [
       "314.1592"
      ]
     },
     "execution_count": 116,
     "metadata": {},
     "output_type": "execute_result"
    }
   ],
   "source": [
    "fc = 3.141592e2\n",
    "fc"
   ]
  },
  {
   "cell_type": "markdown",
   "id": "082093bf-047d-499c-be49-8a96aa22be22",
   "metadata": {},
   "source": [
    "### BOOLEAN - True, False   \n",
    "논리연산, 비교연산"
   ]
  },
  {
   "cell_type": "code",
   "execution_count": 144,
   "id": "de7844b5-b9e6-48ad-96b6-1744ab2c41f7",
   "metadata": {},
   "outputs": [],
   "source": [
    "ba  = True\n",
    "bb = true #true는 변수 [ERROR 이름이 true가 정의되지 않았다]\n",
    "\n",
    "type(ba), type(bb)"
   ]
  },
  {
   "cell_type": "code",
   "execution_count": 124,
   "id": "94de6572-724b-4d51-8ca0-f4e569c96206",
   "metadata": {},
   "outputs": [
    {
     "data": {
      "text/plain": [
       "True"
      ]
     },
     "execution_count": 124,
     "metadata": {},
     "output_type": "execute_result"
    }
   ],
   "source": [
    "ba == 1  #True == 1 , False == 0"
   ]
  },
  {
   "cell_type": "code",
   "execution_count": 125,
   "id": "c9df22f3-8caa-4985-adbe-513811ff575f",
   "metadata": {},
   "outputs": [
    {
     "data": {
      "text/plain": [
       "1"
      ]
     },
     "execution_count": 125,
     "metadata": {},
     "output_type": "execute_result"
    }
   ],
   "source": [
    "# 논리 연산자 and or not\n",
    "bc = 1\n",
    "ba and bc"
   ]
  },
  {
   "cell_type": "code",
   "execution_count": 126,
   "id": "0e573b28-8add-4bf1-8e5a-e75493fcbd9d",
   "metadata": {},
   "outputs": [],
   "source": [
    "#사칙연선 + - * / // %\n",
    "a = 2 \n",
    "b = 3"
   ]
  },
  {
   "cell_type": "code",
   "execution_count": 131,
   "id": "58ea4c55-233c-4882-b742-8965f92034a9",
   "metadata": {},
   "outputs": [
    {
     "data": {
      "text/plain": [
       "(0.6666666666666666, 0, 2)"
      ]
     },
     "execution_count": 131,
     "metadata": {},
     "output_type": "execute_result"
    }
   ],
   "source": [
    "a+b   \n",
    "a-b   \n",
    "a*b\n",
    "a/b, a//b, a%b # /나누기, //몫, %나머지"
   ]
  },
  {
   "cell_type": "code",
   "execution_count": 137,
   "id": "5fa7009a-dce1-4f18-bd27-5224748143bd",
   "metadata": {},
   "outputs": [
    {
     "data": {
      "text/plain": [
       "True"
      ]
     },
     "execution_count": 137,
     "metadata": {},
     "output_type": "execute_result"
    }
   ],
   "source": [
    "#비교연산자\n",
    "1+2 == 3 #True\n",
    "1+2 != 3 #False\n",
    "1+3 > 3 #True\n",
    "1+3 < 3 #False\n",
    "1+3 <= 4 #True"
   ]
  },
  {
   "cell_type": "code",
   "execution_count": 138,
   "id": "bb82d286-af01-422a-b697-324450a4b595",
   "metadata": {},
   "outputs": [
    {
     "data": {
      "text/plain": [
       "True"
      ]
     },
     "execution_count": 138,
     "metadata": {},
     "output_type": "execute_result"
    }
   ],
   "source": [
    "#비교연산자와 논리연산자의 결합\n",
    "\n",
    "10%2 == 0 and 12%3 == 0"
   ]
  },
  {
   "cell_type": "code",
   "execution_count": 140,
   "id": "d7b54cde-75fd-4282-ab7e-0ee667a4b611",
   "metadata": {},
   "outputs": [
    {
     "data": {
      "text/plain": [
       "('1234', '5678', 3077900966272, 3077949443600)"
      ]
     },
     "execution_count": 140,
     "metadata": {},
     "output_type": "execute_result"
    }
   ],
   "source": [
    "a = '1234'\n",
    "b = '5678'\n",
    "a,b,id(a),id(b)"
   ]
  },
  {
   "cell_type": "code",
   "execution_count": 141,
   "id": "b2122384-c787-4bf1-a959-6ccd157a1d2c",
   "metadata": {},
   "outputs": [
    {
     "data": {
      "text/plain": [
       "False"
      ]
     },
     "execution_count": 141,
     "metadata": {},
     "output_type": "execute_result"
    }
   ],
   "source": [
    "id(a) == id(b)"
   ]
  },
  {
   "cell_type": "code",
   "execution_count": 145,
   "id": "2fd056c1-dbe7-4c40-b076-26accf9fc15d",
   "metadata": {},
   "outputs": [
    {
     "data": {
      "text/plain": [
       "(10, 12)"
      ]
     },
     "execution_count": 145,
     "metadata": {},
     "output_type": "execute_result"
    }
   ],
   "source": [
    "#대입연산자\n",
    "a = 10\n",
    "b = a + 2\n",
    "a,b "
   ]
  },
  {
   "cell_type": "code",
   "execution_count": 147,
   "id": "612f822f-f4e2-4899-a03c-642a8324f13b",
   "metadata": {},
   "outputs": [
    {
     "data": {
      "text/plain": [
       "21"
      ]
     },
     "execution_count": 147,
     "metadata": {},
     "output_type": "execute_result"
    }
   ],
   "source": [
    "a = 20\n",
    "a +=1  # a = a + 1\n",
    "a"
   ]
  },
  {
   "cell_type": "code",
   "execution_count": 149,
   "id": "d90d417c-6504-41b8-8770-dc76f61284f7",
   "metadata": {},
   "outputs": [
    {
     "data": {
      "text/plain": [
       "19"
      ]
     },
     "execution_count": 149,
     "metadata": {},
     "output_type": "execute_result"
    }
   ],
   "source": [
    "a = 20 \n",
    "a -=1 # a = a - 1\n",
    "a"
   ]
  },
  {
   "cell_type": "code",
   "execution_count": 154,
   "id": "5b7ee3b1-30bd-4a89-b4f0-d4947d3eb389",
   "metadata": {},
   "outputs": [
    {
     "data": {
      "text/plain": [
       "7"
      ]
     },
     "execution_count": 154,
     "metadata": {},
     "output_type": "execute_result"
    }
   ],
   "source": [
    "a = 3\n",
    "b =2 \n",
    "a+=2 + b \n",
    "a"
   ]
  },
  {
   "cell_type": "markdown",
   "id": "eaece560-149d-444d-8fb1-d35ff8da99b3",
   "metadata": {},
   "source": [
    "# 문자열 str   \n",
    "' ', \" \", \"\"\" \"\"\", ''' ''' docstring   \n",
    "인코드 > 코드 > 숫자값 정해져 있다. \"코드표\""
   ]
  },
  {
   "cell_type": "markdown",
   "id": "4ebe3f50-8c19-4081-b19d-40af78379418",
   "metadata": {},
   "source": [
    "유니코드 문자 표준\n",
    "영어는 ascii -> 유니코드\n",
    "한국어도 유니코드\n",
    "\n",
    "유니코드가 글자의 크기에 따라 utf-8, [utf-16, utf-32] 디코딩\n",
    "\n",
    "파이썬의 문자열 str -> unicode 기반이다.\n",
    "\n",
    "euk-kr <예전에 사용하던 한글 코드>, cp949<예전 ms에서 사용하던 한글코드>\n",
    "\n",
    "인코딩 사람문자 -> 컴퓨터, 디코딩 컴퓨터 -> 사람"
   ]
  },
  {
   "cell_type": "code",
   "execution_count": 2,
   "id": "d66683f9-87c3-4fce-a743-b10e651d9eb6",
   "metadata": {},
   "outputs": [
    {
     "name": "stdout",
     "output_type": "stream",
     "text": [
      "54028\n"
     ]
    }
   ],
   "source": [
    "text = \"파이썬\"\n",
    "\n",
    "print(ord('파')) #유니코드"
   ]
  },
  {
   "cell_type": "code",
   "execution_count": 3,
   "id": "84f0a1e4-a5dc-48f4-955e-28e1942675e4",
   "metadata": {},
   "outputs": [
    {
     "name": "stdout",
     "output_type": "stream",
     "text": [
      "b'\\xed\\x8c\\x8c\\xec\\x9d\\xb4\\xec\\x8d\\xac'\n"
     ]
    }
   ],
   "source": [
    "#인코딩\n",
    "enc_text = text.encode(\"utf-8\")\n",
    "print(enc_text)"
   ]
  },
  {
   "cell_type": "code",
   "execution_count": 21,
   "id": "d08a4e10-6f40-4aa2-993e-5f4ce1c32f21",
   "metadata": {},
   "outputs": [
    {
     "name": "stdout",
     "output_type": "stream",
     "text": [
      "파이썬\n"
     ]
    }
   ],
   "source": [
    "#디코딩\n",
    "dec_text = enc_text.decode(\"utf-8\")\n",
    "print(dec_text)"
   ]
  },
  {
   "cell_type": "code",
   "execution_count": 157,
   "id": "15ff56b7-2e1c-4be9-bb9f-f5564b676727",
   "metadata": {},
   "outputs": [
    {
     "data": {
      "text/plain": [
       "'hello python'"
      ]
     },
     "execution_count": 157,
     "metadata": {},
     "output_type": "execute_result"
    }
   ],
   "source": [
    "# +는 문자열끼리\n",
    "a = \"hello \"\n",
    "b = \"python\"\n",
    "a + b"
   ]
  },
  {
   "cell_type": "code",
   "execution_count": 161,
   "id": "37d3c181-5cfb-49e9-a576-fd589590eff2",
   "metadata": {},
   "outputs": [
    {
     "data": {
      "text/plain": [
       "'**********'"
      ]
     },
     "execution_count": 161,
     "metadata": {},
     "output_type": "execute_result"
    }
   ],
   "source": [
    "# *문자열*숫자\n",
    "c = \"*\"\n",
    "c*10"
   ]
  },
  {
   "cell_type": "code",
   "execution_count": 163,
   "id": "c28728fd-c483-4aab-96b1-714e3c121c96",
   "metadata": {},
   "outputs": [
    {
     "data": {
      "text/plain": [
       "(\"Kim's Family\", '\"jang\" said')"
      ]
     },
     "execution_count": 163,
     "metadata": {},
     "output_type": "execute_result"
    }
   ],
   "source": [
    "d =\"Kim's Family\"\n",
    "e ='\"jang\" said'\n",
    "d, e"
   ]
  },
  {
   "cell_type": "code",
   "execution_count": 164,
   "id": "2b48a850-8bdf-48d1-9273-9515095e7cce",
   "metadata": {},
   "outputs": [
    {
     "data": {
      "text/plain": [
       "True"
      ]
     },
     "execution_count": 164,
     "metadata": {},
     "output_type": "execute_result"
    }
   ],
   "source": [
    "#문자열에서 비교연산\n",
    "e = \"1\"\n",
    "e ==\"1\""
   ]
  },
  {
   "cell_type": "code",
   "execution_count": 185,
   "id": "e186b614-b4e2-47ad-b455-501f251742f2",
   "metadata": {},
   "outputs": [
    {
     "data": {
      "text/plain": [
       "'0'"
      ]
     },
     "execution_count": 185,
     "metadata": {},
     "output_type": "execute_result"
    }
   ],
   "source": [
    "#문자열은 리스트, 열거형\n",
    "a =\"20250528ABCDE\" #13개의 글자의 목록\n",
    "a[1] #숫자 자리수 > 인덱스"
   ]
  },
  {
   "cell_type": "code",
   "execution_count": 186,
   "id": "49f097e7-8544-4382-9ee7-27f60736ffbc",
   "metadata": {},
   "outputs": [
    {
     "data": {
      "text/plain": [
       "'5'"
      ]
     },
     "execution_count": 186,
     "metadata": {},
     "output_type": "execute_result"
    }
   ],
   "source": [
    "a[3]"
   ]
  },
  {
   "cell_type": "code",
   "execution_count": 187,
   "id": "0dcbc6e4-32ef-459d-9fc0-43d30c0ae9de",
   "metadata": {},
   "outputs": [
    {
     "data": {
      "text/plain": [
       "'2025'"
      ]
     },
     "execution_count": 187,
     "metadata": {},
     "output_type": "execute_result"
    }
   ],
   "source": [
    "a[0:4] #4개 가져와!~! #슬라이싱 slice"
   ]
  },
  {
   "cell_type": "code",
   "execution_count": 188,
   "id": "9c898441-ea83-437c-b661-5935f2344698",
   "metadata": {},
   "outputs": [
    {
     "data": {
      "text/plain": [
       "'0528'"
      ]
     },
     "execution_count": 188,
     "metadata": {},
     "output_type": "execute_result"
    }
   ],
   "source": [
    "a[4:8]"
   ]
  },
  {
   "cell_type": "code",
   "execution_count": 189,
   "id": "0ee3d4e9-ec40-4b31-a24d-f8281dd9a4da",
   "metadata": {},
   "outputs": [
    {
     "data": {
      "text/plain": [
       "'2025'"
      ]
     },
     "execution_count": 189,
     "metadata": {},
     "output_type": "execute_result"
    }
   ],
   "source": [
    "a[:4]"
   ]
  },
  {
   "cell_type": "code",
   "execution_count": 191,
   "id": "c0492b12-6369-4c4a-9bc4-6d64db53b970",
   "metadata": {},
   "outputs": [
    {
     "data": {
      "text/plain": [
       "'BCDE'"
      ]
     },
     "execution_count": 191,
     "metadata": {},
     "output_type": "execute_result"
    }
   ],
   "source": [
    "a[-4:]"
   ]
  },
  {
   "cell_type": "code",
   "execution_count": 192,
   "id": "8a178133-5dbe-4ac5-8595-3d713868b5a8",
   "metadata": {},
   "outputs": [
    {
     "data": {
      "text/plain": [
       "'E'"
      ]
     },
     "execution_count": 192,
     "metadata": {},
     "output_type": "execute_result"
    }
   ],
   "source": [
    "a[-1:]"
   ]
  },
  {
   "cell_type": "code",
   "execution_count": 196,
   "id": "351474a2-87fa-45a3-abd8-5d874713d8d8",
   "metadata": {},
   "outputs": [
    {
     "data": {
      "text/plain": [
       "True"
      ]
     },
     "execution_count": 196,
     "metadata": {},
     "output_type": "execute_result"
    }
   ],
   "source": [
    "s = \"abc\"\n",
    "a =s\n",
    "a is s"
   ]
  },
  {
   "cell_type": "code",
   "execution_count": 204,
   "id": "d5188bd2-81e5-42dc-bd51-02da88cb013d",
   "metadata": {},
   "outputs": [
    {
     "data": {
      "text/plain": [
       "True"
      ]
     },
     "execution_count": 204,
     "metadata": {},
     "output_type": "execute_result"
    }
   ],
   "source": [
    "b = s[:] #전체 가져와\n",
    "a is b "
   ]
  },
  {
   "cell_type": "markdown",
   "id": "5e3fadbb-f74d-4046-a86c-dc4d61eaa76a",
   "metadata": {},
   "source": [
    "`'''' docstring    \n",
    "start \\n   \n",
    "end \\n   \n",
    "'''    \n",
    "'    \n",
    "     \n",
    "\"\"\" \"\"\"   "
   ]
  },
  {
   "cell_type": "code",
   "execution_count": 50,
   "id": "c5d3e40d-03a7-47df-b8b1-32f907432771",
   "metadata": {},
   "outputs": [
    {
     "data": {
      "text/plain": [
       "'docstring\\nstart\\nend\\n'"
      ]
     },
     "execution_count": 50,
     "metadata": {},
     "output_type": "execute_result"
    }
   ],
   "source": [
    "doc_string = \"\"\"docstring\n",
    "start\n",
    "end\n",
    "\"\"\"\n",
    "doc_string\n",
    "# print(doc_string)  #docstring도 문자열이다 ...!?!?!?"
   ]
  },
  {
   "cell_type": "code",
   "execution_count": 32,
   "id": "a1bd97ba-951b-48cc-9837-d64b949824e3",
   "metadata": {},
   "outputs": [
    {
     "data": {
      "text/plain": [
       "str"
      ]
     },
     "execution_count": 32,
     "metadata": {},
     "output_type": "execute_result"
    }
   ],
   "source": [
    "type(text)"
   ]
  },
  {
   "cell_type": "markdown",
   "id": "a46254ec-8eaa-437b-9763-93ae957d57fe",
   "metadata": {},
   "source": [
    "#str 의 함수\n",
    "dir()"
   ]
  },
  {
   "cell_type": "code",
   "execution_count": 6,
   "id": "d2cc492f-8b7b-499b-888c-dab2662d648f",
   "metadata": {},
   "outputs": [
    {
     "data": {
      "text/plain": [
       "'파이썬안녕'"
      ]
     },
     "execution_count": 6,
     "metadata": {},
     "output_type": "execute_result"
    }
   ],
   "source": [
    "text.__add__(\"안녕\")"
   ]
  },
  {
   "cell_type": "code",
   "execution_count": 8,
   "id": "0576965d-41cd-4d95-8f4b-a168aaf328e0",
   "metadata": {},
   "outputs": [
    {
     "data": {
      "text/plain": [
       "1"
      ]
     },
     "execution_count": 8,
     "metadata": {},
     "output_type": "execute_result"
    }
   ],
   "source": [
    "text.count(\"파\")"
   ]
  },
  {
   "cell_type": "code",
   "execution_count": 33,
   "id": "50b3b82d-0229-45de-9090-06aa1574afb2",
   "metadata": {},
   "outputs": [],
   "source": [
    "# dir(text)"
   ]
  },
  {
   "cell_type": "code",
   "execution_count": 20,
   "id": "007bccae-05f7-4e58-b466-87ccfd3ffe4f",
   "metadata": {},
   "outputs": [
    {
     "name": "stdout",
     "output_type": "stream",
     "text": [
      "나는 \"escape문자\"라고 말했어\n"
     ]
    }
   ],
   "source": [
    "print(\"나는 \\\"escape문자\\\"라고 말했어\") # \\사용하면 뒤에 문자라고 알려주는 것"
   ]
  },
  {
   "cell_type": "markdown",
   "id": "7479d21a-40a8-43c0-9378-69e23f714ee0",
   "metadata": {},
   "source": [
    "# R STRING\n",
    "\n",
    "r \"12\\4\""
   ]
  },
  {
   "cell_type": "code",
   "execution_count": null,
   "id": "071009c4-8155-4735-87b6-e6710166e8ed",
   "metadata": {},
   "outputs": [],
   "source": [
    "r\"12\\4\"\n"
   ]
  },
  {
   "cell_type": "code",
   "execution_count": 42,
   "id": "82fcbec4-6d76-438e-bd08-61925f1ee897",
   "metadata": {},
   "outputs": [
    {
     "name": "stdout",
     "output_type": "stream",
     "text": [
      "hellow\\nworld\n"
     ]
    }
   ],
   "source": [
    "raw_str_1 =r\"hellow\\nworld\"\n",
    "print(raw_str_1)"
   ]
  },
  {
   "cell_type": "markdown",
   "id": "503d8d42-0949-407a-9682-61d11b75a4b6",
   "metadata": {},
   "source": [
    "# F STRING\n",
    "\n",
    "f\"{수식}문자열이에요{변수}\""
   ]
  },
  {
   "cell_type": "code",
   "execution_count": 44,
   "id": "c26e46a0-32df-4e0d-8fcd-298f9a2a8201",
   "metadata": {},
   "outputs": [
    {
     "name": "stdout",
     "output_type": "stream",
     "text": [
      "제 이름은 seungwon 내 나이는 25 입니다\n"
     ]
    }
   ],
   "source": [
    "name =\"seungwon\"\n",
    "age = 25\n",
    "\n",
    "print(\"제 이름은\", name, \"내 나이는\", age, \"입니다\")"
   ]
  },
  {
   "cell_type": "code",
   "execution_count": 45,
   "id": "318db0be-c48b-4c21-bf0f-67282598c218",
   "metadata": {},
   "outputs": [
    {
     "data": {
      "text/plain": [
       "'제 이름은 seungwon 내 나이는 25 입니다.'"
      ]
     },
     "execution_count": 45,
     "metadata": {},
     "output_type": "execute_result"
    }
   ],
   "source": [
    "f_str_1 = f\"제 이름은 {name} 내 나이는 {age} 입니다.\"\n",
    "f_str_1"
   ]
  },
  {
   "cell_type": "raw",
   "id": "99311616-af2b-48dc-94d4-516315989256",
   "metadata": {},
   "source": [
    "Type\n",
    "b"
   ]
  },
  {
   "cell_type": "markdown",
   "id": "867aae08-e9f1-438f-8ebc-fa903d52dd10",
   "metadata": {},
   "source": [
    "Type"
   ]
  },
  {
   "cell_type": "code",
   "execution_count": 37,
   "id": "9470182e-5f21-45da-95a3-a18d95033a8d",
   "metadata": {},
   "outputs": [],
   "source": [
    "b = 2\n",
    "c = '3'\n",
    "b + c #typeError "
   ]
  },
  {
   "cell_type": "code",
   "execution_count": 39,
   "id": "8cd73a36-5e9d-4937-a145-bfef8bb8fd37",
   "metadata": {},
   "outputs": [
    {
     "data": {
      "text/plain": [
       "5"
      ]
     },
     "execution_count": 39,
     "metadata": {},
     "output_type": "execute_result"
    }
   ],
   "source": [
    "int(c)\n",
    "b+ int(c)"
   ]
  },
  {
   "cell_type": "code",
   "execution_count": 41,
   "id": "3f9f97ca-ee65-40fd-affa-7a08d29fd2cd",
   "metadata": {},
   "outputs": [
    {
     "data": {
      "text/plain": [
       "5"
      ]
     },
     "execution_count": 41,
     "metadata": {},
     "output_type": "execute_result"
    }
   ],
   "source": [
    "c = \"3a\"\n",
    "# b + int(c) #ValueERROR\n",
    "b + int(c[:1])"
   ]
  },
  {
   "cell_type": "markdown",
   "id": "92982ed9-d0f3-49b2-a4b4-c10695a5c190",
   "metadata": {},
   "source": [
    "# 이름과 자기소개를 입력받아서 출력하는 프로그램 작성"
   ]
  },
  {
   "cell_type": "code",
   "execution_count": 47,
   "id": "7f235c82-f217-4cc0-9efe-04889de3e5ae",
   "metadata": {},
   "outputs": [
    {
     "name": "stdin",
     "output_type": "stream",
     "text": [
      "이름을 입력하세요 장승원\n",
      "나이를 입력하세요 27살\n"
     ]
    },
    {
     "name": "stdout",
     "output_type": "stream",
     "text": [
      "제 이름은 장승원이고 나이는 27살입니다.\n"
     ]
    }
   ],
   "source": [
    "name = input(\"이름을 입력하세요\")\n",
    "age = input(\"나이를 입력하세요\")\n",
    "\n",
    "intro = f\"제 이름은 {name}이고 나이는 {age}입니다.\"\n",
    "print(intro)"
   ]
  },
  {
   "cell_type": "markdown",
   "id": "da0b9827-89bd-4265-8b9f-ecb35f846b00",
   "metadata": {},
   "source": [
    "# 문자열.format string"
   ]
  },
  {
   "cell_type": "code",
   "execution_count": 56,
   "id": "4976be0a-cae5-4da9-a7db-16e78f635d7b",
   "metadata": {},
   "outputs": [
    {
     "data": {
      "text/plain": [
       "' 99.990000 dollors are worth US$ 100'"
      ]
     },
     "execution_count": 56,
     "metadata": {},
     "output_type": "execute_result"
    }
   ],
   "source": [
    "#dir(f_str_1)\n",
    "format_str = \" {0:4f} {1:s} are worth US$ {2:d}\" #template\n",
    "format_str.format(99.99,\"dollors\", 100)"
   ]
  },
  {
   "cell_type": "code",
   "execution_count": 61,
   "id": "16bd7aad-5fb3-4c88-8043-ef98ba4e89e5",
   "metadata": {},
   "outputs": [
    {
     "name": "stdin",
     "output_type": "stream",
     "text": [
      "주문할 메뉴를 입력하세요 치즈버거\n",
      "한 개 가격이 얼마인가요 2000\n",
      "몇 개나 주문하세요 2\n"
     ]
    },
    {
     "name": "stdout",
     "output_type": "stream",
     "text": [
      "치즈버거메뉴의 2개 가격은 총 4000원 입니다\n"
     ]
    }
   ],
   "source": [
    "menu = input(\"주문할 메뉴를 입력하세요\")\n",
    "price = input(\"한 개 가격이 얼마인가요\")\n",
    "count = input(\"몇 개나 주문하세요\")\n",
    "\n",
    "total = int(price)*int(count)\n",
    "msg = \"{}메뉴의 {}개 가격은 총 {}원 입니다\"\n",
    "print(msg.format(menu, count,total))"
   ]
  },
  {
   "cell_type": "code",
   "execution_count": 75,
   "id": "9062359a-06c2-4273-bdb3-b65842a46129",
   "metadata": {},
   "outputs": [
    {
     "name": "stdin",
     "output_type": "stream",
     "text": [
      "주문할 메뉴를 입력하세요 치즈버거\n",
      "한 개 가격이 얼마인가요 3000\n",
      "몇 개나 주문하세요 3\n"
     ]
    },
    {
     "name": "stdout",
     "output_type": "stream",
     "text": [
      "치즈버거메뉴의 3개 가격은 총 9000원 입니다\n"
     ]
    }
   ],
   "source": [
    "menu = input(\"주문할 메뉴를 입력하세요\")\n",
    "price = int(input(\"한 개 가격이 얼마인가요\"))\n",
    "count = int(input(\"몇 개나 주문하세요\"))\n",
    "\n",
    "total = price*count\n",
    "msg = \"{}메뉴의 {}개 가격은 총 {}원 입니다\"\n",
    "print(msg.format(menu, count,total))"
   ]
  },
  {
   "cell_type": "markdown",
   "id": "e8f1696c-d90d-456c-95c2-d76d7109fd7b",
   "metadata": {},
   "source": [
    "# 리스트"
   ]
  },
  {
   "cell_type": "code",
   "execution_count": 74,
   "id": "6d1fb822-869b-4ecf-a1c7-e1391b8ee768",
   "metadata": {},
   "outputs": [],
   "source": [
    "item = [\n",
    "    {\"name\": \"아메리카노\", \"price\": 3000, \"qty\": 2},\n",
    "    {\"name\": \"카페라떼\", \"price\": 4000, \"qty\": 1},\n",
    "    {\"name\": \"샌드위치\", \"price\": 5500, \"qty\": 3}\n",
    "] \n",
    "# {} : 딕셔너리  # [] : 리스트"
   ]
  },
  {
   "cell_type": "code",
   "execution_count": 115,
   "id": "06bfd2b5-a342-44c4-a1ef-d9e1397ba5c3",
   "metadata": {},
   "outputs": [
    {
     "name": "stdout",
     "output_type": "stream",
     "text": [
      "상품명               가격        수량        총액        \n",
      "--------------------------------------------------\n",
      "아메리카노          3,000원         2개     6,000원\n",
      "카페라떼           4,000원         1개     4,000원\n",
      "샌드위치           5,500원         3개    16,500원\n"
     ]
    }
   ],
   "source": [
    "item = [\n",
    "    {\"name\": \"아메리카노\", \"price\": 3000, \"qty\": 2},\n",
    "    {\"name\": \"카페라떼\", \"price\": 4000, \"qty\": 1},\n",
    "    {\"name\": \"샌드위치\", \"price\": 5500, \"qty\": 3}\n",
    "] \n",
    "header_str = \"{0:18}{1:10}{2:10}{3:10}\" #{인덱스:데이터길이}\n",
    "print(header_str.format(\"상품명\",\"가격\", \"수량\", \"총액\"))\n",
    "print(\"-\"*50)\n",
    "\n",
    "data_str = \"{0:10}{1:10,}원{2:10}개{3:10,}원\" \n",
    "\n",
    "for item in item:\n",
    "    item_name = item[\"name\"]\n",
    "    item_price = item[\"price\"]\n",
    "    item_qty = item[\"qty\"]\n",
    "    total_price = item_price * item_qty\n",
    "    print(data_str.format(item_name,item_price,item_qty,total_price))\n",
    "\n",
    "    ##데이터와 헤더를 나눠서 데이터를 따로 조작할 수 있게 나눴다."
   ]
  },
  {
   "cell_type": "markdown",
   "id": "e336c656-b542-4890-ba29-4482d5078427",
   "metadata": {},
   "source": [
    "| 함수                  | 설명                  | 예시                                        |\n",
    "| ------------------- | ------------------- | ----------------------------------------- |\n",
    "| `lower()`           | 모두 소문자로 변환          | `\"Python\".lower()` → `\"python\"`           |\n",
    "| `upper()`           | 모두 대문자로 변환          | `\"python\".upper()` → `\"PYTHON\"`           |\n",
    "| `capitalize()`      | 첫 글자만 대문자           | `\"hello\".capitalize()` → `\"Hello\"`        |\n",
    "| `title()`           | 각 단어의 첫 글자 대문자      | `\"hello world\".title()` → `\"Hello World\"` |\n",
    "| `strip()`           | 앞뒤 공백 제거            | `\" hello \".strip()` → `\"hello\"`           |\n",
    "| `lstrip()`          | 왼쪽 공백 제거            | `\" hello\".lstrip()`                       |\n",
    "| `rstrip()`          | 오른쪽 공백 제거           | `\"hello \".rstrip()`                       |\n",
    "| `replace(old, new)` | 문자열 바꾸기             | `\"hello\".replace(\"l\", \"x\")` → `\"hexxo\"`   |\n",
    "| `split()`           | 문자열 나누기 (기본: 공백)    | `\"a b c\".split()` → `['a', 'b', 'c']`     |\n",
    "| `join(list)`        | 리스트를 문자열로 결합        | `\" \".join(['a', 'b'])` → `\"a b\"`          |\n",
    "| `find(sub)`         | 처음 등장하는 위치 (없으면 -1) | `\"apple\".find(\"p\")` → `1`                 |\n",
    "| `index(sub)`        | 처음 등장하는 위치 (없으면 오류) | `\"apple\".index(\"p\")` → `1`                |\n",
    "| `count(sub)`        | 부분 문자열 개수           | `\"banana\".count(\"a\")` → `3`               |\n",
    "| `startswith(sub)`   | 해당 문자열로 시작?         | `\"python\".startswith(\"py\")` → `True`      |\n",
    "| `endswith(sub)`     | 해당 문자열로 끝남?         | `\"python\".endswith(\"on\")` → `True`        |\n",
    "| `isalnum()`         | 영문자+숫자인가?           | `\"abc123\".isalnum()` → `True`             |\n",
    "| `isalpha()`         | 영문자만인가?             | `\"abc\".isalpha()` → `True`                |\n",
    "| `isdigit()`         | 숫자만인가?              | `\"123\".isdigit()` → `True`                |\n",
    "| `isspace()`         | 공백문자만 있는가?          | `\" \\t\\n\".isspace()` → `True`              |"
   ]
  },
  {
   "cell_type": "code",
   "execution_count": 127,
   "id": "9cf838f0-81c3-45be-a9a4-e3a8b154b036",
   "metadata": {},
   "outputs": [
    {
     "data": {
      "text/plain": [
       "('jang seung won', 'JANG SEUNG WON', 'Jang seung won', 'Jang Seung Won')"
      ]
     },
     "execution_count": 127,
     "metadata": {},
     "output_type": "execute_result"
    }
   ],
   "source": [
    "text = \"jang seung won\"\n",
    "text.lower(), text.upper(), text.capitalize(), text.title()"
   ]
  },
  {
   "cell_type": "code",
   "execution_count": 118,
   "id": "d4c55b48-49bf-4fdd-bf4a-8eaa21b1829d",
   "metadata": {},
   "outputs": [
    {
     "data": {
      "text/plain": [
       "('jang', 'jang ', ' jang')"
      ]
     },
     "execution_count": 118,
     "metadata": {},
     "output_type": "execute_result"
    }
   ],
   "source": [
    "text2 = \" jang \"\n",
    "text2.strip(), text2.lstrip(), text2.rstrip() # strip는 양쪽 공백을, l은 왼, r은 좌 공백을 없어진다."
   ]
  },
  {
   "cell_type": "code",
   "execution_count": 129,
   "id": "c392ee44-ce16-4938-a93f-2fa96970231c",
   "metadata": {},
   "outputs": [
    {
     "data": {
      "text/plain": [
       "('jaXg seuXg woX', ['jang', 'seung', 'won'], ['ja', 'g seu', 'g wo', ''])"
      ]
     },
     "execution_count": 129,
     "metadata": {},
     "output_type": "execute_result"
    }
   ],
   "source": [
    "text.replace(\"n\", \"X\"), text.split(), text.split(\"n\") # n을 기준으로 나눈다 기준이 된 글자는 없어진다."
   ]
  },
  {
   "cell_type": "code",
   "execution_count": null,
   "id": "9e9610db-cd8c-41d5-ab73-595136858dea",
   "metadata": {},
   "outputs": [],
   "source": []
  }
 ],
 "metadata": {
  "kernelspec": {
   "display_name": "Python 3 (ipykernel)",
   "language": "python",
   "name": "python3"
  },
  "language_info": {
   "codemirror_mode": {
    "name": "ipython",
    "version": 3
   },
   "file_extension": ".py",
   "mimetype": "text/x-python",
   "name": "python",
   "nbconvert_exporter": "python",
   "pygments_lexer": "ipython3",
   "version": "3.12.9"
  }
 },
 "nbformat": 4,
 "nbformat_minor": 5
}
