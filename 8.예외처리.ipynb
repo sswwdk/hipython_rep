{
 "cells": [
  {
   "cell_type": "markdown",
   "id": "c27c2325-6b13-48d5-9cfb-26bbf51d09c2",
   "metadata": {},
   "source": [
    "# 예외의 종류   \n",
    "1. 문법오류\n",
    "2. 논리오류\n",
    "3. 예외상황"
   ]
  },
  {
   "cell_type": "code",
   "execution_count": 6,
   "id": "4faddb45-73e7-4df3-bebe-2b7cf56db134",
   "metadata": {},
   "outputs": [],
   "source": [
    "def divide(m, n):\n",
    "    return m/n"
   ]
  },
  {
   "cell_type": "code",
   "execution_count": 7,
   "id": "6f149182-53aa-4ffc-9fb2-e0e0871fe224",
   "metadata": {},
   "outputs": [
    {
     "data": {
      "text/plain": [
       "1.5"
      ]
     },
     "execution_count": 7,
     "metadata": {},
     "output_type": "execute_result"
    }
   ],
   "source": [
    "result = divide(3,2)\n",
    "result"
   ]
  },
  {
   "cell_type": "code",
   "execution_count": 8,
   "id": "877ba4b9-2ad9-4ce0-8d71-86b959ff0013",
   "metadata": {},
   "outputs": [
    {
     "ename": "ZeroDivisionError",
     "evalue": "division by zero",
     "output_type": "error",
     "traceback": [
      "\u001b[31m---------------------------------------------------------------------------\u001b[39m",
      "\u001b[31mZeroDivisionError\u001b[39m                         Traceback (most recent call last)",
      "\u001b[36mCell\u001b[39m\u001b[36m \u001b[39m\u001b[32mIn[8]\u001b[39m\u001b[32m, line 1\u001b[39m\n\u001b[32m----> \u001b[39m\u001b[32m1\u001b[39m result = divide(\u001b[32m3\u001b[39m,\u001b[32m0\u001b[39m)\n\u001b[32m      2\u001b[39m result\n",
      "\u001b[36mCell\u001b[39m\u001b[36m \u001b[39m\u001b[32mIn[6]\u001b[39m\u001b[32m, line 2\u001b[39m, in \u001b[36mdivide\u001b[39m\u001b[34m(m, n)\u001b[39m\n\u001b[32m      1\u001b[39m \u001b[38;5;28;01mdef\u001b[39;00m\u001b[38;5;250m \u001b[39m\u001b[34mdivide\u001b[39m(m, n):\n\u001b[32m----> \u001b[39m\u001b[32m2\u001b[39m     \u001b[38;5;28;01mreturn\u001b[39;00m m/n\n",
      "\u001b[31mZeroDivisionError\u001b[39m: division by zero"
     ]
    }
   ],
   "source": [
    "result = divide(3,0)\n",
    "result"
   ]
  },
  {
   "cell_type": "code",
   "execution_count": 11,
   "id": "dc8f5693-d3c6-4441-bc26-91d093a0f46e",
   "metadata": {},
   "outputs": [],
   "source": [
    "def divide(m, n):\n",
    "    try:\n",
    "        result = m/n\n",
    "    except ZeroDivisionError:\n",
    "        print('0으로 나눌 수 없습니두')\n",
    "    return result"
   ]
  },
  {
   "cell_type": "code",
   "execution_count": 13,
   "id": "2a083a5b-9724-44e7-89c0-55787b86ffd4",
   "metadata": {},
   "outputs": [
    {
     "name": "stdout",
     "output_type": "stream",
     "text": [
      "0으로 나눌 수 없습니두\n"
     ]
    },
    {
     "ename": "UnboundLocalError",
     "evalue": "cannot access local variable 'result' where it is not associated with a value",
     "output_type": "error",
     "traceback": [
      "\u001b[31m---------------------------------------------------------------------------\u001b[39m",
      "\u001b[31mUnboundLocalError\u001b[39m                         Traceback (most recent call last)",
      "\u001b[36mCell\u001b[39m\u001b[36m \u001b[39m\u001b[32mIn[13]\u001b[39m\u001b[32m, line 1\u001b[39m\n\u001b[32m----> \u001b[39m\u001b[32m1\u001b[39m result = divide(\u001b[32m3\u001b[39m,\u001b[32m0\u001b[39m)\n\u001b[32m      2\u001b[39m result\n",
      "\u001b[36mCell\u001b[39m\u001b[36m \u001b[39m\u001b[32mIn[11]\u001b[39m\u001b[32m, line 6\u001b[39m, in \u001b[36mdivide\u001b[39m\u001b[34m(m, n)\u001b[39m\n\u001b[32m      4\u001b[39m \u001b[38;5;28;01mexcept\u001b[39;00m \u001b[38;5;167;01mZeroDivisionError\u001b[39;00m:\n\u001b[32m      5\u001b[39m     \u001b[38;5;28mprint\u001b[39m(\u001b[33m'\u001b[39m\u001b[33m0으로 나눌 수 없습니두\u001b[39m\u001b[33m'\u001b[39m)\n\u001b[32m----> \u001b[39m\u001b[32m6\u001b[39m \u001b[38;5;28;01mreturn\u001b[39;00m result\n",
      "\u001b[31mUnboundLocalError\u001b[39m: cannot access local variable 'result' where it is not associated with a value"
     ]
    }
   ],
   "source": [
    "result = divide(3,0)\n",
    "result"
   ]
  },
  {
   "cell_type": "code",
   "execution_count": 22,
   "id": "cb7bf61c-9a9b-4d29-961e-1ee6d8685eab",
   "metadata": {},
   "outputs": [],
   "source": [
    "def divide(m, n):\n",
    "    try:\n",
    "        result = m/n\n",
    "        return result\n",
    "    except ZeroDivisionError:\n",
    "        print('0으로 나눌 수 없습니두')\n",
    "        return None\n",
    "    except :  #조건을 안적어주면 나머지 모든 에러가 여기로 받는다\n",
    "        print('다른 에러가 발생했습니두')\n",
    "        return None\n",
    "    return result"
   ]
  },
  {
   "cell_type": "code",
   "execution_count": 23,
   "id": "0c2be531-a66c-4cf9-8acc-20150cc69d5b",
   "metadata": {},
   "outputs": [
    {
     "name": "stdout",
     "output_type": "stream",
     "text": [
      "0으로 나눌 수 없습니두\n"
     ]
    }
   ],
   "source": [
    "result = divide(3,0)\n",
    "result"
   ]
  },
  {
   "cell_type": "code",
   "execution_count": 24,
   "id": "4d473de9-0253-4e05-8d45-d1bd349a921e",
   "metadata": {},
   "outputs": [
    {
     "name": "stdout",
     "output_type": "stream",
     "text": [
      "다른 에러가 발생했습니두\n"
     ]
    }
   ],
   "source": [
    "resulut =  divide(None, 3)"
   ]
  },
  {
   "cell_type": "code",
   "execution_count": 25,
   "id": "8a83ccaa-389e-4643-a1cd-45fe5fa2e1b7",
   "metadata": {},
   "outputs": [
    {
     "name": "stdout",
     "output_type": "stream",
     "text": [
      "항상 실행되는 코드입니다.\n"
     ]
    }
   ],
   "source": [
    "try:\n",
    "    ...\n",
    "except:\n",
    "    ...\n",
    "finally:\n",
    "    print(\"항상 실행되는 코드입니다.\")\n"
   ]
  },
  {
   "cell_type": "markdown",
   "id": "1bd386cb-399a-41d1-85f0-69e12a1bc9b4",
   "metadata": {},
   "source": [
    "# 예외 발생 시키기"
   ]
  },
  {
   "cell_type": "code",
   "execution_count": 26,
   "id": "e4fd0a40-df2e-42e1-8f56-7a546c361fff",
   "metadata": {},
   "outputs": [
    {
     "ename": "TypeError",
     "evalue": "입력값 오류",
     "output_type": "error",
     "traceback": [
      "\u001b[31m---------------------------------------------------------------------------\u001b[39m",
      "\u001b[31mTypeError\u001b[39m                                 Traceback (most recent call last)",
      "\u001b[36mCell\u001b[39m\u001b[36m \u001b[39m\u001b[32mIn[26]\u001b[39m\u001b[32m, line 1\u001b[39m\n\u001b[32m----> \u001b[39m\u001b[32m1\u001b[39m \u001b[38;5;28;01mraise\u001b[39;00m \u001b[38;5;167;01mTypeError\u001b[39;00m(\u001b[33m'\u001b[39m\u001b[33m입력값 오류\u001b[39m\u001b[33m'\u001b[39m)\n",
      "\u001b[31mTypeError\u001b[39m: 입력값 오류"
     ]
    }
   ],
   "source": [
    "raise TypeError('입력값 오류')"
   ]
  },
  {
   "cell_type": "code",
   "execution_count": 27,
   "id": "a103c60d-a82d-4554-99b0-91026c7b8319",
   "metadata": {},
   "outputs": [
    {
     "name": "stdout",
     "output_type": "stream",
     "text": [
      "('입력값 오류',)\n"
     ]
    }
   ],
   "source": [
    "try: \n",
    "    raise TypeError('입력값 오류')\n",
    "except TypeError as e :\n",
    "    print(e.args)"
   ]
  },
  {
   "cell_type": "markdown",
   "id": "ff8885c3-27ae-4c1f-8bf8-2156aa39dec3",
   "metadata": {},
   "source": [
    "# 내가 정의하는 예외   \n",
    "\n",
    "\n",
    "1. 예외 클래스 작성: 각 예외상황에 맞는 메세지를 작성\n",
    "2. 호출할 때 try:except로 받아줍니다"
   ]
  },
  {
   "cell_type": "code",
   "execution_count": 41,
   "id": "ea26f759-e1c7-4a27-8768-eb70d4a1c64d",
   "metadata": {},
   "outputs": [],
   "source": [
    "class AgeException(Exception):\n",
    "    def __init__(self, msg):\n",
    "        self._message = msg\n",
    "\n",
    "def input_age():\n",
    "    age = int(input('나이를 입력하세요'))\n",
    "    if age < 0:\n",
    "        raise AgeException('나이는 양수입니두ㅜㅜ.')\n",
    "    elif age > 150:\n",
    "        raise AgeException('말도 안돼 구라 ㄴㄴ')\n",
    "    else:\n",
    "        return age"
   ]
  },
  {
   "cell_type": "code",
   "execution_count": 49,
   "id": "6119b83a-d5da-488a-95b3-b49d5013d9b0",
   "metadata": {},
   "outputs": [
    {
     "name": "stdin",
     "output_type": "stream",
     "text": [
      "나이를 입력하세요 190\n"
     ]
    },
    {
     "ename": "AgeException",
     "evalue": "말도 안돼 구라 ㄴㄴ",
     "output_type": "error",
     "traceback": [
      "\u001b[31m---------------------------------------------------------------------------\u001b[39m",
      "\u001b[31mAgeException\u001b[39m                              Traceback (most recent call last)",
      "\u001b[36mCell\u001b[39m\u001b[36m \u001b[39m\u001b[32mIn[49]\u001b[39m\u001b[32m, line 1\u001b[39m\n\u001b[32m----> \u001b[39m\u001b[32m1\u001b[39m input_age()\n",
      "\u001b[36mCell\u001b[39m\u001b[36m \u001b[39m\u001b[32mIn[41]\u001b[39m\u001b[32m, line 10\u001b[39m, in \u001b[36minput_age\u001b[39m\u001b[34m()\u001b[39m\n\u001b[32m      8\u001b[39m     \u001b[38;5;28;01mraise\u001b[39;00m AgeException(\u001b[33m'\u001b[39m\u001b[33m나이는 양수입니두ㅜㅜ.\u001b[39m\u001b[33m'\u001b[39m)\n\u001b[32m      9\u001b[39m \u001b[38;5;28;01melif\u001b[39;00m age > \u001b[32m150\u001b[39m:\n\u001b[32m---> \u001b[39m\u001b[32m10\u001b[39m     \u001b[38;5;28;01mraise\u001b[39;00m AgeException(\u001b[33m'\u001b[39m\u001b[33m말도 안돼 구라 ㄴㄴ\u001b[39m\u001b[33m'\u001b[39m)\n\u001b[32m     11\u001b[39m \u001b[38;5;28;01melse\u001b[39;00m:\n\u001b[32m     12\u001b[39m     \u001b[38;5;28;01mreturn\u001b[39;00m age\n",
      "\u001b[31mAgeException\u001b[39m: 말도 안돼 구라 ㄴㄴ"
     ]
    }
   ],
   "source": [
    "input_age()"
   ]
  },
  {
   "cell_type": "code",
   "execution_count": 50,
   "id": "ab3826e0-9956-4d2b-85e3-4ca6f26f5308",
   "metadata": {},
   "outputs": [
    {
     "name": "stdin",
     "output_type": "stream",
     "text": [
      "나이를 입력하세요 190\n"
     ]
    },
    {
     "name": "stdout",
     "output_type": "stream",
     "text": [
      "말도 안돼 구라 ㄴㄴ\n"
     ]
    }
   ],
   "source": [
    "try:\n",
    "    age=input_age()\n",
    "except AgeException as e:\n",
    "    print(e.args[0])\n",
    "else:\n",
    "    print(f'입력하신 나이는 {age}입니두')"
   ]
  },
  {
   "cell_type": "code",
   "execution_count": null,
   "id": "9ae7b4ab-f338-4f2e-85a9-74a413e27b8e",
   "metadata": {},
   "outputs": [],
   "source": []
  },
  {
   "cell_type": "code",
   "execution_count": null,
   "id": "f3b90363-77ec-44eb-ab9f-cf59dd650c37",
   "metadata": {},
   "outputs": [],
   "source": []
  },
  {
   "cell_type": "code",
   "execution_count": null,
   "id": "58c49d35-b157-4b89-8df2-4c650e65c0ee",
   "metadata": {},
   "outputs": [],
   "source": []
  },
  {
   "cell_type": "code",
   "execution_count": null,
   "id": "01a47f90-07fd-4e0c-8c95-c1d255d978a9",
   "metadata": {},
   "outputs": [],
   "source": []
  },
  {
   "cell_type": "code",
   "execution_count": null,
   "id": "00918f10-c6d2-49e0-bcaa-51916c932168",
   "metadata": {},
   "outputs": [],
   "source": []
  }
 ],
 "metadata": {
  "kernelspec": {
   "display_name": "Python 3 (ipykernel)",
   "language": "python",
   "name": "python3"
  },
  "language_info": {
   "codemirror_mode": {
    "name": "ipython",
    "version": 3
   },
   "file_extension": ".py",
   "mimetype": "text/x-python",
   "name": "python",
   "nbconvert_exporter": "python",
   "pygments_lexer": "ipython3",
   "version": "3.12.9"
  }
 },
 "nbformat": 4,
 "nbformat_minor": 5
}
