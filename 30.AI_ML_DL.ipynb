{
  "nbformat": 4,
  "nbformat_minor": 0,
  "metadata": {
    "colab": {
      "provenance": []
    },
    "kernelspec": {
      "name": "python3",
      "display_name": "Python 3"
    },
    "language_info": {
      "name": "python"
    }
  },
  "cells": [
    {
      "cell_type": "code",
      "source": [
        "# 규칙 기반 프로그램 - 전통적인 방식의 AI"
      ],
      "metadata": {
        "id": "ckQLO-fwFQ53"
      },
      "execution_count": null,
      "outputs": []
    },
    {
      "cell_type": "markdown",
      "source": [
        "# 일반 프로그램\n",
        "\n",
        "규칙을 지정해야 한다."
      ],
      "metadata": {
        "id": "MgQOw-GHFXfI"
      }
    },
    {
      "cell_type": "code",
      "source": [
        "def my_function(x):\n",
        "  return 5 * x + 7\n",
        "\n",
        "val = int(input('숫자를 입력하세요 : '))\n",
        "ret = my_function(val)\n",
        "print(ret)"
      ],
      "metadata": {
        "colab": {
          "base_uri": "https://localhost:8080/"
        },
        "id": "1PMA7e7XFbr_",
        "outputId": "4833a819-8df8-4157-eb7d-7fffa40134e5"
      },
      "execution_count": null,
      "outputs": [
        {
          "output_type": "stream",
          "name": "stdout",
          "text": [
            "숫자를 입력하세요 : 9\n",
            "52\n"
          ]
        }
      ]
    },
    {
      "cell_type": "markdown",
      "source": [
        "# 머신러닝\n",
        "- 모델을 지정해 줌\n",
        "- 입력 값과 결과 값이 명확하지 않을 때 사용   \n",
        "   \n",
        "규칙이 아닌 모델을 선정   \n",
        "모델 : 데이터를 넣어준다 > 학습 fit()   \n",
        "모델 : 값을 넣어 결과를 확인한다 > 예측 predict()"
      ],
      "metadata": {
        "id": "30gE9VBvFXH8"
      }
    },
    {
      "cell_type": "code",
      "execution_count": null,
      "metadata": {
        "colab": {
          "base_uri": "https://localhost:8080/"
        },
        "id": "uF_O3fbAFCD8",
        "outputId": "a81510c2-a7ce-48ae-f30f-4534eba64b36"
      },
      "outputs": [
        {
          "output_type": "stream",
          "name": "stdout",
          "text": [
            "숫자를 입력하라9\n",
            "[52.]\n"
          ]
        }
      ],
      "source": [
        "import numpy\n",
        "from sklearn import linear_model\n",
        "\n",
        "#1. 데이터, 입력 값과 결과 값\n",
        "#입력 값 - 2차원임\n",
        "X_train = numpy.array([1, 2, 3, 4, 5, 6, 7]).reshape(-1,1)\n",
        "\n",
        "#결과 값 - 정답 1차원임, 입력을 넣었을 나올 정답 (5 * x + 7임을 알아차릴까?)\n",
        "y_train = numpy.array([12, 17, 22, 27, 32, 37, 42])\n",
        "\n",
        "#2. 기계학습의 가장 큰 특징 - 어떤 모델을 사용할 것인가 알려줘야 함\n",
        "model = linear_model.LinearRegression()\n",
        "\n",
        "#3. 학습\n",
        "model.fit(X_train, y_train)\n",
        "\n",
        "#4. 예측\n",
        "# predict = model.predict([[9]])\n",
        "\n",
        "k = int(input('숫자를 입력하라'))\n",
        "predict = model.predict([[k]])\n",
        "\n",
        "#예측한 결과 값\n",
        "print(predict)"
      ]
    },
    {
      "cell_type": "markdown",
      "source": [
        "# 딥 러닝\n",
        "\n",
        "모델이 정해져 있다.\n",
        "계층설정 : 입력, 은닉층, 출력\n",
        "모델 생성(계층)\n",
        "모델 설정 : compile\n",
        "모델 학습 (데이터) : fit\n",
        "학습된 모델로 예측 : predict\n",
        "\n",
        "\n",
        "- 모델을 지정하지 않고, 입력 값과 (필요하면 은닉층) 결과 값만 주고 알아서 구하도록 함\n",
        "- 데이터 양이 굉장히 많을 때"
      ],
      "metadata": {
        "id": "rppfwRDbFoVM"
      }
    },
    {
      "cell_type": "code",
      "source": [
        "import tensorflow as tf\n",
        "\n",
        "#1. 데이터 지정\n",
        "X_train = numpy.array([1, 2, 3, 4, 5, 6, 7]).reshape(-1,1)\n",
        "y_train = numpy.array([12, 17, 22, 27, 32, 37, 42])\n",
        "\n",
        "#2. 모델 형태 지정\n",
        "inputs = tf.keras.layers.Input(shape=(1,))  #입력층 입력되는 값이 한 개임(1 dimension)\n",
        "outputs = tf.keras.layers.Dense(units=1)(inputs)  #출력층\n",
        "\n",
        "#모델 객체를 생성(특정 모델이 없음)\n",
        "model = tf.keras.models.Model(inputs, outputs)\n",
        "\n",
        "#loss 손실함수 -> MeanSquaredError, 최적화 함수(성능이 좋아짐) -> SGD\n",
        "model.compile(\n",
        "    loss = tf.keras.losses.MeanSquaredError(),\n",
        "    optimizer = tf.keras.optimizers.SGD()\n",
        ")\n",
        "\n",
        "#3. 모델 학습하기\n",
        "model.fit(X_train, y_train, epochs=1000, verbose=0)\n",
        "\n",
        "#4. 예측 epochs = 100 : '55.xx', 1000:52.xx\n",
        "predict = model.predict(numpy.array([[9]])) #예측값을 numpy 배열 2차원으로 변환\n",
        "\n",
        "#예측한 결과 값\n",
        "print(predict)"
      ],
      "metadata": {
        "colab": {
          "base_uri": "https://localhost:8080/"
        },
        "id": "Q2NUh9bTFP4e",
        "outputId": "29286b86-ffc2-4924-901c-046f30c07c8f"
      },
      "execution_count": null,
      "outputs": [
        {
          "output_type": "stream",
          "name": "stdout",
          "text": [
            "\u001b[1m1/1\u001b[0m \u001b[32m━━━━━━━━━━━━━━━━━━━━\u001b[0m\u001b[37m\u001b[0m \u001b[1m0s\u001b[0m 56ms/step\n",
            "[[52.098938]]\n"
          ]
        }
      ]
    },
    {
      "cell_type": "markdown",
      "source": [
        "딥러닝 모델 생성"
      ],
      "metadata": {
        "id": "ohfh32TBK3bj"
      }
    },
    {
      "cell_type": "code",
      "source": [
        "import tensorflow as tf\n",
        "#1. 데이터 지정\n",
        "X_train = numpy.array([1, 2, 3, 4, 5, 6, 7, 8, 9, 10]).reshape(-1,1)\n",
        "y_train = numpy.array([2, 3, 5, 7, 11, 13, 17, 19, 23, 29])"
      ],
      "metadata": {
        "id": "go8OjnnmKzgc"
      },
      "execution_count": null,
      "outputs": []
    },
    {
      "cell_type": "code",
      "source": [
        "# 모델 생성 - 계층\n",
        "inputs = tf.keras.layers.Input(shape=(1,))\n",
        "outputs = tf.keras.layers.Dense(units=1)(inputs)"
      ],
      "metadata": {
        "id": "0PaNKZtDJ1WG"
      },
      "execution_count": null,
      "outputs": []
    },
    {
      "cell_type": "code",
      "source": [
        "model = tf.keras.models.Model(inputs, outputs)"
      ],
      "metadata": {
        "id": "_h13jLIcKESf"
      },
      "execution_count": null,
      "outputs": []
    },
    {
      "cell_type": "code",
      "source": [
        "# 모델 설정\n",
        "model.compile(\n",
        "    loss = tf.keras.losses.MeanSquaredError(),\n",
        "    optimizer = tf.keras.optimizers.SGD()\n",
        ")"
      ],
      "metadata": {
        "id": "DvM47UK_KEQf"
      },
      "execution_count": null,
      "outputs": []
    },
    {
      "cell_type": "code",
      "source": [
        "# 데이터 넣고 학습시키기\n",
        "model.fit(X_train, y_train, epochs=1000, verbose=0)"
      ],
      "metadata": {
        "colab": {
          "base_uri": "https://localhost:8080/"
        },
        "id": "mQx54kwVKEOS",
        "outputId": "316aceb4-7635-486d-c423-b296aec578be"
      },
      "execution_count": null,
      "outputs": [
        {
          "output_type": "execute_result",
          "data": {
            "text/plain": [
              "<keras.src.callbacks.history.History at 0x78cef1613b10>"
            ]
          },
          "metadata": {},
          "execution_count": 10
        }
      ]
    },
    {
      "cell_type": "code",
      "source": [
        "#4. 예측 epochs = 100 : '55.xx', 1000:52.xx\n",
        "predict = model.predict(numpy.array([[45]])) #예측값을 numpy 배열 2차원으로 변환\n",
        "# 45번째 소수 197\n",
        "#예측한 결과 값\n",
        "print(predict)"
      ],
      "metadata": {
        "colab": {
          "base_uri": "https://localhost:8080/"
        },
        "id": "ASw0M3GVK7M2",
        "outputId": "820ef5d2-6c89-4f7e-f502-05c9ea32bf1e"
      },
      "execution_count": null,
      "outputs": [
        {
          "output_type": "stream",
          "name": "stdout",
          "text": [
            "\u001b[1m1/1\u001b[0m \u001b[32m━━━━━━━━━━━━━━━━━━━━\u001b[0m\u001b[37m\u001b[0m \u001b[1m0s\u001b[0m 130ms/step\n",
            "[[128.7111]]\n"
          ]
        }
      ]
    },
    {
      "cell_type": "code",
      "source": [],
      "metadata": {
        "id": "vqdzdZ_7LCM6"
      },
      "execution_count": null,
      "outputs": []
    },
    {
      "cell_type": "code",
      "source": [],
      "metadata": {
        "id": "_4vJVng0K7Ka"
      },
      "execution_count": null,
      "outputs": []
    },
    {
      "cell_type": "code",
      "source": [],
      "metadata": {
        "id": "v3rO9RJ2K7IY"
      },
      "execution_count": null,
      "outputs": []
    },
    {
      "cell_type": "code",
      "source": [],
      "metadata": {
        "id": "SNvrXGMXKEMK"
      },
      "execution_count": null,
      "outputs": []
    },
    {
      "cell_type": "code",
      "source": [],
      "metadata": {
        "id": "CCs7GiYTKEJ7"
      },
      "execution_count": null,
      "outputs": []
    }
  ]
}