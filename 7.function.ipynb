{
 "cells": [
  {
   "cell_type": "markdown",
   "id": "7a7f361d-2193-4924-a736-e8338cbb0541",
   "metadata": {},
   "source": [
    "# 함수    \n",
    "\n",
    "- 인자 = 매개변수, 입력, 파라미터\n",
    "- 변환값 = 리턴값, 결과값\n",
    "- 함수이름\n",
    "   \n",
    "   \n",
    "- 함수 정의 > 호출"
   ]
  },
  {
   "cell_type": "code",
   "execution_count": 38,
   "id": "d8e6117a-0afc-4b53-a366-90711eb9fda5",
   "metadata": {},
   "outputs": [],
   "source": [
    "#definition\n",
    "def my_func1():\n",
    "    print('my first function')\n",
    "    print('hello')\n",
    "    print('good job')\n",
    "\n",
    "def my_func2():\n",
    "    print('my first function')\n",
    "    print('hello')\n",
    "    print('good job')\n",
    "    return 'hello'"
   ]
  },
  {
   "cell_type": "code",
   "execution_count": 39,
   "id": "3654aac7-399a-47e3-94e3-0c420d76d55f",
   "metadata": {},
   "outputs": [
    {
     "name": "stdout",
     "output_type": "stream",
     "text": [
      "my first function\n",
      "hello\n",
      "good job\n"
     ]
    }
   ],
   "source": [
    "#call\n",
    "my_func1()"
   ]
  },
  {
   "cell_type": "code",
   "execution_count": 40,
   "id": "428c3600-d489-4dce-a83d-42efc3578c97",
   "metadata": {},
   "outputs": [
    {
     "data": {
      "text/plain": [
       "function"
      ]
     },
     "execution_count": 40,
     "metadata": {},
     "output_type": "execute_result"
    }
   ],
   "source": [
    "type(my_func1)"
   ]
  },
  {
   "cell_type": "code",
   "execution_count": 44,
   "id": "dafceb0b-2175-422a-962a-40c0aac3bec6",
   "metadata": {},
   "outputs": [
    {
     "name": "stdout",
     "output_type": "stream",
     "text": [
      "my first function\n",
      "hello\n",
      "good job\n"
     ]
    }
   ],
   "source": [
    "my_fun_var1 = my_func1()\n",
    "my_fun_var1"
   ]
  },
  {
   "cell_type": "code",
   "execution_count": 49,
   "id": "feae6580-d274-4faf-ba9d-3b8ad6c644d4",
   "metadata": {},
   "outputs": [
    {
     "name": "stdout",
     "output_type": "stream",
     "text": [
      "None\n"
     ]
    }
   ],
   "source": [
    "print(my_fun_var)"
   ]
  },
  {
   "cell_type": "code",
   "execution_count": 51,
   "id": "9966f512-5f4b-48f6-bef1-5cdfe36a1b48",
   "metadata": {},
   "outputs": [
    {
     "name": "stdout",
     "output_type": "stream",
     "text": [
      "my first function\n",
      "hello\n",
      "good job\n"
     ]
    },
    {
     "data": {
      "text/plain": [
       "'hello'"
      ]
     },
     "execution_count": 51,
     "metadata": {},
     "output_type": "execute_result"
    }
   ],
   "source": [
    "my_fun_var2 = my_func2()\n",
    "my_fun_var2"
   ]
  },
  {
   "cell_type": "code",
   "execution_count": 53,
   "id": "f1963c78-faeb-42d1-b3f4-1e17e5914617",
   "metadata": {},
   "outputs": [
    {
     "name": "stdout",
     "output_type": "stream",
     "text": [
      "hello\n"
     ]
    }
   ],
   "source": [
    "print(my_fun_var2)"
   ]
  },
  {
   "cell_type": "code",
   "execution_count": null,
   "id": "7f8d68f6-12f5-44d8-bf6f-148c23ea62cd",
   "metadata": {},
   "outputs": [],
   "source": []
  },
  {
   "cell_type": "markdown",
   "id": "f3f22730-4c9e-40bd-bd09-59b2f826bd58",
   "metadata": {},
   "source": [
    "# 입력값이 있는 함수"
   ]
  },
  {
   "cell_type": "code",
   "execution_count": 46,
   "id": "18aec6ad-9cd9-4aa8-a899-2e63a36b1662",
   "metadata": {},
   "outputs": [],
   "source": [
    "def my_cals(x):\n",
    "    print(f'{x}를 계산합니다.')"
   ]
  },
  {
   "cell_type": "code",
   "execution_count": 48,
   "id": "e9199219-18ef-472e-a7a6-cf672c157a00",
   "metadata": {},
   "outputs": [
    {
     "name": "stdout",
     "output_type": "stream",
     "text": [
      "10를 계산합니다.\n"
     ]
    }
   ],
   "source": [
    "my_cals(10)"
   ]
  },
  {
   "cell_type": "code",
   "execution_count": 54,
   "id": "8ea9368c-d1cb-4530-8608-a42177ec90c8",
   "metadata": {},
   "outputs": [],
   "source": [
    "def my_cals1(x):\n",
    "    print(f'{x}를 계산합니다.')\n",
    "    z = x*20\n",
    "    return z"
   ]
  },
  {
   "cell_type": "code",
   "execution_count": 62,
   "id": "de9d1ce4-f3ab-4b17-9e6f-1a2efa26f88a",
   "metadata": {},
   "outputs": [
    {
     "name": "stdout",
     "output_type": "stream",
     "text": [
      "10를 계산합니다.\n",
      "200\n"
     ]
    }
   ],
   "source": [
    "result = my_cals1(10)\n",
    "print(result)"
   ]
  },
  {
   "cell_type": "code",
   "execution_count": 66,
   "id": "8a4ae4d0-3faa-4b58-abbd-da1f7e102609",
   "metadata": {},
   "outputs": [],
   "source": [
    "def my_calc2(x,y):\n",
    "    print(f'{x}와 {y}를 계산합니다.')\n",
    "    add_result = x+y\n",
    "    mul_result = x*y\n",
    "    return add_result, mul_result"
   ]
  },
  {
   "cell_type": "code",
   "execution_count": 67,
   "id": "cbc5f975-f9ac-4744-88ba-3cb81f3350e9",
   "metadata": {},
   "outputs": [
    {
     "name": "stdout",
     "output_type": "stream",
     "text": [
      "10와 30를 계산합니다.\n"
     ]
    },
    {
     "data": {
      "text/plain": [
       "(40, 300)"
      ]
     },
     "execution_count": 67,
     "metadata": {},
     "output_type": "execute_result"
    }
   ],
   "source": [
    "my_calc2(10,30) # 함수 return값 -> 튜플"
   ]
  },
  {
   "cell_type": "code",
   "execution_count": 70,
   "id": "074e81d9-4c30-46b8-a016-19f5f1cbe208",
   "metadata": {},
   "outputs": [
    {
     "name": "stdout",
     "output_type": "stream",
     "text": [
      "10와 30를 계산합니다.\n"
     ]
    },
    {
     "data": {
      "text/plain": [
       "40"
      ]
     },
     "execution_count": 70,
     "metadata": {},
     "output_type": "execute_result"
    }
   ],
   "source": [
    "func_result1 = 0\n",
    "func_result1, f2 = my_calc2(10,30) #unpacking\n",
    "func_result1"
   ]
  },
  {
   "cell_type": "code",
   "execution_count": 71,
   "id": "148c9a14-a2a1-4b4d-bc33-7bab14dd9715",
   "metadata": {},
   "outputs": [
    {
     "data": {
      "text/plain": [
       "300"
      ]
     },
     "execution_count": 71,
     "metadata": {},
     "output_type": "execute_result"
    }
   ],
   "source": [
    "f2"
   ]
  },
  {
   "cell_type": "code",
   "execution_count": null,
   "id": "0f0b766a-bafe-4eb0-8801-6daac8f0fb84",
   "metadata": {},
   "outputs": [],
   "source": []
  },
  {
   "cell_type": "markdown",
   "id": "0e148016-648e-4eb7-ac5d-55a727b9decc",
   "metadata": {},
   "source": [
    "## 입력값의 타입 : 수치형 vs. (리스트) 객체형\n",
    "\n",
    "수치형  : 값에 의한 전달 call by value   \n",
    "\n",
    "객체형 : 값(참조) call by reference > 같은 객체를 다룬다"
   ]
  },
  {
   "cell_type": "code",
   "execution_count": 73,
   "id": "2169862f-68c7-4fbf-bd82-c08235f43303",
   "metadata": {},
   "outputs": [],
   "source": [
    "# 리스트 매개변수의 실행\n",
    "\n",
    "def my_calc3(a, lst1):\n",
    "    a += 1\n",
    "    lst1.append(a)\n",
    "    return a\n",
    "    "
   ]
  },
  {
   "cell_type": "code",
   "execution_count": 78,
   "id": "ed4bde88-9eff-4e5f-84a6-b0da2c646fec",
   "metadata": {},
   "outputs": [
    {
     "name": "stdout",
     "output_type": "stream",
     "text": [
      "before : 10, [1, 2, '12']\n",
      "after : 10, [1, 2, '12', 11]\n"
     ]
    }
   ],
   "source": [
    "num = 10\n",
    "lst_num = [1, 2,'12']\n",
    "\n",
    "print(f'before : {num}, {lst_num}')\n",
    "\n",
    "my_calc3(num, lst_num)\n",
    "print(f'after : {num}, {lst_num}')"
   ]
  },
  {
   "cell_type": "markdown",
   "id": "cca791b2-12cd-445f-a686-9c42351fc224",
   "metadata": {},
   "source": [
    " 키워드매개변수 : 함수의 매개변수는 목록은 변수명이 매개변수 명이다.     \n",
    "     \n",
    " 매개변수명을 이용한 호출은 매개변수의 순서와 무관하다."
   ]
  },
  {
   "cell_type": "code",
   "execution_count": 85,
   "id": "9e53956c-3ca9-4e8c-85d6-ed0b30ba4f54",
   "metadata": {},
   "outputs": [
    {
     "data": {
      "text/plain": [
       "11"
      ]
     },
     "execution_count": 85,
     "metadata": {},
     "output_type": "execute_result"
    }
   ],
   "source": [
    "my_calc3(lst1=lst_num, a =num,)"
   ]
  },
  {
   "cell_type": "code",
   "execution_count": 86,
   "id": "df45e19b-95ca-41a5-9cef-6ee67e8cb334",
   "metadata": {},
   "outputs": [
    {
     "data": {
      "text/plain": [
       "11"
      ]
     },
     "execution_count": 86,
     "metadata": {},
     "output_type": "execute_result"
    }
   ],
   "source": [
    "my_calc3(a=num, lst1=lst_num)"
   ]
  },
  {
   "cell_type": "code",
   "execution_count": 107,
   "id": "c0d80eed-4a89-4674-afea-81d35e470ed2",
   "metadata": {},
   "outputs": [
    {
     "name": "stdout",
     "output_type": "stream",
     "text": [
      "hello,, minsu 님!\n"
     ]
    }
   ],
   "source": [
    "def greeting(name, greeting = 'hello'): #기본인자\n",
    "    print(f'{greeting}, {name} 님!')\n",
    "\n",
    "greeting('minsu', 'hello,')"
   ]
  },
  {
   "cell_type": "code",
   "execution_count": 108,
   "id": "4c284884-1e19-48c4-82c7-1893c3e687e8",
   "metadata": {},
   "outputs": [
    {
     "name": "stdout",
     "output_type": "stream",
     "text": [
      "hihi, alice 님!\n"
     ]
    }
   ],
   "source": [
    "greeting('alice', 'hihi')"
   ]
  },
  {
   "cell_type": "code",
   "execution_count": 109,
   "id": "72781562-db42-462c-967a-3662cd2a853e",
   "metadata": {},
   "outputs": [
    {
     "name": "stdout",
     "output_type": "stream",
     "text": [
      "hello, bob 님!\n"
     ]
    }
   ],
   "source": [
    "greeting('bob')"
   ]
  },
  {
   "cell_type": "markdown",
   "id": "74e34a89-f90f-4ee2-af47-0bee66062758",
   "metadata": {},
   "source": [
    "# 가변인자"
   ]
  },
  {
   "cell_type": "code",
   "execution_count": 114,
   "id": "9d69af29-add7-4b16-a720-d6fc27ecefcc",
   "metadata": {},
   "outputs": [],
   "source": [
    "def sum_all(*args): #매개변수 앞에 *매개변수 ==> 값이 여러개 들어갈 수 잇엉 # 가변인자\n",
    "\n",
    "    return sum(args)"
   ]
  },
  {
   "cell_type": "code",
   "execution_count": 113,
   "id": "f10c574d-1338-4c6c-82e1-1d093d15a45c",
   "metadata": {},
   "outputs": [
    {
     "data": {
      "text/plain": [
       "15"
      ]
     },
     "execution_count": 113,
     "metadata": {},
     "output_type": "execute_result"
    }
   ],
   "source": [
    "sum_all(1,2,3,4,5)"
   ]
  },
  {
   "cell_type": "code",
   "execution_count": 119,
   "id": "b43cfb3c-3997-4bb0-b548-16a7ce3ddb78",
   "metadata": {},
   "outputs": [],
   "source": [
    "def sum_all1(arg1, arg2,arg3, *args): # (arg1, *args, arg2, arg3)  = X 안돼\n",
    "    print(args) # args 튜플\n",
    "    result = arg1 + arg2 +arg3 + sum(args)\n",
    "    return result"
   ]
  },
  {
   "cell_type": "code",
   "execution_count": 120,
   "id": "e0b66bcf-ea77-4030-8a5f-a2abfbec8225",
   "metadata": {},
   "outputs": [
    {
     "name": "stdout",
     "output_type": "stream",
     "text": [
      "(4, 5, 6, 7, 8, 9, 10)\n"
     ]
    },
    {
     "data": {
      "text/plain": [
       "55"
      ]
     },
     "execution_count": 120,
     "metadata": {},
     "output_type": "execute_result"
    }
   ],
   "source": [
    "sum_all1(1,2,3,4,5,6,7,8,9,10)"
   ]
  },
  {
   "cell_type": "code",
   "execution_count": 126,
   "id": "d16eb275-7026-441a-8cc7-6251c0023308",
   "metadata": {},
   "outputs": [],
   "source": [
    "## **args \n",
    "def print_info(**kargs):\n",
    "    for k,v in kargs.items():\n",
    "        print(f'{k},{v}')"
   ]
  },
  {
   "cell_type": "code",
   "execution_count": 128,
   "id": "676d4d16-c133-4180-bf9d-8beb0182f025",
   "metadata": {},
   "outputs": [
    {
     "name": "stdout",
     "output_type": "stream",
     "text": [
      "name,hong\n",
      "age,20\n",
      "city,seoul\n",
      "nick_name,jessi\n"
     ]
    }
   ],
   "source": [
    "print_info(name ='hong', age=20, city='seoul', nick_name='jessi')"
   ]
  },
  {
   "cell_type": "markdown",
   "id": "5fdfda63-69e3-4a9a-bb68-d9548a589e2c",
   "metadata": {},
   "source": [
    "# 요일 구하는 함수   \n",
    "\n",
    "   \n",
    "-입력 : years, month, day   \n",
    "-출력 : '월요일'   \n",
    "-함수명 : 요일찾기()\n"
   ]
  },
  {
   "cell_type": "code",
   "execution_count": null,
   "id": "0e75098a-2563-4ad7-86b3-9484eaeb5424",
   "metadata": {},
   "outputs": [],
   "source": [
    "# 날짜 - 년,월,일 year = 2025, month = 06, day = 05\n",
    "\n",
    "# 년도일수 입력한 년도 -1 * 365\n",
    "# 윤년인지 체크\n",
    "# 2월 29일\n",
    "\n",
    "# 월일수 입력한 월 -1 * 30\n",
    "# 월별 일수 30/31\n",
    "\n",
    "\n",
    "# 일수 입력한 일"
   ]
  },
  {
   "cell_type": "code",
   "execution_count": null,
   "id": "7ba38130-972a-4b58-ba81-e497826f7d7a",
   "metadata": {},
   "outputs": [],
   "source": [
    "def 요일찾기(year, month, day):\n",
    "    week_day_name = '일요일'\n",
    "    return week_day_name"
   ]
  },
  {
   "cell_type": "code",
   "execution_count": 207,
   "id": "7a8d3ecd-0710-4362-bf25-e8087dcad1d2",
   "metadata": {},
   "outputs": [
    {
     "name": "stdout",
     "output_type": "stream",
     "text": [
      "738760\n",
      "738911\n",
      "738916\n"
     ]
    },
    {
     "data": {
      "text/plain": [
       "'수요일'"
      ]
     },
     "execution_count": 207,
     "metadata": {},
     "output_type": "execute_result"
    }
   ],
   "source": [
    "def 요일찾기(year, month, day):\n",
    "\n",
    "    # 날짜 - 연,월,일  year=2025 month=06, day=05\n",
    "    total_days = 0\n",
    "    #년도일수 입력년도-1 * 365\n",
    "    #윤년인지 체크\n",
    "    #2월이 29일\n",
    "    \n",
    "    for i in range(1,year):\n",
    "        #윤년: 400으로 나누어 나머지가 0, 4로 나누어 나머지가 0\n",
    "        #평년: 100으로 나누어 나머지가 0\n",
    "    \n",
    "        if 윤년체크(i):\n",
    "            total_days += 366\n",
    "        else:\n",
    "            total_days += 365\n",
    "    \n",
    "    print(total_days)\n",
    "    #월일수 입력한 월 -1 * 30\n",
    "    #월별 일수\n",
    "    month_days = [0,31,28,31,30,31,30,31,31,30,31,30,31]\n",
    "    for m in range(1,month):\n",
    "        total_days += month_days[m]\n",
    "    \n",
    "    #올해가 윤년인지 # 3월 이상부터는 윤년이면 +1 \n",
    "    if month>=3 :\n",
    "        if 윤년체크(year):\n",
    "            total_days += 1\n",
    "            \n",
    "    print(total_days)\n",
    "    \n",
    "    #일수 입력한 일\n",
    "    total_days += day\n",
    "    \n",
    "    print(total_days)\n",
    "    \n",
    "    #요일 \n",
    "    remain_days = total_days % 7\n",
    "    #요일 정하기\n",
    "    day_names = ['일요일','월요일','화요일','수요일','목요일','금요일','토요일']\n",
    "    week_day_name = day_names[remain_days]\n",
    "    return week_day_name\n",
    "    \n",
    "요일찾기(2025,6,5)"
   ]
  },
  {
   "cell_type": "code",
   "execution_count": 181,
   "id": "25f29574-aa20-4ef0-ae06-b524f185137d",
   "metadata": {},
   "outputs": [
    {
     "name": "stdout",
     "output_type": "stream",
     "text": [
      "729754\n",
      "729813\n",
      "729828\n",
      "월\n"
     ]
    }
   ],
   "source": [
    "# 날짜 - 연,월,일  year=2025 month=06, day=05\n",
    "year = 1999\n",
    "month = 3\n",
    "day = 15\n",
    "my_days = 0\n",
    "#년도일수 입력년도-1 * 365\n",
    "#윤년인지 체크\n",
    "#2월이 29일\n",
    "\n",
    "for i in range(1,year):\n",
    "    #윤년: 400으로 나누어 나머지가 0, 4로 나누어 나머지가 0\n",
    "    #평년: 100으로 나누어 나머지가 0\n",
    "\n",
    "    if i%400 == 0:\n",
    "        my_days += 366\n",
    "    elif i%100 == 0:\n",
    "        my_days += 365\n",
    "    elif i%4 == 0:\n",
    "        my_days += 366\n",
    "    else:\n",
    "        my_days += 365\n",
    "\n",
    "print(my_days)\n",
    "#월일수 입력한 월 -1 * 30\n",
    "#월별 일수\n",
    "month_days = [0,31,28,31,30,31,30,31,31,30,31,30,31]\n",
    "for m in range(1,month):\n",
    "    my_days += month_days[m]\n",
    "\n",
    "#올해가 윤년인지 # 3월 이상부터는 윤년이면 +1 \n",
    "if month>=3 :\n",
    "    if year%400 == 0:\n",
    "        my_days += 1\n",
    "    elif year%100 == 0:\n",
    "        my_days += 0\n",
    "    elif year%4 == 0:\n",
    "        my_days += 1\n",
    "    else:\n",
    "        my_days += 0\n",
    "        \n",
    "print(my_days)\n",
    "\n",
    "#일수 입력한 일\n",
    "my_days += day\n",
    "\n",
    "print(my_days)\n",
    "\n",
    "#요일 \n",
    "remain_days = total_days % 7\n",
    "\n",
    "if remain_days == 1:\n",
    "    print('월')\n",
    "elif remain_days ==2:\n",
    "    print('화')\n",
    "elif remain_days ==3:\n",
    "    print('수')\n",
    "elif remain_days ==4:\n",
    "    print('목')\n",
    "elif remain_days ==5:\n",
    "    print('금')\n",
    "elif remain_days ==6:\n",
    "    print('토')\n",
    "elif remain_days ==7:\n",
    "    print('일')"
   ]
  },
  {
   "cell_type": "code",
   "execution_count": 182,
   "id": "7b0bce6d-cadc-4005-9324-7b4aab8f0170",
   "metadata": {},
   "outputs": [],
   "source": [
    "life = total_days-my_days\n",
    "my_years = life / 365"
   ]
  },
  {
   "cell_type": "code",
   "execution_count": 183,
   "id": "a8bf0aac-492a-4f46-9fb2-915d2923c48b",
   "metadata": {},
   "outputs": [
    {
     "data": {
      "text/plain": [
       "(9579, 26.243835616438357)"
      ]
     },
     "execution_count": 183,
     "metadata": {},
     "output_type": "execute_result"
    }
   ],
   "source": [
    "life, my_years"
   ]
  },
  {
   "cell_type": "code",
   "execution_count": null,
   "id": "977bfde6-7e36-4dc7-b2be-35bd3843bc9a",
   "metadata": {},
   "outputs": [],
   "source": [
    "def 요일찾기(year, month, day):\n",
    "    week_day_name = '일요일'\n",
    "    return week_day_name"
   ]
  },
  {
   "cell_type": "code",
   "execution_count": null,
   "id": "90bdaeb6-be6e-4b0e-9439-5da90f1adfa9",
   "metadata": {},
   "outputs": [],
   "source": []
  },
  {
   "cell_type": "code",
   "execution_count": 1,
   "id": "ccf8fa6e-ee8e-4e16-a296-55390e6e596c",
   "metadata": {},
   "outputs": [],
   "source": [
    "def 윤년체크(year):\n",
    "    #윤년: 400으로 나누어 나머지가 0, 4로 나누어 나머지가 0\n",
    "    #평년: 100으로 나누어 나머지가 0\n",
    "   \n",
    "    if year%400 == 0:\n",
    "        return True\n",
    "    elif year%100 == 0:\n",
    "        return False\n",
    "    elif year%4 == 0:\n",
    "        return True\n",
    "    else:\n",
    "        return False"
   ]
  },
  {
   "cell_type": "code",
   "execution_count": 2,
   "id": "c5942a60-d8f7-4054-bcc3-e6f13feeb9dd",
   "metadata": {},
   "outputs": [],
   "source": [
    "def 요일찾기(year, month, day):\n",
    "    week_day_name = '일요일'\n",
    "    total_days = 0\n",
    "    \n",
    "    for i in range(1,year):\n",
    "\n",
    "        if 윤년체크(i):\n",
    "            total_days += 366\n",
    "        else :\n",
    "            total_days += 365\n",
    "        \n",
    "    #print(total_days)\n",
    "    \n",
    "    #월일수 입력한 월 -1 * 30\n",
    "    #월별 일수\n",
    "    month_days = [0,31,28,31,30,31,30,31,31,30,31,30,31]\n",
    "    for m in range(1,month):\n",
    "        total_days += month_days[m]\n",
    "    \n",
    "    #올해가 윤년인지\n",
    "    if month>=3 :\n",
    "        if 윤년체크(year):\n",
    "            total_days += 1\n",
    "            \n",
    "    #print(total_days)\n",
    "    \n",
    "    #일수 입력한 일\n",
    "    total_days += day\n",
    "    \n",
    "    #print(total_days)\n",
    "    \n",
    "    #요일정하기\n",
    "    remain_days = total_days % 7\n",
    "    \n",
    "    day_names = ['일요일','월요일','화요일','수요일','목요일','금요일','토요일']\n",
    "    week_day_name = day_names[remain_days]\n",
    "    \n",
    "        \n",
    "    return week_day_name"
   ]
  },
  {
   "cell_type": "code",
   "execution_count": 3,
   "id": "403166f2-1fc0-4b08-ab79-636e6c33812d",
   "metadata": {},
   "outputs": [
    {
     "data": {
      "text/plain": [
       "'목요일'"
      ]
     },
     "execution_count": 3,
     "metadata": {},
     "output_type": "execute_result"
    }
   ],
   "source": [
    "요일찾기(2025, 6, 5)"
   ]
  },
  {
   "cell_type": "code",
   "execution_count": null,
   "id": "4c6bc226-ddba-4cd2-9e9c-b86ee862b2cf",
   "metadata": {},
   "outputs": [],
   "source": []
  },
  {
   "cell_type": "markdown",
   "id": "0dc281e1-615a-46b9-8938-acc1962e2b11",
   "metadata": {},
   "source": [
    "# 성적처리 시스템\n",
    "\n",
    "-calc_total()    \n",
    "-calc_average()   \n",
    "-calc_order()   \n",
    "\n",
    "-print_student(students)   \n",
    "-print_class() : 반평균, 곽 과목별 평균 출력"
   ]
  },
  {
   "cell_type": "code",
   "execution_count": 22,
   "id": "333e0af1-0bf7-4f0f-98cf-40e57e75efe1",
   "metadata": {},
   "outputs": [],
   "source": [
    "students = [\n",
    "               {'num':'1','name':'김철수','kor':90,'eng':80,'math':85,'total':0,'avg':0.0,'order':0 },\n",
    "               {'num':'2','name':'박제동','kor':90,'eng':85,'math':90,'total':0,'avg':0.0,'order':0 },\n",
    "               {'num':'3','name':'홍길동','kor':80,'eng':80,'math':80,'total':0,'avg':0.0,'order':0 }\n",
    "           ]"
   ]
  },
  {
   "cell_type": "code",
   "execution_count": 23,
   "id": "045d9829-6cc6-411d-b9d3-93b41914b5b7",
   "metadata": {
    "collapsed": true,
    "jupyter": {
     "outputs_hidden": true
    },
    "scrolled": true
   },
   "outputs": [
    {
     "data": {
      "text/plain": [
       "[{'num': '1',\n",
       "  'name': '김철수',\n",
       "  'kor': 90,\n",
       "  'eng': 80,\n",
       "  'math': 85,\n",
       "  'total': 255,\n",
       "  'avg': 0.0,\n",
       "  'order': 0},\n",
       " {'num': '2',\n",
       "  'name': '박제동',\n",
       "  'kor': 90,\n",
       "  'eng': 85,\n",
       "  'math': 90,\n",
       "  'total': 265,\n",
       "  'avg': 0.0,\n",
       "  'order': 0},\n",
       " {'num': '3',\n",
       "  'name': '홍길동',\n",
       "  'kor': 80,\n",
       "  'eng': 80,\n",
       "  'math': 80,\n",
       "  'total': 240,\n",
       "  'avg': 0.0,\n",
       "  'order': 0}]"
      ]
     },
     "execution_count": 23,
     "metadata": {},
     "output_type": "execute_result"
    }
   ],
   "source": [
    "# calc_total()\n",
    "def calc_total(stus):\n",
    "    for s in stus:\n",
    "        s['total'] = s['kor'] + s['eng'] + s['math']\n",
    "\n",
    "calc_total(students)\n",
    "students"
   ]
  },
  {
   "cell_type": "code",
   "execution_count": 31,
   "id": "8c2f25a7-3e7e-4ede-b13e-8d3aeb529f4d",
   "metadata": {
    "collapsed": true,
    "jupyter": {
     "outputs_hidden": true
    },
    "scrolled": true
   },
   "outputs": [
    {
     "data": {
      "text/plain": [
       "[{'num': '1',\n",
       "  'name': '김철수',\n",
       "  'kor': 90,\n",
       "  'eng': 80,\n",
       "  'math': 85,\n",
       "  'total': 255,\n",
       "  'avg': 85.0,\n",
       "  'order': 2},\n",
       " {'num': '2',\n",
       "  'name': '박제동',\n",
       "  'kor': 90,\n",
       "  'eng': 85,\n",
       "  'math': 90,\n",
       "  'total': 265,\n",
       "  'avg': 88.33333333333333,\n",
       "  'order': 1},\n",
       " {'num': '3',\n",
       "  'name': '홍길동',\n",
       "  'kor': 80,\n",
       "  'eng': 80,\n",
       "  'math': 80,\n",
       "  'total': 240,\n",
       "  'avg': 80.0,\n",
       "  'order': 3}]"
      ]
     },
     "execution_count": 31,
     "metadata": {},
     "output_type": "execute_result"
    }
   ],
   "source": [
    "# calc_average()\n",
    "def calc_average(stus):\n",
    "    for s in stus:\n",
    "        s['avg'] = (s['kor'] + s['eng'] + s['math'])/3\n",
    "\n",
    "calc_average(students)\n",
    "students"
   ]
  },
  {
   "cell_type": "code",
   "execution_count": 29,
   "id": "661e61cb-7c7f-4834-8e4d-8e3726f6a4d2",
   "metadata": {
    "collapsed": true,
    "jupyter": {
     "outputs_hidden": true
    },
    "scrolled": true
   },
   "outputs": [
    {
     "data": {
      "text/plain": [
       "[{'num': '1',\n",
       "  'name': '김철수',\n",
       "  'kor': 90,\n",
       "  'eng': 80,\n",
       "  'math': 85,\n",
       "  'total': 255,\n",
       "  'avg': 85.0,\n",
       "  'order': 2},\n",
       " {'num': '2',\n",
       "  'name': '박제동',\n",
       "  'kor': 90,\n",
       "  'eng': 85,\n",
       "  'math': 90,\n",
       "  'total': 265,\n",
       "  'avg': 88.33333333333333,\n",
       "  'order': 1},\n",
       " {'num': '3',\n",
       "  'name': '홍길동',\n",
       "  'kor': 80,\n",
       "  'eng': 80,\n",
       "  'math': 80,\n",
       "  'total': 240,\n",
       "  'avg': 80.0,\n",
       "  'order': 3}]"
      ]
     },
     "execution_count": 29,
     "metadata": {},
     "output_type": "execute_result"
    }
   ],
   "source": [
    "# calc_order() \n",
    "def calc_order(students):\n",
    "    # 학생 수만큼 반복하면서\n",
    "    for i in range(len(students)):\n",
    "        rank = 1  # 기본 순위는 1등부터 시작\n",
    "\n",
    "        # 다른 모든 학생들과 비교해서\n",
    "        for j in range(len(students)):\n",
    "            if students[j]['total'] > students[i]['total']:\n",
    "                rank += 1  # 자기보다 total 점수가 높은 사람이 있으면 순위 밀림\n",
    "\n",
    "        students[i]['order'] = rank  # 최종 순위를 넣어줌\n",
    "\n",
    "calc_order(students)\n",
    "students"
   ]
  },
  {
   "cell_type": "code",
   "execution_count": null,
   "id": "c34e10fb-e416-40b1-8ce2-2531476bdbe7",
   "metadata": {},
   "outputs": [],
   "source": [
    "# print_class() 반평균, 곽 과목별 평균 출력\n",
    "def print_class(stus):\n",
    "    for i in stus:\n",
    "        \n",
    "    "
   ]
  },
  {
   "cell_type": "markdown",
   "id": "00ffeb2c-48e7-468e-8af4-09089f7b7a04",
   "metadata": {},
   "source": [
    "# 람다 함수   \n",
    "\n",
    "선언 >> lambda <매개변수> : 코드    \n",
    "호출 >> (lambda <매개변수> : 코드) (매개변수값)"
   ]
  },
  {
   "cell_type": "code",
   "execution_count": 1,
   "id": "42c2b795-055b-4745-b322-65e858926761",
   "metadata": {},
   "outputs": [],
   "source": [
    "def aaa(a):\n",
    "    result = a + 1\n",
    "    return result"
   ]
  },
  {
   "cell_type": "code",
   "execution_count": 11,
   "id": "e70ccd21-40ca-4f8d-8464-e1f0ca946ccb",
   "metadata": {},
   "outputs": [
    {
     "data": {
      "text/plain": [
       "<function __main__.<lambda>(a)>"
      ]
     },
     "execution_count": 11,
     "metadata": {},
     "output_type": "execute_result"
    }
   ],
   "source": [
    "# lambda 선언\n",
    "lambda a : a + 1"
   ]
  },
  {
   "cell_type": "code",
   "execution_count": 12,
   "id": "7072148c-09a3-44c4-8ef8-60b83efca97f",
   "metadata": {},
   "outputs": [
    {
     "data": {
      "text/plain": [
       "8"
      ]
     },
     "execution_count": 12,
     "metadata": {},
     "output_type": "execute_result"
    }
   ],
   "source": [
    "# lambda의 정의 즉시 호출\n",
    "(lambda a : a + 1)(7)"
   ]
  },
  {
   "cell_type": "code",
   "execution_count": 13,
   "id": "8b2528d9-4cbb-4bb6-ac3a-533fd76faaa4",
   "metadata": {},
   "outputs": [
    {
     "data": {
      "text/plain": [
       "4"
      ]
     },
     "execution_count": 13,
     "metadata": {},
     "output_type": "execute_result"
    }
   ],
   "source": [
    "# lambda의 재정의 (호출)\n",
    "my_lambda = lambda a : a+1\n",
    "my_lambda(3)"
   ]
  },
  {
   "cell_type": "code",
   "execution_count": 17,
   "id": "4e529881-6afa-4dbe-95c8-163a28c1cf92",
   "metadata": {},
   "outputs": [
    {
     "data": {
      "text/plain": [
       "8"
      ]
     },
     "execution_count": 17,
     "metadata": {},
     "output_type": "execute_result"
    }
   ],
   "source": [
    "def sum1(a,b):\n",
    "    return a+b\n",
    "\n",
    "sum1(3,5)"
   ]
  },
  {
   "cell_type": "code",
   "execution_count": 16,
   "id": "9ce5b049-c0d5-4903-8d70-54b65ed07323",
   "metadata": {},
   "outputs": [
    {
     "data": {
      "text/plain": [
       "95"
      ]
     },
     "execution_count": 16,
     "metadata": {},
     "output_type": "execute_result"
    }
   ],
   "source": [
    "(lambda a,b : a + b)(45, 50)"
   ]
  },
  {
   "cell_type": "code",
   "execution_count": 23,
   "id": "ad7238a8-8d5b-4dae-99e1-121ff7690f7b",
   "metadata": {},
   "outputs": [],
   "source": [
    "# def calc_func(a,b,opr):\n",
    "#     if opr == '+':\n",
    "#         return a+b"
   ]
  },
  {
   "cell_type": "code",
   "execution_count": 24,
   "id": "5e9691b4-06aa-40f3-81eb-ee1b7542c441",
   "metadata": {},
   "outputs": [],
   "source": [
    "def calc_func(a,b,opr_func):\n",
    "    result = opr_func(a,b)\n",
    "    return result"
   ]
  },
  {
   "cell_type": "code",
   "execution_count": 25,
   "id": "5461efb7-9103-49c1-9cae-4f111c65879c",
   "metadata": {},
   "outputs": [
    {
     "data": {
      "text/plain": [
       "85"
      ]
     },
     "execution_count": 25,
     "metadata": {},
     "output_type": "execute_result"
    }
   ],
   "source": [
    "calc_func(35,50, lambda x,y: x+y)"
   ]
  },
  {
   "cell_type": "markdown",
   "id": "001e9e08-5349-417d-bd7d-98a88f84bb0e",
   "metadata": {},
   "source": [
    "# map() 함수"
   ]
  },
  {
   "cell_type": "code",
   "execution_count": 30,
   "id": "80864262-e8ac-4266-af54-01a9fcd18aa8",
   "metadata": {},
   "outputs": [
    {
     "data": {
      "text/plain": [
       "['APPLE', 'BANANA', 'CHERRY']"
      ]
     },
     "execution_count": 30,
     "metadata": {},
     "output_type": "execute_result"
    }
   ],
   "source": [
    "# map 함수\n",
    "fruits = ['apple','banana','cherry']\n",
    "# str.upper\n",
    "\n",
    "# fruits[0].upper()\n",
    "\n",
    "list(map(str.upper, fruits))  # map으로만 한다고 출력이 되는게 아니라 list로 만들어 줘야지 볼 수 있다."
   ]
  },
  {
   "cell_type": "code",
   "execution_count": 32,
   "id": "5a37e36a-8bee-4c87-bfb1-cfe87eeb9edf",
   "metadata": {},
   "outputs": [
    {
     "data": {
      "text/plain": [
       "['1', '2', '3', '4', '5']"
      ]
     },
     "execution_count": 32,
     "metadata": {},
     "output_type": "execute_result"
    }
   ],
   "source": [
    "str_number = '12345' # 각 숫자를 각각 str 리스트로 만들고 싶음\n",
    "list(str_number) #문자열 리스트 "
   ]
  },
  {
   "cell_type": "code",
   "execution_count": 33,
   "id": "0a822d7b-8f7f-4294-900f-104fbc74f611",
   "metadata": {},
   "outputs": [
    {
     "ename": "TypeError",
     "evalue": "int() argument must be a string, a bytes-like object or a real number, not 'list'",
     "output_type": "error",
     "traceback": [
      "\u001b[31m---------------------------------------------------------------------------\u001b[39m",
      "\u001b[31mTypeError\u001b[39m                                 Traceback (most recent call last)",
      "\u001b[36mCell\u001b[39m\u001b[36m \u001b[39m\u001b[32mIn[33]\u001b[39m\u001b[32m, line 1\u001b[39m\n\u001b[32m----> \u001b[39m\u001b[32m1\u001b[39m \u001b[38;5;28mint\u001b[39m(\u001b[38;5;28mlist\u001b[39m(str_number))\n",
      "\u001b[31mTypeError\u001b[39m: int() argument must be a string, a bytes-like object or a real number, not 'list'"
     ]
    }
   ],
   "source": [
    "int(list(str_number)) # ERROR"
   ]
  },
  {
   "cell_type": "code",
   "execution_count": 44,
   "id": "12b8440f-9847-4e97-9958-a0a7d1b358d7",
   "metadata": {},
   "outputs": [
    {
     "data": {
      "text/plain": [
       "[1, 2, 3, 4, 5]"
      ]
     },
     "execution_count": 44,
     "metadata": {},
     "output_type": "execute_result"
    }
   ],
   "source": [
    "numbers = list(map(int, str_number))\n",
    "numbers"
   ]
  },
  {
   "cell_type": "code",
   "execution_count": 43,
   "id": "911f2ef2-7dee-4fde-967d-92c6db5c5870",
   "metadata": {},
   "outputs": [
    {
     "data": {
      "text/plain": [
       "[1, 4, 9, 16, 25]"
      ]
     },
     "execution_count": 43,
     "metadata": {},
     "output_type": "execute_result"
    }
   ],
   "source": [
    "list(map(lambda x : x**2, numbers))"
   ]
  },
  {
   "cell_type": "code",
   "execution_count": 46,
   "id": "d7065cb6-c748-4a4d-84c8-d5125be42284",
   "metadata": {},
   "outputs": [
    {
     "data": {
      "text/plain": [
       "[5, 7, 9]"
      ]
     },
     "execution_count": 46,
     "metadata": {},
     "output_type": "execute_result"
    }
   ],
   "source": [
    "kor_score = [1,2,3]\n",
    "eng_score = [4,5,6]\n",
    "\n",
    "kscore = map(lambda x,y : x + y, kor_score, eng_score) \n",
    "list(kscore)"
   ]
  },
  {
   "cell_type": "code",
   "execution_count": 47,
   "id": "8cc35fbb-1def-450a-9c9f-2204182c6a36",
   "metadata": {},
   "outputs": [
    {
     "data": {
      "text/plain": [
       "[12, 15, 18]"
      ]
     },
     "execution_count": 47,
     "metadata": {},
     "output_type": "execute_result"
    }
   ],
   "source": [
    "kor_score = [1,2,3]\n",
    "eng_score = [4,5,6]\n",
    "math_score = [7,8,9]\n",
    "\n",
    "list(map(lambda x,y,z : x+y+z, kor_score, eng_score, math_score))"
   ]
  },
  {
   "cell_type": "code",
   "execution_count": 53,
   "id": "90f109b1-e4ee-4fd3-a793-27df3e6322c2",
   "metadata": {
    "scrolled": true
   },
   "outputs": [
    {
     "data": {
      "text/plain": [
       "[4.0, 5.0, 6.0]"
      ]
     },
     "execution_count": 53,
     "metadata": {},
     "output_type": "execute_result"
    }
   ],
   "source": [
    "# 평균\n",
    "list(map(lambda x,y,z : (x+y+z)/3, kor_score, eng_score, math_score))"
   ]
  },
  {
   "cell_type": "code",
   "execution_count": 57,
   "id": "edc54467-0a38-497a-ac8e-4627a2c65e72",
   "metadata": {},
   "outputs": [
    {
     "data": {
      "text/plain": [
       "[12, 15, 18]"
      ]
     },
     "execution_count": 57,
     "metadata": {},
     "output_type": "execute_result"
    }
   ],
   "source": [
    "# zip을 활용한 합 # zip\n",
    "kor_score = [1,2,3]\n",
    "eng_score = [4,5,6]\n",
    "math_score = [7,8,9]\n",
    "\n",
    "list(map(lambda s : sum(s), zip(kor_score, eng_score, math_score)))"
   ]
  },
  {
   "cell_type": "code",
   "execution_count": 58,
   "id": "e3d26b92-8026-4347-916d-31510b832766",
   "metadata": {},
   "outputs": [
    {
     "data": {
      "text/plain": [
       "[4.0, 5.0, 6.0]"
      ]
     },
     "execution_count": 58,
     "metadata": {},
     "output_type": "execute_result"
    }
   ],
   "source": [
    "# zip을 활용한 평균 #zip\n",
    "kor_score = [1,2,3]\n",
    "eng_score = [4,5,6]\n",
    "math_score = [7,8,9]\n",
    "\n",
    "list(map(lambda s : sum(s)/3 , zip(kor_score, eng_score, math_score)))"
   ]
  },
  {
   "cell_type": "code",
   "execution_count": null,
   "id": "094a3b1c-7996-4bf5-8113-530fee38dd2a",
   "metadata": {},
   "outputs": [],
   "source": [
    "# 최대값\n",
    "kor_score = [1,2,3]\n",
    "eng_score = [4,5,6]\n",
    "math_score = [7,8,9]\n"
   ]
  },
  {
   "cell_type": "markdown",
   "id": "c2b020c4-6d89-4fc0-9b13-7428e01435d4",
   "metadata": {},
   "source": [
    "# filter()"
   ]
  },
  {
   "cell_type": "code",
   "execution_count": 2,
   "id": "a5bafdf4-ac9d-4a24-8863-38cf3ea576ac",
   "metadata": {},
   "outputs": [
    {
     "data": {
      "text/plain": [
       "[2, 4, 6]"
      ]
     },
     "execution_count": 2,
     "metadata": {},
     "output_type": "execute_result"
    }
   ],
   "source": [
    "# 리스트 컴프리헨션의 필터\n",
    "\n",
    "numbers = [1, 2, 3, 4, 5, 6]\n",
    "\n",
    "[x for x in numbers if x %2 ==0]\n"
   ]
  },
  {
   "cell_type": "code",
   "execution_count": 6,
   "id": "1a9d4f20-c605-4ddb-b9c8-ddf20217a244",
   "metadata": {},
   "outputs": [
    {
     "data": {
      "text/plain": [
       "[2, 4, 6]"
      ]
     },
     "execution_count": 6,
     "metadata": {},
     "output_type": "execute_result"
    }
   ],
   "source": [
    "#lambda - filter()\n",
    "\n",
    "list(filter(lambda x : x%2 ==0, numbers))"
   ]
  },
  {
   "cell_type": "code",
   "execution_count": 8,
   "id": "8e919536-dc0a-41ae-b618-9788faec4cb6",
   "metadata": {},
   "outputs": [
    {
     "data": {
      "text/plain": [
       "[4, 16, 36]"
      ]
     },
     "execution_count": 8,
     "metadata": {},
     "output_type": "execute_result"
    }
   ],
   "source": [
    "# numbers를 제곱하고, 그 중에 짝수인 리스트로 리턴\n",
    "list(filter(lambda x : x%2 ==0, map(lambda x : x**2, numbers)))"
   ]
  },
  {
   "cell_type": "code",
   "execution_count": 1,
   "id": "0068f0fa-eebb-4b33-8c2a-2abe71b8af9d",
   "metadata": {
    "scrolled": true
   },
   "outputs": [
    {
     "name": "stdout",
     "output_type": "stream",
     "text": [
      "[2, 4, 6]\n",
      "2\n",
      "4\n",
      "6\n"
     ]
    }
   ],
   "source": [
    "# filter() 기본 사용 예시\n",
    "numbers = [1, 2, 3, 4, 5, 6]\n",
    "even_numbers = filter(lambda x: x % 2 == 0, numbers)\n",
    "print(list(even_numbers))  # [2, 4, 6]\n",
    "\n",
    "# for 문에서의 활용\n",
    "for even in filter(lambda x: x % 2 == 0, numbers):\n",
    "    print(even)"
   ]
  },
  {
   "cell_type": "markdown",
   "id": "526df7f9-488b-413f-b7d6-d5d7541ac989",
   "metadata": {},
   "source": [
    "# sorted 함수"
   ]
  },
  {
   "cell_type": "code",
   "execution_count": 9,
   "id": "56bb4c49-095c-4c88-a809-b50af69a48f0",
   "metadata": {},
   "outputs": [
    {
     "data": {
      "text/plain": [
       "[2, 3, 4, 5, 6, 7, 8, 12]"
      ]
     },
     "execution_count": 9,
     "metadata": {},
     "output_type": "execute_result"
    }
   ],
   "source": [
    "numbers = [3,4,12,2,5,6,8,7]\n",
    "numbers.sort() # sort() method\n",
    "numbers"
   ]
  },
  {
   "cell_type": "code",
   "execution_count": 13,
   "id": "3bf9e3b0-4ce3-41f5-b091-3d28936af05e",
   "metadata": {},
   "outputs": [
    {
     "name": "stdout",
     "output_type": "stream",
     "text": [
      "[3, 4, 12, 2, 5, 6, 8, 7]\n"
     ]
    }
   ],
   "source": [
    "numbers = [3,4,12,2,5,6,8,7]\n",
    "\n",
    "nums = sorted(numbers) # nums = [2, 3, 4, 5, 6, 7, 8, 12]\n",
    "\n",
    "print(numbers) # numbers = [3,4,12,2,5,6,8,7]"
   ]
  },
  {
   "cell_type": "code",
   "execution_count": 15,
   "id": "a5435f14-2422-471b-adf5-e96c8ff5ef4e",
   "metadata": {},
   "outputs": [
    {
     "data": {
      "text/plain": [
       "[1, -3, 5, -6, -8]"
      ]
     },
     "execution_count": 15,
     "metadata": {},
     "output_type": "execute_result"
    }
   ],
   "source": [
    "numbers = [ -3, 1, 5, -6, -8]\n",
    "sorted(numbers, key =abs)  # abs = absolute 절대값"
   ]
  },
  {
   "cell_type": "code",
   "execution_count": 24,
   "id": "07b84ed9-df4d-4078-9dde-9e705f69b92d",
   "metadata": {},
   "outputs": [
    {
     "data": {
      "text/plain": [
       "['apple', 'banana', 'blueberry', 'tomato']"
      ]
     },
     "execution_count": 24,
     "metadata": {},
     "output_type": "execute_result"
    }
   ],
   "source": [
    "words = ['apple', 'banana', 'tomato', 'blueberry']\n",
    "sorted(words)"
   ]
  },
  {
   "cell_type": "code",
   "execution_count": 25,
   "id": "7c16aa5e-9dc7-48d5-9e5a-6fe3057bbf36",
   "metadata": {},
   "outputs": [
    {
     "data": {
      "text/plain": [
       "['apple', 'banana', 'tomato', 'blueberry']"
      ]
     },
     "execution_count": 25,
     "metadata": {},
     "output_type": "execute_result"
    }
   ],
   "source": [
    "sorted(words, key =len)"
   ]
  },
  {
   "cell_type": "code",
   "execution_count": 26,
   "id": "f8d0db94-5894-424d-b67d-a5eb38daf1cb",
   "metadata": {},
   "outputs": [
    {
     "data": {
      "text/plain": [
       "['blueberry', 'banana', 'tomato', 'apple']"
      ]
     },
     "execution_count": 26,
     "metadata": {},
     "output_type": "execute_result"
    }
   ],
   "source": [
    "sorted(words, key =len, reverse = True)"
   ]
  },
  {
   "cell_type": "code",
   "execution_count": 27,
   "id": "4baf56f1-bf50-4498-9623-07784caa75dd",
   "metadata": {},
   "outputs": [
    {
     "data": {
      "text/plain": [
       "['banana', 'apple', 'tomato', 'blueberry']"
      ]
     },
     "execution_count": 27,
     "metadata": {},
     "output_type": "execute_result"
    }
   ],
   "source": [
    "#마지막글자의 순\n",
    "sorted(words, key = lambda w : w[-1])"
   ]
  },
  {
   "cell_type": "code",
   "execution_count": 28,
   "id": "c0bc53b1-601f-448e-b4d1-197cd3a41bca",
   "metadata": {},
   "outputs": [
    {
     "data": {
      "text/plain": [
       "[(3, 2), (2, 3), (1, 4)]"
      ]
     },
     "execution_count": 28,
     "metadata": {},
     "output_type": "execute_result"
    }
   ],
   "source": [
    "#튜플의 요소 기준 정렬\n",
    "data = [(1,4),(2,3),(3,2)]\n",
    "sorted(data, key=lambda x:x[1]) # [(!1,4),(!2,3),(!3,2)]"
   ]
  },
  {
   "cell_type": "code",
   "execution_count": 36,
   "id": "07010a31-49a7-4e69-9128-530373f6c424",
   "metadata": {},
   "outputs": [
    {
     "data": {
      "text/plain": [
       "([('Alice', 20, 85), ('Charlie', 21, 78), ('Bob', 22, 90)],\n",
       " [('Bob', 22, 90), ('Alice', 20, 85), ('Charlie', 21, 78)])"
      ]
     },
     "execution_count": 36,
     "metadata": {},
     "output_type": "execute_result"
    }
   ],
   "source": [
    "# 이름, 나이, 점수\n",
    "students = [('Alice',20,85), ('Bob',22,90),('Charlie',21,78)]\n",
    "# 나이 기준으로 정렬\n",
    "age_sorted = sorted(students,key = lambda x: x[1])\n",
    "#높은 점수순으로 정렬\n",
    "score_sorted = sorted(students, key = lambda x :x[2], reverse = True)\n",
    "\n",
    "age_sorted, score_sorted"
   ]
  },
  {
   "cell_type": "code",
   "execution_count": null,
   "id": "c7b217e1-0eac-445b-8420-096649c954ce",
   "metadata": {},
   "outputs": [],
   "source": []
  },
  {
   "cell_type": "code",
   "execution_count": null,
   "id": "419a95b2-59a0-468f-891c-22d039dc1c6f",
   "metadata": {},
   "outputs": [],
   "source": []
  },
  {
   "cell_type": "code",
   "execution_count": null,
   "id": "1ef08b34-fbec-4c5a-92e9-5587f4993830",
   "metadata": {},
   "outputs": [],
   "source": []
  },
  {
   "cell_type": "code",
   "execution_count": null,
   "id": "4cc75e62-ff83-4e4f-81b3-6c255f1f59c5",
   "metadata": {},
   "outputs": [],
   "source": []
  },
  {
   "cell_type": "code",
   "execution_count": null,
   "id": "12ce8f92-f569-4e49-9893-9acfb13af26c",
   "metadata": {},
   "outputs": [],
   "source": []
  },
  {
   "cell_type": "code",
   "execution_count": null,
   "id": "146ac41c-9bc8-4f17-827a-527d3b8530dd",
   "metadata": {},
   "outputs": [],
   "source": []
  },
  {
   "cell_type": "code",
   "execution_count": null,
   "id": "a509e505-abf4-46f4-86a1-013f6494c87b",
   "metadata": {},
   "outputs": [],
   "source": []
  },
  {
   "cell_type": "code",
   "execution_count": null,
   "id": "6374809a-8bd8-46b2-a1da-78c634b5af1d",
   "metadata": {},
   "outputs": [],
   "source": []
  },
  {
   "cell_type": "code",
   "execution_count": null,
   "id": "6235d321-aedc-4dec-997c-1614a2e92bd9",
   "metadata": {},
   "outputs": [],
   "source": []
  }
 ],
 "metadata": {
  "kernelspec": {
   "display_name": "Python 3 (ipykernel)",
   "language": "python",
   "name": "python3"
  },
  "language_info": {
   "codemirror_mode": {
    "name": "ipython",
    "version": 3
   },
   "file_extension": ".py",
   "mimetype": "text/x-python",
   "name": "python",
   "nbconvert_exporter": "python",
   "pygments_lexer": "ipython3",
   "version": "3.12.9"
  }
 },
 "nbformat": 4,
 "nbformat_minor": 5
}
