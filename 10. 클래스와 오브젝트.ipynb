{
 "cells": [
  {
   "cell_type": "markdown",
   "id": "a787bab8-f426-4aa5-9930-bb6671862b8f",
   "metadata": {},
   "source": [
    "# 클래스"
   ]
  },
  {
   "cell_type": "markdown",
   "id": "9788d4ed-4750-42cc-9603-670d944265ae",
   "metadata": {},
   "source": [
    "# 파이썬으로 객체지향프로그램 OOP     \n",
    "\n",
    "Object Oriented Programming   \n",
    "\n",
    "\n",
    "\n",
    "파이썬으로 만드는 응용프로그램\n",
    "- 변수: 전역, 지역\n",
    "- 함수: 기능을 구현하는 도구   \n",
    "- 모듈: 함수의 모음, 변수를 모음 > .py    \n",
    "- CRUD 의 구현의 모음, 변수를 모음 > .py   \n",
    "- CRUD 의 구현: <Create(생성), Read(읽기), Update(갱신), Delete(삭제)의 약자>\n",
    "\n",
    "Class : 변수 + 함수를 하나로 묶어 주는 개념   \n",
    "객체: 클래스를 이용해서 다수의 객체를 생성   \n",
    "   \n",
    "객체지향 프로그램: 객체를 이용하는 프로그램"
   ]
  },
  {
   "cell_type": "markdown",
   "id": "9fa34ff9-3fea-4bd1-aa9c-2222183f374a",
   "metadata": {},
   "source": [
    "## 객체지향 프로그램을 만드는 법\n",
    "\n",
    "1. 클래스를 만들기\n",
    "2. 클래스를 이용해 객체를 생성\n",
    "3. 객체의 함수 : 메소드를 호출"
   ]
  },
  {
   "cell_type": "code",
   "execution_count": 73,
   "id": "2cf5315a-adb8-44a3-af42-97d87d8a0577",
   "metadata": {},
   "outputs": [],
   "source": [
    "class Bicycle():\n",
    "    #속성추가: 생성자\n",
    "    # def __init__(self,color):\n",
    "    #     self.color = color\n",
    "        \n",
    "    def move():\n",
    "        print(f'자전거가 움직입니두')"
   ]
  },
  {
   "cell_type": "code",
   "execution_count": 74,
   "id": "78dac3b0-d7c1-4d9d-8d43-51f46d8cc58e",
   "metadata": {},
   "outputs": [],
   "source": [
    "Bicycle()\n",
    "bi = Bicycle()"
   ]
  },
  {
   "cell_type": "code",
   "execution_count": 75,
   "id": "465d487d-9c2b-4c3b-ad87-2e944af5d3d5",
   "metadata": {},
   "outputs": [
    {
     "ename": "TypeError",
     "evalue": "Bicycle.move() takes 0 positional arguments but 1 was given",
     "output_type": "error",
     "traceback": [
      "\u001b[31m---------------------------------------------------------------------------\u001b[39m",
      "\u001b[31mTypeError\u001b[39m                                 Traceback (most recent call last)",
      "\u001b[36mCell\u001b[39m\u001b[36m \u001b[39m\u001b[32mIn[75]\u001b[39m\u001b[32m, line 1\u001b[39m\n\u001b[32m----> \u001b[39m\u001b[32m1\u001b[39m bi.move()\n",
      "\u001b[31mTypeError\u001b[39m: Bicycle.move() takes 0 positional arguments but 1 was given"
     ]
    }
   ],
   "source": [
    "bi.move() # TypeError: Bicycle.move() takes 0 positional arguments but 1 was given"
   ]
  },
  {
   "cell_type": "code",
   "execution_count": 2,
   "id": "19cd6910-a541-4138-a97f-f95e402dcedf",
   "metadata": {},
   "outputs": [],
   "source": [
    "class Bicycle():\n",
    "    #속성추가: 생성자\n",
    "    def __init__(self,color):\n",
    "        self.color = color\n",
    "        \n",
    "    def move(self):\n",
    "        print(f'{self.color}자전거가 움직입니두')"
   ]
  },
  {
   "cell_type": "code",
   "execution_count": 9,
   "id": "e0469e89-b54d-471c-b34e-88a6e1040917",
   "metadata": {},
   "outputs": [],
   "source": [
    "bi = Bicycle(' ')"
   ]
  },
  {
   "cell_type": "code",
   "execution_count": 10,
   "id": "1e50cdee-de4d-473b-9874-12f76d5a43e6",
   "metadata": {
    "scrolled": true
   },
   "outputs": [
    {
     "name": "stdout",
     "output_type": "stream",
     "text": [
      " 자전거가 움직입니두\n"
     ]
    }
   ],
   "source": [
    "bi.move()"
   ]
  },
  {
   "cell_type": "code",
   "execution_count": 11,
   "id": "b2d93ac9-cc53-4a7d-8ff3-71849cce10e1",
   "metadata": {},
   "outputs": [
    {
     "name": "stdout",
     "output_type": "stream",
     "text": [
      "white자전거가 움직입니두\n",
      "red자전거가 움직입니두\n",
      "blue자전거가 움직입니두\n",
      "black자전거가 움직입니두\n"
     ]
    }
   ],
   "source": [
    "bi = Bicycle('white')\n",
    "bi1 = Bicycle('red')\n",
    "bi2 = Bicycle('blue')\n",
    "bi3 = Bicycle('black')\n",
    "\n",
    "bi.move()\n",
    "bi1.move()\n",
    "bi2.move()\n",
    "bi3.move()"
   ]
  },
  {
   "cell_type": "code",
   "execution_count": 19,
   "id": "7722aa27-94af-4317-a4c1-4745c2d61b7a",
   "metadata": {},
   "outputs": [],
   "source": [
    "class Bicycle():\n",
    "    #속성추가: 생성자\n",
    "    def __init__(self,color,wheelsize =5): # wheelsize = 5 으로 기본값을 주는 것\n",
    "        self.color = color\n",
    "        self.wheelsize = wheelsize\n",
    "    # def __init__(self,color):\n",
    "    #     self.color = color\n",
    "        \n",
    "    def move(self):\n",
    "        print(f'{self.color}, {self.wheelsize}인치 자전거가 움직입니두')"
   ]
  },
  {
   "cell_type": "code",
   "execution_count": 20,
   "id": "47ab1f13-1113-4946-824a-311f7f01df75",
   "metadata": {},
   "outputs": [
    {
     "name": "stdout",
     "output_type": "stream",
     "text": [
      "white, 10인치 자전거가 움직입니두\n",
      "red, 20인치 자전거가 움직입니두\n",
      "blue, 10인치 자전거가 움직입니두\n",
      "black, 10인치 자전거가 움직입니두\n",
      "Green, 5인치 자전거가 움직입니두\n"
     ]
    }
   ],
   "source": [
    "bi = Bicycle('white',10)\n",
    "bi1 = Bicycle('red',20)\n",
    "bi2 = Bicycle('blue',10)\n",
    "bi3 = Bicycle('black',10)\n",
    "bi4 = Bicycle('Green') # wheelsize = 5 으로 기본값을 주는 것\n",
    "\n",
    "bi.move()\n",
    "bi1.move()\n",
    "bi2.move()\n",
    "bi3.move()\n",
    "bi4.move() # wheelsize = 5 으로 기본값"
   ]
  },
  {
   "cell_type": "code",
   "execution_count": 14,
   "id": "db41d02a-97f4-4438-814c-53c098dc7dbe",
   "metadata": {},
   "outputs": [],
   "source": [
    "class Student:\n",
    "    def __init__(self, name, age):\n",
    "        self.name = name\n",
    "        self.age = age\n",
    "\n",
    "    def introduce(self):\n",
    "        print(f\"안녕하세요. 제 이름은 {self.name}이고, 나이는 {self.age}살입니다.\")"
   ]
  },
  {
   "cell_type": "code",
   "execution_count": 15,
   "id": "05f1fd8f-221a-49a7-a386-385e67a13159",
   "metadata": {},
   "outputs": [
    {
     "name": "stdout",
     "output_type": "stream",
     "text": [
      "안녕하세요. 제 이름은 지민이고, 나이는 20살입니다.\n",
      "안녕하세요. 제 이름은 유진이고, 나이는 22살입니다.\n"
     ]
    }
   ],
   "source": [
    "s1 = Student(\"지민\", 20)\n",
    "s2 = Student(\"유진\", 22)\n",
    "\n",
    "s1.introduce()\n",
    "s2.introduce()"
   ]
  },
  {
   "cell_type": "markdown",
   "id": "e8bdd687-20f4-40a2-bf37-ecfd47178d2b",
   "metadata": {},
   "source": [
    "# 클래스의 속성 - 변수   \n",
    "1. 인스턴스 변수   \n",
    "2. 클래스 변수"
   ]
  },
  {
   "cell_type": "code",
   "execution_count": 21,
   "id": "ecf27ef1-7d03-4c87-b9c3-494d8b20e837",
   "metadata": {},
   "outputs": [
    {
     "name": "stdout",
     "output_type": "stream",
     "text": [
      "영희\n",
      "철수\n",
      "파이썬 스쿨\n"
     ]
    }
   ],
   "source": [
    "class Student:\n",
    "    school = \"파이썬 스쿨\"  # 클래스 변수\n",
    "    \n",
    "    def __init__(self, name):\n",
    "        self.name = name  # 인스턴스 변수\n",
    "\n",
    "s1 = Student(\"영희\")\n",
    "s2 = Student(\"철수\")\n",
    "\n",
    "print(s1.name)  # 영희 (인스턴스 변수)\n",
    "print(s2.name)  # 철수 (인스턴스 변수)\n",
    "print(Student.school)  # 파이썬 고등학교 (클래스 변수)"
   ]
  },
  {
   "cell_type": "code",
   "execution_count": 39,
   "id": "70cc3435-6200-47ea-a459-5741af149197",
   "metadata": {},
   "outputs": [],
   "source": [
    "class Bike():\n",
    "    #속성추가: 생성자\n",
    "    def __init__(self,color,wheelsize =5): # wheelsize = 5 으로 기본값을 주는 것\n",
    "        self.color = color\n",
    "        self.wheelsize = wheelsize\n",
    "    # def __init__(self,color):\n",
    "    #     self.color = color\n",
    "        \n",
    "    def move(self):\n",
    "        print(f'{self.color}, {self.wheelsize}인치 자전거가 움직입니두')"
   ]
  },
  {
   "cell_type": "code",
   "execution_count": 40,
   "id": "b8b0bcf4-8ad8-406b-8219-f5755d3e2b31",
   "metadata": {},
   "outputs": [
    {
     "name": "stdout",
     "output_type": "stream",
     "text": [
      "white, 5인치 자전거가 움직입니두\n",
      "red, 5인치 자전거가 움직입니두\n",
      "blue, 5인치 자전거가 움직입니두\n",
      "black, 5인치 자전거가 움직입니두\n"
     ]
    }
   ],
   "source": [
    "bi = Bike('white')\n",
    "bi1 = Bike('red')\n",
    "bi2 = Bike('blue')\n",
    "bi3 = Bike('black')\n",
    "\n",
    "bi.move()\n",
    "bi1.move()\n",
    "bi2.move()\n",
    "bi3.move()"
   ]
  },
  {
   "cell_type": "code",
   "execution_count": 44,
   "id": "fe828341-3568-4f10-9d7c-a4a02f8a0e45",
   "metadata": {},
   "outputs": [],
   "source": [
    "class Car():\n",
    "    #클래스 변수\n",
    "    instance_cnt = 0 # 클래스 변수 \n",
    "    def __init__(self,size):\n",
    "        self.size = size # 인스턴스 변수\n",
    "        Car.instance_cnt += 1\n",
    "        print(f'자동차가 {Car.instance_cnt}대 생성되었습니다.')\n",
    "    def move(self):\n",
    "        print(f'{self.size}cc 자동차가 움직입니다.')\n",
    "\n",
    "    "
   ]
  },
  {
   "cell_type": "code",
   "execution_count": 45,
   "id": "559bb4a8-83e2-4b1c-bd13-f23630e95ec6",
   "metadata": {},
   "outputs": [
    {
     "name": "stdout",
     "output_type": "stream",
     "text": [
      "자동차가 1대 생성되었습니다.\n",
      "자동차가 2대 생성되었습니다.\n",
      "자동차가 3대 생성되었습니다.\n",
      "****************************************\n",
      "2000cc 자동차가 움직입니다.\n",
      "1500cc 자동차가 움직입니다.\n",
      "30cc 자동차가 움직입니다.\n"
     ]
    }
   ],
   "source": [
    "c1 = Car(2000)\n",
    "c2 = Car(1500)\n",
    "c3 = Car(30)\n",
    "print('*' *40)\n",
    "c1.move()\n",
    "c2.move()\n",
    "c3.move()"
   ]
  },
  {
   "cell_type": "markdown",
   "id": "6dcc9364-4fb1-45bc-8cf7-1a485d8125af",
   "metadata": {},
   "source": [
    "# Method\n",
    "1. 인스턴스 메서드: self\n",
    "2. 스태틱(정적) 메서드: @staticmethod  \n",
    "3. 클래스 메서드: @classmethod"
   ]
  },
  {
   "cell_type": "code",
   "execution_count": 46,
   "id": "004e9838-d883-4e67-8148-ce43ce538323",
   "metadata": {},
   "outputs": [],
   "source": [
    "class Calculator:\n",
    "    def __init__(self, x, y): #instance method\n",
    "        self.x = x\n",
    "        self.y = y\n",
    "\n",
    "    def add(self):\n",
    "        return self.x + self.y #instance method\n",
    "\n",
    "    def multiply(self):\n",
    "        return self.x * self.y #instance method"
   ]
  },
  {
   "cell_type": "code",
   "execution_count": 47,
   "id": "e1bd87cf-41dd-4bda-88f6-a5ba5e5fb345",
   "metadata": {},
   "outputs": [
    {
     "name": "stdout",
     "output_type": "stream",
     "text": [
      "덧셈 결과: 15\n",
      "곱셈 결과: 50\n"
     ]
    }
   ],
   "source": [
    "calc = Calculator(10, 5) #__init() 생성자 함수를 자동으로 호출\n",
    "\n",
    "print(\"덧셈 결과:\", calc.add())\n",
    "print(\"곱셈 결과:\", calc.multiply())"
   ]
  },
  {
   "cell_type": "code",
   "execution_count": 51,
   "id": "f541c4cc-86ab-43a3-8ce8-2c2700431c36",
   "metadata": {},
   "outputs": [
    {
     "data": {
      "text/plain": [
       "(7, 12)"
      ]
     },
     "execution_count": 51,
     "metadata": {},
     "output_type": "execute_result"
    }
   ],
   "source": [
    "calc2 = Calculator(3, 4) #__init() 생성자 함수를 자동으로 호출\n",
    "\n",
    "calc2.add(), calc2.multiply() # instance method 의 호출 >  객체의 참조.메소드()"
   ]
  },
  {
   "cell_type": "code",
   "execution_count": 18,
   "id": "511d1764-1550-42f4-ab6d-4e347436d4cd",
   "metadata": {},
   "outputs": [],
   "source": [
    "class Car():\n",
    "    def auto_cruise(self): #instance method\n",
    "        print('자율주행중')\n",
    "    def check_type(code): #static\n",
    "        if code > 20:\n",
    "            print('전기차')\n",
    "        elif 10 < code < 20:\n",
    "            print('휘발유차')\n",
    "        else:\n",
    "            print('경유차')"
   ]
  },
  {
   "cell_type": "code",
   "execution_count": 19,
   "id": "7f79f446-08ad-48a5-be90-759b37facfcc",
   "metadata": {},
   "outputs": [
    {
     "ename": "TypeError",
     "evalue": "Car.check_type() takes 1 positional argument but 2 were given",
     "output_type": "error",
     "traceback": [
      "\u001b[31m---------------------------------------------------------------------------\u001b[39m",
      "\u001b[31mTypeError\u001b[39m                                 Traceback (most recent call last)",
      "\u001b[36mCell\u001b[39m\u001b[36m \u001b[39m\u001b[32mIn[19]\u001b[39m\u001b[32m, line 2\u001b[39m\n\u001b[32m      1\u001b[39m c1 = Car()\n\u001b[32m----> \u001b[39m\u001b[32m2\u001b[39m c1.check_type(\u001b[32m25\u001b[39m)\n",
      "\u001b[31mTypeError\u001b[39m: Car.check_type() takes 1 positional argument but 2 were given"
     ]
    }
   ],
   "source": [
    "c1 = Car()\n",
    "c1.check_type(25)"
   ]
  },
  {
   "cell_type": "code",
   "execution_count": 21,
   "id": "937044d9-ba6d-431d-b766-efd97f3ddaf3",
   "metadata": {},
   "outputs": [
    {
     "name": "stdout",
     "output_type": "stream",
     "text": [
      "전기차\n"
     ]
    }
   ],
   "source": [
    "Car.check_type(26)"
   ]
  },
  {
   "cell_type": "code",
   "execution_count": 32,
   "id": "7d20e281-9df3-4fa6-9276-dd4202fe168b",
   "metadata": {},
   "outputs": [],
   "source": [
    "class Car():\n",
    "    instance_cnt = 0 # 클래스 변수 \n",
    "    def __init__(self,size):\n",
    "        self.size = size # 인스턴스 변수\n",
    "        Car.instance_cnt += 1\n",
    "        print(f'자동차가 {Car.instance_cnt}대 생성되었습니다.')\n",
    "    def move(self):\n",
    "        print(f'{self.size}cc 자동차가 움직입니다.')\n",
    "        \n",
    "    def auto_cruise(self): #instance method\n",
    "        print('자율주행중')\n",
    "    @staticmethod\n",
    "    def check_type(code): #static\n",
    "        if code > 20:\n",
    "            print('전기차')\n",
    "        elif 10 < code < 20:\n",
    "            print('휘발유차')\n",
    "        else:\n",
    "            print('경유차')\n",
    "    @classmethod\n",
    "    def count_instance(cls): #class method\n",
    "        print(f'자동차 대수 : {cls.instance_cnt}')"
   ]
  },
  {
   "cell_type": "code",
   "execution_count": 29,
   "id": "f1d10a52-af42-4851-85bc-aac2776c4594",
   "metadata": {},
   "outputs": [
    {
     "name": "stdout",
     "output_type": "stream",
     "text": [
      "전기차\n"
     ]
    },
    {
     "ename": "AttributeError",
     "evalue": "'int' object has no attribute 'instance_cnt'",
     "output_type": "error",
     "traceback": [
      "\u001b[31m---------------------------------------------------------------------------\u001b[39m",
      "\u001b[31mAttributeError\u001b[39m                            Traceback (most recent call last)",
      "\u001b[36mCell\u001b[39m\u001b[36m \u001b[39m\u001b[32mIn[29]\u001b[39m\u001b[32m, line 2\u001b[39m\n\u001b[32m      1\u001b[39m Car.check_type(\u001b[32m26\u001b[39m)\n\u001b[32m----> \u001b[39m\u001b[32m2\u001b[39m Car.count_instance(\u001b[32m2\u001b[39m)\n",
      "\u001b[36mCell\u001b[39m\u001b[36m \u001b[39m\u001b[32mIn[24]\u001b[39m\u001b[32m, line 20\u001b[39m, in \u001b[36mCar.count_instance\u001b[39m\u001b[34m(cls)\u001b[39m\n\u001b[32m     19\u001b[39m \u001b[38;5;28;01mdef\u001b[39;00m\u001b[38;5;250m \u001b[39m\u001b[34mcount_instance\u001b[39m(\u001b[38;5;28mcls\u001b[39m): \u001b[38;5;66;03m#class method\u001b[39;00m\n\u001b[32m---> \u001b[39m\u001b[32m20\u001b[39m     \u001b[38;5;28mprint\u001b[39m(\u001b[33mf\u001b[39m\u001b[33m'\u001b[39m\u001b[33m자동차 대수 : \u001b[39m\u001b[38;5;132;01m{\u001b[39;00m\u001b[38;5;28mcls\u001b[39m.instance_cnt\u001b[38;5;132;01m}\u001b[39;00m\u001b[33m'\u001b[39m)\n",
      "\u001b[31mAttributeError\u001b[39m: 'int' object has no attribute 'instance_cnt'"
     ]
    }
   ],
   "source": [
    "Car.check_type(26)\n",
    "Car.count_instance(2)"
   ]
  },
  {
   "cell_type": "code",
   "execution_count": 34,
   "id": "a7208981-41d7-4406-beae-5bcba113f0f6",
   "metadata": {},
   "outputs": [
    {
     "name": "stdout",
     "output_type": "stream",
     "text": [
      "자동차가 4대 생성되었습니다.\n",
      "자동차가 5대 생성되었습니다.\n",
      "자동차가 6대 생성되었습니다.\n",
      "****************************************\n",
      "2000cc 자동차가 움직입니다.\n",
      "1500cc 자동차가 움직입니다.\n",
      "30cc 자동차가 움직입니다.\n",
      "자동차 대수 : 6\n"
     ]
    }
   ],
   "source": [
    "c1 = Car(2000)\n",
    "c2 = Car(1500)\n",
    "c3 = Car(30)\n",
    "print('*' *40)\n",
    "c1.move()\n",
    "c2.move()\n",
    "c3.move()\n",
    "\n",
    "Car.count_instance()"
   ]
  },
  {
   "cell_type": "code",
   "execution_count": null,
   "id": "c9c438ad-a34e-476c-a0fa-c70a9365cf2a",
   "metadata": {
    "jupyter": {
     "source_hidden": true
    }
   },
   "outputs": [],
   "source": [
    "### 실습 ###"
   ]
  },
  {
   "cell_type": "markdown",
   "id": "ba173627-7bb3-4f98-8265-807bfb0c9e01",
   "metadata": {},
   "source": [
    "# 성적 클래스"
   ]
  },
  {
   "cell_type": "code",
   "execution_count": 45,
   "id": "1c875140-57e3-4d98-b17b-8080a72d39ed",
   "metadata": {},
   "outputs": [],
   "source": [
    "students = [\n",
    "               {'num':'1','name':'김철수','kor':90,'eng':80,'math':85,'total':0,'avg':0.0,'order':0 },\n",
    "               {'num':'2','name':'박제동','kor':90,'eng':85,'math':90,'total':0,'avg':0.0,'order':0 },\n",
    "               {'num':'3','name':'홍길동','kor':80,'eng':80,'math':80,'total':0,'avg':0.0,'order':0 }\n",
    "           ]"
   ]
  },
  {
   "cell_type": "code",
   "execution_count": 140,
   "id": "37fb7354-a28f-4881-bb13-95246154b0df",
   "metadata": {},
   "outputs": [],
   "source": [
    "import random"
   ]
  },
  {
   "cell_type": "code",
   "execution_count": 141,
   "id": "d2a3b20c-aea4-440f-9373-193554af2f5a",
   "metadata": {},
   "outputs": [],
   "source": [
    "class Student():\n",
    "    def __init__(self,num,name,kor,eng,math): # total, avg, order은 앞 국영수 점수에서 파생되는\n",
    "        self.num = num\n",
    "        self.name = name\n",
    "        self.kor = kor\n",
    "        self.eng = eng\n",
    "        self.math = math\n",
    "        #\n",
    "        self.total = 0\n",
    "        self.avg = 0\n",
    "        self.order = 0\n",
    "    #학생 객체의 정보 출력 #instance method\n",
    "    def s_info(self):\n",
    "        print(f'{self.num}, {self.name}, {self.kor}, {self.eng}, {self.math}, {self.total}, {self.avg:.1f}, {self.order}')\n",
    "\n",
    "    #학생 객체의 총점     # 학생 객체의 평균\n",
    "    def calc_total(self):\n",
    "        self.total = self.kor + self.eng +  self.math\n",
    "        self.avg = self.total/3\n",
    "    # 학생 객체의 순위\n",
    "    def set_order(self, order):\n",
    "        self.order = order"
   ]
  },
  {
   "cell_type": "code",
   "execution_count": 142,
   "id": "604333a7-a233-4de0-ba75-7cade2f3ac83",
   "metadata": {},
   "outputs": [],
   "source": [
    "class Classroom():\n",
    "    def __init__(self,student_list):\n",
    "        self.students = self.gen_student_data(student_list)\n",
    "    \n",
    "    #클래스의 학생 목록을 생성하는 메서드    \n",
    "    def gen_student_data(self,stu_list): #클래스의 학생 목록을 생성하는 메서드 # instance method\n",
    "        students = []\n",
    "        for i,s_name in enumerate(stu_list, start =1): #enumerate\n",
    "            # print(i,s_name)\n",
    "            s  = Student(i,s_name,\n",
    "                         random.randint(50,100),\n",
    "                         random.randint(70,100),\n",
    "                         random.randint(40,100)\n",
    "                            )\n",
    "            s.calc_total()\n",
    "            s.s_info()\n",
    "            \n",
    "            students.append(s)\n",
    "        return students\n",
    "    #학급의 학생 순위를 계산해서 학생 객체에 설정\n",
    "    def calc_order(self):\n",
    "        pass"
   ]
  },
  {
   "cell_type": "code",
   "execution_count": 143,
   "id": "613c789a-0651-4d92-bc6d-cd7eccb46d61",
   "metadata": {},
   "outputs": [
    {
     "name": "stdout",
     "output_type": "stream",
     "text": [
      "1, 홍길동, 92, 83, 98, 273, 91.0, 0\n",
      "2, 박제동, 86, 73, 70, 229, 76.3, 0\n",
      "3, 김철수, 75, 89, 97, 261, 87.0, 0\n",
      "4, 김영희, 94, 100, 47, 241, 80.3, 0\n",
      "5, 김바보, 90, 80, 99, 269, 89.7, 0\n",
      "6, 갤럭시, 100, 96, 49, 245, 81.7, 0\n",
      "1, 김길동, 76, 86, 66, 228, 76.0, 0\n",
      "2, 나제동, 75, 79, 70, 224, 74.7, 0\n",
      "3, 박철수, 88, 75, 95, 258, 86.0, 0\n",
      "4, 이영희, 60, 81, 45, 186, 62.0, 0\n",
      "5, 왕바보, 93, 73, 91, 257, 85.7, 0\n",
      "6, 아이유, 56, 82, 86, 224, 74.7, 0\n"
     ]
    }
   ],
   "source": [
    "#main process\n",
    "a_class_stu = ['홍길동', '박제동', '김철수','김영희', '김바보', '갤럭시']\n",
    "b_class_stu = ['김길동', '나제동', '박철수','이영희', '왕바보', '아이유']\n",
    "\n",
    "a_class = Classroom(a_class_stu)\n",
    "b_class = Classroom(b_class_stu)\n",
    "\n",
    "# a.class = calc_order(a_class_stu)"
   ]
  },
  {
   "cell_type": "markdown",
   "id": "a068412c-bc6e-4aea-92e4-6694c7b7bf17",
   "metadata": {},
   "source": [
    "----"
   ]
  },
  {
   "cell_type": "code",
   "execution_count": null,
   "id": "ea88e3b4-9c3c-4cae-9062-cffb270207b3",
   "metadata": {},
   "outputs": [],
   "source": [
    "###"
   ]
  },
  {
   "cell_type": "code",
   "execution_count": 5,
   "id": "bfe70101-a76d-49e1-bc79-79f7c4d6b2ce",
   "metadata": {},
   "outputs": [],
   "source": [
    "import random"
   ]
  },
  {
   "cell_type": "code",
   "execution_count": 6,
   "id": "62d6a499-b519-4347-9cac-6178fcee9302",
   "metadata": {},
   "outputs": [],
   "source": [
    "class Student():\n",
    "    def __init__(self, num, name, kor, eng, math):\n",
    "        self.num = num\n",
    "        self.name = name\n",
    "        self.kor = kor\n",
    "        self.eng = eng\n",
    "        self.math = math\n",
    "        self.total = 0\n",
    "        self.avg = 0\n",
    "        self.order = 0\n",
    "    \n",
    "    #학생 객체의 정보 출력, instance method\n",
    "    def s_info(self):\n",
    "        print(f'{self.num}, {self.name}, {self.kor}, {self.eng}, {self.math}, {self.total}, {self.order}') \n",
    "\n",
    "    #학생 객체의 총점\n",
    "    def calc_total(self):\n",
    "        self.total = self.kor + self.eng + self.math\n",
    "        self.avg = self.total/3\n",
    "    \n",
    "    # 학생 객체의 등수 계산\n",
    "    def set_order(self, order):\n",
    "        self.order = order\n",
    "    \n",
    "    # object 상속 받은 메소드 재정의 overriding\n",
    "    def __str__(self):\n",
    "        return f'{self.num},{self.name} : {self.order}등'\n",
    "        \n",
    "        \n",
    "        #학생 성적표\n",
    "\n"
   ]
  },
  {
   "cell_type": "code",
   "execution_count": 7,
   "id": "7c9929f0-93cc-4f29-bb4b-9687fad96c69",
   "metadata": {},
   "outputs": [],
   "source": [
    "class Classroom():\n",
    "    def __init__(self, student_list):\n",
    "        self.students = self.gen_student_data(student_list)\n",
    "\n",
    "    def set_name(self, class_name):\n",
    "        self.name = class_name\n",
    "\n",
    "    #클래스의 학생 목록의 생성하는 인스턴스 메소드\n",
    "    def gen_student_data(self, stu_list):\n",
    "        students = []\n",
    "        for i, s_name in enumerate(stu_list, start=1):\n",
    "            #print(i,s_name)\n",
    "            s = Student(i,s_name, \n",
    "                        random.randint(50,100),\n",
    "                        random.randint(50,100),\n",
    "                        random.randint(50,100)\n",
    "                               )\n",
    "\n",
    "            s.calc_total()\n",
    "            # s.s_info()\n",
    "            \n",
    "            students.append(s)\n",
    "        \n",
    "        return students\n",
    "    #학급의 학생 순위를 계산해서 학생 객체에 설정\n",
    "    def calc_order(self):\n",
    "        for s in self.students:\n",
    "            rank = 1\n",
    "            for other in self.students:\n",
    "                if other.total > s.total:\n",
    "                    rank += 1\n",
    "                s.set_order(rank)\n",
    "                # s.s_info()\n",
    "    #\n",
    "    def print_student_score(self):\n",
    "        for student in self.students:\n",
    "            print(student)\n",
    "    \n",
    "    # 학급정보 리턴함수 __str__\n",
    "    def __str__(self):\n",
    "        return f'학급명 : {self.name}'"
   ]
  },
  {
   "cell_type": "code",
   "execution_count": 17,
   "id": "fbccb196-a484-4fec-a732-bf9b5d737c88",
   "metadata": {},
   "outputs": [
    {
     "name": "stdout",
     "output_type": "stream",
     "text": [
      "1,홍길동 : 6등\n",
      "2,박제동 : 3등\n",
      "3,김철수 : 5등\n",
      "4,김영희 : 2등\n",
      "5,김바보 : 3등\n",
      "6,갤럭시 : 1등\n"
     ]
    }
   ],
   "source": [
    "#main process\n",
    "a_class_stu = ['홍길동', '박제동', '김철수','김영희', '김바보', '갤럭시'] \n",
    "b_class_stu = ['김길동', '나제동', '박철수','이영희', '왕바보', '아이유'] \n",
    "a_class = Classroom(a_class_stu)\n",
    "b_class = Classroom(b_class_stu)\n",
    "\n",
    "a_class.calc_order()\n",
    "a_class.print_student_score()"
   ]
  },
  {
   "cell_type": "code",
   "execution_count": 18,
   "id": "d78604ed-56ce-42cb-804c-e5749af16132",
   "metadata": {},
   "outputs": [
    {
     "name": "stdout",
     "output_type": "stream",
     "text": [
      "학급명 : 7반\n"
     ]
    }
   ],
   "source": [
    "a_class.set_name('7반')\n",
    "print(a_class)"
   ]
  },
  {
   "cell_type": "code",
   "execution_count": null,
   "id": "2ba33fe4-6d03-4df5-ba94-ff2eb06d2a53",
   "metadata": {},
   "outputs": [],
   "source": []
  },
  {
   "cell_type": "code",
   "execution_count": null,
   "id": "94378d05-fd64-431f-a903-a616d546bed2",
   "metadata": {},
   "outputs": [],
   "source": []
  },
  {
   "cell_type": "code",
   "execution_count": null,
   "id": "414b5f10-9111-4410-827a-89bc16beaa9d",
   "metadata": {},
   "outputs": [],
   "source": [
    "import random"
   ]
  },
  {
   "cell_type": "code",
   "execution_count": 20,
   "id": "bc926081-a5d7-4b87-a8e2-03e4ed35d200",
   "metadata": {},
   "outputs": [],
   "source": [
    "class Student():\n",
    "    def __init__(self, num, name, kor, eng, math):\n",
    "        self.num = num\n",
    "        self.name = name\n",
    "        self.kor = kor\n",
    "        self.eng = eng\n",
    "        self.math = math\n",
    "        self.total = 0\n",
    "        self.avg = 0\n",
    "        self.order = 0\n",
    "    \n",
    "    # 학생 객체의 정보 출력, instance method\n",
    "    def s_info(self):\n",
    "        print(f'{self.num}, {self.name}, {self.kor}, {self.eng}, {self.math}, {self.total}, {self.order}') \n",
    "    \n",
    "    # 학생 객체의 총점\n",
    "    def calc_total(self):\n",
    "        self.total = self.kor + self.eng + self.math\n",
    "        self.avg = self.total/3\n",
    "    \n",
    "    # 학생 객체의 등수 계산\n",
    "    def set_order(self, order):\n",
    "        self.order = order\n",
    "    \n",
    "    # object 상속 받은 메소드 재정의 overriding\n",
    "    def __str__(self):\n",
    "        return f'{self.num},{self.name} : {self.order}등'"
   ]
  },
  {
   "cell_type": "code",
   "execution_count": 21,
   "id": "2ff7409e-aac7-40c6-839b-098e32b9c611",
   "metadata": {},
   "outputs": [],
   "source": [
    "# 학생 성적표\n",
    "class Classroom():\n",
    "    def __init__(self, student_list):\n",
    "        self.students = self.gen_student_data(student_list)\n",
    "        self.name = \"\"  # 클래스명 초기화\n",
    "    \n",
    "    def set_name(self, class_name):\n",
    "        self.name = class_name\n",
    "    \n",
    "    # 클래스의 학생 목록의 생성하는 인스턴스 메소드\n",
    "    def gen_student_data(self, stu_list):\n",
    "        students = []\n",
    "        for i, s_name in enumerate(stu_list, start=1):\n",
    "            s = Student(i, s_name, \n",
    "                       random.randint(50,100),\n",
    "                       random.randint(50,100),\n",
    "                       random.randint(50,100))\n",
    "            s.calc_total()\n",
    "            students.append(s)\n",
    "        \n",
    "        return students\n",
    "    \n",
    "\n",
    "    # 학생 점수 출력\n",
    "    def print_student_score(self):\n",
    "        for student in self.students:\n",
    "            print(student)\n",
    "    \n",
    "    # 과목별 평균 계산 메서드 추가\n",
    "    def calc_subject_avg(self):\n",
    "        if not self.students:\n",
    "            return 0, 0, 0\n",
    "        \n",
    "        kor_sum = sum(s.kor for s in self.students)\n",
    "        eng_sum = sum(s.eng for s in self.students)\n",
    "        math_sum = sum(s.math for s in self.students)\n",
    "        \n",
    "        student_count = len(self.students)\n",
    "        \n",
    "        kor_avg = round(kor_sum / student_count, 1)\n",
    "        eng_avg = round(eng_sum / student_count, 1)\n",
    "        math_avg = round(math_sum / student_count, 1)\n",
    "        \n",
    "        return kor_avg, eng_avg, math_avg\n",
    "    \n",
    "    # 1등 학생 찾기 메서드 추가\n",
    "    def get_top_student(self):\n",
    "        if not self.students:\n",
    "            return None\n",
    "        \n",
    "        top_student = max(self.students, key=lambda s: s.total)\n",
    "        return top_student\n",
    "    \n",
    "    # 학생 수 반환 메서드 추가\n",
    "    def get_student_count(self):\n",
    "        return len(self.students)\n",
    "    \n",
    "    # 학급 정보 종합 출력 메서드 추가\n",
    "    def print_class_summary(self):\n",
    "        kor_avg, eng_avg, math_avg = self.calc_subject_avg()\n",
    "        top_student = self.get_top_student()\n",
    "        student_count = self.get_student_count()\n",
    "        \n",
    "        result = f\"우리 학급은 '{self.name}' 입니다. \"\n",
    "        result += f\"우리반 국어 평균은 '{kor_avg}'이고 \"\n",
    "        result += f\"수학 평균은 '{math_avg}', \"\n",
    "        result += f\"영어평균은 '{eng_avg}' 입니다. \"\n",
    "        result += f\"우리 반 학생은 '{student_count}명' 입니다. \"\n",
    "        \n",
    "        if top_student:\n",
    "            result += f\"전체 1등은 '{top_student.name}' 입니다.\"\n",
    "        \n",
    "        print(result)\n",
    "    \n",
    "    # 학급정보 리턴함수 __str__\n",
    "    def __str__(self):\n",
    "        return f'학급명 : {self.name}'"
   ]
  },
  {
   "cell_type": "code",
   "execution_count": 28,
   "id": "bd7bbd01-992e-45bb-8cff-d6a088ce5715",
   "metadata": {},
   "outputs": [
    {
     "name": "stdout",
     "output_type": "stream",
     "text": [
      "우리 학급은 '바보학급' 입니다. 우리반 국어 평균은 '79.2'이고 수학 평균은 '76.0', 영어평균은 '66.3' 입니다. 우리 반 학생은 '6명' 입니다. 전체 1등은 '갤럭시' 입니다.\n",
      "\n",
      "=== 개별 학생 성적 ===\n",
      "1,홍길동 : 4등\n",
      "2,박제동 : 6등\n",
      "3,김철수 : 5등\n",
      "4,김영희 : 3등\n",
      "5,김바보 : 2등\n",
      "6,갤럭시 : 1등\n"
     ]
    }
   ],
   "source": [
    "if __name__ == \"__main__\":\n",
    "    # 학생 명단\n",
    "    student_names = ['홍길동', '박제동', '김철수','김영희', '김바보', '갤럭시'] \n",
    "    \n",
    "    # 학급 생성\n",
    "    my_class = Classroom(student_names)\n",
    "    my_class.set_name(\"바보학급\")\n",
    "    \n",
    "    # 등수 계산\n",
    "    my_class.calc_order()\n",
    "    \n",
    "    # 학급 종합 정보 출력\n",
    "    my_class.print_class_summary()\n",
    "    \n",
    "    print(\"\\n=== 개별 학생 성적 ===\")\n",
    "    my_class.print_student_score()"
   ]
  },
  {
   "cell_type": "code",
   "execution_count": null,
   "id": "eb570fff-56c4-4186-9846-cd752ae7e8f4",
   "metadata": {},
   "outputs": [],
   "source": []
  },
  {
   "cell_type": "markdown",
   "id": "e2920be2-67c9-42da-8147-4444ae9b791d",
   "metadata": {},
   "source": [
    "# 객체와 클래스를 사용하는 이유   \n",
    "\n",
    "1. 코드 작성과 관리가 편하다.\n",
    "2. 규모가 큰 프로그램(라이브러리)에서 사용한다\n",
    "3. 유사한 객체가 많은 프로그램에서 사용한다.(예. 게임)"
   ]
  },
  {
   "cell_type": "markdown",
   "id": "a16c75d4-c420-450b-8087-47d65ca6c451",
   "metadata": {},
   "source": [
    "# 객체지향의 특징   \n",
    "\n",
    "- 캡슐화 encapsulation\n",
    "- 상속 \n",
    "- 다형성\n"
   ]
  },
  {
   "cell_type": "code",
   "execution_count": 33,
   "id": "e5e39cf7-9a71-4963-9ca4-cb83d6c743b9",
   "metadata": {},
   "outputs": [],
   "source": [
    "class MyClass:\n",
    "    def __init__(self):\n",
    "        self.var1 = 10 #public\n",
    "        self._var2 = 20 #protected\n",
    "        self.__var3 = 30 #private"
   ]
  },
  {
   "cell_type": "code",
   "execution_count": 35,
   "id": "c13e9b7f-0f79-4f02-9d63-d93f163f912c",
   "metadata": {},
   "outputs": [
    {
     "data": {
      "text/plain": [
       "10"
      ]
     },
     "execution_count": 35,
     "metadata": {},
     "output_type": "execute_result"
    }
   ],
   "source": [
    "c1 = MyClass()\n",
    "c1.var1"
   ]
  },
  {
   "cell_type": "code",
   "execution_count": 39,
   "id": "6e8ffa96-b571-4d06-97b8-4df571a54271",
   "metadata": {},
   "outputs": [
    {
     "data": {
      "text/plain": [
       "30"
      ]
     },
     "execution_count": 39,
     "metadata": {},
     "output_type": "execute_result"
    }
   ],
   "source": [
    "c1._var2 = 30\n",
    "c1._var2"
   ]
  },
  {
   "cell_type": "code",
   "execution_count": 38,
   "id": "a069f8bb-fe9a-4adc-869a-ec1e863a6be4",
   "metadata": {},
   "outputs": [
    {
     "ename": "AttributeError",
     "evalue": "'MyClass' object has no attribute '__var3'",
     "output_type": "error",
     "traceback": [
      "\u001b[31m---------------------------------------------------------------------------\u001b[39m",
      "\u001b[31mAttributeError\u001b[39m                            Traceback (most recent call last)",
      "\u001b[36mCell\u001b[39m\u001b[36m \u001b[39m\u001b[32mIn[38]\u001b[39m\u001b[32m, line 1\u001b[39m\n\u001b[32m----> \u001b[39m\u001b[32m1\u001b[39m c1.__var3\n",
      "\u001b[31mAttributeError\u001b[39m: 'MyClass' object has no attribute '__var3'"
     ]
    }
   ],
   "source": [
    "c1.__var3"
   ]
  },
  {
   "cell_type": "code",
   "execution_count": 40,
   "id": "a01a9a1e-0766-4944-8292-80260183e84c",
   "metadata": {
    "collapsed": true,
    "jupyter": {
     "outputs_hidden": true
    },
    "scrolled": true
   },
   "outputs": [
    {
     "data": {
      "text/plain": [
       "['_MyClass__var3',\n",
       " '__class__',\n",
       " '__delattr__',\n",
       " '__dict__',\n",
       " '__dir__',\n",
       " '__doc__',\n",
       " '__eq__',\n",
       " '__format__',\n",
       " '__ge__',\n",
       " '__getattribute__',\n",
       " '__getstate__',\n",
       " '__gt__',\n",
       " '__hash__',\n",
       " '__init__',\n",
       " '__init_subclass__',\n",
       " '__le__',\n",
       " '__lt__',\n",
       " '__module__',\n",
       " '__ne__',\n",
       " '__new__',\n",
       " '__reduce__',\n",
       " '__reduce_ex__',\n",
       " '__repr__',\n",
       " '__setattr__',\n",
       " '__sizeof__',\n",
       " '__str__',\n",
       " '__subclasshook__',\n",
       " '__weakref__',\n",
       " '_var2',\n",
       " 'var1']"
      ]
     },
     "execution_count": 40,
     "metadata": {},
     "output_type": "execute_result"
    }
   ],
   "source": [
    "dir(c1)"
   ]
  },
  {
   "cell_type": "code",
   "execution_count": 41,
   "id": "38da65fc-15eb-4f26-89ed-c312e13065bf",
   "metadata": {},
   "outputs": [
    {
     "data": {
      "text/plain": [
       "30"
      ]
     },
     "execution_count": 41,
     "metadata": {},
     "output_type": "execute_result"
    }
   ],
   "source": [
    "c1._MyClass__var3"
   ]
  },
  {
   "cell_type": "code",
   "execution_count": null,
   "id": "061ea0b6-c290-4307-b998-38dc8e9c3ef4",
   "metadata": {},
   "outputs": [],
   "source": []
  },
  {
   "cell_type": "code",
   "execution_count": 29,
   "id": "70fd9690-bee4-456a-ab96-0196dad807e4",
   "metadata": {},
   "outputs": [],
   "source": [
    "class Student:\n",
    "    def __init__(self, name, age):\n",
    "        self._private = \"비공개 정보\"  # 한 개의 언더스코어\n",
    "        self.__secret = \"완전 비공개\"  # 두 개의 언더스코어\n",
    "\n",
    "    def get_private(self):\n",
    "        return self._private"
   ]
  },
  {
   "cell_type": "code",
   "execution_count": null,
   "id": "a3f57bb9-5028-4099-ba9a-54cad8968f39",
   "metadata": {},
   "outputs": [],
   "source": [
    "## 상속"
   ]
  },
  {
   "cell_type": "code",
   "execution_count": 1,
   "id": "41567d9a-a6d4-4678-83b5-42f3459d8925",
   "metadata": {},
   "outputs": [],
   "source": [
    "#부모클래스\n",
    "class Calculator():\n",
    "    def __init__(self, x,y):\n",
    "        self.x = x\n",
    "        self.y = y\n",
    "    def add(self):\n",
    "        return self.x + self.y"
   ]
  },
  {
   "cell_type": "code",
   "execution_count": 5,
   "id": "0d115bcd-2ae7-4606-a451-3a3bb499231d",
   "metadata": {},
   "outputs": [],
   "source": [
    "#자식클래스\n",
    "class AdvancedCalculator(Calculator): #상속\n",
    "    # 상속받은 기능 재사용\n",
    "    # def __init__(self, x,y):\n",
    "\n",
    "    # 자식이 추가한 기능\n",
    "    def divide(self):\n",
    "        if self.y ==0 : \n",
    "            return '0으로 나누기 금지'\n",
    "        return self.x / self.y\n",
    "    # 상속받은 기능의 재정의   \n",
    "    def add(self):\n",
    "        print('advanced calculator 입니다')\n",
    "        return super().add()\n",
    "    def minus(self):\n",
    "        print('하나빼기 입니다다다다다')\n",
    "        return self.x -1"
   ]
  },
  {
   "cell_type": "code",
   "execution_count": 44,
   "id": "b0206853-120d-46e2-958d-796a685e9801",
   "metadata": {},
   "outputs": [
    {
     "ename": "TypeError",
     "evalue": "Calculator.__init__() missing 2 required positional arguments: 'x' and 'y'",
     "output_type": "error",
     "traceback": [
      "\u001b[31m---------------------------------------------------------------------------\u001b[39m",
      "\u001b[31mTypeError\u001b[39m                                 Traceback (most recent call last)",
      "\u001b[36mCell\u001b[39m\u001b[36m \u001b[39m\u001b[32mIn[44]\u001b[39m\u001b[32m, line 1\u001b[39m\n\u001b[32m----> \u001b[39m\u001b[32m1\u001b[39m acalc = AdvancedCalculator()\n\u001b[32m      2\u001b[39m acalc.divide()\n",
      "\u001b[31mTypeError\u001b[39m: Calculator.__init__() missing 2 required positional arguments: 'x' and 'y'"
     ]
    }
   ],
   "source": [
    "acalc = AdvancedCalculator()\n",
    "acalc.divide()"
   ]
  },
  {
   "cell_type": "code",
   "execution_count": 11,
   "id": "1abf1b14-1ced-4914-9e0e-7a601be0fd3d",
   "metadata": {},
   "outputs": [],
   "source": [
    "acalc = AdvancedCalculator(10,2) # 새로 생성(선언)해야지 바뀐다."
   ]
  },
  {
   "cell_type": "code",
   "execution_count": 9,
   "id": "fe4bc740-1ac2-424f-9879-533ee3f76f7a",
   "metadata": {},
   "outputs": [
    {
     "data": {
      "text/plain": [
       "5.0"
      ]
     },
     "execution_count": 9,
     "metadata": {},
     "output_type": "execute_result"
    }
   ],
   "source": [
    "acalc.divide()"
   ]
  },
  {
   "cell_type": "code",
   "execution_count": 4,
   "id": "f34d5063-4f8b-4918-b40b-ca5b183c2f1d",
   "metadata": {},
   "outputs": [
    {
     "name": "stdout",
     "output_type": "stream",
     "text": [
      "advanced calculator 입니다\n"
     ]
    },
    {
     "data": {
      "text/plain": [
       "12"
      ]
     },
     "execution_count": 4,
     "metadata": {},
     "output_type": "execute_result"
    }
   ],
   "source": [
    "acalc.add()"
   ]
  },
  {
   "cell_type": "code",
   "execution_count": 5,
   "id": "4df7db78-d769-4a47-9d6d-e903868bc3db",
   "metadata": {},
   "outputs": [
    {
     "name": "stdout",
     "output_type": "stream",
     "text": [
      "advanced calculator 입니다\n"
     ]
    },
    {
     "data": {
      "text/plain": [
       "12"
      ]
     },
     "execution_count": 5,
     "metadata": {},
     "output_type": "execute_result"
    }
   ],
   "source": [
    "acalc.add()"
   ]
  },
  {
   "cell_type": "code",
   "execution_count": 19,
   "id": "49ce9864-5ff5-4270-915a-3367d193144e",
   "metadata": {},
   "outputs": [
    {
     "data": {
      "text/plain": [
       "5.0"
      ]
     },
     "execution_count": 19,
     "metadata": {},
     "output_type": "execute_result"
    }
   ],
   "source": [
    "acalc.divide()"
   ]
  },
  {
   "cell_type": "code",
   "execution_count": 7,
   "id": "a76ac4f9-dcfa-45ce-bc8a-dff49665c726",
   "metadata": {},
   "outputs": [
    {
     "name": "stdout",
     "output_type": "stream",
     "text": [
      "하나빼기 입니다다다다다\n"
     ]
    },
    {
     "data": {
      "text/plain": [
       "9"
      ]
     },
     "execution_count": 7,
     "metadata": {},
     "output_type": "execute_result"
    }
   ],
   "source": [
    "acalc.minus()"
   ]
  },
  {
   "cell_type": "code",
   "execution_count": null,
   "id": "cd7515eb-6106-4236-83fe-40701a421493",
   "metadata": {},
   "outputs": [],
   "source": []
  },
  {
   "cell_type": "code",
   "execution_count": null,
   "id": "9913bbf1-8f45-4571-b3ee-1ead4cb0e7ae",
   "metadata": {},
   "outputs": [],
   "source": []
  }
 ],
 "metadata": {
  "kernelspec": {
   "display_name": "Python 3 (ipykernel)",
   "language": "python",
   "name": "python3"
  },
  "language_info": {
   "codemirror_mode": {
    "name": "ipython",
    "version": 3
   },
   "file_extension": ".py",
   "mimetype": "text/x-python",
   "name": "python",
   "nbconvert_exporter": "python",
   "pygments_lexer": "ipython3",
   "version": "3.12.9"
  }
 },
 "nbformat": 4,
 "nbformat_minor": 5
}
