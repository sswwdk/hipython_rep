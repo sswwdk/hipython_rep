{
 "cells": [
  {
   "cell_type": "code",
   "execution_count": 38,
   "id": "d59bdb90",
   "metadata": {},
   "outputs": [
    {
     "name": "stdout",
     "output_type": "stream",
     "text": [
      "{'encoding': 'UTF-8-SIG', 'confidence': 1.0, 'language': ''}\n"
     ]
    }
   ],
   "source": [
    "import chardet\n",
    "\n",
    "# 파일의 앞부분만 읽어 인코딩 추정\n",
    "with open('./datalab2.csv', 'rb') as f:\n",
    "    result = chardet.detect(f.read(10000))  # 바이트 수는 상황에 따라 조정\n",
    "    print(result)"
   ]
  },
  {
   "cell_type": "code",
   "execution_count": 28,
   "id": "8dc16076",
   "metadata": {},
   "outputs": [
    {
     "data": {
      "text/html": [
       "<div>\n",
       "<style scoped>\n",
       "    .dataframe tbody tr th:only-of-type {\n",
       "        vertical-align: middle;\n",
       "    }\n",
       "\n",
       "    .dataframe tbody tr th {\n",
       "        vertical-align: top;\n",
       "    }\n",
       "\n",
       "    .dataframe thead th {\n",
       "        text-align: right;\n",
       "    }\n",
       "</style>\n",
       "<table border=\"1\" class=\"dataframe\">\n",
       "  <thead>\n",
       "    <tr style=\"text-align: right;\">\n",
       "      <th></th>\n",
       "      <th>날짜</th>\n",
       "      <th>스트레스</th>\n",
       "      <th>건강</th>\n",
       "      <th>습관</th>\n",
       "    </tr>\n",
       "  </thead>\n",
       "  <tbody>\n",
       "    <tr>\n",
       "      <th>0</th>\n",
       "      <td>2024-07-14</td>\n",
       "      <td>40.20021</td>\n",
       "      <td>24.23603</td>\n",
       "      <td>12.38145</td>\n",
       "    </tr>\n",
       "    <tr>\n",
       "      <th>1</th>\n",
       "      <td>2024-07-15</td>\n",
       "      <td>50.47418</td>\n",
       "      <td>36.77555</td>\n",
       "      <td>13.01369</td>\n",
       "    </tr>\n",
       "    <tr>\n",
       "      <th>2</th>\n",
       "      <td>2024-07-16</td>\n",
       "      <td>52.37091</td>\n",
       "      <td>33.77239</td>\n",
       "      <td>13.38250</td>\n",
       "    </tr>\n",
       "    <tr>\n",
       "      <th>3</th>\n",
       "      <td>2024-07-17</td>\n",
       "      <td>50.79030</td>\n",
       "      <td>42.09694</td>\n",
       "      <td>13.22444</td>\n",
       "    </tr>\n",
       "    <tr>\n",
       "      <th>4</th>\n",
       "      <td>2024-07-18</td>\n",
       "      <td>49.05163</td>\n",
       "      <td>39.93677</td>\n",
       "      <td>15.43730</td>\n",
       "    </tr>\n",
       "  </tbody>\n",
       "</table>\n",
       "</div>"
      ],
      "text/plain": [
       "           날짜      스트레스        건강        습관\n",
       "0  2024-07-14  40.20021  24.23603  12.38145\n",
       "1  2024-07-15  50.47418  36.77555  13.01369\n",
       "2  2024-07-16  52.37091  33.77239  13.38250\n",
       "3  2024-07-17  50.79030  42.09694  13.22444\n",
       "4  2024-07-18  49.05163  39.93677  15.43730"
      ]
     },
     "execution_count": 28,
     "metadata": {},
     "output_type": "execute_result"
    }
   ],
   "source": [
    "import pandas as pd\n",
    "data_df = pd.read_csv('./datalab2.csv')\n",
    "data_df.head()"
   ]
  },
  {
   "cell_type": "code",
   "execution_count": 29,
   "id": "e55d1762",
   "metadata": {},
   "outputs": [
    {
     "data": {
      "text/html": [
       "<div>\n",
       "<style scoped>\n",
       "    .dataframe tbody tr th:only-of-type {\n",
       "        vertical-align: middle;\n",
       "    }\n",
       "\n",
       "    .dataframe tbody tr th {\n",
       "        vertical-align: top;\n",
       "    }\n",
       "\n",
       "    .dataframe thead th {\n",
       "        text-align: right;\n",
       "    }\n",
       "</style>\n",
       "<table border=\"1\" class=\"dataframe\">\n",
       "  <thead>\n",
       "    <tr style=\"text-align: right;\">\n",
       "      <th></th>\n",
       "      <th>스트레스</th>\n",
       "      <th>건강</th>\n",
       "      <th>습관</th>\n",
       "    </tr>\n",
       "  </thead>\n",
       "  <tbody>\n",
       "    <tr>\n",
       "      <th>스트레스</th>\n",
       "      <td>1.000000</td>\n",
       "      <td>0.470394</td>\n",
       "      <td>0.467214</td>\n",
       "    </tr>\n",
       "    <tr>\n",
       "      <th>건강</th>\n",
       "      <td>0.470394</td>\n",
       "      <td>1.000000</td>\n",
       "      <td>0.443681</td>\n",
       "    </tr>\n",
       "    <tr>\n",
       "      <th>습관</th>\n",
       "      <td>0.467214</td>\n",
       "      <td>0.443681</td>\n",
       "      <td>1.000000</td>\n",
       "    </tr>\n",
       "  </tbody>\n",
       "</table>\n",
       "</div>"
      ],
      "text/plain": [
       "          스트레스        건강        습관\n",
       "스트레스  1.000000  0.470394  0.467214\n",
       "건강    0.470394  1.000000  0.443681\n",
       "습관    0.467214  0.443681  1.000000"
      ]
     },
     "execution_count": 29,
     "metadata": {},
     "output_type": "execute_result"
    }
   ],
   "source": [
    "corr_df = data_df[['스트레스', '건강', '습관']]\n",
    "corr_df.corr()"
   ]
  },
  {
   "cell_type": "code",
   "execution_count": 30,
   "id": "a4f0db0a",
   "metadata": {},
   "outputs": [
    {
     "data": {
      "image/png": "[encoded data removed]",
      "text/plain": [
       "<Figure size 640x480 with 1 Axes>"
      ]
     },
     "metadata": {},
     "output_type": "display_data"
    }
   ],
   "source": [
    "import matplotlib.pyplot as plt\n",
    "plt.scatter(corr_df['스트레스'], corr_df['건강'], corr_df['습관'] )\n",
    "plt.show()"
   ]
  },
  {
   "cell_type": "markdown",
   "id": "725c8c63",
   "metadata": {},
   "source": [
    "피어슨 상관계수 (Pearson Correlation Coefficient)  \n",
    "\n",
    "키와 몸무게 간의 관계 (일반적으로 키가 큰 사람이 몸무게도 더 나가는 경향이 있을 때 사용)"
   ]
  },
  {
   "cell_type": "code",
   "execution_count": 31,
   "id": "cb74b9e2",
   "metadata": {},
   "outputs": [
    {
     "name": "stdout",
     "output_type": "stream",
     "text": [
      "피어슨 상관계수: 0.99\n",
      "p-값: 0.0006\n"
     ]
    }
   ],
   "source": [
    "import pandas as pd\n",
    "from scipy.stats import pearsonr\n",
    "\n",
    "# 예시 데이터\n",
    "data = {\n",
    "    'height': [160, 165, 170, 175, 180],\n",
    "    'weight': [50, 55, 65, 70, 80]\n",
    "}\n",
    "df = pd.DataFrame(data)\n",
    "\n",
    "# 피어슨 상관계수 계산\n",
    "corr, p_value = pearsonr(df['height'], df['weight'])\n",
    "\n",
    "print(f\"피어슨 상관계수: {corr:.2f}\")\n",
    "print(f\"p-값: {p_value:.4f}\")"
   ]
  },
  {
   "cell_type": "markdown",
   "id": "3032daee",
   "metadata": {},
   "source": [
    "스피어만 상관계수 (Spearman's Rank Correlation Coefficient)   \n",
    "   \n",
    "학생 성적 순위와 스포츠 성적 순위 간의 관계."
   ]
  },
  {
   "cell_type": "code",
   "execution_count": 33,
   "id": "8acd2d5a",
   "metadata": {},
   "outputs": [
    {
     "name": "stdout",
     "output_type": "stream",
     "text": [
      "스피어만 상관계수: 0.300\n",
      "p-value: 0.6238\n"
     ]
    }
   ],
   "source": [
    "import pandas as pd\n",
    "from scipy.stats import spearmanr\n",
    "\n",
    "# 데이터프레임 구성\n",
    "data = {\n",
    "    'student': ['A', 'B', 'C', 'D', 'E'],\n",
    "    'academic_rank': [1, 2, 3, 4, 5],\n",
    "    'sports_rank': [4, 2, 1, 3, 5]\n",
    "}\n",
    "df = pd.DataFrame(data)\n",
    "\n",
    "# 스피어만 상관계수 계산\n",
    "rho, pval = spearmanr(df['academic_rank'], df['sports_rank'])\n",
    "\n",
    "print(f\"스피어만 상관계수: {rho:.3f}\")\n",
    "print(f\"p-value: {pval:.4f}\")"
   ]
  },
  {
   "cell_type": "markdown",
   "id": "312534b5",
   "metadata": {},
   "source": [
    "켄달의 타우 (Kendall's Tau, Kendall's Rank Correlation Coefficient)   \n",
    "\n",
    "\n",
    "키와 몸무게 간의 관계"
   ]
  },
  {
   "cell_type": "code",
   "execution_count": 35,
   "id": "7197baf2",
   "metadata": {},
   "outputs": [
    {
     "name": "stdout",
     "output_type": "stream",
     "text": [
      "상관계수 (Weight_rank_1): 0.20\n",
      "상관계수 (Weight_rank_2): 1.00\n",
      "상관계수 (Weight_rank_3): -1.00\n"
     ]
    }
   ],
   "source": [
    "import pandas as pd\n",
    "from scipy.stats import kendalltau\n",
    "\n",
    "# 사람 A~E의 키와 몸무게 순위\n",
    "data = {\n",
    "    'Person': ['A', 'B', 'C', 'D', 'E'],\n",
    "    'Height_rank': [1, 2, 3, 4, 5],     # 키 순위\n",
    "    'Weight_rank_1': [3, 4, 1, 2, 5],   # τ = 0.2\n",
    "    'Weight_rank_2': [1, 2, 3, 4, 5],   # τ = 1\n",
    "    'Weight_rank_3': [5, 4, 3, 2, 1]    # τ = -1\n",
    "}\n",
    "\n",
    "df = pd.DataFrame(data)\n",
    "\n",
    "# 계수 계산\n",
    "tau1, _ = kendalltau(df['Height_rank'], df['Weight_rank_1'])\n",
    "tau2, _ = kendalltau(df['Height_rank'], df['Weight_rank_2'])\n",
    "tau3, _ = kendalltau(df['Height_rank'], df['Weight_rank_3'])\n",
    "\n",
    "print(f\"상관계수 (Weight_rank_1): {tau1:.2f}\")\n",
    "print(f\"상관계수 (Weight_rank_2): {tau2:.2f}\")\n",
    "print(f\"상관계수 (Weight_rank_3): {tau3:.2f}\")"
   ]
  }
 ],
 "metadata": {
  "kernelspec": {
   "display_name": "hipython",
   "language": "python",
   "name": "python3"
  },
  "language_info": {
   "codemirror_mode": {
    "name": "ipython",
    "version": 3
   },
   "file_extension": ".py",
   "mimetype": "text/x-python",
   "name": "python",
   "nbconvert_exporter": "python",
   "pygments_lexer": "ipython3",
   "version": "3.12.9"
  }
 },
 "nbformat": 4,
 "nbformat_minor": 5
}
