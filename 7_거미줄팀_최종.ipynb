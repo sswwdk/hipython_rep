{
 "cells": [
  {
   "cell_type": "code",
   "execution_count": 3,
   "id": "82309542-1b11-473c-9916-586057b9d02f",
   "metadata": {},
   "outputs": [],
   "source": [
    "# 유틸리티 함수\n",
    "\n",
    "# yes or no\n",
    "def get_yes_or_no_input(msg):\n",
    "    while True:\n",
    "        user_input = input('>>>' + msg + \" (yes/no): \").strip().lower()\n",
    "        if user_input in ['yes', 'no']:\n",
    "            return user_input\n",
    "        else:\n",
    "            print(\"⚠️  'yes' 또는 'no'만 입력할 수 있어요.\")\n",
    "\n",
    "\n",
    "#숫자검증\n",
    "def get_valid_number_input(msg, min_no=0, max_no=5):\n",
    "    try:\n",
    "        number = int(input('>>>' + msg).strip())\n",
    "        if number < min_no:\n",
    "            print(f'{min_no} 이상 숫자를 입력하세요.')\n",
    "            return None\n",
    "        elif number > max_no:\n",
    "            print(f'{max_no} 이하 숫자를 입력하세요.')\n",
    "            return None\n",
    "        else:\n",
    "            return number\n",
    "    except ValueError:\n",
    "        print('숫자로 입력하세요.')\n",
    "        return None"
   ]
  },
  {
   "cell_type": "code",
   "execution_count": null,
   "id": "17af2433-8fbd-4cbd-aac6-76087dcef296",
   "metadata": {},
   "outputs": [
    {
     "name": "stdout",
     "output_type": "stream",
     "text": [
      "==================================================\n",
      "        보고싶었어요! I Miss You Cram!🍦\n",
      "==================================================\n",
      "\n",
      "📋 메뉴판\n",
      "\n",
      "1. 초코\n",
      "2. 바닐라\n",
      "3. 딸기\n",
      "4. 우유\n",
      "5. 말차\n",
      "6. 민트초코\n"
     ]
    },
    {
     "name": "stdin",
     "output_type": "stream",
     "text": [
      ">>>\n",
      "원하시는 메뉴를 선택해주세요. (1~6, 0:처음으로):  1\n"
     ]
    },
    {
     "name": "stdout",
     "output_type": "stream",
     "text": [
      "--------------------------------------------------\n",
      "\n",
      "🍨 사이즈 및 가격\n",
      "\n",
      "1. 사이즈: S, 가격: 2,000원\n",
      "2. 사이즈: M, 가격: 3,000원\n",
      "3. 사이즈: L, 가격: 4,000원\n"
     ]
    },
    {
     "name": "stdin",
     "output_type": "stream",
     "text": [
      ">>>\n",
      "원하시는 사이즈를 선택해주세요. (1~3, 0:뒤로가기):  2\n",
      ">>>🤟 원하시는 개수를 적어주세요 (0:뒤로가기):  \n"
     ]
    },
    {
     "name": "stdout",
     "output_type": "stream",
     "text": [
      "숫자로 입력하세요.\n"
     ]
    },
    {
     "name": "stdin",
     "output_type": "stream",
     "text": [
      ">>>🤟 원하시는 개수를 적어주세요 (0:뒤로가기):  3\n"
     ]
    },
    {
     "name": "stdout",
     "output_type": "stream",
     "text": [
      "--------------------------------------------------\n",
      "\n",
      "🍦 장바구니에 추가되었습니다! 🍦\n",
      "\n",
      "🛒 현재 장바구니:\n",
      "1. 초코 (M) x 3개 - 9,000원\n",
      "총 합계: 9,000원\n"
     ]
    },
    {
     "name": "stdin",
     "output_type": "stream",
     "text": [
      ">>>\n",
      "1. 계속 쇼핑하기  2. 장바구니 보기 및 결제  3. 장바구니에서 상품 삭제  0. 종료\n",
      "선택:  2\n"
     ]
    },
    {
     "name": "stdout",
     "output_type": "stream",
     "text": [
      "\n",
      "🛒 현재 장바구니:\n",
      "1. 초코 (M) x 3개 - 9,000원\n",
      "총 합계: 9,000원\n"
     ]
    },
    {
     "name": "stdin",
     "output_type": "stream",
     "text": [
      ">>>1. 결제하기  2. 계속 쇼핑하기  0:  2\n"
     ]
    },
    {
     "name": "stdout",
     "output_type": "stream",
     "text": [
      "\n",
      "📋 메뉴판\n",
      "\n",
      "1. 초코\n",
      "2. 바닐라\n",
      "3. 딸기\n",
      "4. 우유\n",
      "5. 말차\n",
      "6. 민트초코\n"
     ]
    },
    {
     "name": "stdin",
     "output_type": "stream",
     "text": [
      ">>>\n",
      "원하시는 메뉴를 선택해주세요. (1~6, 0:처음으로):  1\n"
     ]
    },
    {
     "name": "stdout",
     "output_type": "stream",
     "text": [
      "--------------------------------------------------\n",
      "\n",
      "🍨 사이즈 및 가격\n",
      "\n",
      "1. 사이즈: S, 가격: 2,000원\n",
      "2. 사이즈: M, 가격: 3,000원\n",
      "3. 사이즈: L, 가격: 4,000원\n"
     ]
    },
    {
     "name": "stdin",
     "output_type": "stream",
     "text": [
      ">>>\n",
      "원하시는 사이즈를 선택해주세요. (1~3, 0:뒤로가기):  3\n",
      ">>>🤟 원하시는 개수를 적어주세요 (0:뒤로가기):  2\n"
     ]
    },
    {
     "name": "stdout",
     "output_type": "stream",
     "text": [
      "--------------------------------------------------\n",
      "\n",
      "🍦 장바구니에 추가되었습니다! 🍦\n",
      "\n",
      "🛒 현재 장바구니:\n",
      "1. 초코 (M) x 3개 - 9,000원\n",
      "2. 초코 (L) x 2개 - 8,000원\n",
      "총 합계: 17,000원\n"
     ]
    },
    {
     "name": "stdin",
     "output_type": "stream",
     "text": [
      ">>>\n",
      "1. 계속 쇼핑하기  2. 장바구니 보기 및 결제  3. 장바구니에서 상품 삭제  0. 종료\n",
      "선택:  3\n"
     ]
    },
    {
     "name": "stdout",
     "output_type": "stream",
     "text": [
      "\n",
      "🛒 현재 장바구니:\n",
      "1. 초코 (M) x 3개 - 9,000원\n",
      "2. 초코 (L) x 2개 - 8,000원\n",
      "총 합계: 17,000원\n"
     ]
    },
    {
     "name": "stdin",
     "output_type": "stream",
     "text": [
      "삭제할 상품 번호를 입력하세요 (취소하려면 0 입력):  1\n"
     ]
    },
    {
     "name": "stdout",
     "output_type": "stream",
     "text": [
      "초코 (M) x 3개가 장바구니에서 삭제되었습니다.\n"
     ]
    },
    {
     "name": "stdin",
     "output_type": "stream",
     "text": [
      ">>>\n",
      "1. 계속 쇼핑하기  2. 장바구니 보기 및 결제  3. 장바구니에서 상품 삭제  0. 종료\n",
      "선택:  3\n"
     ]
    },
    {
     "name": "stdout",
     "output_type": "stream",
     "text": [
      "\n",
      "🛒 현재 장바구니:\n",
      "1. 초코 (L) x 2개 - 8,000원\n",
      "총 합계: 8,000원\n"
     ]
    },
    {
     "name": "stdin",
     "output_type": "stream",
     "text": [
      "삭제할 상품 번호를 입력하세요 (취소하려면 0 입력):  1\n"
     ]
    },
    {
     "name": "stdout",
     "output_type": "stream",
     "text": [
      "초코 (L) x 2개가 장바구니에서 삭제되었습니다.\n"
     ]
    },
    {
     "name": "stdin",
     "output_type": "stream",
     "text": [
      ">>>\n",
      "1. 계속 쇼핑하기  2. 장바구니 보기 및 결제  3. 장바구니에서 상품 삭제  0. 종료\n",
      "선택:  2\n"
     ]
    },
    {
     "name": "stdout",
     "output_type": "stream",
     "text": [
      "\n",
      "장바구니가 비어 있습니다.\n",
      "==================================================\n",
      "        보고싶었어요! I Miss You Cram!🍦\n",
      "==================================================\n",
      "\n",
      "📋 메뉴판\n",
      "\n",
      "1. 초코\n",
      "2. 바닐라\n",
      "3. 딸기\n",
      "4. 우유\n",
      "5. 말차\n",
      "6. 민트초코\n"
     ]
    }
   ],
   "source": [
    "# 데이터 초기화\n",
    "cart = {'user_menu': '', 'user_size': '', 'qty': ''}\n",
    "cart_list = []\n",
    "membership_dict = {}\n",
    "\n",
    "menu_list = ['초코', '바닐라', '딸기', '우유', '말차', '민트초코']\n",
    "size_price = {'S': 2000, 'M': 3000, 'L': 4000}\n",
    "size_list = list(size_price.keys())\n",
    "\n",
    "# 멤버십 적립 함수\n",
    "def handle_membership():\n",
    "    while True:\n",
    "        member = input(\"멤버십을 적립하시겠습니까? (yes/no): \").strip().lower() \n",
    "        if member not in ['yes', 'no']:\n",
    "            print(\"yes 또는 no만 입력해주세요.\")\n",
    "            continue\n",
    "        if member == 'no':\n",
    "            print(\"멤버십 적립을 건너뜁니다.\\n\")\n",
    "            return\n",
    "        else:\n",
    "            print(\"멤버십 적립을 선택하셨습니다.\")\n",
    "            while True:\n",
    "                phone = input(\"전화 번호를 11자리를 입력하세요: \").strip()\n",
    "                if len(phone) != 11 or not phone.isdigit():\n",
    "                    print(\"전화번호가 올바르지 않습니다. 11자리 숫자만 입력해주세요.\")\n",
    "                    continue\n",
    "                if phone in membership_dict:\n",
    "                    print(f\"기존 ({phone}) 번호의 멤버십이 있으므로 포인트를 적립했습니다.\\n\")\n",
    "                else:\n",
    "                    membership_dict[phone] = {}\n",
    "                    print(f\"새로운 ({phone}) 번호로 멤버십이 생성되었습니다.\\n\")\n",
    "                return\n",
    "\n",
    "# 장바구니 출력\n",
    "def print_cart():\n",
    "    if not cart_list:\n",
    "        print(\"\\n장바구니가 비어 있습니다.\")\n",
    "        return\n",
    "    print(\"\\n🛒 현재 장바구니:\")\n",
    "    for i, item in enumerate(cart_list, 1):\n",
    "        print(f\"{i}. {item['user_menu']} ({item['user_size']}) x {item['qty']}개 - {item['total_price']:,}원\")\n",
    "    total = sum(item['total_price'] for item in cart_list)\n",
    "    print(f\"총 합계: {total:,}원\")\n",
    "\n",
    "# 장바구니 보기 및 결제\n",
    "def function5():\n",
    "    if not cart_list:\n",
    "        print(\"\\n장바구니가 비어 있습니다.\")\n",
    "        start()\n",
    "        return \n",
    "    print_cart()\n",
    "    while True:\n",
    "        ask_mul = '1. 결제하기  2. 계속 쇼핑하기  0: '\n",
    "        choice = get_valid_number_input(ask_mul, 0, 2) ## 예외처리 (0~3)\n",
    "        if choice == 1:\n",
    "            total = sum(item['total_price'] for item in cart_list)\n",
    "            print(f\"\\n총 결제 금액: {total:,}원\")\n",
    "\n",
    "            answer = get_yes_or_no_input(\"결제하시겠습니까? (yes/no): \") #예외처리 (yes or no)\n",
    "            if answer not in ['yes', 'no']:\n",
    "                print(\"yes 또는 no만 입력해주세요.\")\n",
    "                continue\n",
    "            elif answer == 'no':\n",
    "                print(\"주문이 취소되었습니다.\\n\")\n",
    "                return start()\n",
    "\n",
    "            # 멤버십 적립 처리\n",
    "            handle_membership()\n",
    "\n",
    "            print(\"결제가 완료되었습니다. 감사합니다! 🍦\\n\")\n",
    "            cart_list.clear()\n",
    "            start()\n",
    "            return\n",
    "\n",
    "        elif choice == 2:\n",
    "            return function_1()\n",
    "        elif choice == 0:\n",
    "            print(\"\\n이용해주셔서 감사합니다! 좋은 하루 되세요! 👋\")\n",
    "            exit()\n",
    "\n",
    "# 장바구니 상품 삭제\n",
    "def function4():\n",
    "    if not cart_list:\n",
    "        print(\"\\n장바구니가 비어 있습니다.\")\n",
    "        return\n",
    "    print_cart()\n",
    "    try:\n",
    "        idx = int(input(\"삭제할 상품 번호를 입력하세요 (취소하려면 0 입력): \")) #예외처리 못함 ㅜㅡㅜ\n",
    "        if idx == 0:\n",
    "            print(\"삭제를 취소했습니다.\")\n",
    "            return\n",
    "        if 1 <= idx <= len(cart_list):\n",
    "            removed = cart_list.pop(idx - 1)\n",
    "            print(f\"{removed['user_menu']} ({removed['user_size']}) x {removed['qty']}개가 장바구니에서 삭제되었습니다.\")\n",
    "        else:\n",
    "            print(\"⛔ 유효한 번호를 입력하세요.\")\n",
    "    except ValueError:\n",
    "        print(\"⛔ 숫자를 입력해주세요.\")\n",
    "\n",
    "# 장바구니에 추가 및 장바구니 기능 선택\n",
    "def function_3():\n",
    "    item = {\n",
    "        'user_menu': cart['user_menu'],\n",
    "        'user_size': cart['user_size'],\n",
    "        'qty': cart['qty'],\n",
    "        'price_per_item': size_price[cart['user_size']],\n",
    "        'total_price': size_price[cart['user_size']] * cart['qty']\n",
    "    }\n",
    "    cart_list.append(item)\n",
    "\n",
    "    print(\"\\n🍦 장바구니에 추가되었습니다! 🍦\")\n",
    "    print_cart()\n",
    "\n",
    "    while True:\n",
    "        cho_mul = \"\\n1. 계속 쇼핑하기  2. 장바구니 보기 및 결제  3. 장바구니에서 상품 삭제  0. 종료\\n선택: \"\n",
    "        choice = get_valid_number_input(cho_mul, 0, 3) ## 예외처리 (0~3)\n",
    "        if choice == 1:\n",
    "            function_1()\n",
    "            return\n",
    "        elif choice == 2:\n",
    "            function5()\n",
    "            return\n",
    "        elif choice == 3:\n",
    "            function4()\n",
    "        elif choice == 0:\n",
    "            print(\"\\n이용해주셔서 감사합니다! 좋은 하루 되세요! 👋\")\n",
    "            exit()\n",
    "\n",
    "# 수량 선택\n",
    "def function_2():\n",
    "    while True:\n",
    "        print(\"\\n🍨 사이즈 및 가격\\n\")\n",
    "        for i, (size, price) in enumerate(size_price.items()):\n",
    "            print(f'{i + 1}. 사이즈: {size}, 가격: {price:,}원')\n",
    "        size_mul = f\"\\n원하시는 사이즈를 선택해주세요. (1~{len(size_price)}, 0:뒤로가기): \"\n",
    "        size_index = get_valid_number_input(size_mul, 0,3 )## 예외처리 (0~3)\n",
    "        \n",
    "        if size_index is None:\n",
    "            print(\"⛔ 입력 오류⛔ 사이즈 다시 선택하세요.\")\n",
    "\n",
    "        elif size_index == 0:\n",
    "            print('\\n뒤로 돌아갑니다 ⬅️')\n",
    "            function_1()\n",
    "            return\n",
    "        elif 1 <= size_index <= len(size_price):\n",
    "            cart['user_size'] = size_list[size_index - 1]\n",
    "            break\n",
    "    while True:\n",
    "        qty_mul = \"🤟 원하시는 개수를 적어주세요 (0:뒤로가기): \"\n",
    "        qty = get_valid_number_input(qty_mul, 0, 10) ## 예외처리 (0~10) 성공\n",
    "        if qty == None:\n",
    "            continue\n",
    "        if qty == 0:\n",
    "            print('\\n사이즈 선택으로 돌아갑니다 ⬅️')\n",
    "            function_2()\n",
    "            return\n",
    "        if qty > 0:\n",
    "            cart['qty'] = qty\n",
    "            break\n",
    "    print('-' * 50)\n",
    "    function_3()\n",
    "    \n",
    "\n",
    "# 메뉴 선택\n",
    "def function_1():\n",
    "    while True:\n",
    "        print(\"\\n📋 메뉴판\\n\")\n",
    "        for index, name in enumerate(menu_list):\n",
    "            print(f'{index + 1}. {name}')\n",
    "        \n",
    "        menu_mul = f\"\\n원하시는 메뉴를 선택해주세요. (1~{len(menu_list)}, 0:처음으로): \"\n",
    "        menu_index = get_valid_number_input(menu_mul, 0, len(menu_list))  # 예외처리 \n",
    "\n",
    "        if menu_index is None:\n",
    "            continue  # None일 경우 아무 처리 없이 다시 메뉴 선택\n",
    "\n",
    "        if menu_index == 0:\n",
    "            print('\\n보고싶을거예요 😭😭\\n')\n",
    "            start()\n",
    "            return\n",
    "\n",
    "        if 1 <= menu_index <= len(menu_list):\n",
    "            cart['user_menu'] = menu_list[menu_index - 1]\n",
    "            print('-' * 50)\n",
    "            function_2()\n",
    "            return\n",
    "# 시작 화면\n",
    "def start():\n",
    "    print('=' * 50)\n",
    "    store_name = 'I Miss You Cram!🍦'\n",
    "    print(f'        보고싶었어요! {store_name}')\n",
    "    print('=' * 50)\n",
    "    function_1()\n",
    "\n",
    "# main\n",
    "start()"
   ]
  },
  {
   "cell_type": "code",
   "execution_count": null,
   "id": "8cfa1b4b-f1e8-4f3e-af3d-7152b6c8f7fc",
   "metadata": {},
   "outputs": [],
   "source": []
  },
  {
   "cell_type": "code",
   "execution_count": null,
   "id": "419f9869-40ab-4abd-92d9-4aeb472ef9dd",
   "metadata": {},
   "outputs": [],
   "source": []
  }
 ],
 "metadata": {
  "kernelspec": {
   "display_name": "Python 3 (ipykernel)",
   "language": "python",
   "name": "python3"
  },
  "language_info": {
   "codemirror_mode": {
    "name": "ipython",
    "version": 3
   },
   "file_extension": ".py",
   "mimetype": "text/x-python",
   "name": "python",
   "nbconvert_exporter": "python",
   "pygments_lexer": "ipython3",
   "version": "3.12.9"
  }
 },
 "nbformat": 4,
 "nbformat_minor": 5
}
