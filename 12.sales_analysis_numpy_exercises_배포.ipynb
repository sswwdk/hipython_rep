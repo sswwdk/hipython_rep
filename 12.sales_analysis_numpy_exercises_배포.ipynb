{
 "cells": [
  {
   "cell_type": "markdown",
   "metadata": {},
   "source": [
    "# 쇼핑몰 매출 데이터 분석을 통한 NumPy 기본 연습 문제\n",
    "\n",
    "이 연습 문제들은 30일 동안의 쇼핑몰 매출 데이터를 분석하며, NumPy의 기본 기능을 실습하는 것을 목표로 합니다.\n"
   ]
  },
  {
   "cell_type": "markdown",
   "metadata": {},
   "source": [
    "### 문제 1: 매출 데이터에서 일일 평균 매출 계산하기\n",
    "- **설명**: 30일 동안의 쇼핑몰 매출 데이터를 배열로 제공할 때, 일일 평균 매출을 계산하세요.\n",
    "- **힌트**: `np.mean()` 함수를 사용하여 배열의 평균값을 계산합니다.\n"
   ]
  },
  {
   "cell_type": "code",
   "execution_count": 2,
   "metadata": {},
   "outputs": [],
   "source": [
    "import numpy as np\n",
    "sales_data = np.array([2200, 2350, 2500, 2750, 3000, 3100, 2700, 2600, 2900, 3200,\n",
    "                       3400, 3600, 3300, 3100, 2900, 2700, 2800, 2900, 3100, 3200,\n",
    "                       3300, 3400, 3500, 3700, 3600, 3500, 3400, 3300, 3000, 3100])\n"
   ]
  },
  {
   "cell_type": "code",
   "execution_count": null,
   "metadata": {},
   "outputs": [
    {
     "name": "stdout",
     "output_type": "stream",
     "text": [
      "3070.0\n"
     ]
    }
   ],
   "source": [
    "print(sales_data.mean()) # mean() 평균"
   ]
  },
  {
   "cell_type": "code",
   "execution_count": 10,
   "metadata": {},
   "outputs": [
    {
     "name": "stdout",
     "output_type": "stream",
     "text": [
      "3070.0\n",
      "(np.int64(92100), 30)\n"
     ]
    }
   ],
   "source": [
    "# numpy 함수\n",
    "avg_sales = np.mean(sales_data)\n",
    "print(avg_sales)\n",
    "# 행렬의 합/ 행렬의 요소수\n",
    "avg_sales1 = sales_data.sum(), sales_data.size\n",
    "print(avg_sales1)"
   ]
  },
  {
   "cell_type": "markdown",
   "metadata": {},
   "source": [
    "### 문제 2: 매출 데이터에서 최대 매출일과 최소 매출일 찾기\n",
    "- **설명**: 매출 데이터에서 가장 높은 매출과 가장 낮은 매출을 기록한 날짜를 찾아보세요.\n",
    "- **힌트**: `np.argmax()`, `np.argmin()`을 사용하여 최대값, 최소값의 인덱스를 찾습니다.\n"
   ]
  },
  {
   "cell_type": "code",
   "execution_count": null,
   "metadata": {},
   "outputs": [
    {
     "name": "stdout",
     "output_type": "stream",
     "text": [
      "최대 매출일 : 3701 원, 최소 매출일 : 2201 원\n"
     ]
    }
   ],
   "source": [
    "sales_data.shape\n",
    "max_day, min_day = sales_data.argmax(),sales_data.argmin()\n",
    "print(f'최대 매출일 : {max_day+1} 원, 최소 매출일 : {min_day+1} 원')"
   ]
  },
  {
   "cell_type": "code",
   "execution_count": 19,
   "metadata": {},
   "outputs": [
    {
     "name": "stdout",
     "output_type": "stream",
     "text": [
      "최대 매출일 : 3700 원, 최소 매출일 : 2200 원\n"
     ]
    }
   ],
   "source": [
    "max_day_money = sales_data.max()\n",
    "min_day_money = sales_data.min()\n",
    "\n",
    "print(f'최대 매출일 : {max_day_money} 원, 최소 매출일 : {min_day_money} 원')"
   ]
  },
  {
   "cell_type": "markdown",
   "metadata": {},
   "source": [
    "### 문제 3: 7일 단위로 매출 합계 계산하기\n",
    "- **설명**: 30일 매출 데이터를 7일 단위로 나누어 각 주차별 매출 합계를 계산하세요.\n",
    "- **힌트**: 배열을 슬라이싱하거나 `reshape()`를 사용하여 배열을 변환합니다.\n"
   ]
  },
  {
   "cell_type": "code",
   "execution_count": null,
   "metadata": {},
   "outputs": [
    {
     "data": {
      "text/plain": [
       "array([[2200, 2350, 2500, 2750, 3000, 3100, 2700],\n",
       "       [2600, 2900, 3200, 3400, 3600, 3300, 3100],\n",
       "       [2900, 2700, 2800, 2900, 3100, 3200, 3300],\n",
       "       [3400, 3500, 3700, 3600, 3500, 3400, 3300]])"
      ]
     },
     "execution_count": 33,
     "metadata": {},
     "output_type": "execute_result"
    }
   ],
   "source": [
    "np.shape(sales_data)\n",
    "sales_data[:28].reshape(4,7) # 나머지 2개가 남는다 ㅜㅜ"
   ]
  },
  {
   "cell_type": "code",
   "execution_count": 32,
   "metadata": {},
   "outputs": [
    {
     "name": "stdout",
     "output_type": "stream",
     "text": [
      "[[2200 2350 2500 2750 3000 3100 2700]\n",
      " [2600 2900 3200 3400 3600 3300 3100]\n",
      " [2900 2700 2800 2900 3100 3200 3300]\n",
      " [3400 3500 3700 3600 3500 3400 3300]\n",
      " [3000 3100    0    0    0    0    0]]\n"
     ]
    }
   ],
   "source": [
    "weakly_data = np.pad(sales_data, (0,5), 'constant', constant_values=0).reshape(5,7)\n",
    "print(weakly_data)"
   ]
  },
  {
   "cell_type": "code",
   "execution_count": 35,
   "metadata": {},
   "outputs": [
    {
     "data": {
      "text/plain": [
       "array([18600, 22100, 20900, 24400,  6100])"
      ]
     },
     "execution_count": 35,
     "metadata": {},
     "output_type": "execute_result"
    }
   ],
   "source": [
    "weakly_data.sum(axis = 1) # 열단위 합이 필요하니까 2차원 axis = 1 일때 >> 행 \n",
    "# 주차별 매출"
   ]
  },
  {
   "cell_type": "code",
   "execution_count": 36,
   "metadata": {},
   "outputs": [
    {
     "data": {
      "text/plain": [
       "array([14100, 14550, 12200, 12650, 13200, 13000, 12400])"
      ]
     },
     "execution_count": 36,
     "metadata": {},
     "output_type": "execute_result"
    }
   ],
   "source": [
    "weakly_data.sum(axis = 0) # 행단위 합은 >> axis = 0 >> \n",
    "# 요일별 매출"
   ]
  },
  {
   "cell_type": "markdown",
   "metadata": {},
   "source": [
    "### 문제 4: 매출 데이터에서 특정 조건에 맞는 매출 데이터 필터링하기\n",
    "- **설명**: 매출이 3000 이상인 날들의 매출만 필터링하여 보여주세요.\n",
    "- **힌트**: 배열에서 조건 필터링을 사용하는 방법을 익힙니다.\n"
   ]
  },
  {
   "cell_type": "code",
   "execution_count": null,
   "metadata": {},
   "outputs": [
    {
     "data": {
      "text/plain": [
       "array([3000, 3100, 3200, 3400, 3600, 3300, 3100, 3100, 3200, 3300, 3400,\n",
       "       3500, 3700, 3600, 3500, 3400, 3300, 3000, 3100])"
      ]
     },
     "execution_count": 48,
     "metadata": {},
     "output_type": "execute_result"
    }
   ],
   "source": [
    "#filter()\n",
    "high_sales1 = list(filter(lambda x: x >=3000, sales_data))\n",
    "np.array(high_sales1)"
   ]
  },
  {
   "cell_type": "code",
   "execution_count": 50,
   "metadata": {},
   "outputs": [
    {
     "data": {
      "text/plain": [
       "array([3000, 3100, 3200, 3400, 3600, 3300, 3100, 3100, 3200, 3300, 3400,\n",
       "       3500, 3700, 3600, 3500, 3400, 3300, 3000, 3100])"
      ]
     },
     "execution_count": 50,
     "metadata": {},
     "output_type": "execute_result"
    }
   ],
   "source": [
    "#부울 인덱싱\n",
    "high_sales2 = sales_data[sales_data>=3000]\n",
    "high_sales2"
   ]
  },
  {
   "cell_type": "markdown",
   "metadata": {},
   "source": [
    "### 문제 5: 특정 범위 내 매출의 평균값 계산하기\n",
    "- **설명**: 매출이 2800에서 3500 사이인 날들의 평균 매출을 계산하세요.\n",
    "- **힌트**: 조건 필터링 후 `np.mean()`을 사용하여 계산합니다.\n"
   ]
  },
  {
   "cell_type": "code",
   "execution_count": 61,
   "metadata": {},
   "outputs": [
    {
     "name": "stdout",
     "output_type": "stream",
     "text": [
      "3170.0\n"
     ]
    }
   ],
   "source": [
    "mask = (sales_data>=2800) & (sales_data <= 3500)\n",
    "conditional_data = sales_data[mask].mean()\n",
    "print(conditional_data)"
   ]
  },
  {
   "cell_type": "code",
   "execution_count": 63,
   "metadata": {},
   "outputs": [
    {
     "data": {
      "text/plain": [
       "array([[2200, 2350, 2500, 2750, 3000, 3100, 2700],\n",
       "       [2600, 2900, 3200, 3400, 3600, 3300, 3100],\n",
       "       [2900, 2700, 2800, 2900, 3100, 3200, 3300],\n",
       "       [3400, 3500, 3700, 3600, 3500, 3400, 3300],\n",
       "       [3000, 3100,    0,    0,    0,    0,    0]])"
      ]
     },
     "execution_count": 63,
     "metadata": {},
     "output_type": "execute_result"
    }
   ],
   "source": [
    "weakly_data"
   ]
  },
  {
   "cell_type": "code",
   "execution_count": 85,
   "metadata": {},
   "outputs": [
    {
     "name": "stdout",
     "output_type": "stream",
     "text": [
      "[2657.14285714 3157.14285714 2985.71428571 3485.71428571  871.42857143]\n"
     ]
    },
    {
     "data": {
      "text/plain": [
       "[<matplotlib.lines.Line2D at 0x1d5cbbd53d0>]"
      ]
     },
     "execution_count": 85,
     "metadata": {},
     "output_type": "execute_result"
    },
    {
     "data": {
      "image/png": "[encoded data removed]",
      "text/plain": [
       "<Figure size 640x480 with 1 Axes>"
      ]
     },
     "metadata": {},
     "output_type": "display_data"
    }
   ],
   "source": [
    "import matplotlib.pyplot as plt\n",
    "\n",
    "# 주차별 평균 계산\n",
    "w_mean = weakly_data.sum(axis = 1)/7 # 마지막 주차 평균 계산이 틀림\n",
    "print(w_mean)\n",
    "plt.plot(w_mean)"
   ]
  },
  {
   "cell_type": "code",
   "execution_count": 88,
   "metadata": {},
   "outputs": [
    {
     "name": "stdout",
     "output_type": "stream",
     "text": [
      "[2657.14285714 3157.14285714 2985.71428571 3485.71428571 3050.        ]\n"
     ]
    },
    {
     "data": {
      "text/plain": [
       "[<matplotlib.lines.Line2D at 0x1d5cbd2b590>]"
      ]
     },
     "execution_count": 88,
     "metadata": {},
     "output_type": "execute_result"
    },
    {
     "data": {
      "image/png": "[encoded data removed]",
      "text/plain": [
       "<Figure size 640x480 with 1 Axes>"
      ]
     },
     "metadata": {},
     "output_type": "display_data"
    }
   ],
   "source": [
    "# 주차별 평균 계산\n",
    "weakly_data_1 = weakly_data.copy().astype(float)\n",
    "weakly_data_1[weakly_data_1 ==0] = np.nan\n",
    "weekly_mean = np.nanmean(weakly_data_1, axis =1)\n",
    "print(weekly_mean)\n",
    "plt.plot(weekly_mean)"
   ]
  },
  {
   "cell_type": "code",
   "execution_count": 78,
   "metadata": {},
   "outputs": [
    {
     "name": "stdout",
     "output_type": "stream",
     "text": [
      "3100\n"
     ]
    }
   ],
   "source": [
    "# 매출의 중앙값\n",
    "center_price = np.sort(sales_data)[14]\n",
    "print(center_price)"
   ]
  },
  {
   "cell_type": "code",
   "execution_count": 92,
   "metadata": {},
   "outputs": [
    {
     "name": "stdout",
     "output_type": "stream",
     "text": [
      "3100.0\n"
     ]
    }
   ],
   "source": [
    "median_sales = np.median(sales_data)\n",
    "print(median_sales)"
   ]
  },
  {
   "cell_type": "code",
   "execution_count": 113,
   "metadata": {},
   "outputs": [
    {
     "name": "stdout",
     "output_type": "stream",
     "text": [
      "증가한 날은 총 18일, 감소한 날은 총 11일\n"
     ]
    }
   ],
   "source": [
    "# 매출이 증가한 날, 감소한 날 # 총 날을 출력은 했는데 날짜만 출력은 어캐할까?\n",
    "diffs = np.diff(sales_data)\n",
    "increase_days = diffs[(diffs > 0)]\n",
    "decrease_days = diffs[(diffs < 0)]\n",
    "print(f'증가한 날은 총 {len(increase_days)}일, 감소한 날은 총 {len(decrease_days)}일')"
   ]
  },
  {
   "cell_type": "code",
   "execution_count": 114,
   "metadata": {},
   "outputs": [
    {
     "name": "stdout",
     "output_type": "stream",
     "text": [
      "[[2200 2350 2500 2750 3000 3100 2700]\n",
      " [2600 2900 3200 3400 3600 3300 3100]\n",
      " [2900 2700 2800 2900 3100 3200 3300]\n",
      " [3400 3500 3700 3600 3500 3400 3300]\n",
      " [3000 3100    0    0    0    0    0]]\n",
      "[5 4 6 2 1]\n",
      "1째주 최고 매출은Sat\n",
      "2째주 최고 매출은Fri\n",
      "3째주 최고 매출은Sun\n",
      "4째주 최고 매출은Wed\n",
      "5째주 최고 매출은Tue\n"
     ]
    }
   ],
   "source": [
    "# 각 주차별로 가장 매출이 높았던 날\n",
    "print(weakly_data)\n",
    "max_price_weekly = np.argmax(weakly_data,axis =1)\n",
    "print(max_price_weekly)\n",
    "weekdays = np.array(['Mon', 'Tue', 'Wed', 'Thu', 'Fri', 'Sat', 'Sun'])\n",
    "\n",
    "for i in range(0,5):\n",
    "    print(f'{i+1}째주 최고 매출은{weekdays[max_price_weekly[i]]}')\n",
    "\n",
    "# print(weekdays[max_price_weekly])"
   ]
  },
  {
   "cell_type": "code",
   "execution_count": null,
   "metadata": {},
   "outputs": [],
   "source": []
  }
 ],
 "metadata": {
  "kernelspec": {
   "display_name": "hipython",
   "language": "python",
   "name": "python3"
  },
  "language_info": {
   "codemirror_mode": {
    "name": "ipython",
    "version": 3
   },
   "file_extension": ".py",
   "mimetype": "text/x-python",
   "name": "python",
   "nbconvert_exporter": "python",
   "pygments_lexer": "ipython3",
   "version": "3.12.9"
  }
 },
 "nbformat": 4,
 "nbformat_minor": 4
}
