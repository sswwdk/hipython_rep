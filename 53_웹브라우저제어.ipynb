{
 "cells": [
  {
   "cell_type": "code",
   "execution_count": null,
   "id": "4b4caf6d",
   "metadata": {},
   "outputs": [
    {
     "name": "stdout",
     "output_type": "stream",
     "text": [
      "c:\\githome\\hipython_rep\\html\\basic2.html\n",
      "c:\\githome\\hipython_rep/html/basic2.html\n"
     ]
    }
   ],
   "source": [
    "import os\n",
    "file_path = os.getcwd() + '/html/basic2.html'\n",
    "print(os.path.abspath('html/basic2.html')) #path\n",
    "print(file_path)"
   ]
  },
  {
   "cell_type": "code",
   "execution_count": 6,
   "id": "24853e30",
   "metadata": {},
   "outputs": [
    {
     "data": {
      "text/plain": [
       "'file:///c:\\\\githome\\\\hipython_rep/html/basic2.html'"
      ]
     },
     "execution_count": 6,
     "metadata": {},
     "output_type": "execute_result"
    }
   ],
   "source": [
    "url = 'file:///'+file_path\n",
    "url"
   ]
  },
  {
   "cell_type": "code",
   "execution_count": 8,
   "id": "808596c4",
   "metadata": {},
   "outputs": [],
   "source": [
    "from selenium import webdriver\n",
    "\n",
    "driver = webdriver.Chrome()\n",
    "driver.get(url)"
   ]
  },
  {
   "cell_type": "code",
   "execution_count": 9,
   "id": "9649e47f",
   "metadata": {},
   "outputs": [],
   "source": [
    "username_el = driver.find_element(by='name', value='username')\n",
    "username_el.send_keys('ylkim')"
   ]
  },
  {
   "cell_type": "code",
   "execution_count": 11,
   "id": "a9d5b5f5",
   "metadata": {},
   "outputs": [],
   "source": [
    "#passwd 값 설정\n",
    "password = driver.find_element(by='name', value='password')\n",
    "password.send_keys(\"123456789\")"
   ]
  },
  {
   "cell_type": "code",
   "execution_count": 16,
   "id": "c30de24f",
   "metadata": {},
   "outputs": [],
   "source": [
    "# 파이썬전문가그룹의 링크값\n",
    "link = driver.find_element(by='link text', value='파이썬전문가그룹')\n",
    "link.click()"
   ]
  },
  {
   "cell_type": "code",
   "execution_count": 17,
   "id": "1a7d0e97",
   "metadata": {},
   "outputs": [],
   "source": [
    "driver.back()"
   ]
  },
  {
   "cell_type": "markdown",
   "id": "1f9df7ca",
   "metadata": {},
   "source": [
    "# 검색 결과 가져오기"
   ]
  },
  {
   "cell_type": "code",
   "execution_count": 18,
   "id": "302d239d",
   "metadata": {},
   "outputs": [],
   "source": [
    "from selenium import webdriver\n",
    "\n",
    "driver = webdriver.Chrome()\n",
    "driver.get('https://www.python.org/')"
   ]
  },
  {
   "cell_type": "code",
   "execution_count": 19,
   "id": "c10b59d3",
   "metadata": {},
   "outputs": [],
   "source": [
    "from selenium.webdriver.common.by import By"
   ]
  },
  {
   "cell_type": "code",
   "execution_count": 20,
   "id": "7a67099a",
   "metadata": {},
   "outputs": [],
   "source": [
    "input_el = driver.find_element(by=By.ID, value = 'id-search-field')\n",
    "input_el.send_keys('pycon')\n"
   ]
  },
  {
   "cell_type": "code",
   "execution_count": null,
   "id": "d5e1d69d",
   "metadata": {},
   "outputs": [],
   "source": [
    "#id-search-field"
   ]
  },
  {
   "cell_type": "code",
   "execution_count": null,
   "id": "27151bab",
   "metadata": {},
   "outputs": [],
   "source": [
    "By.CSS_SELECTOR"
   ]
  },
  {
   "cell_type": "code",
   "execution_count": 21,
   "id": "624d4709",
   "metadata": {},
   "outputs": [],
   "source": [
    "input_el2 = driver.find_element(by='css selector', value='#id-search-field')\n",
    "input_el2.send_keys('hahahahah')"
   ]
  },
  {
   "cell_type": "code",
   "execution_count": 22,
   "id": "93023b0d",
   "metadata": {},
   "outputs": [],
   "source": [
    "from selenium import webdriver\n",
    "from selenium.webdriver.common.keys import Keys\n",
    "\n",
    "driver = webdriver.Chrome()\n",
    "driver.get('https://www.python.org/')\n",
    "input_el = driver.find_element(by=By.ID, value = 'id-search-field')\n",
    "input_el.send_keys('pycon')\n",
    "input_el.send_keys(Keys.RETURN)"
   ]
  },
  {
   "cell_type": "code",
   "execution_count": 28,
   "id": "0d715cf5",
   "metadata": {},
   "outputs": [
    {
     "name": "stdout",
     "output_type": "stream",
     "text": [
      "20\n",
      "PSF PyCon Trademark Usage Policy\n",
      "PyCon Italia 2016 (PyCon Sette)\n",
      "PyCon Australia 2013\n",
      "PyCon AU 2019\n",
      "PyCon NL 2025\n",
      "PyCon Australia 2014\n",
      "PyCon Ireland 2012\n",
      "PyCon Ireland 2016\n",
      "PyCon Ireland 2022\n",
      "PyCon Australia 2014\n",
      "PyCon Ireland 2024\n",
      "PyCon APAC 2025\n",
      "PyCon AU 2018\n",
      "PyCon APAC 2022\n",
      "PyCon PH 2024\n",
      "PyCon Ireland 2023\n",
      "PyCon PL 2014\n",
      "PyCon MY 2015\n",
      "PyCon Ireland 2015\n",
      "PyCon AU 2015\n"
     ]
    }
   ],
   "source": [
    "#content > div > section > form > ul > li:nth-child(2) > h3 > a\n",
    "result_list = driver.find_elements(by='css selector', value='form li h3 >a')\n",
    "print(len(result_list))\n",
    "for result in result_list:\n",
    "  print(result.text)\n"
   ]
  },
  {
   "cell_type": "code",
   "execution_count": null,
   "id": "6d8fafdf",
   "metadata": {},
   "outputs": [
    {
     "name": "stdout",
     "output_type": "stream",
     "text": [
      "20\n",
      "PSF PyCon Trademark Usage Policy\n",
      "PyCon Italia 2016 (PyCon Sette)\n",
      "PyCon Australia 2013\n",
      "PyCon AU 2019\n",
      "PyCon NL 2025\n",
      "PyCon Australia 2014\n",
      "PyCon Ireland 2012\n",
      "PyCon Ireland 2016\n",
      "PyCon Ireland 2022\n",
      "PyCon Australia 2014\n",
      "PyCon Ireland 2024\n",
      "PyCon APAC 2025\n",
      "PyCon AU 2018\n",
      "PyCon APAC 2022\n",
      "PyCon PH 2024\n",
      "PyCon Ireland 2023\n",
      "PyCon PL 2014\n",
      "PyCon MY 2015\n",
      "PyCon Ireland 2015\n",
      "PyCon AU 2015\n"
     ]
    }
   ],
   "source": [
    "from selenium import webdriver\n",
    "from selenium.webdriver.common.keys import Keys\n",
    "\n",
    "driver = webdriver.Chrome()\n",
    "driver.get('https://www.python.org/')\n",
    "input_el = driver.find_element(by=By.ID, value = 'id-search-field')\n",
    "input_el.send_keys('pycon')\n",
    "input_el.send_keys(Keys.RETURN)\n",
    "\n",
    "driver.implicitly_wait(1) #명시적 대기\n",
    "\n",
    "#content > div > section > form > ul > li:nth-child(2) > h3 > a\n",
    "result_list = driver.find_elements(by='css selector', value='form li h3 >a')\n",
    "print(len(result_list))\n",
    "for result in result_list:\n",
    "  print(result.text)\n"
   ]
  },
  {
   "cell_type": "markdown",
   "id": "45109133",
   "metadata": {},
   "source": [
    "# 날씨 정보를 일반적 조건으로 대기해서 가져오기"
   ]
  },
  {
   "cell_type": "code",
   "execution_count": 32,
   "id": "15593ea0",
   "metadata": {},
   "outputs": [],
   "source": [
    "import requests"
   ]
  },
  {
   "cell_type": "code",
   "execution_count": 34,
   "id": "7a9bc23e",
   "metadata": {},
   "outputs": [
    {
     "data": {
      "text/plain": [
       "<Response [200]>"
      ]
     },
     "execution_count": 34,
     "metadata": {},
     "output_type": "execute_result"
    }
   ],
   "source": [
    "url = 'https://www.weather.go.kr/w/index.do'\n",
    "\n",
    "res = requests.get(url)\n",
    "res"
   ]
  },
  {
   "cell_type": "code",
   "execution_count": 35,
   "id": "51c6253c",
   "metadata": {},
   "outputs": [
    {
     "data": {
      "text/plain": [
       "[]"
      ]
     },
     "execution_count": 35,
     "metadata": {},
     "output_type": "execute_result"
    }
   ],
   "source": [
    "from bs4 import BeautifulSoup\n",
    "soup = BeautifulSoup(res.text, 'html.parser')\n",
    "soup.select(\".tmp\")"
   ]
  },
  {
   "cell_type": "markdown",
   "id": "2f5fdd01",
   "metadata": {},
   "source": [
    "#current-weather > div.cmp-cur-weather.wbg.wbg-type2.BGDB00 > ul.wrap-1 > li.w-icon.w-temp.no-w > span.tmp"
   ]
  },
  {
   "cell_type": "code",
   "execution_count": null,
   "id": "c8043289",
   "metadata": {},
   "outputs": [
    {
     "data": {
      "text/plain": [
       "'34.8℃'"
      ]
     },
     "execution_count": 36,
     "metadata": {},
     "output_type": "execute_result"
    }
   ],
   "source": [
    "from selenium.webdriver import Chrome\n",
    "import time\n",
    "#res = requests.get(url)\n",
    "driver = Chrome()\n",
    "driver.get(url)\n",
    "time.sleep(3) #명시적 대기\n",
    "element = driver.find_element(by='css selector', value='div#current-weather span.tmp')\n",
    "element.text"
   ]
  },
  {
   "cell_type": "code",
   "execution_count": 39,
   "id": "792eb5fd",
   "metadata": {},
   "outputs": [
    {
     "name": "stdout",
     "output_type": "stream",
     "text": [
      "34.7℃\n"
     ]
    }
   ],
   "source": [
    "# 일반적대기 \n",
    "from selenium.webdriver.support import expected_conditions as EC\n",
    "from selenium.webdriver.support.ui import WebDriverWait\n",
    "driver = Chrome()\n",
    "driver.get(url)\n",
    "\n",
    "wait = WebDriverWait(driver, 3)\n",
    "element_2 = wait.until(\n",
    "  #driver.find_element(by='css selector', value='div#current-weather span.tmp')\n",
    "  EC.presence_of_element_located(('css selector','div#current-weather span.tmp' ))\n",
    ")\n",
    "print(element_2.text)\n",
    "driver.close()"
   ]
  }
 ],
 "metadata": {
  "kernelspec": {
   "display_name": "webcrawl_env",
   "language": "python",
   "name": "python3"
  },
  "language_info": {
   "codemirror_mode": {
    "name": "ipython",
    "version": 3
   },
   "file_extension": ".py",
   "mimetype": "text/x-python",
   "name": "python",
   "nbconvert_exporter": "python",
   "pygments_lexer": "ipython3",
   "version": "3.10.18"
  }
 },
 "nbformat": 4,
 "nbformat_minor": 5
}
