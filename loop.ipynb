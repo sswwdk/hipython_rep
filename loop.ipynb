{
 "cells": [
  {
   "cell_type": "markdown",
   "id": "c421a7ba-61e7-4f41-a850-5c60abfe2bb7",
   "metadata": {},
   "source": [
    "# 반복문 : for , while"
   ]
  },
  {
   "cell_type": "markdown",
   "id": "897dd40f-c82a-4084-abba-e164c67c0530",
   "metadata": {},
   "source": [
    "# for 문    \n",
    "\n",
    "for 변수 in 반복자:   \n",
    "반복자에는 리스트, 문자열, 튜플, 딕셔너리, 세트(집합)"
   ]
  },
  {
   "cell_type": "code",
   "execution_count": 2,
   "id": "8d1df78e-d576-4c2f-aff7-0a9684971376",
   "metadata": {},
   "outputs": [
    {
     "name": "stdout",
     "output_type": "stream",
     "text": [
      "0\n",
      "1\n",
      "2\n",
      "3\n",
      "4\n"
     ]
    }
   ],
   "source": [
    "data = [0, 1, 2, 3, 4]\n",
    "\n",
    "for var in data : \n",
    "    print(var)"
   ]
  },
  {
   "cell_type": "code",
   "execution_count": 3,
   "id": "0beef23e-f638-45b1-9ede-7b173e504017",
   "metadata": {},
   "outputs": [
    {
     "data": {
      "text/plain": [
       "range(1, 10)"
      ]
     },
     "execution_count": 3,
     "metadata": {},
     "output_type": "execute_result"
    }
   ],
   "source": [
    "range(1,10)"
   ]
  },
  {
   "cell_type": "code",
   "execution_count": 4,
   "id": "885038b6-bb51-4596-af46-850b589b6e56",
   "metadata": {},
   "outputs": [
    {
     "name": "stdout",
     "output_type": "stream",
     "text": [
      "1\n",
      "2\n",
      "3\n",
      "4\n",
      "5\n",
      "6\n",
      "7\n",
      "8\n",
      "9\n"
     ]
    }
   ],
   "source": [
    "for x in range(1,10):\n",
    "    print(x)"
   ]
  },
  {
   "cell_type": "code",
   "execution_count": 5,
   "id": "82850952-08f8-4238-9c58-594e936eed3b",
   "metadata": {},
   "outputs": [],
   "source": [
    "#tuple, dictionary, str"
   ]
  },
  {
   "cell_type": "code",
   "execution_count": 6,
   "id": "d1051e61-af2c-484c-8396-0bca5ca10290",
   "metadata": {},
   "outputs": [
    {
     "name": "stdout",
     "output_type": "stream",
     "text": [
      "1\n",
      "3\n",
      "5\n",
      "7\n"
     ]
    }
   ],
   "source": [
    "immu = (1, 3, 5, 7)\n",
    "for i in immu:\n",
    "    print(i)"
   ]
  },
  {
   "cell_type": "code",
   "execution_count": 9,
   "id": "145dabfd-c0e7-4923-9874-884c90899331",
   "metadata": {},
   "outputs": [
    {
     "name": "stdout",
     "output_type": "stream",
     "text": [
      "name\n",
      "age\n",
      "major\n"
     ]
    }
   ],
   "source": [
    "stu = {\"name\": \"Kavin\", \"age\" : 24, \"major\": \"math\"}\n",
    "for x in stu:\n",
    "    print(x)"
   ]
  },
  {
   "cell_type": "code",
   "execution_count": 12,
   "id": "a7e870f9-f90f-41f8-b26b-fa01e7475999",
   "metadata": {},
   "outputs": [
    {
     "name": "stdout",
     "output_type": "stream",
     "text": [
      "k\n",
      "a\n",
      "l\n",
      "v\n",
      "i\n",
      "n\n"
     ]
    }
   ],
   "source": [
    "ssttr = \"kalvin\"\n",
    "for a in ssttr:\n",
    "\n",
    "    print(a)"
   ]
  },
  {
   "cell_type": "code",
   "execution_count": null,
   "id": "f62fed51-3c90-4781-8caf-dfafe397dc91",
   "metadata": {},
   "outputs": [],
   "source": []
  },
  {
   "cell_type": "code",
   "execution_count": null,
   "id": "da1a205c-3396-4e28-b64e-1f1bccb5f54a",
   "metadata": {},
   "outputs": [],
   "source": []
  },
  {
   "cell_type": "code",
   "execution_count": 17,
   "id": "556a5a98-68e4-4844-a4ba-8258d0c5a147",
   "metadata": {},
   "outputs": [
    {
     "data": {
      "text/plain": [
       "range"
      ]
     },
     "execution_count": 17,
     "metadata": {},
     "output_type": "execute_result"
    }
   ],
   "source": [
    "ran = range(1,10)\n",
    "type(ran)"
   ]
  },
  {
   "cell_type": "code",
   "execution_count": 18,
   "id": "5ceca99b-bcc6-4adf-818d-1e47d0bab3cf",
   "metadata": {},
   "outputs": [
    {
     "data": {
      "text/plain": [
       "[1, 2, 3, 4, 5, 6, 7, 8, 9]"
      ]
     },
     "execution_count": 18,
     "metadata": {},
     "output_type": "execute_result"
    }
   ],
   "source": [
    "list(ran)"
   ]
  },
  {
   "cell_type": "code",
   "execution_count": 20,
   "id": "48c67b93-8796-4eaa-a2f1-ba38179519fe",
   "metadata": {},
   "outputs": [
    {
     "data": {
      "text/plain": [
       "(range, list)"
      ]
     },
     "execution_count": 20,
     "metadata": {},
     "output_type": "execute_result"
    }
   ],
   "source": [
    "type(ran), type(list(ran))"
   ]
  },
  {
   "cell_type": "markdown",
   "id": "cf84c12b-9e08-46d2-89c8-699d2e393664",
   "metadata": {},
   "source": [
    "# range(1,10,2)\n",
    "    start, stop, step=1(defalt값)"
   ]
  },
  {
   "cell_type": "code",
   "execution_count": 22,
   "id": "63efef48-5ea7-4776-b0dc-9c1acf747569",
   "metadata": {},
   "outputs": [
    {
     "data": {
      "text/plain": [
       "[0, 2, 4, 6, 8]"
      ]
     },
     "execution_count": 22,
     "metadata": {},
     "output_type": "execute_result"
    }
   ],
   "source": [
    "list(range(0,10,2))"
   ]
  },
  {
   "cell_type": "code",
   "execution_count": 28,
   "id": "4f08bc95-c0be-4bb4-bf3a-557960424e78",
   "metadata": {},
   "outputs": [
    {
     "name": "stdout",
     "output_type": "stream",
     "text": [
      "5050\n"
     ]
    }
   ],
   "source": [
    "#1 ~ 100 합 구하기\n",
    "\n",
    "sum1 = 0\n",
    "\n",
    "for i in range(1,101):\n",
    "    sum1 +=i\n",
    "print(sum1)"
   ]
  },
  {
   "cell_type": "code",
   "execution_count": 38,
   "id": "d4460bd1-f5e1-46ff-9cba-fc926ea66988",
   "metadata": {},
   "outputs": [
    {
     "data": {
      "text/plain": [
       "1683"
      ]
     },
     "execution_count": 38,
     "metadata": {},
     "output_type": "execute_result"
    }
   ],
   "source": [
    "#3의 배수의 합(0~100)\n",
    "\n",
    "sum2 = 0\n",
    "\n",
    "for i in range(0,101,3): # range(3,101,3)\n",
    "    sum2 += i\n",
    "\n",
    "sum2"
   ]
  },
  {
   "cell_type": "code",
   "execution_count": 34,
   "id": "6d4a7477-2635-44cd-94e7-ec72839f0e85",
   "metadata": {},
   "outputs": [
    {
     "data": {
      "text/plain": [
       "1683"
      ]
     },
     "execution_count": 34,
     "metadata": {},
     "output_type": "execute_result"
    }
   ],
   "source": [
    "#3의 배수의 합(0~100)\n",
    "\n",
    "sum2 = 0 \n",
    "\n",
    "for i in range(0,101):\n",
    "    if (i%3) == 0:\n",
    "        sum2 +=i\n",
    "\n",
    "sum2"
   ]
  },
  {
   "cell_type": "code",
   "execution_count": 39,
   "id": "1f821d34-3167-4c69-a1af-5ff10ed6002c",
   "metadata": {},
   "outputs": [
    {
     "name": "stdout",
     "output_type": "stream",
     "text": [
      "a\n",
      "b\n",
      "c\n"
     ]
    }
   ],
   "source": [
    "char_list =[ 'a', 'b', 'c']\n",
    "for x in char_list:\n",
    "    print(x)"
   ]
  },
  {
   "cell_type": "code",
   "execution_count": 40,
   "id": "1c824037-10b7-410d-9299-bc8629bd5fde",
   "metadata": {},
   "outputs": [
    {
     "name": "stdout",
     "output_type": "stream",
     "text": [
      "0 a\n",
      "1 b\n",
      "2 c\n"
     ]
    }
   ],
   "source": [
    "#인덱스를 같이 꺼낼 때  #enumerate\n",
    "for i,v in enumerate(char_list):\n",
    "    print(i,v)"
   ]
  },
  {
   "cell_type": "code",
   "execution_count": 47,
   "id": "480fe508-8276-4dfd-aac7-6c960b889cf3",
   "metadata": {},
   "outputs": [
    {
     "data": {
      "text/plain": [
       "(<zip at 0x143f3ea4900>, list)"
      ]
     },
     "execution_count": 47,
     "metadata": {},
     "output_type": "execute_result"
    }
   ],
   "source": [
    "# 리스트 2개 딕셔너리로 만들기 ------------------!!!----------------------\n",
    "char_list2 = ['hello', 'hi', 'bye']\n",
    "zip(char_list, char_list2) "
   ]
  },
  {
   "cell_type": "code",
   "execution_count": 48,
   "id": "83ba5044-a252-44bc-8561-f0eb309b1a6e",
   "metadata": {},
   "outputs": [
    {
     "name": "stdout",
     "output_type": "stream",
     "text": [
      "('a', 'hello')\n",
      "('b', 'hi')\n",
      "('c', 'bye')\n"
     ]
    },
    {
     "data": {
      "text/plain": [
       "tuple"
      ]
     },
     "execution_count": 48,
     "metadata": {},
     "output_type": "execute_result"
    }
   ],
   "source": [
    "for item in zip(char_list, char_list2):\n",
    "    print(item)\n",
    "type(item)"
   ]
  },
  {
   "cell_type": "code",
   "execution_count": 56,
   "id": "5f9caa22-7cbd-4ecd-90f8-5b5a1d72ad43",
   "metadata": {},
   "outputs": [
    {
     "name": "stdout",
     "output_type": "stream",
     "text": [
      "2 * 1 = 2\n",
      "2 * 2 = 4\n",
      "2 * 3 = 6\n",
      "2 * 4 = 8\n",
      "2 * 5 = 10\n",
      "2 * 6 = 12\n",
      "2 * 7 = 14\n",
      "2 * 8 = 16\n",
      "2 * 9 = 18\n"
     ]
    }
   ],
   "source": [
    "# 구구단\n",
    "for i in range(1,10):\n",
    "    result = i * 2\n",
    "    print(f'2 * {i} = {result}') "
   ]
  },
  {
   "cell_type": "code",
   "execution_count": 70,
   "id": "332d22b7-c2c2-470c-b43c-27aed3d586ed",
   "metadata": {
    "collapsed": true,
    "jupyter": {
     "outputs_hidden": true
    }
   },
   "outputs": [
    {
     "name": "stdout",
     "output_type": "stream",
     "text": [
      "1단 입니다\n",
      "1 * 1 = 1\n",
      "1 * 2 = 2\n",
      "1 * 3 = 3\n",
      "1 * 4 = 4\n",
      "1 * 5 = 5\n",
      "1 * 6 = 6\n",
      "1 * 7 = 7\n",
      "1 * 8 = 8\n",
      "1 * 9 = 9\n",
      "2단 입니다\n",
      "2 * 1 = 2\n",
      "2 * 2 = 4\n",
      "2 * 3 = 6\n",
      "2 * 4 = 8\n",
      "2 * 5 = 10\n",
      "2 * 6 = 12\n",
      "2 * 7 = 14\n",
      "2 * 8 = 16\n",
      "2 * 9 = 18\n",
      "3단 입니다\n",
      "3 * 1 = 3\n",
      "3 * 2 = 6\n",
      "3 * 3 = 9\n",
      "3 * 4 = 12\n",
      "3 * 5 = 15\n",
      "3 * 6 = 18\n",
      "3 * 7 = 21\n",
      "3 * 8 = 24\n",
      "3 * 9 = 27\n",
      "4단 입니다\n",
      "4 * 1 = 4\n",
      "4 * 2 = 8\n",
      "4 * 3 = 12\n",
      "4 * 4 = 16\n",
      "4 * 5 = 20\n",
      "4 * 6 = 24\n",
      "4 * 7 = 28\n",
      "4 * 8 = 32\n",
      "4 * 9 = 36\n",
      "5단 입니다\n",
      "5 * 1 = 5\n",
      "5 * 2 = 10\n",
      "5 * 3 = 15\n",
      "5 * 4 = 20\n",
      "5 * 5 = 25\n",
      "5 * 6 = 30\n",
      "5 * 7 = 35\n",
      "5 * 8 = 40\n",
      "5 * 9 = 45\n",
      "6단 입니다\n",
      "6 * 1 = 6\n",
      "6 * 2 = 12\n",
      "6 * 3 = 18\n",
      "6 * 4 = 24\n",
      "6 * 5 = 30\n",
      "6 * 6 = 36\n",
      "6 * 7 = 42\n",
      "6 * 8 = 48\n",
      "6 * 9 = 54\n",
      "7단 입니다\n",
      "7 * 1 = 7\n",
      "7 * 2 = 14\n",
      "7 * 3 = 21\n",
      "7 * 4 = 28\n",
      "7 * 5 = 35\n",
      "7 * 6 = 42\n",
      "7 * 7 = 49\n",
      "7 * 8 = 56\n",
      "7 * 9 = 63\n",
      "8단 입니다\n",
      "8 * 1 = 8\n",
      "8 * 2 = 16\n",
      "8 * 3 = 24\n",
      "8 * 4 = 32\n",
      "8 * 5 = 40\n",
      "8 * 6 = 48\n",
      "8 * 7 = 56\n",
      "8 * 8 = 64\n",
      "8 * 9 = 72\n",
      "9단 입니다\n",
      "9 * 1 = 9\n",
      "9 * 2 = 18\n",
      "9 * 3 = 27\n",
      "9 * 4 = 36\n",
      "9 * 5 = 45\n",
      "9 * 6 = 54\n",
      "9 * 7 = 63\n",
      "9 * 8 = 72\n",
      "9 * 9 = 81\n"
     ]
    }
   ],
   "source": [
    "# 구구단\n",
    "for x in range(1,10):\n",
    "    print(f'{x}단 입니다')\n",
    "    for y in range(1,10):\n",
    "        result = x * y\n",
    "        print(f'{x} * {y} = {result}')\n"
   ]
  },
  {
   "cell_type": "code",
   "execution_count": 66,
   "id": "33a9509f-0cec-4fb7-be9b-55d74ade999b",
   "metadata": {},
   "outputs": [
    {
     "name": "stdout",
     "output_type": "stream",
     "text": [
      "영화 미션임파서블의 평점 : ❤❤❤❤\n",
      "영화 미치광이삐애로의 평점 : ❤❤❤❤❤\n",
      "영화 씨너스의 평점 : ❤❤❤\n",
      "영화 울지않는아이의 평점 : ❤❤\n"
     ]
    }
   ],
   "source": [
    "movie_dict = {\"미션임파서블\": 4, \"미치광이삐애로\":5, \"씨너스\":3, \"울지않는아이\":2}\n",
    "for k,v in movie_dict.items():\n",
    "    print(f\"영화 {k}의 평점 : {'❤'*v}\")"
   ]
  },
  {
   "cell_type": "code",
   "execution_count": 72,
   "id": "210745f5-e7ab-4545-af13-5d905fa13b0c",
   "metadata": {},
   "outputs": [
    {
     "name": "stdout",
     "output_type": "stream",
     "text": [
      "*\n",
      "***\n",
      "*****\n",
      "*******\n",
      "*********\n",
      "***********\n",
      "*************\n",
      "***************\n",
      "*****************\n",
      "*******************\n",
      "*********************\n",
      "***********************\n",
      "*************************\n",
      "***************************\n",
      "*****************************\n",
      "*******************************\n",
      "*********************************\n",
      "***********************************\n",
      "*************************************\n",
      "***************************************\n"
     ]
    }
   ],
   "source": [
    "# 삼각형 찍어보기\n",
    "\n",
    "for i in range(1,40,2):\n",
    "    print(f'{'*'*i}')"
   ]
  },
  {
   "cell_type": "code",
   "execution_count": 74,
   "id": "09808787-9285-4af3-b226-faf49e693802",
   "metadata": {},
   "outputs": [
    {
     "name": "stdout",
     "output_type": "stream",
     "text": [
      "*\n",
      "**\n",
      "***\n",
      "****\n",
      "*****\n"
     ]
    }
   ],
   "source": [
    "# 삼각형 찍기\n",
    "for i in range(1,6):\n",
    "    for j in range(i):\n",
    "        print('*', end='')\n",
    "    print()"
   ]
  },
  {
   "cell_type": "code",
   "execution_count": 76,
   "id": "546215a1-192c-4335-877f-bbea637c4c31",
   "metadata": {},
   "outputs": [
    {
     "name": "stdout",
     "output_type": "stream",
     "text": [
      "                   *\n",
      "                 ***\n",
      "               *****\n",
      "             *******\n",
      "           *********\n",
      "         ***********\n",
      "       *************\n",
      "     ***************\n",
      "   *****************\n",
      " *******************\n"
     ]
    }
   ],
   "source": [
    "for i in range(1,20,2):\n",
    "    print(f'{' '*(20-i)}{'*'*i}')\n",
    "    "
   ]
  },
  {
   "cell_type": "code",
   "execution_count": 80,
   "id": "aebc2050-fa7a-43e5-88c3-c58b77c0e346",
   "metadata": {},
   "outputs": [
    {
     "name": "stdout",
     "output_type": "stream",
     "text": [
      "                   *\n",
      "                 ***\n",
      "               *****\n",
      "             *******\n",
      "           *********\n",
      "         ***********\n",
      "       *************\n",
      "     ***************\n",
      "   *****************\n",
      " *******************\n"
     ]
    }
   ],
   "source": [
    "for i in range(1,20,2):\n",
    "    print(f'{' '*(20-i)}{'*'*i}')"
   ]
  },
  {
   "cell_type": "code",
   "execution_count": null,
   "id": "5201b75c-4d98-47d6-ad91-cfaa93c147c8",
   "metadata": {},
   "outputs": [],
   "source": []
  },
  {
   "cell_type": "code",
   "execution_count": null,
   "id": "7fc71528-1e6f-4c10-a940-f2bfe9d3593d",
   "metadata": {},
   "outputs": [],
   "source": []
  },
  {
   "cell_type": "code",
   "execution_count": null,
   "id": "9002abfb-d9c6-4314-960b-1723f075ef75",
   "metadata": {},
   "outputs": [],
   "source": []
  },
  {
   "cell_type": "code",
   "execution_count": null,
   "id": "007356db-8739-458d-b1d0-178513489f62",
   "metadata": {},
   "outputs": [],
   "source": []
  },
  {
   "cell_type": "code",
   "execution_count": null,
   "id": "4e62d416-077b-46ea-805c-420a54156f4a",
   "metadata": {},
   "outputs": [],
   "source": []
  },
  {
   "cell_type": "code",
   "execution_count": null,
   "id": "747776ef-861a-47ea-9617-7b890f68fe32",
   "metadata": {},
   "outputs": [],
   "source": []
  },
  {
   "cell_type": "code",
   "execution_count": null,
   "id": "5bb0abcf-006b-47bb-aab6-84ae4ad6d6f0",
   "metadata": {},
   "outputs": [],
   "source": []
  },
  {
   "cell_type": "code",
   "execution_count": null,
   "id": "f3d0c797-df46-4532-9c26-8ff99ab9ae25",
   "metadata": {},
   "outputs": [],
   "source": []
  },
  {
   "cell_type": "code",
   "execution_count": null,
   "id": "6cc4d2f0-c011-4c27-9330-d82ebf04afc3",
   "metadata": {},
   "outputs": [],
   "source": []
  },
  {
   "cell_type": "code",
   "execution_count": null,
   "id": "c6331023-f85a-4955-ac86-de0a374e3937",
   "metadata": {},
   "outputs": [],
   "source": []
  }
 ],
 "metadata": {
  "kernelspec": {
   "display_name": "Python 3 (ipykernel)",
   "language": "python",
   "name": "python3"
  },
  "language_info": {
   "codemirror_mode": {
    "name": "ipython",
    "version": 3
   },
   "file_extension": ".py",
   "mimetype": "text/x-python",
   "name": "python",
   "nbconvert_exporter": "python",
   "pygments_lexer": "ipython3",
   "version": "3.12.9"
  }
 },
 "nbformat": 4,
 "nbformat_minor": 5
}
