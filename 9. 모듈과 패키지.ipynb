{
 "cells": [
  {
   "cell_type": "markdown",
   "id": "a0039581-1d3a-44d3-a99d-62861b9aa1cd",
   "metadata": {},
   "source": [
    "모듈은 파이썬 파일이다. 확장자가 '.py' 여야 한다."
   ]
  },
  {
   "cell_type": "code",
   "execution_count": 1,
   "id": "1b6a6f1e-8eba-4d90-b00d-2b12c7927ff3",
   "metadata": {},
   "outputs": [
    {
     "name": "stdout",
     "output_type": "stream",
     "text": [
      "First 모듈 입니두!@!\n"
     ]
    },
    {
     "ename": "NameError",
     "evalue": "name 'my_func' is not defined",
     "output_type": "error",
     "traceback": [
      "\u001b[31m---------------------------------------------------------------------------\u001b[39m",
      "\u001b[31mNameError\u001b[39m                                 Traceback (most recent call last)",
      "\u001b[36mCell\u001b[39m\u001b[36m \u001b[39m\u001b[32mIn[1]\u001b[39m\u001b[32m, line 2\u001b[39m\n\u001b[32m      1\u001b[39m \u001b[38;5;28;01mimport\u001b[39;00m\u001b[38;5;250m \u001b[39m\u001b[34;01mfirst\u001b[39;00m\n\u001b[32m----> \u001b[39m\u001b[32m2\u001b[39m my_func()\n",
      "\u001b[31mNameError\u001b[39m: name 'my_func' is not defined"
     ]
    }
   ],
   "source": [
    "import first\n",
    "my_func()"
   ]
  },
  {
   "cell_type": "code",
   "execution_count": null,
   "id": "90d392ed-dc95-44f4-8c0c-0f88edbb5c78",
   "metadata": {},
   "outputs": [],
   "source": [
    "import first\n",
    "first.my_func()"
   ]
  },
  {
   "cell_type": "code",
   "execution_count": null,
   "id": "90d24179-165e-432c-8044-628b63abe8e2",
   "metadata": {},
   "outputs": [],
   "source": [
    "first.my_func1()"
   ]
  },
  {
   "cell_type": "code",
   "execution_count": null,
   "id": "d0667ac6-4e73-4b12-9f27-1e87bb33f76d",
   "metadata": {},
   "outputs": [],
   "source": [
    "import first as fr\n",
    "fr.my_func(), fr.my_func2()"
   ]
  },
  {
   "cell_type": "code",
   "execution_count": 2,
   "id": "02c1c843-e006-4863-a62b-9b7922f19169",
   "metadata": {},
   "outputs": [
    {
     "ename": "NameError",
     "evalue": "name 'fr' is not defined",
     "output_type": "error",
     "traceback": [
      "\u001b[31m---------------------------------------------------------------------------\u001b[39m",
      "\u001b[31mNameError\u001b[39m                                 Traceback (most recent call last)",
      "\u001b[36mCell\u001b[39m\u001b[36m \u001b[39m\u001b[32mIn[2]\u001b[39m\u001b[32m, line 1\u001b[39m\n\u001b[32m----> \u001b[39m\u001b[32m1\u001b[39m fr.my_func2()\n",
      "\u001b[31mNameError\u001b[39m: name 'fr' is not defined"
     ]
    }
   ],
   "source": [
    "fr.my_func2() # first.py 고치고 여기서 SHIFT+ENTER 해도 안된다. keranl restart를 해야된다."
   ]
  },
  {
   "cell_type": "code",
   "execution_count": 1,
   "id": "6c4ef9e6-dc2e-4695-93f1-abb041ae32cf",
   "metadata": {},
   "outputs": [
    {
     "name": "stdout",
     "output_type": "stream",
     "text": [
      "First 모듈 입니두!@!\n",
      "First 모듈이다~><~\n",
      "hello\n",
      "2nd hello\n",
      "halohalo\n"
     ]
    }
   ],
   "source": [
    "import first"
   ]
  },
  {
   "cell_type": "code",
   "execution_count": 4,
   "id": "ebd9cafa-9dc1-4779-a448-1cf081ba0b38",
   "metadata": {},
   "outputs": [
    {
     "name": "stdout",
     "output_type": "stream",
     "text": [
      "hello\n"
     ]
    }
   ],
   "source": [
    "from first import my_func as fr # 모듈안에 있는 특정 함수만 사용하는 것!! --> 필요 없는 걸 다 올릴 필요가 없으니까~\n",
    "my_func()"
   ]
  },
  {
   "cell_type": "code",
   "execution_count": 5,
   "id": "66e78c7c-d69a-4bc5-b1d1-a3a40bb3852d",
   "metadata": {},
   "outputs": [
    {
     "ename": "AttributeError",
     "evalue": "'function' object has no attribute 'my_func2'",
     "output_type": "error",
     "traceback": [
      "\u001b[31m---------------------------------------------------------------------------\u001b[39m",
      "\u001b[31mAttributeError\u001b[39m                            Traceback (most recent call last)",
      "\u001b[36mCell\u001b[39m\u001b[36m \u001b[39m\u001b[32mIn[5]\u001b[39m\u001b[32m, line 1\u001b[39m\n\u001b[32m----> \u001b[39m\u001b[32m1\u001b[39m fr.my_func2()\n",
      "\u001b[31mAttributeError\u001b[39m: 'function' object has no attribute 'my_func2'"
     ]
    }
   ],
   "source": [
    "fr.my_func2()"
   ]
  },
  {
   "cell_type": "code",
   "execution_count": 6,
   "id": "0e4008ed-f964-4630-9101-3456f2668a1b",
   "metadata": {
    "collapsed": true,
    "jupyter": {
     "outputs_hidden": true
    },
    "scrolled": true
   },
   "outputs": [
    {
     "data": {
      "text/plain": [
       "['__builtins__',\n",
       " '__cached__',\n",
       " '__doc__',\n",
       " '__file__',\n",
       " '__loader__',\n",
       " '__name__',\n",
       " '__package__',\n",
       " '__spec__',\n",
       " 'my_func',\n",
       " 'my_func1',\n",
       " 'my_func2']"
      ]
     },
     "execution_count": 6,
     "metadata": {},
     "output_type": "execute_result"
    }
   ],
   "source": [
    "dir(first)"
   ]
  },
  {
   "cell_type": "code",
   "execution_count": 7,
   "id": "5cf0e011-e7ee-4ce8-ac55-70f96b1bff1b",
   "metadata": {
    "collapsed": true,
    "jupyter": {
     "outputs_hidden": true
    },
    "scrolled": true
   },
   "outputs": [
    {
     "data": {
      "text/plain": [
       "['__annotations__',\n",
       " '__builtins__',\n",
       " '__call__',\n",
       " '__class__',\n",
       " '__closure__',\n",
       " '__code__',\n",
       " '__defaults__',\n",
       " '__delattr__',\n",
       " '__dict__',\n",
       " '__dir__',\n",
       " '__doc__',\n",
       " '__eq__',\n",
       " '__format__',\n",
       " '__ge__',\n",
       " '__get__',\n",
       " '__getattribute__',\n",
       " '__getstate__',\n",
       " '__globals__',\n",
       " '__gt__',\n",
       " '__hash__',\n",
       " '__init__',\n",
       " '__init_subclass__',\n",
       " '__kwdefaults__',\n",
       " '__le__',\n",
       " '__lt__',\n",
       " '__module__',\n",
       " '__name__',\n",
       " '__ne__',\n",
       " '__new__',\n",
       " '__qualname__',\n",
       " '__reduce__',\n",
       " '__reduce_ex__',\n",
       " '__repr__',\n",
       " '__setattr__',\n",
       " '__sizeof__',\n",
       " '__str__',\n",
       " '__subclasshook__',\n",
       " '__type_params__']"
      ]
     },
     "execution_count": 7,
     "metadata": {},
     "output_type": "execute_result"
    }
   ],
   "source": [
    "dir(my_func)"
   ]
  },
  {
   "cell_type": "code",
   "execution_count": null,
   "id": "51efa298-f5d1-4c82-b298-a9eb2bcfe57f",
   "metadata": {},
   "outputs": [],
   "source": [
    "import my_first_package.second"
   ]
  },
  {
   "cell_type": "code",
   "execution_count": 3,
   "id": "ce453387-eef4-48ca-8f55-4d603f90d3d7",
   "metadata": {},
   "outputs": [
    {
     "name": "stdout",
     "output_type": "stream",
     "text": [
      "2nd hello\n"
     ]
    }
   ],
   "source": [
    "# 모듈의 실행과 모듈의 import 구분\n",
    "import first\n",
    "\n",
    "first.my_func1()"
   ]
  },
  {
   "cell_type": "markdown",
   "id": "8a359c0a-ed36-412c-b591-850c523223f7",
   "metadata": {},
   "source": [
    "# 모듈의 실행과 모듈의 import 구분   \n",
    "\n",
    "- 모듈 단독 실행시에만 호출되는 코드   \n",
    "  if __name__ == '__main__':   \n",
    "      실행함수   \n",
    "  else :   \n",
    "      변수 설정   \n",
    "\n",
    "- import 할 때는 실행되지 않는다.\n",
    "\n",
    "  "
   ]
  },
  {
   "cell_type": "markdown",
   "id": "969e41c1-e3b5-4fce-ba06-26e90fcff175",
   "metadata": {},
   "source": [
    "# 패키기: 모듈의 묶음\n",
    "\n",
    "윈도우, 리눅스 : 디렉토리/폴더   \n",
    "import 폴더명.폴더명 "
   ]
  },
  {
   "cell_type": "code",
   "execution_count": 1,
   "id": "881bdf73-73ae-4356-beea-54f662446796",
   "metadata": {},
   "outputs": [],
   "source": [
    "import my_first_package.second"
   ]
  },
  {
   "cell_type": "code",
   "execution_count": 2,
   "id": "6ef40e91-ba9e-4b33-9048-ed6d3e2db18a",
   "metadata": {},
   "outputs": [
    {
     "name": "stderr",
     "output_type": "stream",
     "text": [
      "UsageError: %%writefile is a cell magic, but the cell body is empty.\n"
     ]
    }
   ],
   "source": [
    "%%writefile my_first_package.magic_calc.basic_ops.py"
   ]
  },
  {
   "cell_type": "code",
   "execution_count": null,
   "id": "2fa9a4c7-c1ed-42fb-b389-e6434075afe6",
   "metadata": {},
   "outputs": [],
   "source": []
  },
  {
   "cell_type": "code",
   "execution_count": null,
   "id": "cff853fc-c6a8-419e-a76c-8283852b7d65",
   "metadata": {},
   "outputs": [],
   "source": []
  },
  {
   "cell_type": "code",
   "execution_count": null,
   "id": "4fe0d5f0-497f-4268-b44c-7069e7902f98",
   "metadata": {},
   "outputs": [],
   "source": []
  },
  {
   "cell_type": "code",
   "execution_count": null,
   "id": "81e1fdd2-13a0-431b-87af-d1c82da0852e",
   "metadata": {},
   "outputs": [],
   "source": []
  },
  {
   "cell_type": "code",
   "execution_count": null,
   "id": "a7c154dc-b106-4482-ac5b-2fff1ca250ce",
   "metadata": {},
   "outputs": [],
   "source": []
  },
  {
   "cell_type": "code",
   "execution_count": null,
   "id": "0d54146d-2f72-40bf-811e-8361e7fe1272",
   "metadata": {},
   "outputs": [],
   "source": []
  },
  {
   "cell_type": "code",
   "execution_count": null,
   "id": "853dc51b-6bcc-441e-af90-9b2042d569d5",
   "metadata": {},
   "outputs": [],
   "source": []
  }
 ],
 "metadata": {
  "kernelspec": {
   "display_name": "Python 3 (ipykernel)",
   "language": "python",
   "name": "python3"
  },
  "language_info": {
   "codemirror_mode": {
    "name": "ipython",
    "version": 3
   },
   "file_extension": ".py",
   "mimetype": "text/x-python",
   "name": "python",
   "nbconvert_exporter": "python",
   "pygments_lexer": "ipython3",
   "version": "3.12.9"
  }
 },
 "nbformat": 4,
 "nbformat_minor": 5
}
