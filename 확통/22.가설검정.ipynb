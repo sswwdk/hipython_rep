{
 "cells": [
  {
   "cell_type": "markdown",
   "id": "c8e4c7c3",
   "metadata": {},
   "source": [
    "# 가설검정\n"
   ]
  },
  {
   "cell_type": "code",
   "execution_count": 4,
   "id": "3d7ac6c6",
   "metadata": {},
   "outputs": [],
   "source": [
    "import numpy as np\n",
    "import pandas as pd\n",
    "import matplotlib.pyplot as plt\n",
    "import scipy.stats as stats\n",
    "\n",
    "%matplotlib inline\n",
    "plt.rc('figure', figsize=(10, 6))\n",
    "from matplotlib import rcParams\n",
    "rcParams['font.family'] = 'New Gulim'\n",
    "rcParams['font.size'] = 10\n",
    "rcParams['axes.unicode_minus'] = False"
   ]
  },
  {
   "cell_type": "markdown",
   "id": "45597ac1",
   "metadata": {},
   "source": [
    "대한민국 남성의 평균 몸무게는 70킬로그램이다."
   ]
  },
  {
   "cell_type": "code",
   "execution_count": 11,
   "id": "3e8141f0",
   "metadata": {},
   "outputs": [
    {
     "name": "stdout",
     "output_type": "stream",
     "text": [
      "평균 : 70.08573280308887\n",
      "p-value : 0.953913826658112\n",
      "검정결과 : 대립가설 채택\n",
      "대한민국 남성의 평균 몸무게는 70kg이다.\n"
     ]
    }
   ],
   "source": [
    "#1. 가설수립\n",
    "#H0[귀무가설] : 대한민국 남성의 평균 몸무게는 70킬로그램이다.(차이가 없다)\n",
    "#H1[대립가설] : 대한민국 남성의 평균 몸무게는 70킬로그램이 아니다. \n",
    "#2. 통계량 산출 - 데이터 수립\n",
    "\n",
    "np.random.seed(123)\n",
    "weight = np.random.uniform(40,100,100)\n",
    "# weight\n",
    "\n",
    "test_result = stats.ttest_1samp(weight, 70) # t 검정 \n",
    "print(f'평균 : {np.mean(weight)}')\n",
    "print(f'p-value : {test_result.pvalue}')\n",
    "\n",
    "\n",
    "\n",
    "#3. 기각/채택 여부 판단\n",
    "print(f'검정결과 : {'귀무가설 기각' if test_result.pvalue < 0.05 else '대립가설 채택'}')\n",
    "#4. 결정\n",
    "if test_result.pvalue < 0.05 :\n",
    "    print('대한민국 남성의 평균 몸무게는 70kg이 아니다.')\n",
    "else:\n",
    "    print('대한민국 남성의 평균 몸무게는 70kg이다.')\n"
   ]
  },
  {
   "cell_type": "markdown",
   "id": "beb503b6",
   "metadata": {},
   "source": [
    "### 예제 1: 평균 비교 - 일표본(단표본) t검정\n",
    "문제: 하루 커피 섭취량이 평균 2.5잔이라고 알려져 있다. 실제 설문조사에서 2.8잔이 나왔다. 과연 차이가 통계적으로 유의한가?"
   ]
  },
  {
   "cell_type": "code",
   "execution_count": null,
   "id": "85f8c669",
   "metadata": {},
   "outputs": [],
   "source": []
  },
  {
   "cell_type": "code",
   "execution_count": 19,
   "id": "1fede62c",
   "metadata": {},
   "outputs": [
    {
     "name": "stdout",
     "output_type": "stream",
     "text": [
      "t값 = 7.031, p값 = 0.0000000986\n",
      "검정결과 : 귀무가설 기각\n"
     ]
    }
   ],
   "source": [
    "# 표본 데이터 (30명)\n",
    "coffee_data = [2.9, 2.4, 2.7, 3.0, 2.6, 2.8, 2.9, 3.1, 2.7, 2.6,\n",
    "               2.8, 2.5, 3.2, 3.0, 2.4, 2.6, 2.7, 3.1, 2.8, 2.7,\n",
    "               2.5, 2.9, 2.6, 2.8, 2.9, 2.5, 2.7, 2.8, 3.0, 2.9]\n",
    "\n",
    "# 단일표본 t-검정\n",
    "t_stat, p_value = stats.ttest_1samp(coffee_data, popmean=2.5)\n",
    "\n",
    "print(f\"t값 = {t_stat:.3f}, p값 = {p_value:.10f}\")\n",
    "\n",
    "print(f'검정결과 : {'귀무가설 기각' if p_value < 0.05 else '대립가설 채택'}')"
   ]
  },
  {
   "cell_type": "markdown",
   "id": "2eca43ef",
   "metadata": {},
   "source": [
    "귀무가설 : 유의미한 차이가 없다.   \n",
    "대립가설 : 유의미한 차이가 있다.   \n",
    "   \n",
    "해석: p값이 0.05보다 작으면 귀무가설 기각 → 2.5잔과 유의한 차이가 있다."
   ]
  },
  {
   "cell_type": "markdown",
   "id": "e7f8bed4",
   "metadata": {},
   "source": [
    "### 예제 2: 두 그룹 비교 - 이표본(독립표본) t검정   \n",
    "이표본 T 검정 : 두 개의 모집단의 평균 비교   \n",
    "문제: A와 B 수업의 시험 평균 점수가 차이가 있는가?"
   ]
  },
  {
   "cell_type": "code",
   "execution_count": 20,
   "id": "f319a157",
   "metadata": {},
   "outputs": [
    {
     "name": "stdout",
     "output_type": "stream",
     "text": [
      "t값 = 5.331, p값 = 0.0000604698\n"
     ]
    }
   ],
   "source": [
    "group_A = [78, 85, 82, 88, 76, 81, 79, 84, 82, 80]\n",
    "group_B = [72, 75, 78, 74, 71, 77, 70, 76, 75, 73]\n",
    "\n",
    "t_stat, p_value = stats.ttest_ind(group_A, group_B, equal_var=False)\n",
    "print(f\"t값 = {t_stat:.3f}, p값 = {p_value:.10f}\")"
   ]
  },
  {
   "cell_type": "markdown",
   "id": "fc4a1c6f",
   "metadata": {},
   "source": [
    "귀무가설 : A와 B 수업의 시험 평균 점수 차이가 없다.   \n",
    "대립가설 : A와 B 수업의 시험 평균 점수 차이가 있다.   \n",
    "   \n",
    "p 값이 0.05보다 작으므로 귀무가설 기각. 유의미한 차이가 있다."
   ]
  },
  {
   "cell_type": "markdown",
   "id": "74f949a3",
   "metadata": {},
   "source": [
    "### 예제 3: 전후의 비교 -  대응 표본 T 검정    \n",
    "문제 : 약물 투여하면 혈압의 차이가 있는가?"
   ]
  },
  {
   "cell_type": "code",
   "execution_count": null,
   "id": "1734cee5",
   "metadata": {},
   "outputs": [],
   "source": [
    "# 대응 표본 t-검정 예제: 약물 투여 전후 혈압 비교\n",
    "before = [120, 122, 143, 130, 135, 118, 127, 140, 132, 125]\n",
    "after = [115, 117, 138, 125, 129, 112, 120, 135, 126, 119]\n",
    "\n",
    "t_stat, p_value = stats.ttest_rel(before, after)\n",
    "print(f\"t값 = {t_stat:.3f}, p값 = {p_value:.3f}\")"
   ]
  },
  {
   "cell_type": "markdown",
   "id": "3048867d",
   "metadata": {},
   "source": [
    "귀무가설 : 약물 투여 후 혈압의 차이가 없다.   \n",
    "대립가설 : 약물 투여 후 혈압의 차이가 있다.     \n",
    "         \n",
    "해석: p값이 0.05보다 작으면 약물 투여 전후 혈압에 유의한 차이가 있다고 판단한다.   "
   ]
  },
  {
   "cell_type": "markdown",
   "id": "c1ed0f74",
   "metadata": {},
   "source": [
    "### 예제 4: 범주형 변수 - 카이제곱 검정\n",
    "\n",
    "**문제:** 성별에 따라 커피를 더 선호하는지?"
   ]
  },
  {
   "cell_type": "code",
   "execution_count": 22,
   "id": "139ed321",
   "metadata": {},
   "outputs": [
    {
     "name": "stdout",
     "output_type": "stream",
     "text": [
      "chi2 = 3.857, p값 = 0.04953461\n"
     ]
    }
   ],
   "source": [
    "import numpy as np\n",
    "obs = np.array([[40, 10],  # 남자 (좋아함, 안좋아함) 교차표\n",
    "                [30, 20]]) # 여자\n",
    "\n",
    "chi2, p, dof, expected = stats.chi2_contingency(obs)\n",
    "print(f\"chi2 = {chi2:.3f}, p값 = {p:.8f}\")"
   ]
  },
  {
   "cell_type": "markdown",
   "id": "3109048c",
   "metadata": {},
   "source": [
    "귀무가설 : 성별에 따라 커피를 선호도 차이가 없다.      \n",
    "대립가설 : 성별에 따라 커피 선호도 차이가 있다.    \n",
    "   \n",
    "해석, 결과 : 성별과 커피 선호는 독립적이다. 관계가 없다. 연관이 없다"
   ]
  },
  {
   "cell_type": "markdown",
   "id": "eedcff67",
   "metadata": {},
   "source": []
  }
 ],
 "metadata": {
  "kernelspec": {
   "display_name": "hipython",
   "language": "python",
   "name": "python3"
  },
  "language_info": {
   "codemirror_mode": {
    "name": "ipython",
    "version": 3
   },
   "file_extension": ".py",
   "mimetype": "text/x-python",
   "name": "python",
   "nbconvert_exporter": "python",
   "pygments_lexer": "ipython3",
   "version": "3.12.9"
  }
 },
 "nbformat": 4,
 "nbformat_minor": 5
}
