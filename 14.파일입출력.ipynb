{
 "cells": [
  {
   "cell_type": "markdown",
   "id": "98592729",
   "metadata": {},
   "source": [
    "# 파일 읽기"
   ]
  },
  {
   "cell_type": "code",
   "execution_count": 6,
   "id": "ded3fb17",
   "metadata": {},
   "outputs": [],
   "source": [
    "with open('abc/text.txt', 'w') as f:\n",
    "    f.write('hallo')"
   ]
  },
  {
   "cell_type": "code",
   "execution_count": 7,
   "id": "a8c57393",
   "metadata": {},
   "outputs": [],
   "source": [
    "f = open('abc/text.txt', 'r')\n",
    "f.read()\n",
    "f.close()"
   ]
  },
  {
   "cell_type": "code",
   "execution_count": 13,
   "id": "701c7193",
   "metadata": {},
   "outputs": [],
   "source": [
    "with open('abc/text.txt', 'w', encoding='utf-8') as f:\n",
    "    f.write('안녕하세요')\n",
    "    f.write('안녕안하세요')"
   ]
  },
  {
   "cell_type": "code",
   "execution_count": 44,
   "id": "f476fd12",
   "metadata": {},
   "outputs": [
    {
     "name": "stdout",
     "output_type": "stream",
     "text": [
      "안녕하세요안녕안하세요\n"
     ]
    }
   ],
   "source": [
    "# 텍스트 파일 읽기\n",
    "with open('abc/text.txt', 'r',encoding='utf-8') as f:\n",
    "    content = f.read()\n",
    "    # f.write('hallo test') # UnsupportedOperation: not writable\n",
    "    \n",
    "print(content)\n",
    "f.close()"
   ]
  },
  {
   "cell_type": "code",
   "execution_count": null,
   "id": "2ec6dafc",
   "metadata": {},
   "outputs": [],
   "source": [
    "# 생성 \n",
    "with open(\"abc/text1.txt\", \"w\", encoding='utf-8') as f:\n",
    "    f.write('아아~~~아아~~')"
   ]
  },
  {
   "cell_type": "code",
   "execution_count": null,
   "id": "d37e18e7",
   "metadata": {},
   "outputs": [
    {
     "name": "stdout",
     "output_type": "stream",
     "text": [
      "아아~~~아아~~으아~~으아~~이이~~\n"
     ]
    }
   ],
   "source": [
    "# 읽기\n",
    "with open(\"abc/text1.txt\", \"r\", encoding=\"utf-8\") as f:\n",
    "    text1 = f.read()\n",
    "    \n",
    "print(text1)\n",
    "f.close()"
   ]
  },
  {
   "cell_type": "code",
   "execution_count": 24,
   "id": "7d4ab415",
   "metadata": {},
   "outputs": [],
   "source": [
    "# 읽기/쓰기 모드\n",
    "with open(\"abc/text1.txt\", \"r+\", encoding=\"utf-8\") as f:\n",
    "    content = f.read()\n",
    "    f.write(\"으아~~으아~~이이~~\")"
   ]
  },
  {
   "cell_type": "code",
   "execution_count": 28,
   "id": "e7028fb0",
   "metadata": {},
   "outputs": [
    {
     "name": "stdout",
     "output_type": "stream",
     "text": [
      "아아~~~아아~~으아~~으아~~이이~~으아~~으아~~이이~~안녕하세유우~\n"
     ]
    }
   ],
   "source": [
    "# 읽기\n",
    "with open(\"abc/text1.txt\", \"r+\", encoding=\"utf-8\") as f:\n",
    "    text1 = f.read()\n",
    "    f.write('안녕하세유우~')\n",
    "    \n",
    "print(text1)\n",
    "f.close()"
   ]
  },
  {
   "cell_type": "markdown",
   "id": "bd4b3d24",
   "metadata": {},
   "source": []
  },
  {
   "cell_type": "code",
   "execution_count": null,
   "id": "b52b760f",
   "metadata": {},
   "outputs": [],
   "source": [
    "with open(\"abc/example.txt\", \"a\", encoding=\"utf-8\") as file:\n",
    "    file.write(\"추가된 내용입니다.\\n\")"
   ]
  },
  {
   "cell_type": "code",
   "execution_count": null,
   "id": "93656e05",
   "metadata": {},
   "outputs": [],
   "source": [
    "with open(\"abc/example.txt\", \"w\", encoding=\"utf-8\") as file:\n",
    "    file.write(\"반복문을 사용하여 파일에 데이터를 저장합니다.\")"
   ]
  },
  {
   "cell_type": "code",
   "execution_count": null,
   "id": "9be41111",
   "metadata": {},
   "outputs": [],
   "source": [
    "lines = [\n",
    "    \"Python 파일 입출력\\n\",\n",
    "    \"반복문을 사용하여 데이터를 저장합니다.\\n\",\n",
    "    \"데이터 처리가 편리합니다.\\n\"\n",
    "]\n",
    "\n",
    "with open(\"abc/example.txt\", \"w\", encoding=\"utf-8\") as file:\n",
    "    for line in lines:\n",
    "        file.write(line)"
   ]
  },
  {
   "cell_type": "code",
   "execution_count": null,
   "id": "f2bbf0bc",
   "metadata": {},
   "outputs": [],
   "source": [
    "lines = [\"첫 번째 줄입니다.\\n\", \"두 번째 줄입니다.\\n\", \"세 번째 줄입니다.\\n\"]\n",
    "\n",
    "with open('abc/output.txt', 'w') as f:\n",
    "    f.writelines(lines)\n"
   ]
  },
  {
   "cell_type": "code",
   "execution_count": null,
   "id": "cd063f75",
   "metadata": {},
   "outputs": [],
   "source": [
    "with open(\"abc/example.txt\", \"r\", encoding=\"utf-8\") as file:\n",
    "    content = file.read()\n",
    "    print(content)"
   ]
  },
  {
   "cell_type": "code",
   "execution_count": null,
   "id": "cb10db06",
   "metadata": {},
   "outputs": [],
   "source": [
    "with open(\"abc/example.txt\", \"r\", encoding=\"utf-8\") as file:\n",
    "    line = file.readline()\n",
    "    print(line)"
   ]
  },
  {
   "cell_type": "code",
   "execution_count": null,
   "id": "46986aa5",
   "metadata": {},
   "outputs": [],
   "source": [
    "with open(\"abc/example.txt\", \"r\", encoding=\"utf-8\") as file:\n",
    "    lines = file.readlines()\n",
    "\n",
    "for line in lines:\n",
    "    print(line.strip())"
   ]
  },
  {
   "cell_type": "code",
   "execution_count": null,
   "id": "04f99d0f",
   "metadata": {},
   "outputs": [],
   "source": [
    "with open(\"abc/data.txt\", \"r\", encoding=\"utf-8\") as f:\n",
    "    for line in f.readlines():\n",
    "        print(line.upper().strip())\n"
   ]
  },
  {
   "cell_type": "code",
   "execution_count": null,
   "id": "b16f561d",
   "metadata": {},
   "outputs": [],
   "source": []
  },
  {
   "cell_type": "markdown",
   "id": "daca5cb2",
   "metadata": {},
   "source": [
    "# pickle"
   ]
  },
  {
   "cell_type": "code",
   "execution_count": 34,
   "id": "557f459e",
   "metadata": {},
   "outputs": [
    {
     "name": "stdout",
     "output_type": "stream",
     "text": [
      "{'name': '홍길동', 'age': 30, 'scores': [90, 85, 88]}\n"
     ]
    }
   ],
   "source": [
    "import pickle\n",
    "\n",
    "# 직렬화할 데이터\n",
    "data = {\n",
    "    'name': '홍길동',\n",
    "    'age': 30,\n",
    "    'scores': [90, 85, 88]\n",
    "}\n",
    "\n",
    "# 직렬화하여 파일에 저장\n",
    "with open('abc/data.pickle', 'wb') as f:\n",
    "    pickle.dump(data, f)\n",
    "\n",
    "# 파일에서 역직렬화하여 읽기\n",
    "with open('abc/data.pickle', 'rb') as f:\n",
    "    loaded_data = pickle.load(f)\n",
    "\n",
    "print(loaded_data)  # 원본 데이터가 그대로 복원됨"
   ]
  },
  {
   "cell_type": "code",
   "execution_count": 35,
   "id": "99ea3235",
   "metadata": {},
   "outputs": [],
   "source": [
    "import json"
   ]
  },
  {
   "cell_type": "code",
   "execution_count": null,
   "id": "c567fd0d",
   "metadata": {},
   "outputs": [],
   "source": [
    "# 직렬화하여 파일에 저장\n",
    "with open('abc/data.json', 'w') as f:\n",
    "    json.dump(data, f) # ,ensure_ascii=False"
   ]
  },
  {
   "cell_type": "code",
   "execution_count": 37,
   "id": "9b38fb14",
   "metadata": {},
   "outputs": [
    {
     "name": "stdout",
     "output_type": "stream",
     "text": [
      "{'name': '홍길동', 'age': 30, 'scores': [90, 85, 88]}\n"
     ]
    }
   ],
   "source": [
    "with open('abc/data.json', 'r') as f:\n",
    "    loaded_txt = json.load(f)\n",
    "    \n",
    "print(loaded_txt)"
   ]
  },
  {
   "cell_type": "code",
   "execution_count": 39,
   "id": "40af2b93",
   "metadata": {},
   "outputs": [
    {
     "data": {
      "text/plain": [
       "[['name', 'age'], ['bob', 20], ['Alice', 30]]"
      ]
     },
     "execution_count": 39,
     "metadata": {},
     "output_type": "execute_result"
    }
   ],
   "source": [
    "import csv\n",
    "data = [['name','age'], ['bob',20],['Alice',30]]\n",
    "data"
   ]
  },
  {
   "cell_type": "code",
   "execution_count": 40,
   "id": "594b1551",
   "metadata": {},
   "outputs": [],
   "source": [
    "with open('abc/data.csv', 'w') as f:\n",
    "    wrt = csv.writer(f)\n",
    "    wrt.writerows(data)"
   ]
  },
  {
   "cell_type": "code",
   "execution_count": 41,
   "id": "bb392549",
   "metadata": {},
   "outputs": [],
   "source": [
    "import pandas as pd\n",
    "\n",
    "df = pd.DataFrame(data)\n",
    "df.to_csv('abc/data_df.csv')"
   ]
  },
  {
   "cell_type": "code",
   "execution_count": 42,
   "id": "6cf46d64",
   "metadata": {},
   "outputs": [
    {
     "data": {
      "text/html": [
       "<div>\n",
       "<style scoped>\n",
       "    .dataframe tbody tr th:only-of-type {\n",
       "        vertical-align: middle;\n",
       "    }\n",
       "\n",
       "    .dataframe tbody tr th {\n",
       "        vertical-align: top;\n",
       "    }\n",
       "\n",
       "    .dataframe thead th {\n",
       "        text-align: right;\n",
       "    }\n",
       "</style>\n",
       "<table border=\"1\" class=\"dataframe\">\n",
       "  <thead>\n",
       "    <tr style=\"text-align: right;\">\n",
       "      <th></th>\n",
       "      <th>Unnamed: 0</th>\n",
       "      <th>0</th>\n",
       "      <th>1</th>\n",
       "    </tr>\n",
       "  </thead>\n",
       "  <tbody>\n",
       "    <tr>\n",
       "      <th>0</th>\n",
       "      <td>0</td>\n",
       "      <td>name</td>\n",
       "      <td>age</td>\n",
       "    </tr>\n",
       "    <tr>\n",
       "      <th>1</th>\n",
       "      <td>1</td>\n",
       "      <td>bob</td>\n",
       "      <td>20</td>\n",
       "    </tr>\n",
       "    <tr>\n",
       "      <th>2</th>\n",
       "      <td>2</td>\n",
       "      <td>Alice</td>\n",
       "      <td>30</td>\n",
       "    </tr>\n",
       "  </tbody>\n",
       "</table>\n",
       "</div>"
      ],
      "text/plain": [
       "   Unnamed: 0      0    1\n",
       "0           0   name  age\n",
       "1           1    bob   20\n",
       "2           2  Alice   30"
      ]
     },
     "execution_count": 42,
     "metadata": {},
     "output_type": "execute_result"
    }
   ],
   "source": [
    "pd.read_csv('abc/data_df.csv')"
   ]
  }
 ],
 "metadata": {
  "kernelspec": {
   "display_name": "hipython",
   "language": "python",
   "name": "python3"
  },
  "language_info": {
   "codemirror_mode": {
    "name": "ipython",
    "version": 3
   },
   "file_extension": ".py",
   "mimetype": "text/x-python",
   "name": "python",
   "nbconvert_exporter": "python",
   "pygments_lexer": "ipython3",
   "version": "3.12.9"
  }
 },
 "nbformat": 4,
 "nbformat_minor": 5
}
