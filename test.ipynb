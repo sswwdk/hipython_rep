{
 "cells": [
  {
   "cell_type": "code",
   "execution_count": 2,
   "id": "e62e123f",
   "metadata": {},
   "outputs": [
    {
     "name": "stdout",
     "output_type": "stream",
     "text": [
      "   A  B  C\n",
      "a  1  2  3\n",
      "b  4  5  6\n",
      "c  7  8  9\n"
     ]
    }
   ],
   "source": [
    "import numpy as np\n",
    "import pandas as pd\n",
    "\n",
    "# 2차원 넘파이 어레이 생성\n",
    "arr = np.array([[1, 2, 3],\n",
    "                [4, 5, 6],\n",
    "                [7, 8, 9]])\n",
    "\n",
    "# 데이터프레임 생성\n",
    "df = pd.DataFrame(arr,index=['a', 'b','c'], columns=['A', 'B', 'C'])\n",
    "print(df)\n"
   ]
  },
  {
   "cell_type": "code",
   "execution_count": 41,
   "id": "2eda8aa6",
   "metadata": {},
   "outputs": [
    {
     "name": "stdout",
     "output_type": "stream",
     "text": [
      "=== head() ===\n",
      "    이름  나이  점수\n",
      "0  김철수  25  85\n",
      "1  이영희  28  92\n",
      "2  박민수  22  78\n",
      "3  정수진  31  95\n",
      "4  최영호  27  88\n",
      "\n",
      "=== tail(3) ===\n",
      "    이름  나이  점수\n",
      "4  최영호  27  88\n",
      "5  한미래  24  73\n",
      "6  윤지원  29  91\n",
      "\n",
      "=== info() ===\n",
      "<class 'pandas.core.frame.DataFrame'>\n",
      "RangeIndex: 7 entries, 0 to 6\n",
      "Data columns (total 3 columns):\n",
      " #   Column  Non-Null Count  Dtype \n",
      "---  ------  --------------  ----- \n",
      " 0   이름      7 non-null      object\n",
      " 1   나이      7 non-null      int64 \n",
      " 2   점수      7 non-null      int64 \n",
      "dtypes: int64(2), object(1)\n",
      "memory usage: 300.0+ bytes\n",
      "None\n",
      "\n",
      "=== describe() ===\n",
      "              나이         점수\n",
      "count   7.000000   7.000000\n",
      "mean   26.571429  86.000000\n",
      "std     3.101459   7.958224\n",
      "min    22.000000  73.000000\n",
      "25%    24.500000  81.500000\n",
      "50%    27.000000  88.000000\n",
      "75%    28.500000  91.500000\n",
      "max    31.000000  95.000000\n"
     ]
    }
   ],
   "source": [
    "import pandas as pd\n",
    "\n",
    "# 샘플 데이터프레임 생성\n",
    "data = {\n",
    "    '이름': ['김철수', '이영희', '박민수', '정수진', '최영호', '한미래', '윤지원'],\n",
    "    '나이': [25, 28, 22, 31, 27, 24, 29],\n",
    "    '점수': [85, 92, 78, 95, 88, 73, 91]\n",
    "}\n",
    "df = pd.DataFrame(data) #index = ['a', 'b', 'n', 'a', 'b', 'n','c']\n",
    "\n",
    "# 처음 5개 행 보기\n",
    "print(\"=== head() ===\")\n",
    "print(df.head())\n",
    "\n",
    "# 마지막 3개 행 보기\n",
    "print(\"\\n=== tail(3) ===\")\n",
    "print(df.tail(3))\n",
    "\n",
    "# 데이터프레임 기본 정보\n",
    "print(\"\\n=== info() ===\")\n",
    "print(df.info())\n",
    "\n",
    "# 기술 통계량\n",
    "print(\"\\n=== describe() ===\")\n",
    "print(df.describe())"
   ]
  },
  {
   "cell_type": "code",
   "execution_count": 42,
   "id": "ad4ccff1",
   "metadata": {},
   "outputs": [
    {
     "data": {
      "text/plain": [
       "RangeIndex(start=0, stop=7, step=1)"
      ]
     },
     "execution_count": 42,
     "metadata": {},
     "output_type": "execute_result"
    }
   ],
   "source": [
    "df.index"
   ]
  },
  {
   "cell_type": "code",
   "execution_count": 43,
   "id": "1e18ff00",
   "metadata": {},
   "outputs": [
    {
     "data": {
      "text/plain": [
       "Index(['이름', '나이', '점수'], dtype='object')"
      ]
     },
     "execution_count": 43,
     "metadata": {},
     "output_type": "execute_result"
    }
   ],
   "source": [
    "df.columns"
   ]
  },
  {
   "cell_type": "code",
   "execution_count": 44,
   "id": "b0e09e79",
   "metadata": {},
   "outputs": [
    {
     "data": {
      "text/plain": [
       "(7, 3)"
      ]
     },
     "execution_count": 44,
     "metadata": {},
     "output_type": "execute_result"
    }
   ],
   "source": [
    "df.shape"
   ]
  },
  {
   "cell_type": "code",
   "execution_count": 45,
   "id": "0a5d92c3",
   "metadata": {},
   "outputs": [
    {
     "data": {
      "text/plain": [
       "array([['김철수', 25, 85],\n",
       "       ['이영희', 28, 92],\n",
       "       ['박민수', 22, 78],\n",
       "       ['정수진', 31, 95],\n",
       "       ['최영호', 27, 88],\n",
       "       ['한미래', 24, 73],\n",
       "       ['윤지원', 29, 91]], dtype=object)"
      ]
     },
     "execution_count": 45,
     "metadata": {},
     "output_type": "execute_result"
    }
   ],
   "source": [
    "df.values"
   ]
  },
  {
   "cell_type": "code",
   "execution_count": 46,
   "id": "fe39bae4",
   "metadata": {},
   "outputs": [
    {
     "data": {
      "text/html": [
       "<div>\n",
       "<style scoped>\n",
       "    .dataframe tbody tr th:only-of-type {\n",
       "        vertical-align: middle;\n",
       "    }\n",
       "\n",
       "    .dataframe tbody tr th {\n",
       "        vertical-align: top;\n",
       "    }\n",
       "\n",
       "    .dataframe thead th {\n",
       "        text-align: right;\n",
       "    }\n",
       "</style>\n",
       "<table border=\"1\" class=\"dataframe\">\n",
       "  <thead>\n",
       "    <tr style=\"text-align: right;\">\n",
       "      <th></th>\n",
       "      <th>Name</th>\n",
       "      <th>나이</th>\n",
       "      <th>점수</th>\n",
       "    </tr>\n",
       "  </thead>\n",
       "  <tbody>\n",
       "    <tr>\n",
       "      <th>0</th>\n",
       "      <td>김철수</td>\n",
       "      <td>25</td>\n",
       "      <td>85</td>\n",
       "    </tr>\n",
       "    <tr>\n",
       "      <th>1</th>\n",
       "      <td>이영희</td>\n",
       "      <td>28</td>\n",
       "      <td>92</td>\n",
       "    </tr>\n",
       "    <tr>\n",
       "      <th>2</th>\n",
       "      <td>박민수</td>\n",
       "      <td>22</td>\n",
       "      <td>78</td>\n",
       "    </tr>\n",
       "    <tr>\n",
       "      <th>3</th>\n",
       "      <td>정수진</td>\n",
       "      <td>31</td>\n",
       "      <td>95</td>\n",
       "    </tr>\n",
       "    <tr>\n",
       "      <th>4</th>\n",
       "      <td>최영호</td>\n",
       "      <td>27</td>\n",
       "      <td>88</td>\n",
       "    </tr>\n",
       "    <tr>\n",
       "      <th>5</th>\n",
       "      <td>한미래</td>\n",
       "      <td>24</td>\n",
       "      <td>73</td>\n",
       "    </tr>\n",
       "    <tr>\n",
       "      <th>6</th>\n",
       "      <td>윤지원</td>\n",
       "      <td>29</td>\n",
       "      <td>91</td>\n",
       "    </tr>\n",
       "  </tbody>\n",
       "</table>\n",
       "</div>"
      ],
      "text/plain": [
       "  Name  나이  점수\n",
       "0  김철수  25  85\n",
       "1  이영희  28  92\n",
       "2  박민수  22  78\n",
       "3  정수진  31  95\n",
       "4  최영호  27  88\n",
       "5  한미래  24  73\n",
       "6  윤지원  29  91"
      ]
     },
     "execution_count": 46,
     "metadata": {},
     "output_type": "execute_result"
    }
   ],
   "source": [
    "df.rename(columns= {'이름': 'Name'})"
   ]
  },
  {
   "cell_type": "code",
   "execution_count": 54,
   "id": "ede55f7e",
   "metadata": {},
   "outputs": [
    {
     "data": {
      "text/html": [
       "<div>\n",
       "<style scoped>\n",
       "    .dataframe tbody tr th:only-of-type {\n",
       "        vertical-align: middle;\n",
       "    }\n",
       "\n",
       "    .dataframe tbody tr th {\n",
       "        vertical-align: top;\n",
       "    }\n",
       "\n",
       "    .dataframe thead th {\n",
       "        text-align: right;\n",
       "    }\n",
       "</style>\n",
       "<table border=\"1\" class=\"dataframe\">\n",
       "  <thead>\n",
       "    <tr style=\"text-align: right;\">\n",
       "      <th></th>\n",
       "      <th>이름</th>\n",
       "      <th>나이</th>\n",
       "      <th>점수</th>\n",
       "    </tr>\n",
       "  </thead>\n",
       "  <tbody>\n",
       "    <tr>\n",
       "      <th>0</th>\n",
       "      <td>김철수</td>\n",
       "      <td>25</td>\n",
       "      <td>85</td>\n",
       "    </tr>\n",
       "    <tr>\n",
       "      <th>1</th>\n",
       "      <td>이영희</td>\n",
       "      <td>28</td>\n",
       "      <td>92</td>\n",
       "    </tr>\n",
       "    <tr>\n",
       "      <th>2</th>\n",
       "      <td>박민수</td>\n",
       "      <td>22</td>\n",
       "      <td>78</td>\n",
       "    </tr>\n",
       "    <tr>\n",
       "      <th>3</th>\n",
       "      <td>정수진</td>\n",
       "      <td>31</td>\n",
       "      <td>95</td>\n",
       "    </tr>\n",
       "    <tr>\n",
       "      <th>4</th>\n",
       "      <td>최영호</td>\n",
       "      <td>27</td>\n",
       "      <td>88</td>\n",
       "    </tr>\n",
       "    <tr>\n",
       "      <th>5</th>\n",
       "      <td>한미래</td>\n",
       "      <td>24</td>\n",
       "      <td>73</td>\n",
       "    </tr>\n",
       "    <tr>\n",
       "      <th>6</th>\n",
       "      <td>윤지원</td>\n",
       "      <td>29</td>\n",
       "      <td>91</td>\n",
       "    </tr>\n",
       "  </tbody>\n",
       "</table>\n",
       "</div>"
      ],
      "text/plain": [
       "    이름  나이  점수\n",
       "0  김철수  25  85\n",
       "1  이영희  28  92\n",
       "2  박민수  22  78\n",
       "3  정수진  31  95\n",
       "4  최영호  27  88\n",
       "5  한미래  24  73\n",
       "6  윤지원  29  91"
      ]
     },
     "execution_count": 54,
     "metadata": {},
     "output_type": "execute_result"
    }
   ],
   "source": [
    "df"
   ]
  },
  {
   "cell_type": "code",
   "execution_count": 47,
   "id": "1dff0331",
   "metadata": {},
   "outputs": [
    {
     "data": {
      "text/plain": [
       "이름    정수진\n",
       "나이     31\n",
       "점수     95\n",
       "Name: 3, dtype: object"
      ]
     },
     "execution_count": 47,
     "metadata": {},
     "output_type": "execute_result"
    }
   ],
   "source": [
    "df.loc[3]"
   ]
  },
  {
   "cell_type": "code",
   "execution_count": 53,
   "id": "8a1bfc17",
   "metadata": {},
   "outputs": [
    {
     "data": {
      "text/html": [
       "<div>\n",
       "<style scoped>\n",
       "    .dataframe tbody tr th:only-of-type {\n",
       "        vertical-align: middle;\n",
       "    }\n",
       "\n",
       "    .dataframe tbody tr th {\n",
       "        vertical-align: top;\n",
       "    }\n",
       "\n",
       "    .dataframe thead th {\n",
       "        text-align: right;\n",
       "    }\n",
       "</style>\n",
       "<table border=\"1\" class=\"dataframe\">\n",
       "  <thead>\n",
       "    <tr style=\"text-align: right;\">\n",
       "      <th></th>\n",
       "      <th>이름</th>\n",
       "      <th>나이</th>\n",
       "      <th>점수</th>\n",
       "    </tr>\n",
       "  </thead>\n",
       "  <tbody>\n",
       "    <tr>\n",
       "      <th>0</th>\n",
       "      <td>김철수</td>\n",
       "      <td>25</td>\n",
       "      <td>85</td>\n",
       "    </tr>\n",
       "    <tr>\n",
       "      <th>1</th>\n",
       "      <td>이영희</td>\n",
       "      <td>28</td>\n",
       "      <td>92</td>\n",
       "    </tr>\n",
       "    <tr>\n",
       "      <th>2</th>\n",
       "      <td>박민수</td>\n",
       "      <td>22</td>\n",
       "      <td>78</td>\n",
       "    </tr>\n",
       "    <tr>\n",
       "      <th>3</th>\n",
       "      <td>정수진</td>\n",
       "      <td>31</td>\n",
       "      <td>95</td>\n",
       "    </tr>\n",
       "    <tr>\n",
       "      <th>4</th>\n",
       "      <td>최영호</td>\n",
       "      <td>27</td>\n",
       "      <td>88</td>\n",
       "    </tr>\n",
       "    <tr>\n",
       "      <th>5</th>\n",
       "      <td>한미래</td>\n",
       "      <td>24</td>\n",
       "      <td>73</td>\n",
       "    </tr>\n",
       "    <tr>\n",
       "      <th>6</th>\n",
       "      <td>윤지원</td>\n",
       "      <td>29</td>\n",
       "      <td>91</td>\n",
       "    </tr>\n",
       "  </tbody>\n",
       "</table>\n",
       "</div>"
      ],
      "text/plain": [
       "    이름  나이  점수\n",
       "0  김철수  25  85\n",
       "1  이영희  28  92\n",
       "2  박민수  22  78\n",
       "3  정수진  31  95\n",
       "4  최영호  27  88\n",
       "5  한미래  24  73\n",
       "6  윤지원  29  91"
      ]
     },
     "execution_count": 53,
     "metadata": {},
     "output_type": "execute_result"
    }
   ],
   "source": [
    "df.loc[:, '이름':'점수']"
   ]
  },
  {
   "cell_type": "code",
   "execution_count": 56,
   "id": "3adace15",
   "metadata": {},
   "outputs": [
    {
     "data": {
      "text/plain": [
       "0    85\n",
       "1    92\n",
       "2    78\n",
       "3    95\n",
       "4    88\n",
       "5    73\n",
       "6    91\n",
       "Name: 점수, dtype: int64"
      ]
     },
     "execution_count": 56,
     "metadata": {},
     "output_type": "execute_result"
    }
   ],
   "source": [
    "df.loc[:,'점수'] # (7,3) shape인데 '점수' column만 부르니까 ERROR"
   ]
  },
  {
   "cell_type": "code",
   "execution_count": null,
   "id": "b86a492f",
   "metadata": {},
   "outputs": [],
   "source": []
  },
  {
   "cell_type": "markdown",
   "id": "ff68ef0f",
   "metadata": {},
   "source": [
    "# melt()"
   ]
  },
  {
   "cell_type": "code",
   "execution_count": 1,
   "id": "48f299b2",
   "metadata": {},
   "outputs": [
    {
     "name": "stdout",
     "output_type": "stream",
     "text": [
      "--- 원본 데이터프레임 ---\n",
      "    학생  수학  영어  과학\n",
      "0  김철수  90  78  82\n",
      "1  이영희  85  95  90\n",
      "2  박지민  92  88  75\n",
      "-------------------------\n",
      "\n",
      "--- melt() 후 변형된 데이터프레임 ---\n",
      "    학생  과목  점수\n",
      "0  김철수  수학  90\n",
      "1  이영희  수학  85\n",
      "2  박지민  수학  92\n",
      "3  김철수  영어  78\n",
      "4  이영희  영어  95\n",
      "5  박지민  영어  88\n",
      "6  김철수  과학  82\n",
      "7  이영희  과학  90\n",
      "8  박지민  과학  75\n",
      "------------------------------\n"
     ]
    }
   ],
   "source": [
    "import pandas as pd\n",
    "\n",
    "# ✏️ 1단계: melt()를 사용할 데이터프레임을 만듭니다.\n",
    "# 학생들의 과목별 점수가 옆으로 나열된 형태의 데이터라고 상상해보세요.\n",
    "data = {\n",
    "    '학생': ['김철수', '이영희', '박지민'],\n",
    "    '수학': [90, 85, 92],\n",
    "    '영어': [78, 95, 88],\n",
    "    '과학': [82, 90, 75]\n",
    "}\n",
    "df = pd.DataFrame(data)\n",
    "\n",
    "print(\"--- 원본 데이터프레임 ---\")\n",
    "print(df)\n",
    "print(\"-\" * 25)\n",
    "\n",
    "# ✏️ 2단계: df.melt() 메서드를 사용하여 데이터를 변형합니다.\n",
    "# '학생' 열은 그대로 유지하고, '수학', '영어', '과학' 열들을 새로운 행으로 내릴 거예요.\n",
    "# id_vars: 'id_vars'는 고정하고 싶은 열(여기서는 '학생')을 지정해요.\n",
    "# var_name: 새롭게 만들어질 '과목' 열의 이름을 지정해요.\n",
    "# value_name: 새롭게 만들어질 '점수' 열의 이름을 지정해요.\n",
    "df_melted = df.melt(id_vars=['학생'], var_name='과목', value_name='점수')\n",
    "\n",
    "print(\"\\n--- melt() 후 변형된 데이터프레임 ---\")\n",
    "print(df_melted)\n",
    "print(\"-\" * 30)\n",
    "\n",
    "# 각 줄이 어떤 역할을 하는지 설명:\n",
    "# import pandas as pd: Pandas 라이브러리를 pd라는 이름으로 불러옵니다.\n",
    "# data = {...}: 딕셔너리 형태로 학생들의 과목별 점수 데이터를 만듭니다.\n",
    "# df = pd.DataFrame(data): 위 딕셔너리를 Pandas 데이터프레임으로 변환합니다.\n",
    "# print(df): 변형 전의 원본 데이터프레임을 출력하여 어떤 모습이었는지 확인합니다.\n",
    "# df_melted = df.melt(...): melt() 메서드를 사용하여 데이터프레임을 변형합니다.\n",
    "#   id_vars=['학생']: '학생' 열은 그대로 두고 싶다고 알려주는 거예요.\n",
    "#   var_name='과목': 새로 만들어질 과목 이름을 담는 열의 이름을 '과목'으로 지정합니다.\n",
    "#   value_name='점수': 새로 만들어질 점수 값을 담는 열의 이름을 '점수'로 지정합니다.\n",
    "# print(df_melted): melt() 후 변형된 데이터프레임을 출력하여 어떻게 바뀌었는지 확인합니다."
   ]
  },
  {
   "cell_type": "code",
   "execution_count": 2,
   "id": "3d84572e",
   "metadata": {},
   "outputs": [
    {
     "name": "stdout",
     "output_type": "stream",
     "text": [
      "--- 원본 데이터프레임 ---\n",
      "    학생  수학  영어  과학\n",
      "0  김철수  90  78  82\n",
      "1  이영희  85  95  90\n",
      "2  박지민  92  88  75\n",
      "-------------------------\n",
      "\n",
      "--- melt() 후 변형된 데이터프레임 ---\n",
      "    학생  과목  value\n",
      "0  김철수  수학     90\n",
      "1  이영희  수학     85\n",
      "2  박지민  수학     92\n",
      "3  김철수  영어     78\n",
      "4  이영희  영어     95\n",
      "5  박지민  영어     88\n",
      "6  김철수  과학     82\n",
      "7  이영희  과학     90\n",
      "8  박지민  과학     75\n",
      "------------------------------\n"
     ]
    }
   ],
   "source": [
    "import pandas as pd\n",
    "\n",
    "# ✏️ 원본 데이터프레임 (다시 한번 상기!)\n",
    "data = {\n",
    "    '학생': ['김철수', '이영희', '박지민'],\n",
    "    '수학': [90, 85, 92],\n",
    "    '영어': [78, 95, 88],\n",
    "    '과학': [82, 90, 75]\n",
    "}\n",
    "df = pd.DataFrame(data)\n",
    "\n",
    "print(\"--- 원본 데이터프레임 ---\")\n",
    "print(df)\n",
    "print(\"-\" * 25)\n",
    "\n",
    "# ✏️ melt() 메서드를 사용하여 데이터를 변형합니다.\n",
    "# id_vars: '학생' 열은 고정합니다.\n",
    "# var_name: 새로운 열 '과목'에는 원래 '수학', '영어', '과학' 같은 과목 이름들이 들어갑니다.\n",
    "# value_name: 새로운 열 '점수'에는 각 과목에 해당하는 실제 점수들이 들어갑니다.\n",
    "df_melted = df.melt(id_vars=['학생'], var_name='과목')\n",
    "\n",
    "print(\"\\n--- melt() 후 변형된 데이터프레임 ---\")\n",
    "print(df_melted)\n",
    "print(\"-\" * 30)\n",
    "\n",
    "# 💡 여기서!\n",
    "# var_name='과목': 새로 생긴 '과목' 열은 '수학', '영어', '과학'이라는 \"변수의 종류\"를 담고 있습니다.\n",
    "# value_name='점수': 새로 생긴 '점수' 열은 90, 85, 92와 같은 \"실제 값\"을 담고 있습니다.\n",
    "\n",
    "# '과목' 열의 값('수학', '영어', '과학')이 '점수' 열의 값(90, 85, 92)과 같지 않죠?\n",
    "# 서로 다른 의미와 역할을 하는 별개의 열인 것을 알 수 있어요!"
   ]
  },
  {
   "cell_type": "code",
   "execution_count": null,
   "id": "4cb3a5e5",
   "metadata": {},
   "outputs": [
    {
     "name": "stdout",
     "output_type": "stream",
     "text": [
      "--- 원본 데이터프레임 ---\n",
      "    학생  수학  영어  과학\n",
      "0  김철수  90  78  82\n",
      "1  이영희  85  95  90\n",
      "2  박지민  92  88  75\n",
      "-------------------------\n",
      "\n",
      "--- melt() 후 변형된 데이터프레임 ---\n",
      "   variable value\n",
      "0        학생   김철수\n",
      "1        학생   이영희\n",
      "2        학생   박지민\n",
      "3        수학    90\n",
      "4        수학    85\n",
      "5        수학    92\n",
      "6        영어    78\n",
      "7        영어    95\n",
      "8        영어    88\n",
      "9        과학    82\n",
      "10       과학    90\n",
      "11       과학    75\n",
      "------------------------------\n"
     ]
    }
   ],
   "source": [
    "import pandas as pd\n",
    "\n",
    "# ✏️ 원본 데이터프레임 (다시 한번 상기!)\n",
    "data = {\n",
    "    '학생': ['김철수', '이영희', '박지민'],\n",
    "    '수학': [90, 85, 92],\n",
    "    '영어': [78, 95, 88],\n",
    "    '과학': [82, 90, 75]\n",
    "}\n",
    "df = pd.DataFrame(data)\n",
    "\n",
    "print(\"--- 원본 데이터프레임 ---\")\n",
    "print(df)\n",
    "print(\"-\" * 25)\n",
    "\n",
    "# ✏️ melt() 메서드를 사용하여 데이터를 변형합니다.\n",
    "# id_vars: '학생' 열은 고정합니다.\n",
    "# var_name: 새로운 열 '과목'에는 원래 '수학', '영어', '과학' 같은 과목 이름들이 들어갑니다.\n",
    "# value_name: 새로운 열 '점수'에는 각 과목에 해당하는 실제 점수들이 들어갑니다.\n",
    "df_melted = df.melt(id_vars=['학생'], var_name='과목')\n",
    "\n",
    "print(\"\\n--- melt() 후 변형된 데이터프레임 ---\")\n",
    "print(df_melted)\n",
    "print(\"-\" * 30)\n",
    "\n",
    "# 💡 여기서!\n",
    "# var_name='과목': 새로 생긴 '과목' 열은 '수학', '영어', '과학'이라는 \"변수의 종류\"를 담고 있습니다.\n",
    "# value_name='점수': 새로 생긴 '점수' 열은 90, 85, 92와 같은 \"실제 값\"을 담고 있습니다.\n",
    "\n",
    "# '과목' 열의 값('수학', '영어', '과학')이 '점수' 열의 값(90, 85, 92)과 같지 않죠?\n",
    "# 서로 다른 의미와 역할을 하는 별개의 열인 것을 알 수 있어요!"
   ]
  },
  {
   "cell_type": "code",
   "execution_count": 5,
   "id": "501a0316",
   "metadata": {},
   "outputs": [
    {
     "name": "stdout",
     "output_type": "stream",
     "text": [
      "--- 원본 데이터프레임 ---\n",
      "    학생  수학  영어  과학\n",
      "0  김철수  90  78  82\n",
      "1  이영희  85  95  90\n",
      "2  박지민  92  88  75\n",
      "-------------------------\n",
      "\n",
      "--- value_vars 지정 후 변형된 데이터프레임 (수학, 영어만 포함) ---\n",
      "    학생  과목  점수\n",
      "0  김철수  수학  90\n",
      "1  이영희  수학  85\n",
      "2  박지민  수학  92\n",
      "3  김철수  영어  78\n",
      "4  이영희  영어  95\n",
      "5  박지민  영어  88\n",
      "------------------------------------------------------------\n"
     ]
    }
   ],
   "source": [
    "import pandas as pd\n",
    "\n",
    "# ✏️ 원본 데이터프레임\n",
    "data = {\n",
    "    '학생': ['김철수', '이영희', '박지민'],\n",
    "    '수학': [90, 85, 92],\n",
    "    '영어': [78, 95, 88],\n",
    "    '과학': [82, 90, 75]\n",
    "}\n",
    "df = pd.DataFrame(data)\n",
    "\n",
    "print(\"--- 원본 데이터프레임 ---\")\n",
    "print(df)\n",
    "print(\"-\" * 25)\n",
    "\n",
    "# ✏️ melt() 메서드를 사용하여 데이터를 변형합니다.\n",
    "# id_vars: '학생' 열은 고정합니다.\n",
    "# value_vars: '수학'과 '영어' 열만 선택하여 melt 합니다. '과학' 열은 제외됩니다.\n",
    "# var_name: 새로운 열 '과목'에는 원래 '수학', '영어' 같은 과목 이름들이 들어갑니다.\n",
    "# value_name: 새로운 열 '점수'에는 각 과목에 해당하는 실제 점수들이 들어갑니다.\n",
    "df_melted_specific = df.melt(id_vars=['학생'], \n",
    "                              value_vars=['수학', '영어'], \n",
    "                              var_name='과목', \n",
    "                              value_name='점수')\n",
    "\n",
    "print(\"\\n--- value_vars 지정 후 변형된 데이터프레임 (수학, 영어만 포함) ---\")\n",
    "print(df_melted_specific)\n",
    "print(\"-\" * 60)\n",
    "\n",
    "# 각 줄이 어떤 역할을 하는지 설명:\n",
    "# import pandas as pd: Pandas 라이브러리를 불러옵니다.\n",
    "# data = {...}: 학생들의 과목별 점수 데이터를 딕셔너리로 만듭니다.\n",
    "# df = pd.DataFrame(data): 딕셔너리를 Pandas 데이터프레임으로 변환합니다.\n",
    "# print(df): 변형 전의 원본 데이터프레임을 출력합니다.\n",
    "# df_melted_specific = df.melt(...): melt() 메서드를 사용하여 데이터프레임을 변형합니다.\n",
    "#   id_vars=['학생']: '학생' 열은 그대로 둡니다.\n",
    "#   value_vars=['수학', '영어']: 이 부분이 핵심! '수학'과 '영어' 열만 melt 대상이 됩니다. '과학'은 제외돼요.\n",
    "#   var_name='과목': 새로 만들어질 과목 이름을 담는 열의 이름을 '과목'으로 지정합니다.\n",
    "#   value_name='점수': 새로 만들어질 점수 값을 담는 열의 이름을 '점수'로 지정합니다.\n",
    "# print(df_melted_specific): melt() 후 변형된 데이터프레임을 출력합니다."
   ]
  },
  {
   "cell_type": "code",
   "execution_count": 6,
   "id": "7f966867",
   "metadata": {},
   "outputs": [
    {
     "name": "stdout",
     "output_type": "stream",
     "text": [
      "--- 원본 데이터프레임 ---\n",
      "    학생   반  수학  영어  과학  국어\n",
      "0  김철수  1반  90  78  82  88\n",
      "1  이영희  2반  85  95  90  80\n",
      "------------------------------\n",
      "\n",
      "--- melt() 모든 인자 적용 후 데이터프레임 ---\n",
      "    학생   반  과목  점수\n",
      "0  김철수  1반  수학  90\n",
      "1  이영희  2반  수학  85\n",
      "2  김철수  1반  영어  78\n",
      "3  이영희  2반  영어  95\n",
      "--------------------------------------------------\n"
     ]
    }
   ],
   "source": [
    "import pandas as pd\n",
    "\n",
    "# ✏️ 원본 데이터프레임 생성\n",
    "data = {\n",
    "    '학생': ['김철수', '이영희'],\n",
    "    '반': ['1반', '2반'],\n",
    "    '수학': [90, 85],\n",
    "    '영어': [78, 95],\n",
    "    '과학': [82, 90],\n",
    "    '국어': [88, 80] # 새로운 과목 추가\n",
    "}\n",
    "df = pd.DataFrame(data)\n",
    "\n",
    "print(\"--- 원본 데이터프레임 ---\")\n",
    "print(df)\n",
    "print(\"-\" * 30)\n",
    "\n",
    "# ✏️ melt() 메서드와 모든 주요 인자 사용 예시\n",
    "# id_vars: '학생'과 '반' 열은 고정 (새로운 데이터프레임에서도 그대로 유지)\n",
    "# value_vars: '수학'과 '영어' 점수만 변형 대상 (과학, 국어는 제외)\n",
    "# var_name: 새로운 '과목' 열의 이름 (수학, 영어 등의 원래 열 이름이 들어갈 곳)\n",
    "# value_name: 새로운 '점수' 열의 이름 (90, 78 등의 실제 점수 값이 들어갈 곳)\n",
    "df_melted_all_params = df.melt(id_vars=['학생', '반'],       # 고정할 열 지정\n",
    "                                value_vars=['수학', '영어'],   # 변형할 값 열 지정\n",
    "                                var_name='과목',             # 원래 열 이름이 모일 새 열의 이름\n",
    "                                value_name='점수')           # 원래 값들이 모일 새 열의 이름\n",
    "\n",
    "print(\"\\n--- melt() 모든 인자 적용 후 데이터프레임 ---\")\n",
    "print(df_melted_all_params)\n",
    "print(\"-\" * 50)\n",
    "\n",
    "# 💡 각 인자의 역할 복습:\n",
    "# df.melt(...): 데이터프레임을 긴 형식으로 변형하는 함수 호출\n",
    "# id_vars=['학생', '반']: '학생'과 '반' 열은 각 행의 고유 ID처럼 그대로 유지됩니다.\n",
    "# value_vars=['수학', '영어']: '수학'과 '영어' 열의 값들만 '점수' 열로 내려오고,\n",
    "#                              '수학', '영어'라는 열 이름은 '과목' 열로 내려옵니다.\n",
    "#                              ('과학', '국어' 열은 변형되지 않고 사라집니다.)\n",
    "# var_name='과목': 새로 생성된 열 중, 원래의 '수학', '영어' 같은 과목 이름들이 들어가는 열의 이름이 '과목'이 됩니다.\n",
    "# value_name='점수': 새로 생성된 열 중, 원래의 90, 78 같은 실제 점수 값들이 들어가는 열의 이름이 '점수'가 됩니다."
   ]
  },
  {
   "cell_type": "markdown",
   "id": "bf4b650a",
   "metadata": {},
   "source": [
    "# concat\n",
    "## join = inner, outer"
   ]
  },
  {
   "cell_type": "code",
   "execution_count": 7,
   "id": "88f880db",
   "metadata": {},
   "outputs": [
    {
     "name": "stdout",
     "output_type": "stream",
     "text": [
      "--- df1 (첫 번째 데이터프레임) ---\n",
      "     이름  점수\n",
      "학생A  철수  90\n",
      "학생B  영희  85\n",
      "학생C  민수  92\n",
      "------------------------------\n",
      "\n",
      "--- df2 (두 번째 데이터프레임) ---\n",
      "     이름  과목\n",
      "학생B  영희  영어\n",
      "학생D  지민  수학\n",
      "학생E  길동  과학\n",
      "------------------------------\n",
      "\n",
      "--- concat() with join='outer' (모든 인덱스 포함) ---\n",
      "     이름    점수   과목\n",
      "학생A  철수  90.0  NaN\n",
      "학생B  영희  85.0  NaN\n",
      "학생C  민수  92.0  NaN\n",
      "학생B  영희   NaN   영어\n",
      "학생D  지민   NaN   수학\n",
      "학생E  길동   NaN   과학\n",
      "--------------------------------------------------\n",
      "\n",
      "--- concat() with join='inner' (공통 인덱스만 포함) ---\n",
      "     이름\n",
      "학생A  철수\n",
      "학생B  영희\n",
      "학생C  민수\n",
      "학생B  영희\n",
      "학생D  지민\n",
      "학생E  길동\n",
      "--------------------------------------------------\n"
     ]
    }
   ],
   "source": [
    "import pandas as pd\n",
    "\n",
    "# ✏️ 첫 번째 데이터프레임 (df1)\n",
    "data1 = {\n",
    "    '이름': ['철수', '영희', '민수'],\n",
    "    '점수': [90, 85, 92]\n",
    "}\n",
    "df1 = pd.DataFrame(data1, index=['학생A', '학생B', '학생C']) # 인덱스 지정\n",
    "print(\"--- df1 (첫 번째 데이터프레임) ---\")\n",
    "print(df1)\n",
    "print(\"-\" * 30)\n",
    "\n",
    "# ✏️ 두 번째 데이터프레임 (df2)\n",
    "# '민수'는 없고 '지민'이 추가되었으며, 인덱스도 다르게 설정\n",
    "data2 = {\n",
    "    '이름': ['영희', '지민', '길동'],\n",
    "    '과목': ['영어', '수학', '과학']\n",
    "}\n",
    "df2 = pd.DataFrame(data2, index=['학생B', '학생D', '학생E']) # 인덱스 지정\n",
    "print(\"\\n--- df2 (두 번째 데이터프레임) ---\")\n",
    "print(df2)\n",
    "print(\"-\" * 30)\n",
    "\n",
    "# ----------------------------------------------------\n",
    "# ✏️ pd.concat() with join='outer' (기본값)\n",
    "# 두 데이터프레임을 위아래로 합칩니다. (axis=0)\n",
    "# join='outer'는 모든 인덱스를 포함합니다.\n",
    "df_outer = pd.concat([df1, df2], join='outer', axis=0) # axis=0은 행 방향으로 합친다는 의미\n",
    "print(\"\\n--- concat() with join='outer' (모든 인덱스 포함) ---\")\n",
    "print(df_outer)\n",
    "print(\"-\" * 50)\n",
    "# 설명: '학생A', '학생C', '학생D', '학생E'는 한쪽에만 있는 인덱스인데도 결과에 포함되었고,\n",
    "#       해당하는 데이터가 없는 곳은 NaN으로 채워진 것을 볼 수 있습니다.\n",
    "\n",
    "# ----------------------------------------------------\n",
    "# ✏️ pd.concat() with join='inner'\n",
    "# 두 데이터프레임을 위아래로 합칩니다. (axis=0)\n",
    "# join='inner'는 공통된 인덱스만 포함합니다.\n",
    "df_inner = pd.concat([df1, df2], join='inner', axis=0) # axis=0은 행 방향으로 합친다는 의미\n",
    "print(\"\\n--- concat() with join='inner' (공통 인덱스만 포함) ---\")\n",
    "print(df_inner)\n",
    "print(\"-\" * 50)\n",
    "# 설명: '학생A', '학생C', '학생D', '학생E'는 한쪽에만 있어서 결과에서 제외되었고,\n",
    "#       오직 '학생B' 인덱스만 두 데이터프레임에 공통으로 존재하므로 '학생B' 행만 남았습니다.\n",
    "#       열(column) 기준으로도 공통된 '이름' 열만 남은 것을 볼 수 있습니다. (점수, 과목 열은 한쪽에만 있어서 제외)\n",
    "\n",
    "# 각 줄이 어떤 역할을 하는지 설명:\n",
    "# import pandas as pd: Pandas 라이브러리를 불러옵니다.\n",
    "# data1, df1: 첫 번째 데이터프레임을 생성합니다. 이때 index를 명시적으로 지정합니다.\n",
    "# data2, df2: 두 번째 데이터프레임을 생성합니다. df1과 다른 인덱스와 열을 가집니다.\n",
    "# print(df1), print(df2): 원본 데이터프레임들을 출력하여 구조를 확인합니다.\n",
    "# pd.concat([df1, df2], join='outer', axis=0): df1과 df2를 행 방향(axis=0)으로 합치는데,\n",
    "#   join='outer' 옵션을 사용하여 두 데이터프레임의 모든 인덱스와 열을 포함합니다.\n",
    "# pd.concat([df1, df2], join='inner', axis=0): df1과 df2를 행 방향(axis=0)으로 합치는데,\n",
    "#   join='inner' 옵션을 사용하여 두 데이터프레임에 공통으로 존재하는 인덱스와 열만 포함합니다."
   ]
  },
  {
   "cell_type": "code",
   "execution_count": null,
   "id": "b7814c67",
   "metadata": {},
   "outputs": [],
   "source": [
    ",2007,2008,2009,2010,2011\n",
    "China,7.71,7.95,11.96,15.84,16.33\n",
    "EU,19.02,17.71,15,16.7,17.48\n",
    "US,10.47,8.45,5.58,7.6,8.4\n",
    "Japan,10.87,10.83,7.55,9.09,7.88\n",
    "Korea,4.04,3.78,3.45,4.2,4.62\n",
    "Mexico,2.01,2.05,1.5,2.25,2.54"
   ]
  },
  {
   "cell_type": "code",
   "execution_count": 3,
   "id": "bd4cd575",
   "metadata": {},
   "outputs": [
    {
     "name": "stdout",
     "output_type": "stream",
     "text": [
      "--- 원본 데이터프레임 (Unnamed: 0 컬럼 포함) ---\n",
      "  Unnamed: 0   2007   2008   2009   2010   2011\n",
      "0      China   7.71   7.95  11.96  15.84  16.33\n",
      "1         EU  19.02  17.71  15.00  16.70  17.48\n",
      "2         US  10.47   8.45   5.58   7.60   8.40\n",
      "3      Japan  10.87  10.83   7.55   9.09   7.88\n",
      "4      Korea   4.04   3.78   3.45   4.20   4.62\n",
      "5     Mexico   2.01   2.05   1.50   2.25   2.54\n",
      "----------------------------------------\n",
      "\n",
      "--- 'Unnamed: 0' 컬럼 이름 변경 후 ('Country'로) ---\n",
      "  Country   2007   2008   2009   2010   2011\n",
      "0   China   7.71   7.95  11.96  15.84  16.33\n",
      "1      EU  19.02  17.71  15.00  16.70  17.48\n",
      "2      US  10.47   8.45   5.58   7.60   8.40\n",
      "3   Japan  10.87  10.83   7.55   9.09   7.88\n",
      "4   Korea   4.04   3.78   3.45   4.20   4.62\n",
      "5  Mexico   2.01   2.05   1.50   2.25   2.54\n",
      "----------------------------------------\n"
     ]
    }
   ],
   "source": [
    "import pandas as pd\n",
    "\n",
    "file_path = 'data.csv'\n",
    "\n",
    "# CSV 파일을 불러옵니다. 이때, 첫 번째 컬럼이 인덱스가 아니라 일반 데이터 컬럼으로 인식되도록\n",
    "# index_col=0 옵션을 주지 않고 불러옵니다. 그러면 'Unnamed: 0' 컬럼이 생성될 거예요.\n",
    "df = pd.read_csv('./data/vehicle_prod.csv')\n",
    "\n",
    "print(\"--- 원본 데이터프레임 (Unnamed: 0 컬럼 포함) ---\")\n",
    "print(df)\n",
    "print(\"-\" * 40) # 구분선 출력\n",
    "\n",
    "# 'Unnamed: 0' 컬럼의 이름을 'Country'로 변경합니다.\n",
    "# columns 매개변수에 딕셔너리 형태로 '이전_이름': '새로운_이름'을 전달합니다.\n",
    "# inplace=True를 사용하여 원본 데이터프레임을 직접 수정합니다.\n",
    "df.rename(columns={'Unnamed: 0': 'Country'}, inplace=True)\n",
    "\n",
    "print(\"\\n--- 'Unnamed: 0' 컬럼 이름 변경 후 ('Country'로) ---\")\n",
    "print(df)\n",
    "print(\"-\" * 40) # 구분선 출력\n",
    "\n",
    "# 만약 'Unnamed: 0' 컬럼이 실제 인덱스였다면,\n",
    "# 다시 Country 컬럼을 인덱스로 설정할 수도 있습니다.\n",
    "# df.set_index('Country', inplace=True)\n",
    "# print(\"\\n--- 'Country' 컬럼을 인덱스로 설정 후 ---\")\n",
    "# print(df)\n",
    "# print(\"-\" * 40)"
   ]
  },
  {
   "cell_type": "code",
   "execution_count": null,
   "id": "9cffcc29",
   "metadata": {},
   "outputs": [],
   "source": []
  },
  {
   "cell_type": "code",
   "execution_count": null,
   "id": "70771b5e",
   "metadata": {},
   "outputs": [],
   "source": []
  },
  {
   "cell_type": "code",
   "execution_count": null,
   "id": "28199294",
   "metadata": {},
   "outputs": [],
   "source": []
  },
  {
   "cell_type": "code",
   "execution_count": 4,
   "id": "bf50d9b9",
   "metadata": {},
   "outputs": [
    {
     "name": "stdout",
     "output_type": "stream",
     "text": [
      "    이름  나이  점수\n",
      "10  지호  26  78\n",
      "9   다은  22  91\n",
      "0   철수  23  85\n",
      "8   서연  24  84\n",
      "5   지훈  21  81\n",
      "2   민수  22  88\n",
      "1   영희  25  90\n",
      "11  은우  23  86\n",
      "4   수진  26  77\n",
      "7   현우  25  89\n"
     ]
    }
   ],
   "source": [
    "import pandas as pd\n",
    "\n",
    "# 예시용 데이터프레임 생성\n",
    "df = pd.DataFrame({\n",
    "    '이름': ['철수', '영희', '민수', '지영', '수진', '지훈', '미나', '현우', '서연', '다은', '지호', '은우'],\n",
    "    '나이': [23, 25, 22, 24, 26, 21, 23, 25, 24, 22, 26, 23],\n",
    "    '점수': [85, 90, 88, 92, 77, 81, 95, 89, 84, 91, 78, 86]\n",
    "})\n",
    "\n",
    "# 샘플링: 10개 랜덤 선택\n",
    "sample_df = df.sample(n=10, random_state=42)\n",
    "\n",
    "# 결과 출력\n",
    "print(sample_df)\n"
   ]
  },
  {
   "cell_type": "code",
   "execution_count": null,
   "id": "6ed84999",
   "metadata": {},
   "outputs": [],
   "source": []
  }
 ],
 "metadata": {
  "kernelspec": {
   "display_name": "hipython",
   "language": "python",
   "name": "python3"
  },
  "language_info": {
   "codemirror_mode": {
    "name": "ipython",
    "version": 3
   },
   "file_extension": ".py",
   "mimetype": "text/x-python",
   "name": "python",
   "nbconvert_exporter": "python",
   "pygments_lexer": "ipython3",
   "version": "3.12.9"
  }
 },
 "nbformat": 4,
 "nbformat_minor": 5
}
