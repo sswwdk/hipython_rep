{
 "cells": [
  {
   "cell_type": "markdown",
   "id": "0d89cc5c",
   "metadata": {},
   "source": [
    "# 도서 정보 객체"
   ]
  },
  {
   "cell_type": "code",
   "execution_count": 7,
   "id": "8f80019c",
   "metadata": {},
   "outputs": [],
   "source": [
    "class Book:\n",
    "    def __init__(self, rank, title, author, price):\n",
    "        self.rank = rank\n",
    "        self.title = title\n",
    "        self.author = author\n",
    "        self.price = price\n",
    "\n",
    "    def __str__(self):\n",
    "        return f\"{self.rank}, {self.title}, {self.author}, {self.price}\"\n",
    "    \n",
    "    def to_dict(self):\n",
    "        return {'rank':self.rank, \n",
    "                'title':self.title, \n",
    "                'author':self.author, \n",
    "                'price':self.price}\n",
    "    \n",
    "    def to_list(self):\n",
    "        return [self.rank, \n",
    "                self.title, \n",
    "                self.author, \n",
    "                self.price]"
   ]
  },
  {
   "cell_type": "markdown",
   "id": "3446b8f3",
   "metadata": {},
   "source": [
    "책 리스트   \n",
    "#yesBestList > li:nth-child(1) > div > div.item_info"
   ]
  },
  {
   "cell_type": "markdown",
   "id": "7ed92730",
   "metadata": {},
   "source": [
    "책이름   \n",
    "#yesBestList > li:nth-child(1) > div > div.item_info > div.info_row.info_name > a.gd_name"
   ]
  },
  {
   "cell_type": "markdown",
   "id": "9e0b1387",
   "metadata": {},
   "source": [
    "작가   \n",
    "#yesBestList > li:nth-child(1) > div > div.item_info > div.info_row.info_pubGrp > span.authPub.info_auth > a"
   ]
  },
  {
   "cell_type": "markdown",
   "id": "3d1d29ff",
   "metadata": {},
   "source": [
    "가격   \n",
    "#yesBestList > li:nth-child(1) > div > div.item_info > div.info_row.info_price > strong > em"
   ]
  },
  {
   "cell_type": "code",
   "execution_count": 15,
   "id": "b4922568",
   "metadata": {},
   "outputs": [
    {
     "data": {
      "text/plain": [
       "24"
      ]
     },
     "execution_count": 15,
     "metadata": {},
     "output_type": "execute_result"
    }
   ],
   "source": [
    "import requests\n",
    "from bs4 import BeautifulSoup\n",
    "url = 'https://www.yes24.com/Product/Category/BestSeller?categoryNumber=001'\n",
    "res = requests.get(url)\n",
    "soup = BeautifulSoup(res.content, 'html.parser')\n",
    "best_list_el = soup.select(\"#yesBestList div.item_info\") # id = \"yesBestList\" 후손 div class =\"item_info\"\n",
    "len(best_list_el) # best_list_el : 책 리스트"
   ]
  },
  {
   "cell_type": "code",
   "execution_count": 62,
   "id": "06b7e7c6",
   "metadata": {},
   "outputs": [
    {
     "name": "stdout",
     "output_type": "stream",
     "text": [
      "1, 다크 심리학, 다크 사이드 프로젝트, 19,710\n",
      "2, 궤도, 서맨사 하비, 15,300\n",
      "3, 먹어 보면 알지 : 호랑수박의 전설, 이지은, 15,300\n",
      "4, 해커스 토익 기출 VOCA (보카), David Cho, 11,610\n",
      "5, 2026 유휘운 행정법총론 요약노트+기출문제 (요.플.), 유휘운, 31,500\n",
      "6, 편안함의 습격, 마이클 이스터, 19,800\n",
      "7, 러닝&마라톤 무작정 따라하기, 김병현, 24,750\n",
      "8, 푸른 사자 와니니 8, 이현, 12,420\n",
      "9, 급류, 정대건, 12,600\n",
      "10, 단 한 번의 삶, 김영하, 15,120\n",
      "11, 글로벌 주식 투자 빅 시프트, 메리츠증권 리서치센터, 29,700\n",
      "12, 2026 써니 행정법총론 기본서, 박준철, 38,700\n",
      "13, 초역 부처의 말, 코이케 류노스케, 16,020\n",
      "14, 고양이 해결사 깜냥 8, 홍민정, 12,600\n",
      "15, 초보자를 단숨에 고수로 만드는 주식투자 핵심 수업, 이정윤, 22,500\n",
      "16, 윈드 브레이커 9~10 세트, 니이 사토루, 10,800\n",
      "17, 새로운 질서, 헨리 A. 키신저, 17,820\n",
      "18, 위버멘쉬, 프리드리히 니체, 16,020\n",
      "19, 너에게 들려주는 꿋꿋한 말, 김종원, 16,200\n",
      "20, 드디어 만나는 해부학 수업, 케빈 랭포드, 17,910\n",
      "21, SQL 자격검정 실전문제, 한국데이터진흥원, 17,460\n",
      "22, 큰별쌤 최태성의 별별한국사 시대별 기출문제집 한국사능력검정시험 심화(1,2,3급), 최태성, 17,730\n",
      "23, 관상진료학, 마창석, 22,500\n",
      "24, 너에게 들려주는 단단한 말, 김종원, 16,200\n"
     ]
    }
   ],
   "source": [
    "book_list = []\n",
    "\n",
    "for i,item in enumerate(best_list_el):\n",
    "    title = item.select_one('div.info_row.info_name > a.gd_name').text\n",
    "    author = item.select_one('div.info_row.info_pubGrp > span.authPub.info_auth > a').text\n",
    "    price = item.select_one('div.info_price > strong > em').text\n",
    "    book_list.append(Book(i+1, title, author, price))\n",
    "\n",
    "# 화면에 출력하기\n",
    "for book in book_list:\n",
    "    print(book)"
   ]
  },
  {
   "cell_type": "code",
   "execution_count": 17,
   "id": "26fed380",
   "metadata": {},
   "outputs": [
    {
     "name": "stdout",
     "output_type": "stream",
     "text": [
      "24\n",
      "1, 혼모노, 성해나, 16,200원\n",
      "2, 류수영의 평생 레시피, 류수영, 22,500원\n",
      "3, 가공범, 히가시노 게이고, 19,800원\n",
      "4, 돌비공포라디오 더 레드, 돌비, 17,820원\n",
      "5, 2025 큰별쌤 최태성의 별별한국사 한국사능력검정시험 심화(1,2,3급) 상, 최태성, 14,850원\n",
      "6, 박곰희 연금 부자 수업, 박곰희, 18,900원\n",
      "7, 2025 큰별쌤 최태성의 별별한국사 기출 500제 한국사능력검정시험 심화(1,2,3급), 최태성, 17,550원\n",
      "8, 단 한 줄만 내 마음에 새긴다고 해도, 나민애, 21,420원\n",
      "9, 2025 큰별쌤 최태성의 별별한국사 한국사능력검정시험 심화(1,2,3급) 하, 최태성, 14,400원\n",
      "10, ETS 토익 정기시험 기출문제집 1000 Vol. 4 RC, ETS, 17,820원\n",
      "11, ETS 토익 정기시험 기출문제집 1000 Vol. 4 LC, ETS, 17,820원\n",
      "12, 료의 생각 없는 생각, 료, 18,000원\n",
      "13, 모순, 양귀자, 11,700원\n",
      "14, 안녕이라 그랬어, 김애란, 15,120원\n",
      "15, 자몽살구클럽, 한로로, 10,800원\n",
      "16, 인생을 바꾸는 최고의 ETF, 잼투리, 22,050원\n",
      "17, 청춘의 독서, 유시민, 17,010원\n",
      "18, 소년이 온다, 한강, 13,500원\n",
      "19, 첫 여름, 완주, 김금희, 15,300원\n",
      "20, 경험의 멸종, 크리스틴 로젠, 17,820원\n",
      "21, 어른의 행복은 조용하다, 태수, 16,020원\n",
      "22, 견우와 선녀 대본집 세트, 양지훈, 41,400원\n",
      "23, 어른의 품격을 채우는 100일 필사 노트, 김종원, 18,000원\n",
      "24, 야구선수 김원중, 김원중, 18,000원\n"
     ]
    }
   ],
   "source": [
    "# 한꺼번에 코드!\n",
    "import requests\n",
    "from bs4 import BeautifulSoup\n",
    "url = 'https://www.yes24.com/Product/Category/BestSeller?categoryNumber=001'\n",
    "bestseller = requests.get(url)\n",
    "soup = BeautifulSoup(bestseller.content, \"html.parser\")\n",
    "best_list_el = soup.select(\"#yesBestList div.item_info\")\n",
    "print(len(best_list_el))\n",
    "\n",
    "# 도서 목록을 저장할 리스트를 선언\n",
    "book_list = []\n",
    "# 각 리스트에 요소를 찾아서 추가(append)\n",
    "for i, item in enumerate(best_list_el):\n",
    "    title = item.select_one(\"div.info_name > a\").text\n",
    "    author = item.select_one(\".info_auth > a\").text\n",
    "    price = item.select_one(\".info_price .txt_num\").text\n",
    "    book_list.append(Book(i+1, title, author, price))\n",
    "    \n",
    "# 화면에 출력하기\n",
    "for book in book_list:\n",
    "    print(book)"
   ]
  },
  {
   "cell_type": "code",
   "execution_count": 18,
   "id": "96796d59",
   "metadata": {},
   "outputs": [],
   "source": [
    "query = '''\n",
    "CREATE TABLE IF NOT EXISTS BOOKS(\n",
    "  RANK INTEGER PRIMARY KEY,\n",
    "  TITLE TEXT,\n",
    "  AUTHOR TEXT,\n",
    "  PRICE INTEGER\n",
    ")\n",
    "'''"
   ]
  },
  {
   "cell_type": "code",
   "execution_count": 19,
   "id": "e3baf6a6",
   "metadata": {},
   "outputs": [],
   "source": [
    "import sqlite3\n",
    "conn = sqlite3.connect('my_database.db')\n",
    "cursor = conn.cursor()\n",
    "cursor.execute(query)\n",
    "conn.commit()\n",
    "conn.close()"
   ]
  },
  {
   "cell_type": "code",
   "execution_count": 20,
   "id": "7ff4b7e9",
   "metadata": {},
   "outputs": [],
   "source": [
    "conn = sqlite3.connect('my_database.db')\n",
    "cursor = conn.cursor()"
   ]
  },
  {
   "cell_type": "code",
   "execution_count": 21,
   "id": "78d46e9e",
   "metadata": {},
   "outputs": [],
   "source": [
    "ins_query = '''\n",
    "INSERT INTO books (rank, title, author, price) VALUES (?,?,?,?)\n",
    "'''\n",
    "\n",
    "for book in book_list:\n",
    "    cursor.execute(ins_query, book.to_list())\n",
    "    \n",
    "conn.commit()\n",
    "conn.close()"
   ]
  },
  {
   "cell_type": "markdown",
   "id": "c69cd301",
   "metadata": {},
   "source": [
    "# db table에서 읽어오기"
   ]
  },
  {
   "cell_type": "code",
   "execution_count": 25,
   "id": "213b37cd",
   "metadata": {},
   "outputs": [],
   "source": [
    "def fetch_book_list_from_db():\n",
    "  conn = sqlite3.connect('my_database.db')\n",
    "  cursor= conn.cursor()\n",
    "  try:\n",
    "    cursor.execute('select * from books')\n",
    "    rows = cursor.fetchall()\n",
    "    return rows\n",
    "  finally:\n",
    "    conn.close()  "
   ]
  },
  {
   "cell_type": "code",
   "execution_count": 26,
   "id": "63d6d360",
   "metadata": {},
   "outputs": [
    {
     "name": "stdout",
     "output_type": "stream",
     "text": [
      "(1, '혼모노', '성해나', '16,200원')\n",
      "(2, '류수영의 평생 레시피', '류수영', '22,500원')\n",
      "(3, '가공범', '히가시노 게이고', '19,800원')\n",
      "(4, '돌비공포라디오 더 레드', '돌비', '17,820원')\n",
      "(5, '2025 큰별쌤 최태성의 별별한국사 한국사능력검정시험 심화(1,2,3급) 상', '최태성', '14,850원')\n",
      "(6, '박곰희 연금 부자 수업', '박곰희', '18,900원')\n",
      "(7, '2025 큰별쌤 최태성의 별별한국사 기출 500제 한국사능력검정시험 심화(1,2,3급)', '최태성', '17,550원')\n",
      "(8, '단 한 줄만 내 마음에 새긴다고 해도', '나민애', '21,420원')\n",
      "(9, '2025 큰별쌤 최태성의 별별한국사 한국사능력검정시험 심화(1,2,3급) 하', '최태성', '14,400원')\n",
      "(10, 'ETS 토익 정기시험 기출문제집 1000 Vol. 4 RC', 'ETS', '17,820원')\n",
      "(11, 'ETS 토익 정기시험 기출문제집 1000 Vol. 4 LC', 'ETS', '17,820원')\n",
      "(12, '료의 생각 없는 생각', '료', '18,000원')\n",
      "(13, '모순', '양귀자', '11,700원')\n",
      "(14, '안녕이라 그랬어', '김애란', '15,120원')\n",
      "(15, '자몽살구클럽', '한로로', '10,800원')\n",
      "(16, '인생을 바꾸는 최고의 ETF', '잼투리', '22,050원')\n",
      "(17, '청춘의 독서', '유시민', '17,010원')\n",
      "(18, '소년이 온다', '한강', '13,500원')\n",
      "(19, '첫 여름, 완주', '김금희', '15,300원')\n",
      "(20, '경험의 멸종', '크리스틴 로젠', '17,820원')\n",
      "(21, '어른의 행복은 조용하다', '태수', '16,020원')\n",
      "(22, '견우와 선녀 대본집 세트', '양지훈', '41,400원')\n",
      "(23, '어른의 품격을 채우는 100일 필사 노트', '김종원', '18,000원')\n",
      "(24, '야구선수 김원중', '김원중', '18,000원')\n"
     ]
    }
   ],
   "source": [
    "books = fetch_book_list_from_db()\n",
    "for book in books:\n",
    "  print(book)"
   ]
  },
  {
   "cell_type": "markdown",
   "id": "9c844241",
   "metadata": {},
   "source": [
    "여러 페이지 가져오기"
   ]
  },
  {
   "cell_type": "markdown",
   "id": "5e682e69",
   "metadata": {},
   "source": [
    "## pageSize=100으로 뽑아보기"
   ]
  },
  {
   "cell_type": "code",
   "execution_count": 50,
   "id": "9bcd03fa",
   "metadata": {},
   "outputs": [],
   "source": [
    "url_2 = 'https://www.yes24.com/Product/Category/BestSeller?categoryNumber=001&pageSize=100'"
   ]
  },
  {
   "cell_type": "code",
   "execution_count": 63,
   "id": "16a7f719",
   "metadata": {},
   "outputs": [
    {
     "data": {
      "text/plain": [
       "100"
      ]
     },
     "execution_count": 63,
     "metadata": {},
     "output_type": "execute_result"
    }
   ],
   "source": [
    "import requests\n",
    "from bs4 import BeautifulSoup\n",
    "res = requests.get(url_2)\n",
    "soup = BeautifulSoup(res.content, 'html.parser')\n",
    "best_list_100 = soup.select(\"#yesBestList div.item_info\") # id = \"yesBestList\" 후손 div class =\"item_info\"\n",
    "len(best_list_100) # best_list_el : 책 리스트"
   ]
  },
  {
   "cell_type": "code",
   "execution_count": 64,
   "id": "d8ad1b27",
   "metadata": {},
   "outputs": [],
   "source": [
    "book_list = []\n",
    "\n",
    "for i,item in enumerate(best_list_100):\n",
    "    title = item.select_one('div.info_row.info_name > a.gd_name').text\n",
    "    author = item.select_one('div.info_row.info_pubGrp > span.authPub.info_auth > a').text\n",
    "    price = item.select_one('div.info_price > strong > em').text\n",
    "    book_list.append(Book(i+1, title, author, price))"
   ]
  },
  {
   "cell_type": "code",
   "execution_count": 10,
   "id": "22f86512",
   "metadata": {},
   "outputs": [],
   "source": [
    "query = '''\n",
    "CREATE TABLE IF NOT EXISTS BOOKS(\n",
    "  RANK INTEGER PRIMARY KEY,\n",
    "  TITLE TEXT,\n",
    "  AUTHOR TEXT,\n",
    "  PRICE INTEGER\n",
    ")\n",
    "'''"
   ]
  },
  {
   "cell_type": "code",
   "execution_count": null,
   "id": "0d94037b",
   "metadata": {},
   "outputs": [
    {
     "data": {
      "text/plain": [
       "<sqlite3.Cursor at 0x1d5116e8fc0>"
      ]
     },
     "execution_count": 66,
     "metadata": {},
     "output_type": "execute_result"
    }
   ],
   "source": [
    "import sqlite3\n",
    "conn = sqlite3.connect('100_database.db')\n",
    "cursor = conn.cursor()\n",
    "cursor.execute(query)\n",
    "ins_query = '''\n",
    "INSERT INTO books (rank, title, author, price) VALUES (?,?,?,?)\n",
    "'''\n",
    "\n",
    "for book in book_list:\n",
    "    cursor.execute(ins_query, book.to_list())\n",
    "    \n",
    "conn.commit()\n",
    "conn.close()"
   ]
  },
  {
   "cell_type": "code",
   "execution_count": 67,
   "id": "32841a07",
   "metadata": {},
   "outputs": [
    {
     "ename": "IntegrityError",
     "evalue": "UNIQUE constraint failed: BOOKS.RANK",
     "output_type": "error",
     "traceback": [
      "\u001b[1;31m---------------------------------------------------------------------------\u001b[0m",
      "\u001b[1;31mIntegrityError\u001b[0m                            Traceback (most recent call last)",
      "Cell \u001b[1;32mIn[67], line 6\u001b[0m\n\u001b[0;32m      1\u001b[0m ins_query \u001b[38;5;241m=\u001b[39m \u001b[38;5;124m'''\u001b[39m\n\u001b[0;32m      2\u001b[0m \u001b[38;5;124mINSERT INTO books (rank, title, author, price) VALUES (?,?,?,?)\u001b[39m\n\u001b[0;32m      3\u001b[0m \u001b[38;5;124m'''\u001b[39m\n\u001b[0;32m      5\u001b[0m \u001b[38;5;28;01mfor\u001b[39;00m book \u001b[38;5;129;01min\u001b[39;00m book_list:\n\u001b[1;32m----> 6\u001b[0m     \u001b[43mcursor\u001b[49m\u001b[38;5;241;43m.\u001b[39;49m\u001b[43mexecute\u001b[49m\u001b[43m(\u001b[49m\u001b[43mins_query\u001b[49m\u001b[43m,\u001b[49m\u001b[43m \u001b[49m\u001b[43mbook\u001b[49m\u001b[38;5;241;43m.\u001b[39;49m\u001b[43mto_list\u001b[49m\u001b[43m(\u001b[49m\u001b[43m)\u001b[49m\u001b[43m)\u001b[49m\n\u001b[0;32m      8\u001b[0m conn\u001b[38;5;241m.\u001b[39mcommit()\n\u001b[0;32m      9\u001b[0m conn\u001b[38;5;241m.\u001b[39mclose()\n",
      "\u001b[1;31mIntegrityError\u001b[0m: UNIQUE constraint failed: BOOKS.RANK"
     ]
    }
   ],
   "source": [
    "ins_query = '''\n",
    "INSERT INTO books (rank, title, author, price) VALUES (?,?,?,?)\n",
    "'''\n",
    "\n",
    "for book in book_list:\n",
    "    cursor.execute(ins_query, book.to_list())\n",
    "    \n",
    "conn.commit()\n",
    "conn.close()"
   ]
  },
  {
   "cell_type": "markdown",
   "id": "ad15c5b6",
   "metadata": {},
   "source": [
    "## 페이지 넘어가면서 뽑아보기\n",
    "\n",
    "https://www.yes24.com/product/category/bestseller?categoryNumber=001&pageSize=24&pageNumber= 숫자 바꿔가면서"
   ]
  },
  {
   "cell_type": "code",
   "execution_count": 12,
   "id": "85e679ce",
   "metadata": {},
   "outputs": [
    {
     "data": {
      "text/plain": [
       "72"
      ]
     },
     "execution_count": 12,
     "metadata": {},
     "output_type": "execute_result"
    }
   ],
   "source": [
    "import requests\n",
    "from bs4 import BeautifulSoup\n",
    "import sqlite3\n",
    "\n",
    "base_url = 'https://www.yes24.com/product/category/bestseller?categoryNumber=001&pageSize=24&pageNumber='\n",
    "page_no = 3 \n",
    "book_list = []\n",
    "\n",
    "for page in range(1, page_no+1):\n",
    "    # 페이지 연결\n",
    "    url = f'{base_url}{page}'\n",
    "    res = requests.get(url)\n",
    "    soup = BeautifulSoup(res.content, 'html.parser')\n",
    "    best_list_el = soup.select(\"#yesBestList div.item_info\") # id = \"yesBestList\" 후손 div class =\"item_info\"\n",
    "    # 요소 추출\n",
    "    for i,item in enumerate(best_list_el):\n",
    "        title = item.select_one('div.info_row.info_name > a.gd_name').text\n",
    "        author = item.select_one('div.info_row.info_pubGrp > span.authPub.info_auth > a').text\n",
    "        price = item.select_one('div.info_price > strong').text\n",
    "        book_list.append(Book(i+1, title, author, price))\n",
    "\n",
    "len(book_list)"
   ]
  },
  {
   "cell_type": "code",
   "execution_count": 11,
   "id": "634682cf",
   "metadata": {},
   "outputs": [
    {
     "ename": "IntegrityError",
     "evalue": "UNIQUE constraint failed: BOOKS.RANK",
     "output_type": "error",
     "traceback": [
      "\u001b[1;31m---------------------------------------------------------------------------\u001b[0m",
      "\u001b[1;31mIntegrityError\u001b[0m                            Traceback (most recent call last)",
      "Cell \u001b[1;32mIn[11], line 10\u001b[0m\n\u001b[0;32m      5\u001b[0m ins_query \u001b[38;5;241m=\u001b[39m \u001b[38;5;124m'''\u001b[39m\n\u001b[0;32m      6\u001b[0m \u001b[38;5;124mINSERT INTO books (rank, title, author, price) VALUES (?,?,?,?)\u001b[39m\n\u001b[0;32m      7\u001b[0m \u001b[38;5;124m'''\u001b[39m\n\u001b[0;32m      9\u001b[0m \u001b[38;5;28;01mfor\u001b[39;00m book \u001b[38;5;129;01min\u001b[39;00m book_list:\n\u001b[1;32m---> 10\u001b[0m     \u001b[43mcursor\u001b[49m\u001b[38;5;241;43m.\u001b[39;49m\u001b[43mexecute\u001b[49m\u001b[43m(\u001b[49m\u001b[43mins_query\u001b[49m\u001b[43m,\u001b[49m\u001b[43m \u001b[49m\u001b[43mbook\u001b[49m\u001b[38;5;241;43m.\u001b[39;49m\u001b[43mto_list\u001b[49m\u001b[43m(\u001b[49m\u001b[43m)\u001b[49m\u001b[43m)\u001b[49m\n\u001b[0;32m     12\u001b[0m conn\u001b[38;5;241m.\u001b[39mcommit()\n\u001b[0;32m     13\u001b[0m conn\u001b[38;5;241m.\u001b[39mclose()\n",
      "\u001b[1;31mIntegrityError\u001b[0m: UNIQUE constraint failed: BOOKS.RANK"
     ]
    }
   ],
   "source": [
    "import sqlite3\n",
    "conn = sqlite3.connect('100_2_database.db')\n",
    "cursor = conn.cursor()\n",
    "cursor.execute(query)\n",
    "ins_query = '''\n",
    "INSERT INTO books (rank, title, author, price) VALUES (?,?,?,?)\n",
    "'''\n",
    "\n",
    "for book in book_list:\n",
    "    cursor.execute(ins_query, book.to_list())\n",
    "    \n",
    "conn.commit()\n",
    "conn.close()"
   ]
  },
  {
   "cell_type": "code",
   "execution_count": 95,
   "id": "23f5a587",
   "metadata": {},
   "outputs": [
    {
     "ename": "PermissionError",
     "evalue": "[WinError 32] 다른 프로세스가 파일을 사용 중이기 때문에 프로세스가 액세스 할 수 없습니다: '100_3_my_database.db'",
     "output_type": "error",
     "traceback": [
      "\u001b[1;31m---------------------------------------------------------------------------\u001b[0m",
      "\u001b[1;31mPermissionError\u001b[0m                           Traceback (most recent call last)",
      "Cell \u001b[1;32mIn[95], line 7\u001b[0m\n\u001b[0;32m      5\u001b[0m \u001b[38;5;66;03m# DB 파일이 존재하면 삭제\u001b[39;00m\n\u001b[0;32m      6\u001b[0m \u001b[38;5;28;01mif\u001b[39;00m os\u001b[38;5;241m.\u001b[39mpath\u001b[38;5;241m.\u001b[39mexists(db_path):\n\u001b[1;32m----> 7\u001b[0m     \u001b[43mos\u001b[49m\u001b[38;5;241;43m.\u001b[39;49m\u001b[43mremove\u001b[49m\u001b[43m(\u001b[49m\u001b[43mdb_path\u001b[49m\u001b[43m)\u001b[49m\n\u001b[0;32m      8\u001b[0m     \u001b[38;5;28mprint\u001b[39m(\u001b[38;5;124mf\u001b[39m\u001b[38;5;124m\"\u001b[39m\u001b[38;5;132;01m{\u001b[39;00mdb_path\u001b[38;5;132;01m}\u001b[39;00m\u001b[38;5;124m 삭제 완료\u001b[39m\u001b[38;5;124m\"\u001b[39m)\n\u001b[0;32m      9\u001b[0m \u001b[38;5;28;01melse\u001b[39;00m:\n",
      "\u001b[1;31mPermissionError\u001b[0m: [WinError 32] 다른 프로세스가 파일을 사용 중이기 때문에 프로세스가 액세스 할 수 없습니다: '100_3_my_database.db'"
     ]
    }
   ],
   "source": [
    "import os\n",
    "\n",
    "db_path = \"100_3_my_database.db\"  # 삭제할 SQLite DB 파일 경로\n",
    "\n",
    "# DB 파일이 존재하면 삭제\n",
    "if os.path.exists(db_path):\n",
    "    os.remove(db_path)\n",
    "    print(f\"{db_path} 삭제 완료\")\n",
    "else:\n",
    "    print(\"DB 파일이 존재하지 않습니다.\")"
   ]
  },
  {
   "cell_type": "code",
   "execution_count": null,
   "id": "59b2258e",
   "metadata": {},
   "outputs": [],
   "source": []
  },
  {
   "cell_type": "markdown",
   "id": "d5c138a8",
   "metadata": {},
   "source": [
    "# mysql에 옮겨넣기"
   ]
  },
  {
   "cell_type": "code",
   "execution_count": 73,
   "id": "cbbcc806",
   "metadata": {},
   "outputs": [],
   "source": [
    "import pymysql\n",
    "\n",
    "# DB 연결\n",
    "con = pymysql.connect(host='localhost', user='root', password='1234', db='my_db', charset='utf8')\n",
    "cursor = con.cursor()\n",
    "\n",
    "# 테이블 생성\n",
    "create_table_sql = ''' \n",
    "CREATE TABLE IF NOT EXISTS BOOKS (\n",
    "    `RANK` INTEGER PRIMARY KEY,\n",
    "    TITLE TEXT,\n",
    "    AUTHOR TEXT, \n",
    "    PRICE INTEGER\n",
    ")\n",
    "'''\n",
    "cursor.execute(create_table_sql)\n",
    "con.commit()"
   ]
  },
  {
   "cell_type": "code",
   "execution_count": 74,
   "id": "45e921a9",
   "metadata": {},
   "outputs": [
    {
     "name": "stdout",
     "output_type": "stream",
     "text": [
      "에러 발생: (1265, \"Data truncated for column 'PRICE' at row 1\")\n"
     ]
    }
   ],
   "source": [
    "import sqlite3\n",
    "\n",
    "# 1. SQLite 연결\n",
    "sqlite_conn = sqlite3.connect('100_database.db')  # SQLite DB 파일 경로\n",
    "sqlite_cursor = sqlite_conn.cursor()\n",
    "\n",
    "# 2. SQLite에서 데이터 읽기\n",
    "sqlite_cursor.execute(\"SELECT RANK, TITLE, AUTHOR, PRICE FROM BOOKS\")\n",
    "rows = sqlite_cursor.fetchall()\n",
    "\n",
    "# 3. MySQL에 데이터 삽입\n",
    "insert_sql = \"INSERT INTO BOOKS (`RANK`, TITLE, AUTHOR, PRICE) VALUES (%s, %s, %s, %s)\"\n",
    "\n",
    "try:\n",
    "    cursor.executemany(insert_sql, rows)\n",
    "    con.commit()\n",
    "    print(f\"{cursor.rowcount}개의 행이 MySQL로 복사되었습니다.\")\n",
    "except Exception as e:\n",
    "    print(\"에러 발생:\", e)\n",
    "    con.rollback()\n",
    "\n",
    "# 4. 연결 종료\n",
    "sqlite_conn.close()\n",
    "cursor.close()\n",
    "con.close()"
   ]
  },
  {
   "cell_type": "code",
   "execution_count": 75,
   "id": "0ff8d8bf",
   "metadata": {},
   "outputs": [
    {
     "name": "stdout",
     "output_type": "stream",
     "text": [
      "100개의 행이 MySQL로 복사되었습니다.\n"
     ]
    }
   ],
   "source": [
    "import sqlite3\n",
    "import pymysql\n",
    "import re\n",
    "\n",
    "# SQLite 연결\n",
    "sqlite_conn = sqlite3.connect('100_database.db')\n",
    "sqlite_cursor = sqlite_conn.cursor()\n",
    "\n",
    "# MySQL 연결\n",
    "mysql_conn = pymysql.connect(\n",
    "    host='localhost',\n",
    "    user='root',\n",
    "    password='1234',\n",
    "    db='my_db',\n",
    "    charset='utf8'\n",
    ")\n",
    "mysql_cursor = mysql_conn.cursor()\n",
    "\n",
    "# SQLite 데이터 가져오기\n",
    "sqlite_cursor.execute(\"SELECT RANK, TITLE, AUTHOR, PRICE FROM BOOKS\")\n",
    "rows = sqlite_cursor.fetchall()\n",
    "\n",
    "# PRICE에서 '원' 제거 및 숫자만 추출\n",
    "def clean_price(price_str):\n",
    "    if not price_str:\n",
    "        return 0\n",
    "    digits = re.sub(r'[^0-9]', '', str(price_str))  # 숫자 이외 문자 제거\n",
    "    return int(digits) if digits else 0\n",
    "\n",
    "cleaned_rows = [(rank, title, author, clean_price(price)) for rank, title, author, price in rows]\n",
    "\n",
    "# MySQL에 삽입\n",
    "insert_sql = \"INSERT INTO BOOKS (`RANK`, TITLE, AUTHOR, PRICE) VALUES (%s, %s, %s, %s)\"\n",
    "mysql_cursor.executemany(insert_sql, cleaned_rows)\n",
    "mysql_conn.commit()\n",
    "\n",
    "print(f\"{mysql_cursor.rowcount}개의 행이 MySQL로 복사되었습니다.\")\n",
    "\n",
    "# 연결 종료\n",
    "sqlite_conn.close()\n",
    "mysql_cursor.close()\n",
    "mysql_conn.close()\n"
   ]
  }
 ],
 "metadata": {
  "kernelspec": {
   "display_name": "webcrawl_env",
   "language": "python",
   "name": "python3"
  },
  "language_info": {
   "codemirror_mode": {
    "name": "ipython",
    "version": 3
   },
   "file_extension": ".py",
   "mimetype": "text/x-python",
   "name": "python",
   "nbconvert_exporter": "python",
   "pygments_lexer": "ipython3",
   "version": "3.10.18"
  }
 },
 "nbformat": 4,
 "nbformat_minor": 5
}
