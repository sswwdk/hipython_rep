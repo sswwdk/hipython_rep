{
 "cells": [
  {
   "cell_type": "code",
   "execution_count": 58,
   "id": "05b60a0c-9b88-43b7-917d-183d5dc9ebd5",
   "metadata": {
    "jp-MarkdownHeadingCollapsed": true
   },
   "outputs": [],
   "source": [
    "#관리프로그램 crud처리\n",
    "#1. 간식박스 생성 create\n",
    "#2. 간식박스 포장 *2 update \n",
    "#3. 간식박스 미리보기(3개만) read\n",
    "#4. 간식삭제 delete\n",
    "#5. 간식찾기 search\n",
    "#6. 간식박스 전체보기 read\n",
    "\n",
    "#7. 간식박스 요약 "
   ]
  },
  {
   "cell_type": "code",
   "execution_count": 59,
   "id": "97587fde-0920-4bd6-bd4e-fafe46cffc61",
   "metadata": {},
   "outputs": [],
   "source": [
    "# 함수 도출 - 기능 세분화, 함수를 정의\n",
    "# 함수 구현\n",
    "# 문제점 - 오류처리, 예외처리"
   ]
  },
  {
   "cell_type": "code",
   "execution_count": 10,
   "id": "aa39cee8-c9b3-47a2-8420-1e6d218168c2",
   "metadata": {},
   "outputs": [],
   "source": [
    "#1. 간식박스 생성 create\n",
    "def make_snack_box():\n",
    "    snack_box = ['초코파이']\n",
    "    new_snack = input(\"먹고 싶은 간식을 추가하세요.\").split(\",\") #단, 쉼표(,)로 연결하세요\n",
    "    snack_box += new_snack\n",
    "    return snack_box"
   ]
  },
  {
   "cell_type": "code",
   "execution_count": 11,
   "id": "5f41ac13-0144-4877-a134-f219ece83e7a",
   "metadata": {},
   "outputs": [],
   "source": [
    "#2. 간식박스 포장*2 update\n",
    "def multiply_snack_box(snack_box):\n",
    "    qty= int(input(\"간식박스 몇 세트로 포장할까요? 예: 2 -> 2box\"))\n",
    "    return snack_box*qty"
   ]
  },
  {
   "cell_type": "code",
   "execution_count": 9,
   "id": "d847c25a-f62e-4ed8-87fc-cc352b5bc2ab",
   "metadata": {},
   "outputs": [],
   "source": [
    "#6. 간식박스 전체보기 read\n",
    "def display_snack_box(snack_box):\n",
    "    print(f\"{snack_box}, 총 {len(snack_box)}개 입니다\")"
   ]
  },
  {
   "cell_type": "code",
   "execution_count": 76,
   "id": "df1b0ca5-f3b5-4326-8f4e-763ae54427f8",
   "metadata": {},
   "outputs": [],
   "source": [
    "#4. 간식삭제 delete\n",
    "def remove_snack_box(snack_box):\n",
    "    #예외처리\n",
    "    if not snack_box:\n",
    "        print('간식박스가 비어 있어요')\n",
    "        return\n",
    "        \n",
    "    display_snack_box(snack_box)\n",
    "    \n",
    "    msg = f'혹시 빼고싶은 간식이 있으면 번호를 입력하세요 (0~{len(snack_box)-1})'\n",
    "    snack_no = int(input(msg))\n",
    "    \n",
    "    #snack_no validation\n",
    "    \n",
    "    del snack_box[snack_no]\n",
    "    return snack_box"
   ]
  },
  {
   "cell_type": "markdown",
   "id": "b83f0b56-e852-4f9e-ac3e-affe51f2f436",
   "metadata": {},
   "source": [
    "# 3. 간식박스 미리보기(3개만) read\n",
    "def preview_snack_box():\n",
    "    preview = ','.join(snack_box[:3])\n",
    "    print(f'선택하신 간식은 {preview} 등 입니다.')"
   ]
  },
  {
   "cell_type": "code",
   "execution_count": 77,
   "id": "dc6b1013-6d84-45a5-9ead-57c4ced8f1a8",
   "metadata": {},
   "outputs": [],
   "source": [
    "#5. 간식찾기 search\n",
    "def search_snack_box(snack_box):\n",
    "    snack_name = input('찾고 싶은 간식을 입력하세요')\n",
    "    print('있어요' if snack_name in snack_box else '없어요')    "
   ]
  },
  {
   "cell_type": "code",
   "execution_count": null,
   "id": "bae88466-24c8-4a06-8c40-76530d2d1468",
   "metadata": {},
   "outputs": [],
   "source": [
    "#7. 간식박스 요약\n",
    "def summarize_snacks(snack_box):\n",
    "    summary = {}\n",
    "    for snack in snack_box:\n",
    "        summary[snack] = summary.get(snack,0)+1\n",
    "\n",
    "    print('간식박스 정리')\n",
    "    for snack, qty in summary.items():\n",
    "        print(f'- {snack} : {qty}개')"
   ]
  },
  {
   "cell_type": "code",
   "execution_count": 86,
   "id": "e9edeb5e-8ee6-474e-a358-e1c2b15f308e",
   "metadata": {},
   "outputs": [
    {
     "name": "stdin",
     "output_type": "stream",
     "text": [
      "먹고 싶은 간식을 추가하세요. 김밥,우동,타코\n"
     ]
    },
    {
     "name": "stdout",
     "output_type": "stream",
     "text": [
      "간식박스가 만들어졌어요\n",
      "['초코파이', '김밥', '우동', '타코'], 총 4개 입니다\n"
     ]
    },
    {
     "name": "stdin",
     "output_type": "stream",
     "text": [
      "간식박스 몇 세트로 포장할까요? 예: 2 -> 2box 2\n"
     ]
    },
    {
     "name": "stdout",
     "output_type": "stream",
     "text": [
      "['초코파이', '김밥', '우동', '타코', '초코파이', '김밥', '우동', '타코'], 총 8개 입니다\n"
     ]
    },
    {
     "name": "stdin",
     "output_type": "stream",
     "text": [
      "찾고 싶은 간식을 입력하세요 우동\n"
     ]
    },
    {
     "name": "stdout",
     "output_type": "stream",
     "text": [
      "있어요\n",
      "['초코파이', '김밥', '우동', '타코', '초코파이', '김밥', '우동', '타코'], 총 8개 입니다\n"
     ]
    },
    {
     "name": "stdin",
     "output_type": "stream",
     "text": [
      "혹시 빼고 싶은 간식이 있으면 번호를 입력하세요 (0~7) 2\n"
     ]
    },
    {
     "name": "stdout",
     "output_type": "stream",
     "text": [
      "['초코파이', '김밥', '타코', '초코파이', '김밥', '우동', '타코'], 총 7개 입니다\n"
     ]
    }
   ],
   "source": [
    "box = make_snack_box()\n",
    "print('간식박스가 만들어졌어요')\n",
    "display_snack_box(box)\n",
    "box = multiply_snack_box(box)\n",
    "# summarize_snacks(box)\n",
    "display_snack_box(box)\n",
    "# preview_snack_box(box)\n",
    "#검색 후 삭제 기능\n",
    "search_snack_box(box)\n",
    "remove_snack_box(box)\n",
    "\n",
    "display_snack_box(box)"
   ]
  },
  {
   "cell_type": "markdown",
   "id": "0151362f-a8e5-4609-bc9f-ab771ae1cc03",
   "metadata": {},
   "source": [
    "# 메뉴 형식 개편"
   ]
  },
  {
   "cell_type": "code",
   "execution_count": null,
   "id": "bea77bd7-8f72-4be0-951f-615479e00cf8",
   "metadata": {},
   "outputs": [],
   "source": [
    "# 선택, 반복"
   ]
  },
  {
   "cell_type": "code",
   "execution_count": 1,
   "id": "41a54a2e-085a-4e3b-abd6-c413bbba16a6",
   "metadata": {},
   "outputs": [],
   "source": [
    "# --공통 유틸리티 함수 (input)\n",
    "\n",
    "def get_valid_text_input(msg):\n",
    "    user_input = input('>>>' + msg).strip()\n",
    "    if not user_input:\n",
    "        print('입력값을 확인하세요')\n",
    "        return None\n",
    "    return user_input\n",
    "\n",
    "#숫자검증\n",
    "def get_valid_number_input(msg, min_no=1, max_no=5):\n",
    "    try:\n",
    "        number = int(input('>>>' + msg).strip())\n",
    "        if number < min_no:\n",
    "            print(f'{min_no} 이상 숫자를 입력하세요.')\n",
    "            return None\n",
    "        elif number > max_no:\n",
    "            print(f'{max_no} 이하 숫자를 입력하세요.')\n",
    "            return None\n",
    "        else:\n",
    "            return number\n",
    "    except ValueError:\n",
    "        print('숫자로 입력하세요.')\n",
    "        return None"
   ]
  },
  {
   "cell_type": "code",
   "execution_count": 2,
   "id": "93ecf3ae-10f5-4cd6-9804-e4ca5245e451",
   "metadata": {},
   "outputs": [],
   "source": [
    "#1. 간식박스 생성 create\n",
    "def make_snack_box():\n",
    "    snack_box = ['초코파이']\n",
    "    make_msg = '먹고 싶은 간식을 추가하세요'\n",
    "    new_snack = get_valid_text_input(make_msg).split(\",\") #단, 쉼표(,)로 연결하세요 # 유틸리티 함수 이용\n",
    "    snack_box += new_snack\n",
    "    return snack_box\n",
    "\n",
    "#2. 간식박스 포장*2 update\n",
    "def multiply_snack_box(snack_box):\n",
    "    mul_msg = '간식박스 몇 세트로 포장할까요? 예: 2 -> 2box'\n",
    "    qty = get_valid_number_input(mul_msg, 2,5) # 유틸리티 함수 이용\n",
    "    return snack_box*qty\n",
    "\n",
    "#3. 간식박스 미리보기(3개만) read\n",
    "def preview_snack_box(snack_box):\n",
    "    preview = ','.join(snack_box[:3])\n",
    "    print(f'선택하신 간식은 {preview} 등 입니다.')\n",
    "\n",
    "#4. 간식삭제 delete\n",
    "def remove_snack_box(snack_box):\n",
    "    #예외처리\n",
    "    if not snack_box:\n",
    "        print('간식박스가 비어있어요')\n",
    "        return\n",
    "        \n",
    "    display_snack_box(snack_box)\n",
    "    \n",
    "    rem_msg = f\"혹시 빼고 싶은 간식이 있으면 번호를 입력하세요 (0~{len(snack_box)-1})\" \n",
    "    snack_cnt = len(snack_box)-1\n",
    "    snack_no = get_valid_number_input(rem_msg, 0, snack_cnt) # 유틸리티 함수 이용\n",
    "    \n",
    "    del snack_box[snack_no]\n",
    "    return snack_box\n",
    "\n",
    "#5. 간식찾기 search\n",
    "def search_snack_box(snack_box):\n",
    "    search_msg = '찾고 싶은 간식을 입력하세요'\n",
    "    snack_name = get_valid_text_input(search_msg)\n",
    "    print('있어요' if snack_name in snack_box else '없어요')    \n",
    "\n",
    "#6. 간식박스 전체보기 read\n",
    "def display_snack_box(snack_box):\n",
    "    print(f\"{snack_box}, 총 {len(snack_box)}개 입니다\")\n",
    "\n",
    "#7. 간식박스 요약\n",
    "def summarize_snacks(snack_box):\n",
    "    summary = {}\n",
    "    for snack in snack_box:\n",
    "        summary[snack] = summary.get(snack,0)+1\n",
    "\n",
    "    print('간식박스 정리')\n",
    "    for snack, qty in summary.items():\n",
    "        print(f'- {snack} : {qty}개')"
   ]
  },
  {
   "cell_type": "code",
   "execution_count": 3,
   "id": "adcbec2e-bf88-4b66-8634-d8a44b5d023d",
   "metadata": {},
   "outputs": [],
   "source": [
    "#서비스의 흐름 - 선택과 반복\n",
    "def run_menu_program():\n",
    "    snack_box = []\n",
    "    while True:\n",
    "        print('간식박스 관리 프로그램 메뉴')\n",
    "        print('1. 간식박스 생성')\n",
    "        print('2. 세트 생성')\n",
    "        print('3. 세트 미리보기')\n",
    "        print('4. 간식 삭제')\n",
    "        print('5. 간식 검색')\n",
    "        print('6. 간식박스 요약')\n",
    "        print('7. 최종 간식박스 확인')\n",
    "\n",
    "        menu_msg = '원하는 메뉴 번호를 입력하세요 : '\n",
    "        choice = str(get_valid_number_input(menu_msg, 1,7)) #get_valid_number_input(menu_msg, 1,7)+ ''\n",
    "        \n",
    "        if choice == '1':\n",
    "            snack_box = make_snack_box()\n",
    "        elif choice == '2':\n",
    "            snack_box = multiply_snack_box(snack_box)\n",
    "        elif choice == '3':\n",
    "            preview_snack_box(snack_box)\n",
    "        elif choice == '4':\n",
    "            remove_snack_box(snack_box)\n",
    "        elif choice == '5':\n",
    "            search_snack_box(snack_box)\n",
    "        elif choice == '6': \n",
    "            summarize_snacks(snack_box)\n",
    "        elif choice == '7':\n",
    "            display_snack_box(snack_box)"
   ]
  },
  {
   "cell_type": "code",
   "execution_count": 5,
   "id": "04f549ea-8fa5-4109-8ccb-f3233d94557c",
   "metadata": {},
   "outputs": [
    {
     "name": "stdout",
     "output_type": "stream",
     "text": [
      "간식박스 관리 프로그램 메뉴\n",
      "1. 간식박스 생성\n",
      "2. 세트 생성\n",
      "3. 세트 미리보기\n",
      "4. 간식 삭제\n",
      "5. 간식 검색\n",
      "6. 간식박스 요약\n",
      "7. 최종 간식박스 확인\n"
     ]
    },
    {
     "name": "stdin",
     "output_type": "stream",
     "text": [
      ">>>원하는 메뉴 번호를 입력하세요 :  1\n",
      ">>>먹고 싶은 간식을 추가하세요 김밥, 우동\n"
     ]
    },
    {
     "name": "stdout",
     "output_type": "stream",
     "text": [
      "간식박스 관리 프로그램 메뉴\n",
      "1. 간식박스 생성\n",
      "2. 세트 생성\n",
      "3. 세트 미리보기\n",
      "4. 간식 삭제\n",
      "5. 간식 검색\n",
      "6. 간식박스 요약\n",
      "7. 최종 간식박스 확인\n"
     ]
    },
    {
     "name": "stdin",
     "output_type": "stream",
     "text": [
      ">>>원하는 메뉴 번호를 입력하세요 :  6\n"
     ]
    },
    {
     "name": "stdout",
     "output_type": "stream",
     "text": [
      "간식박스 정리\n",
      "- 초코파이 : 1개\n",
      "- 김밥 : 1개\n",
      "-  우동 : 1개\n",
      "간식박스 관리 프로그램 메뉴\n",
      "1. 간식박스 생성\n",
      "2. 세트 생성\n",
      "3. 세트 미리보기\n",
      "4. 간식 삭제\n",
      "5. 간식 검색\n",
      "6. 간식박스 요약\n",
      "7. 최종 간식박스 확인\n"
     ]
    },
    {
     "name": "stdin",
     "output_type": "stream",
     "text": [
      ">>>원하는 메뉴 번호를 입력하세요 :  7\n"
     ]
    },
    {
     "name": "stdout",
     "output_type": "stream",
     "text": [
      "['초코파이', '김밥', ' 우동'], 총 3개 입니다\n",
      "간식박스 관리 프로그램 메뉴\n",
      "1. 간식박스 생성\n",
      "2. 세트 생성\n",
      "3. 세트 미리보기\n",
      "4. 간식 삭제\n",
      "5. 간식 검색\n",
      "6. 간식박스 요약\n",
      "7. 최종 간식박스 확인\n"
     ]
    },
    {
     "name": "stdin",
     "output_type": "stream",
     "text": [
      ">>>원하는 메뉴 번호를 입력하세요 :  3\n"
     ]
    },
    {
     "name": "stdout",
     "output_type": "stream",
     "text": [
      "선택하신 간식은 초코파이,김밥, 우동 등 입니다.\n",
      "간식박스 관리 프로그램 메뉴\n",
      "1. 간식박스 생성\n",
      "2. 세트 생성\n",
      "3. 세트 미리보기\n",
      "4. 간식 삭제\n",
      "5. 간식 검색\n",
      "6. 간식박스 요약\n",
      "7. 최종 간식박스 확인\n"
     ]
    },
    {
     "name": "stdin",
     "output_type": "stream",
     "text": [
      ">>>원하는 메뉴 번호를 입력하세요 :  3\n"
     ]
    },
    {
     "name": "stdout",
     "output_type": "stream",
     "text": [
      "선택하신 간식은 초코파이,김밥, 우동 등 입니다.\n",
      "간식박스 관리 프로그램 메뉴\n",
      "1. 간식박스 생성\n",
      "2. 세트 생성\n",
      "3. 세트 미리보기\n",
      "4. 간식 삭제\n",
      "5. 간식 검색\n",
      "6. 간식박스 요약\n",
      "7. 최종 간식박스 확인\n"
     ]
    },
    {
     "name": "stdin",
     "output_type": "stream",
     "text": [
      ">>>원하는 메뉴 번호를 입력하세요 :  2\n",
      ">>>간식박스 몇 세트로 포장할까요? 예: 2 -> 2box 2\n"
     ]
    },
    {
     "name": "stdout",
     "output_type": "stream",
     "text": [
      "간식박스 관리 프로그램 메뉴\n",
      "1. 간식박스 생성\n",
      "2. 세트 생성\n",
      "3. 세트 미리보기\n",
      "4. 간식 삭제\n",
      "5. 간식 검색\n",
      "6. 간식박스 요약\n",
      "7. 최종 간식박스 확인\n"
     ]
    },
    {
     "name": "stdin",
     "output_type": "stream",
     "text": [
      ">>>원하는 메뉴 번호를 입력하세요 :  2\n",
      ">>>간식박스 몇 세트로 포장할까요? 예: 2 -> 2box 66\n"
     ]
    },
    {
     "name": "stdout",
     "output_type": "stream",
     "text": [
      "5 이하 숫자를 입력하세요.\n"
     ]
    },
    {
     "ename": "TypeError",
     "evalue": "can't multiply sequence by non-int of type 'NoneType'",
     "output_type": "error",
     "traceback": [
      "\u001b[31m---------------------------------------------------------------------------\u001b[39m",
      "\u001b[31mTypeError\u001b[39m                                 Traceback (most recent call last)",
      "\u001b[36mCell\u001b[39m\u001b[36m \u001b[39m\u001b[32mIn[5]\u001b[39m\u001b[32m, line 2\u001b[39m\n\u001b[32m      1\u001b[39m \u001b[38;5;66;03m# 시스템 실행\u001b[39;00m\n\u001b[32m----> \u001b[39m\u001b[32m2\u001b[39m run_menu_program()\n",
      "\u001b[36mCell\u001b[39m\u001b[36m \u001b[39m\u001b[32mIn[3]\u001b[39m\u001b[32m, line 20\u001b[39m, in \u001b[36mrun_menu_program\u001b[39m\u001b[34m()\u001b[39m\n\u001b[32m     18\u001b[39m     snack_box = make_snack_box()\n\u001b[32m     19\u001b[39m \u001b[38;5;28;01melif\u001b[39;00m choice == \u001b[33m'\u001b[39m\u001b[33m2\u001b[39m\u001b[33m'\u001b[39m:\n\u001b[32m---> \u001b[39m\u001b[32m20\u001b[39m     snack_box = multiply_snack_box(snack_box)\n\u001b[32m     21\u001b[39m \u001b[38;5;28;01melif\u001b[39;00m choice == \u001b[33m'\u001b[39m\u001b[33m3\u001b[39m\u001b[33m'\u001b[39m:\n\u001b[32m     22\u001b[39m     preview_snack_box(snack_box)\n",
      "\u001b[36mCell\u001b[39m\u001b[36m \u001b[39m\u001b[32mIn[2]\u001b[39m\u001b[32m, line 13\u001b[39m, in \u001b[36mmultiply_snack_box\u001b[39m\u001b[34m(snack_box)\u001b[39m\n\u001b[32m     11\u001b[39m mul_msg = \u001b[33m'\u001b[39m\u001b[33m간식박스 몇 세트로 포장할까요? 예: 2 -> 2box\u001b[39m\u001b[33m'\u001b[39m\n\u001b[32m     12\u001b[39m qty = get_valid_number_input(mul_msg, \u001b[32m2\u001b[39m,\u001b[32m5\u001b[39m) \u001b[38;5;66;03m# 유틸리티 함수 이용\u001b[39;00m\n\u001b[32m---> \u001b[39m\u001b[32m13\u001b[39m \u001b[38;5;28;01mreturn\u001b[39;00m snack_box*qty\n",
      "\u001b[31mTypeError\u001b[39m: can't multiply sequence by non-int of type 'NoneType'"
     ]
    }
   ],
   "source": [
    "# 시스템 실행\n",
    "run_menu_program()"
   ]
  },
  {
   "cell_type": "code",
   "execution_count": null,
   "id": "0ea33a93-f3cb-485c-8abf-80210c474a5a",
   "metadata": {},
   "outputs": [],
   "source": []
  },
  {
   "cell_type": "code",
   "execution_count": null,
   "id": "f73cfbb9-e9ee-4915-9e6a-0c8d94159783",
   "metadata": {},
   "outputs": [],
   "source": []
  },
  {
   "cell_type": "code",
   "execution_count": null,
   "id": "4619f3de-f163-4093-8003-2d2dee04ae3a",
   "metadata": {},
   "outputs": [],
   "source": []
  }
 ],
 "metadata": {
  "kernelspec": {
   "display_name": "Python 3 (ipykernel)",
   "language": "python",
   "name": "python3"
  },
  "language_info": {
   "codemirror_mode": {
    "name": "ipython",
    "version": 3
   },
   "file_extension": ".py",
   "mimetype": "text/x-python",
   "name": "python",
   "nbconvert_exporter": "python",
   "pygments_lexer": "ipython3",
   "version": "3.12.9"
  }
 },
 "nbformat": 4,
 "nbformat_minor": 5
}
