{
 "cells": [
  {
   "cell_type": "markdown",
   "id": "756e248a-590e-40b8-a095-99e1d9e40ffa",
   "metadata": {},
   "source": [
    "# 함수\n",
    "\n",
    "- 인자 = 매개변수, 입력, 파라미터\n",
    "- 반환값 = 리턴값, 결과값\n",
    "- 함수이름\n",
    "\n",
    "- 함수 정의 > 호출"
   ]
  },
  {
   "cell_type": "code",
   "execution_count": 2,
   "id": "77560e70-17e7-4afe-98d8-6695b54bf8b9",
   "metadata": {},
   "outputs": [],
   "source": [
    "#definition\n",
    "def my_func():\n",
    "    print('my first function')\n",
    "    print('hello')\n",
    "    print('good job')"
   ]
  },
  {
   "cell_type": "code",
   "execution_count": 15,
   "id": "a05efb2f-3c54-4938-9257-150607a6bec3",
   "metadata": {},
   "outputs": [
    {
     "name": "stdout",
     "output_type": "stream",
     "text": [
      "my first function\n",
      "hello\n",
      "good job\n"
     ]
    }
   ],
   "source": [
    "#call\n",
    "my_func()"
   ]
  },
  {
   "cell_type": "code",
   "execution_count": 4,
   "id": "00e866b5-c8a9-432c-963a-af6061f012c4",
   "metadata": {},
   "outputs": [
    {
     "data": {
      "text/plain": [
       "function"
      ]
     },
     "execution_count": 4,
     "metadata": {},
     "output_type": "execute_result"
    }
   ],
   "source": [
    "type(my_func)"
   ]
  },
  {
   "cell_type": "code",
   "execution_count": 22,
   "id": "e4456fb4-58fd-499c-8ad0-8761b1127e7c",
   "metadata": {},
   "outputs": [
    {
     "name": "stdout",
     "output_type": "stream",
     "text": [
      "my first function\n",
      "hello\n",
      "good job\n"
     ]
    }
   ],
   "source": [
    "#return 이 없는 경우\n",
    "my_func_var1 = my_func()"
   ]
  },
  {
   "cell_type": "code",
   "execution_count": 24,
   "id": "d9cee9d2-6506-49a8-a506-c7f796374cbe",
   "metadata": {},
   "outputs": [
    {
     "name": "stdout",
     "output_type": "stream",
     "text": [
      "None\n"
     ]
    }
   ],
   "source": [
    "print(my_func_var1)"
   ]
  },
  {
   "cell_type": "code",
   "execution_count": 26,
   "id": "e3423905-f77f-4745-92b9-6cf581dd81cb",
   "metadata": {},
   "outputs": [],
   "source": [
    "#리턴이 있는 경우\n",
    "def my_func1():\n",
    "    print('my first function')\n",
    "    print('hello')\n",
    "    print('good job')\n",
    "    return 'hello'"
   ]
  },
  {
   "cell_type": "code",
   "execution_count": 27,
   "id": "e0034433-3af7-4a1c-ad09-cbd1d425463e",
   "metadata": {},
   "outputs": [
    {
     "name": "stdout",
     "output_type": "stream",
     "text": [
      "my first function\n",
      "hello\n",
      "good job\n"
     ]
    },
    {
     "data": {
      "text/plain": [
       "'hello'"
      ]
     },
     "execution_count": 27,
     "metadata": {},
     "output_type": "execute_result"
    }
   ],
   "source": [
    "my_func1()"
   ]
  },
  {
   "cell_type": "code",
   "execution_count": 28,
   "id": "95428677-db8d-4b73-9c31-a04d0b9ce081",
   "metadata": {},
   "outputs": [
    {
     "name": "stdout",
     "output_type": "stream",
     "text": [
      "my first function\n",
      "hello\n",
      "good job\n"
     ]
    }
   ],
   "source": [
    "my_func_var2 = my_func1()\n"
   ]
  },
  {
   "cell_type": "code",
   "execution_count": 29,
   "id": "1e941086-e2a1-4041-ab72-34791c09ccbb",
   "metadata": {},
   "outputs": [
    {
     "data": {
      "text/plain": [
       "'hello'"
      ]
     },
     "execution_count": 29,
     "metadata": {},
     "output_type": "execute_result"
    }
   ],
   "source": [
    "my_func_var2"
   ]
  },
  {
   "cell_type": "markdown",
   "id": "b7c3b201-2443-4e74-8652-b44f1f7b5c06",
   "metadata": {},
   "source": [
    "# 입력값이 있는 함수"
   ]
  },
  {
   "cell_type": "code",
   "execution_count": 30,
   "id": "ea03c4a1-ad1c-418e-a616-7a90afaf8808",
   "metadata": {},
   "outputs": [],
   "source": [
    "def my_calc(x):\n",
    "    print(f'{x}를 계산합니다.')"
   ]
  },
  {
   "cell_type": "code",
   "execution_count": 31,
   "id": "93a65c15-ec78-45b2-a37f-dc172bc04114",
   "metadata": {},
   "outputs": [
    {
     "name": "stdout",
     "output_type": "stream",
     "text": [
      "10를 계산합니다.\n"
     ]
    }
   ],
   "source": [
    "my_calc(10)"
   ]
  },
  {
   "cell_type": "code",
   "execution_count": 32,
   "id": "596e1101-38de-41c9-839d-abd1aaeb172d",
   "metadata": {},
   "outputs": [],
   "source": [
    "def my_calc1(x):\n",
    "    print(f'{x}를 계산합니다.')\n",
    "    z = x*20\n",
    "    return z"
   ]
  },
  {
   "cell_type": "code",
   "execution_count": 33,
   "id": "1dfd3a2b-297f-41fe-bb21-1f3dd2ae1aed",
   "metadata": {},
   "outputs": [
    {
     "name": "stdout",
     "output_type": "stream",
     "text": [
      "10를 계산합니다.\n",
      "200\n"
     ]
    }
   ],
   "source": [
    "result = my_calc1(10)\n",
    "print(result)"
   ]
  },
  {
   "cell_type": "code",
   "execution_count": 34,
   "id": "88764457-99b7-4b8d-a272-5aca041b625d",
   "metadata": {},
   "outputs": [],
   "source": [
    "def my_calc2(x,y):\n",
    "    print(f'{x}와 {y}를 계산합니다.')\n",
    "    add_result = x+y\n",
    "    mul_result = x*y\n",
    "    return add_result, mul_result"
   ]
  },
  {
   "cell_type": "code",
   "execution_count": 35,
   "id": "3fa8170d-e757-4368-abe8-6719e50dd356",
   "metadata": {},
   "outputs": [
    {
     "name": "stdout",
     "output_type": "stream",
     "text": [
      "10와 20를 계산합니다.\n"
     ]
    },
    {
     "data": {
      "text/plain": [
       "(30, 200)"
      ]
     },
     "execution_count": 35,
     "metadata": {},
     "output_type": "execute_result"
    }
   ],
   "source": [
    "my_calc2(10,20)"
   ]
  },
  {
   "cell_type": "code",
   "execution_count": 36,
   "id": "dca49e17-70bb-435e-9238-c2c632d0c71c",
   "metadata": {},
   "outputs": [
    {
     "name": "stdout",
     "output_type": "stream",
     "text": [
      "10와 20를 계산합니다.\n"
     ]
    },
    {
     "ename": "TypeError",
     "evalue": "'tuple' object does not support item assignment",
     "output_type": "error",
     "traceback": [
      "\u001b[31m---------------------------------------------------------------------------\u001b[39m",
      "\u001b[31mTypeError\u001b[39m                                 Traceback (most recent call last)",
      "\u001b[36mCell\u001b[39m\u001b[36m \u001b[39m\u001b[32mIn[36]\u001b[39m\u001b[32m, line 2\u001b[39m\n\u001b[32m      1\u001b[39m func_result = my_calc2(\u001b[32m10\u001b[39m,\u001b[32m20\u001b[39m)\n\u001b[32m----> \u001b[39m\u001b[32m2\u001b[39m func_result[\u001b[32m0\u001b[39m] = \u001b[32m100\u001b[39m\n",
      "\u001b[31mTypeError\u001b[39m: 'tuple' object does not support item assignment"
     ]
    }
   ],
   "source": [
    "func_result = my_calc2(10,20)\n",
    "func_result[0] = 100"
   ]
  },
  {
   "cell_type": "code",
   "execution_count": 38,
   "id": "3a2b054d-2f57-4ba6-9466-6632615d6adb",
   "metadata": {},
   "outputs": [
    {
     "name": "stdout",
     "output_type": "stream",
     "text": [
      "10와 20를 계산합니다.\n"
     ]
    },
    {
     "data": {
      "text/plain": [
       "30"
      ]
     },
     "execution_count": 38,
     "metadata": {},
     "output_type": "execute_result"
    }
   ],
   "source": [
    "func_result1, f2 = my_calc2(10,20) #unpacking\n",
    "func_result1"
   ]
  },
  {
   "cell_type": "code",
   "execution_count": 39,
   "id": "2fcc26e9-3d5c-4b48-bbc3-b87746e3fb52",
   "metadata": {},
   "outputs": [
    {
     "data": {
      "text/plain": [
       "200"
      ]
     },
     "execution_count": 39,
     "metadata": {},
     "output_type": "execute_result"
    }
   ],
   "source": [
    "f2"
   ]
  },
  {
   "cell_type": "markdown",
   "id": "a004fbcd-435c-471c-94b5-8a3df7b1b3a0",
   "metadata": {},
   "source": [
    "## 입력값의 타입: 수치형 vs. (리스트) 객체형\n",
    "\n",
    "- 수치형 : 값에 의한 전달 call by value\n",
    "- 객체형 : 값(참조)의 전달 call by reference > 같은 객체를 다룬다"
   ]
  },
  {
   "cell_type": "code",
   "execution_count": 41,
   "id": "441c49eb-6d70-4758-b475-310391e38466",
   "metadata": {},
   "outputs": [],
   "source": [
    "#리스트 매개변수의 실행\n",
    "def my_calc3(a, lst1):\n",
    "    a += 1\n",
    "    lst1.append(a)\n",
    "    return a"
   ]
  },
  {
   "cell_type": "code",
   "execution_count": 42,
   "id": "cda9b597-afa0-49a6-bc7a-89af4b184a1d",
   "metadata": {},
   "outputs": [
    {
     "name": "stdout",
     "output_type": "stream",
     "text": [
      "before : 10, [1, 2, '12']\n",
      "after : 10, [1, 2, '12', 11]\n"
     ]
    }
   ],
   "source": [
    "num = 10\n",
    "lst_num =  [1,2,'12'] \n",
    "print(f'before : {num}, {lst_num}')\n",
    "\n",
    "my_calc3(num,lst_num)\n",
    "print(f'after : {num}, {lst_num}')"
   ]
  },
  {
   "cell_type": "code",
   "execution_count": 43,
   "id": "e24f9c22-7141-4347-8b74-088942b08673",
   "metadata": {},
   "outputs": [
    {
     "ename": "TypeError",
     "evalue": "'int' object is not iterable",
     "output_type": "error",
     "traceback": [
      "\u001b[31m---------------------------------------------------------------------------\u001b[39m",
      "\u001b[31mTypeError\u001b[39m                                 Traceback (most recent call last)",
      "\u001b[36mCell\u001b[39m\u001b[36m \u001b[39m\u001b[32mIn[43]\u001b[39m\u001b[32m, line 1\u001b[39m\n\u001b[32m----> \u001b[39m\u001b[32m1\u001b[39m my_calc3(lst_num, num)\n",
      "\u001b[36mCell\u001b[39m\u001b[36m \u001b[39m\u001b[32mIn[41]\u001b[39m\u001b[32m, line 3\u001b[39m, in \u001b[36mmy_calc3\u001b[39m\u001b[34m(a, lst1)\u001b[39m\n\u001b[32m      2\u001b[39m \u001b[38;5;28;01mdef\u001b[39;00m\u001b[38;5;250m \u001b[39m\u001b[34mmy_calc3\u001b[39m(a, lst1):\n\u001b[32m----> \u001b[39m\u001b[32m3\u001b[39m     a += \u001b[32m1\u001b[39m\n\u001b[32m      4\u001b[39m     lst1.append(a)\n\u001b[32m      5\u001b[39m     \u001b[38;5;28;01mreturn\u001b[39;00m a\n",
      "\u001b[31mTypeError\u001b[39m: 'int' object is not iterable"
     ]
    }
   ],
   "source": [
    "my_calc3(lst_num, num)"
   ]
  },
  {
   "cell_type": "code",
   "execution_count": 44,
   "id": "d21924ff-0bdb-4948-9c78-3002a24d9b8b",
   "metadata": {},
   "outputs": [
    {
     "data": {
      "text/plain": [
       "11"
      ]
     },
     "execution_count": 44,
     "metadata": {},
     "output_type": "execute_result"
    }
   ],
   "source": [
    "my_calc3(a=num, lst1=lst_num)"
   ]
  },
  {
   "cell_type": "markdown",
   "id": "7ee8d295-4a70-46c0-8176-46d4b7838447",
   "metadata": {},
   "source": [
    "키워드매개변수 : 함수의 매개변수 목록은 변수명이 매개변수 명이다. .\n",
    "\n",
    "매개변수명을 이용한 호출은 매개변수의 순서와 무관하다."
   ]
  },
  {
   "cell_type": "code",
   "execution_count": 45,
   "id": "bf0e9d85-e04d-4db1-8316-87af7a701a56",
   "metadata": {},
   "outputs": [
    {
     "data": {
      "text/plain": [
       "11"
      ]
     },
     "execution_count": 45,
     "metadata": {},
     "output_type": "execute_result"
    }
   ],
   "source": [
    "my_calc3(lst1=lst_num, a=num, )"
   ]
  },
  {
   "cell_type": "code",
   "execution_count": 51,
   "id": "31442c85-4c67-488e-a5a7-545b5f30eb13",
   "metadata": {},
   "outputs": [
    {
     "name": "stdout",
     "output_type": "stream",
     "text": [
      "hello, , minsu님!\n"
     ]
    }
   ],
   "source": [
    "#기본값, 기본인자\n",
    "def greeting(name, greeting='hello'):\n",
    "    print(f'{greeting}, {name}님!')\n",
    "\n",
    "greeting('minsu', 'hello, ')\n"
   ]
  },
  {
   "cell_type": "code",
   "execution_count": 50,
   "id": "0d795299-4a7d-4900-b01d-eb3f3bdf7715",
   "metadata": {},
   "outputs": [
    {
     "name": "stdout",
     "output_type": "stream",
     "text": [
      "hi, alice님!\n"
     ]
    }
   ],
   "source": [
    "greeting('alice', 'hi')"
   ]
  },
  {
   "cell_type": "code",
   "execution_count": 52,
   "id": "f082a303-85ba-4e5f-a85a-a75cb484e743",
   "metadata": {},
   "outputs": [
    {
     "name": "stdout",
     "output_type": "stream",
     "text": [
      "hello, bob님!\n"
     ]
    }
   ],
   "source": [
    "greeting('bob')"
   ]
  },
  {
   "cell_type": "code",
   "execution_count": 55,
   "id": "4e4326bf-b282-4df2-98fe-d200fbf48204",
   "metadata": {},
   "outputs": [],
   "source": [
    "#가변인자\n",
    "def sum_all( *args ):\n",
    "    return sum(args)\n"
   ]
  },
  {
   "cell_type": "code",
   "execution_count": 54,
   "id": "97cfc7d3-2921-477a-858e-250909ef67f9",
   "metadata": {},
   "outputs": [
    {
     "data": {
      "text/plain": [
       "15"
      ]
     },
     "execution_count": 54,
     "metadata": {},
     "output_type": "execute_result"
    }
   ],
   "source": [
    "sum_all(1,2,3,4,5)"
   ]
  },
  {
   "cell_type": "code",
   "execution_count": 62,
   "id": "996164e1-8552-44e9-93cf-09a026dd046d",
   "metadata": {},
   "outputs": [],
   "source": [
    "#def sum_all( arg1, *args , arg2):\n",
    "def sum_all( arg1, arg2, *args):\n",
    "    print(args)\n",
    "    result = arg1+arg2+sum(args)\n",
    "    return result"
   ]
  },
  {
   "cell_type": "code",
   "execution_count": 63,
   "id": "5c2c83ab-67d2-40b4-b6e9-a50386c7a37e",
   "metadata": {},
   "outputs": [
    {
     "name": "stdout",
     "output_type": "stream",
     "text": [
      "(3, 4, 5)\n"
     ]
    },
    {
     "data": {
      "text/plain": [
       "15"
      ]
     },
     "execution_count": 63,
     "metadata": {},
     "output_type": "execute_result"
    }
   ],
   "source": [
    "sum_all(1,2,3,4,5)"
   ]
  },
  {
   "cell_type": "code",
   "execution_count": null,
   "id": "cf5a64be-8726-4173-a66d-2725404b5c92",
   "metadata": {},
   "outputs": [],
   "source": [
    "# 매개변수의 순서가 중요"
   ]
  },
  {
   "cell_type": "code",
   "execution_count": 64,
   "id": "8506dc65-9aed-46d3-bdb9-ac965ed9d087",
   "metadata": {},
   "outputs": [],
   "source": [
    "## **kargs\n",
    "def print_info(**kwargs):\n",
    "    for k,v in kwargs.items():\n",
    "        print(f'{k}, {v}')"
   ]
  },
  {
   "cell_type": "code",
   "execution_count": 66,
   "id": "66009bc2-c602-46fe-a077-030434bbb3ec",
   "metadata": {},
   "outputs": [
    {
     "name": "stdout",
     "output_type": "stream",
     "text": [
      "name, hong\n",
      "age, 20\n",
      "city, seoul\n",
      "nick_name, bob\n"
     ]
    }
   ],
   "source": [
    "print_info( name='hong', age=20, city = 'seoul', nick_name='bob' )"
   ]
  },
  {
   "cell_type": "code",
   "execution_count": 77,
   "id": "85facd32-ad88-4d8a-abd4-c93aac4d0863",
   "metadata": {},
   "outputs": [
    {
     "data": {
      "text/plain": [
       "3"
      ]
     },
     "execution_count": 77,
     "metadata": {},
     "output_type": "execute_result"
    }
   ],
   "source": [
    "import datetime\n",
    "today = datetime.date(2025,6,5)\n",
    "#type(today)\n",
    "#dir(today)\n",
    "today.weekday()"
   ]
  },
  {
   "cell_type": "markdown",
   "id": "0bbf459a-f320-4f22-9843-b8619463aaa9",
   "metadata": {},
   "source": [
    "# 요일 구하는 함수 정의\n",
    "- 입력 : year, month, day\n",
    "- 출력 : '월요일'\n",
    "- 함수명 : 요일찾기()"
   ]
  },
  {
   "cell_type": "code",
   "execution_count": 69,
   "id": "c9f3e649-af53-47e9-b349-a7431526fb9f",
   "metadata": {},
   "outputs": [],
   "source": [
    "year=2025\n",
    "month=6\n",
    "day=5"
   ]
  },
  {
   "cell_type": "code",
   "execution_count": 74,
   "id": "7852783c-e787-48dc-8d31-bf8c9cef05fb",
   "metadata": {},
   "outputs": [
    {
     "name": "stdout",
     "output_type": "stream",
     "text": [
      "739251\n",
      "739402\n",
      "739407\n",
      "목요일\n"
     ]
    }
   ],
   "source": [
    "# 날짜 - 연,월,일  year=2025 month=06, day=05\n",
    "\n",
    "total_days = 0\n",
    "#년도일수 입력년도-1 * 365\n",
    "#윤년인지 체크\n",
    "#2월이 29일\n",
    "\n",
    "for i in range(1,year):\n",
    "    #윤년: 400으로 나누어 나머지가 0, 4로 나누어 나머지가 0\n",
    "    #평년: 100으로 나누어 나머지가 0\n",
    "\n",
    "    if i%400 == 0:\n",
    "        total_days += 366\n",
    "    elif i%100 == 0:\n",
    "        total_days += 365\n",
    "    elif i%4 == 0:\n",
    "        total_days += 366\n",
    "    else:\n",
    "        total_days += 365\n",
    "\n",
    "print(total_days)\n",
    "#월일수 입력한 월 -1 * 30\n",
    "#월별 일수\n",
    "month_days = [0,31,28,31,30,31,30,31,31,30,31,30,31]\n",
    "for m in range(1,month):\n",
    "    total_days += month_days[m]\n",
    "\n",
    "#올해가 윤년인지\n",
    "if month>=3 :\n",
    "    if year%400 == 0:\n",
    "        total_days += 1\n",
    "    elif year%100 == 0:\n",
    "        total_days += 0\n",
    "    elif year%4 == 0:\n",
    "        total_days += 1\n",
    "    else:\n",
    "        total_days += 0\n",
    "        \n",
    "print(total_days)\n",
    "\n",
    "#일수 입력한 일\n",
    "total_days += day\n",
    "\n",
    "print(total_days)\n",
    "\n",
    "#요일정하기\n",
    "remain_days = total_days % 7\n",
    "\n",
    "if remain_days == 1:\n",
    "    print('월요일')\n",
    "elif remain_days == 2:\n",
    "    print('화요일')\n",
    "elif remain_days == 3:\n",
    "    print('수요일')\n",
    "elif remain_days == 4:\n",
    "    print('목요일')\n",
    "elif remain_days == 5:\n",
    "    print('금요일')\n",
    "elif remain_days == 6:\n",
    "    print('토요일')\n",
    "else:\n",
    "    print('일요일')\n",
    "\n"
   ]
  },
  {
   "cell_type": "code",
   "execution_count": 96,
   "id": "e8f859dd-2118-4b28-aa3b-5c42d36fbb9d",
   "metadata": {},
   "outputs": [],
   "source": [
    "def 윤년체크(year):\n",
    "    #윤년: 400으로 나누어 나머지가 0, 4로 나누어 나머지가 0\n",
    "    #평년: 100으로 나누어 나머지가 0\n",
    "   \n",
    "    if year%400 == 0:\n",
    "        return True\n",
    "    elif year%100 == 0:\n",
    "        return False\n",
    "    elif year%4 == 0:\n",
    "        return True\n",
    "    else:\n",
    "        return False\n"
   ]
  },
  {
   "cell_type": "code",
   "execution_count": 95,
   "id": "94884108-6da8-411c-9167-45dd866f355c",
   "metadata": {},
   "outputs": [
    {
     "data": {
      "text/plain": [
       "True"
      ]
     },
     "execution_count": 95,
     "metadata": {},
     "output_type": "execute_result"
    }
   ],
   "source": [
    "윤년체크(2028)"
   ]
  },
  {
   "cell_type": "code",
   "execution_count": 92,
   "id": "3f2f2968-c1db-43a7-851c-a2926a22a0da",
   "metadata": {},
   "outputs": [],
   "source": [
    "def 요일찾기(year, month, day):\n",
    "    week_day_name = '일요일'\n",
    "    total_days = 0\n",
    "    \n",
    "    for i in range(1,year):\n",
    "\n",
    "        if 윤년체크(i):\n",
    "            total_days += 366\n",
    "        else :\n",
    "            total_days += 365\n",
    "        \n",
    "    #print(total_days)\n",
    "    \n",
    "    #월일수 입력한 월 -1 * 30\n",
    "    #월별 일수\n",
    "    month_days = [0,31,28,31,30,31,30,31,31,30,31,30,31]\n",
    "    for m in range(1,month):\n",
    "        total_days += month_days[m]\n",
    "    \n",
    "    #올해가 윤년인지\n",
    "    if month>=3 :\n",
    "        if 윤년체크(year):\n",
    "            total_days += 1\n",
    "            \n",
    "    #print(total_days)\n",
    "    \n",
    "    #일수 입력한 일\n",
    "    total_days += day\n",
    "    \n",
    "    #print(total_days)\n",
    "    \n",
    "    #요일정하기\n",
    "    remain_days = total_days % 7\n",
    "    \n",
    "    day_names = ['일요일','월요일','화요일','수요일','목요일','금요일','토요일']\n",
    "    week_day_name = day_names[remain_days]\n",
    "    \n",
    "        \n",
    "    return week_day_name"
   ]
  },
  {
   "cell_type": "code",
   "execution_count": 93,
   "id": "b43e9b6a-3fe5-4f64-b110-5d05edd05c89",
   "metadata": {},
   "outputs": [
    {
     "name": "stdout",
     "output_type": "stream",
     "text": [
      "입력하신 날짜는 수요일입니다.\n"
     ]
    }
   ],
   "source": [
    "year=2025\n",
    "month=6\n",
    "day=4\n",
    "\n",
    "day_name = 요일찾기(year, month, day)\n",
    "print(f'입력하신 날짜는 {day_name}입니다.')"
   ]
  },
  {
   "cell_type": "markdown",
   "id": "6af74701-b2b7-4a9c-a30a-f915fd2aab4a",
   "metadata": {},
   "source": [
    "# 성적처리 시스템\n",
    "\n",
    "- calc_total()\n",
    "- calc_average()\n",
    "- calc__order()\n",
    "  \n",
    "- print_student(students) : 전학생의 성적을 출력\n",
    "- print_class() : 반평균, 각 과목별 평균 출력"
   ]
  },
  {
   "cell_type": "code",
   "execution_count": 58,
   "id": "a1fd62bf-c26a-48de-80fe-0903c8c15085",
   "metadata": {},
   "outputs": [],
   "source": [
    "students = [\n",
    "               {'num':'1','name':'김철수','kor':90,'eng':80,'math':85,'total':0,'avg':0.0,'order':0 },\n",
    "               {'num':'2','name':'박제동','kor':90,'eng':85,'math':90,'total':0,'avg':0.0,'order':0 },\n",
    "               {'num':'3','name':'홍길동','kor':80,'eng':80,'math':80,'total':0,'avg':0.0,'order':0 }\n",
    "           ]"
   ]
  },
  {
   "cell_type": "code",
   "execution_count": 59,
   "id": "de256fe0-b69e-4315-a89b-986a8b52d56e",
   "metadata": {},
   "outputs": [],
   "source": [
    "def calc_total(stus) :\n",
    "    for s in stus:\n",
    "        s['total'] = s['kor'] +  s['eng'] +  s['math'] "
   ]
  },
  {
   "cell_type": "code",
   "execution_count": 60,
   "id": "a32cbdde-30e8-4de8-b2cc-9afcd76c08bd",
   "metadata": {},
   "outputs": [],
   "source": [
    "def calc_average(stus):\n",
    "    for s in stus:\n",
    "        s['avg'] = (s['kor'] +  s['eng'] +  s['math'])/3 "
   ]
  },
  {
   "cell_type": "code",
   "execution_count": 61,
   "id": "75adc3fe-4d4c-42b4-8e02-709b6c6dbf4c",
   "metadata": {},
   "outputs": [],
   "source": [
    "def calc_order(stus):\n",
    "    \n",
    "    for student in stus :  #students[0] 자료를 꺼낸 것이 student\n",
    "        rank = 1\n",
    "        for other in stus :\n",
    "            if other['total'] > student['total'] :\n",
    "                rank += 1\n",
    "        student['order'] = rank\n",
    "        #print(student['name'], student['order'])"
   ]
  },
  {
   "cell_type": "code",
   "execution_count": 62,
   "id": "9286f256-0425-406c-badb-61bdf0bb1c25",
   "metadata": {},
   "outputs": [],
   "source": [
    "def print_student(stus):\n",
    "    for s in stus:\n",
    "        print(f'이름: {s['name']} 국어: {s['kor']} 영어: {s['eng']} 수학: {s['math']} 등수: { s['order']}')"
   ]
  },
  {
   "cell_type": "code",
   "execution_count": 68,
   "id": "ea11c033-1aef-4249-9aa6-695d61d6072b",
   "metadata": {},
   "outputs": [],
   "source": [
    "def print_class(stus):\n",
    "    #반평균\n",
    "    class_avg =0\n",
    "    count = len(stus)\n",
    "    \n",
    "    class_avg = sum(student['total'] for student in stus) / count /3\n",
    "    \n",
    "    kor_avg =sum(student['kor'] for student in stus)/count\n",
    "    eng_avg = sum(student['eng'] for student in stus)/count\n",
    "    math_avg = sum(student['math'] for student in stus)/count\n",
    "    #각 과목별 평균 출력\n",
    "    print(f'반평균: {class_avg} 국어: {kor_avg} 영어: {eng_avg} 수학: {math_avg}')"
   ]
  },
  {
   "cell_type": "code",
   "execution_count": null,
   "id": "d3170c44-c363-4b35-9022-0c110595fb3d",
   "metadata": {},
   "outputs": [],
   "source": []
  },
  {
   "cell_type": "code",
   "execution_count": 69,
   "id": "8b486346-3e80-44b0-9493-8a4e9d56718d",
   "metadata": {},
   "outputs": [
    {
     "name": "stdout",
     "output_type": "stream",
     "text": [
      "반평균: 84.44444444444444 국어: 86.66666666666667 영어: 81.66666666666667 수학: 85.0\n"
     ]
    }
   ],
   "source": [
    "print_class(students)"
   ]
  },
  {
   "cell_type": "code",
   "execution_count": 70,
   "id": "5178e5ec-9ff4-41cc-bb9a-357e75c5ea49",
   "metadata": {},
   "outputs": [
    {
     "name": "stdout",
     "output_type": "stream",
     "text": [
      "이름: 김철수 국어: 90 영어: 80 수학: 85 등수: 2\n",
      "이름: 박제동 국어: 90 영어: 85 수학: 90 등수: 1\n",
      "이름: 홍길동 국어: 80 영어: 80 수학: 80 등수: 3\n",
      "반평균: 84.44444444444444 국어: 86.66666666666667 영어: 81.66666666666667 수학: 85.0\n"
     ]
    }
   ],
   "source": [
    "calc_total(students)\n",
    "calc_average(students)\n",
    "calc_order(students)\n",
    "print_student(students)\n",
    "print_class(students)"
   ]
  },
  {
   "cell_type": "code",
   "execution_count": null,
   "id": "fc69286b-0abe-4c5f-8565-0ef71a4b2181",
   "metadata": {},
   "outputs": [],
   "source": []
  }
 ],
 "metadata": {
  "kernelspec": {
   "display_name": "Python 3 (ipykernel)",
   "language": "python",
   "name": "python3"
  },
  "language_info": {
   "codemirror_mode": {
    "name": "ipython",
    "version": 3
   },
   "file_extension": ".py",
   "mimetype": "text/x-python",
   "name": "python",
   "nbconvert_exporter": "python",
   "pygments_lexer": "ipython3",
   "version": "3.12.9"
  }
 },
 "nbformat": 4,
 "nbformat_minor": 5
}
