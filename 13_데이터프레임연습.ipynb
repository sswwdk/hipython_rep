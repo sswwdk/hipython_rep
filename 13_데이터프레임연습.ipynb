{
 "cells": [
  {
   "cell_type": "markdown",
   "id": "ef671097",
   "metadata": {},
   "source": [
    "data/gapminder.tsv 를 읽어 데이터 프레임 만들기"
   ]
  },
  {
   "cell_type": "code",
   "execution_count": null,
   "id": "685f91a7",
   "metadata": {},
   "outputs": [],
   "source": []
  },
  {
   "cell_type": "markdown",
   "id": "542f6407",
   "metadata": {},
   "source": [
    "미리보기"
   ]
  },
  {
   "cell_type": "code",
   "execution_count": null,
   "id": "28635ccc",
   "metadata": {},
   "outputs": [],
   "source": []
  },
  {
   "cell_type": "markdown",
   "id": "5699034e",
   "metadata": {
    "vscode": {
     "languageId": "plaintext"
    }
   },
   "source": [
    "#country 열 추출하기"
   ]
  },
  {
   "cell_type": "code",
   "execution_count": null,
   "id": "71d88dde",
   "metadata": {},
   "outputs": [],
   "source": []
  },
  {
   "cell_type": "markdown",
   "id": "ac495b0d",
   "metadata": {},
   "source": [
    "#'country', 'continent', 'year' 열 추출하기"
   ]
  },
  {
   "cell_type": "code",
   "execution_count": null,
   "id": "887382d1",
   "metadata": {},
   "outputs": [],
   "source": []
  },
  {
   "cell_type": "markdown",
   "id": "04bbb2ec",
   "metadata": {},
   "source": [
    "# [0], [99] , [-1] 행을 각각 추출하기"
   ]
  },
  {
   "cell_type": "code",
   "execution_count": null,
   "id": "bf3d74e9",
   "metadata": {},
   "outputs": [],
   "source": []
  },
  {
   "cell_type": "markdown",
   "id": "d6a44b0d",
   "metadata": {},
   "source": []
  }
 ],
 "metadata": {
  "language_info": {
   "name": "python"
  }
 },
 "nbformat": 4,
 "nbformat_minor": 5
}
