{
 "cells": [
  {
   "cell_type": "markdown",
   "id": "c421a7ba-61e7-4f41-a850-5c60abfe2bb7",
   "metadata": {},
   "source": [
    "# 반복문 : for , while"
   ]
  },
  {
   "cell_type": "markdown",
   "id": "897dd40f-c82a-4084-abba-e164c67c0530",
   "metadata": {},
   "source": [
    "# for 문    \n",
    "\n",
    "for 변수 in 반복자:   \n",
    "반복자에는 리스트, 문자열, 튜플, 딕셔너리, 세트(집합)"
   ]
  },
  {
   "cell_type": "code",
   "execution_count": 2,
   "id": "8d1df78e-d576-4c2f-aff7-0a9684971376",
   "metadata": {},
   "outputs": [
    {
     "name": "stdout",
     "output_type": "stream",
     "text": [
      "0\n",
      "1\n",
      "2\n",
      "3\n",
      "4\n"
     ]
    }
   ],
   "source": [
    "data = [0, 1, 2, 3, 4]\n",
    "\n",
    "for var in data : \n",
    "    print(var)"
   ]
  },
  {
   "cell_type": "code",
   "execution_count": 3,
   "id": "0beef23e-f638-45b1-9ede-7b173e504017",
   "metadata": {},
   "outputs": [
    {
     "data": {
      "text/plain": [
       "range(1, 10)"
      ]
     },
     "execution_count": 3,
     "metadata": {},
     "output_type": "execute_result"
    }
   ],
   "source": [
    "range(1,10)"
   ]
  },
  {
   "cell_type": "code",
   "execution_count": 4,
   "id": "885038b6-bb51-4596-af46-850b589b6e56",
   "metadata": {},
   "outputs": [
    {
     "name": "stdout",
     "output_type": "stream",
     "text": [
      "1\n",
      "2\n",
      "3\n",
      "4\n",
      "5\n",
      "6\n",
      "7\n",
      "8\n",
      "9\n"
     ]
    }
   ],
   "source": [
    "for x in range(1,10):\n",
    "    print(x)"
   ]
  },
  {
   "cell_type": "code",
   "execution_count": 5,
   "id": "82850952-08f8-4238-9c58-594e936eed3b",
   "metadata": {},
   "outputs": [],
   "source": [
    "#tuple, dictionary, str"
   ]
  },
  {
   "cell_type": "code",
   "execution_count": 6,
   "id": "d1051e61-af2c-484c-8396-0bca5ca10290",
   "metadata": {},
   "outputs": [
    {
     "name": "stdout",
     "output_type": "stream",
     "text": [
      "1\n",
      "3\n",
      "5\n",
      "7\n"
     ]
    }
   ],
   "source": [
    "immu = (1, 3, 5, 7)\n",
    "for i in immu:\n",
    "    print(i)"
   ]
  },
  {
   "cell_type": "code",
   "execution_count": 9,
   "id": "145dabfd-c0e7-4923-9874-884c90899331",
   "metadata": {},
   "outputs": [
    {
     "name": "stdout",
     "output_type": "stream",
     "text": [
      "name\n",
      "age\n",
      "major\n"
     ]
    }
   ],
   "source": [
    "stu = {\"name\": \"Kavin\", \"age\" : 24, \"major\": \"math\"}\n",
    "for x in stu:\n",
    "    print(x)"
   ]
  },
  {
   "cell_type": "code",
   "execution_count": 12,
   "id": "a7e870f9-f90f-41f8-b26b-fa01e7475999",
   "metadata": {},
   "outputs": [
    {
     "name": "stdout",
     "output_type": "stream",
     "text": [
      "k\n",
      "a\n",
      "l\n",
      "v\n",
      "i\n",
      "n\n"
     ]
    }
   ],
   "source": [
    "ssttr = \"kalvin\"\n",
    "for a in ssttr:\n",
    "\n",
    "    print(a)"
   ]
  },
  {
   "cell_type": "code",
   "execution_count": null,
   "id": "f62fed51-3c90-4781-8caf-dfafe397dc91",
   "metadata": {},
   "outputs": [],
   "source": []
  },
  {
   "cell_type": "code",
   "execution_count": null,
   "id": "da1a205c-3396-4e28-b64e-1f1bccb5f54a",
   "metadata": {},
   "outputs": [],
   "source": []
  },
  {
   "cell_type": "code",
   "execution_count": 17,
   "id": "556a5a98-68e4-4844-a4ba-8258d0c5a147",
   "metadata": {},
   "outputs": [
    {
     "data": {
      "text/plain": [
       "range"
      ]
     },
     "execution_count": 17,
     "metadata": {},
     "output_type": "execute_result"
    }
   ],
   "source": [
    "ran = range(1,10)\n",
    "type(ran)"
   ]
  },
  {
   "cell_type": "code",
   "execution_count": 18,
   "id": "5ceca99b-bcc6-4adf-818d-1e47d0bab3cf",
   "metadata": {},
   "outputs": [
    {
     "data": {
      "text/plain": [
       "[1, 2, 3, 4, 5, 6, 7, 8, 9]"
      ]
     },
     "execution_count": 18,
     "metadata": {},
     "output_type": "execute_result"
    }
   ],
   "source": [
    "list(ran)"
   ]
  },
  {
   "cell_type": "code",
   "execution_count": 20,
   "id": "48c67b93-8796-4eaa-a2f1-ba38179519fe",
   "metadata": {},
   "outputs": [
    {
     "data": {
      "text/plain": [
       "(range, list)"
      ]
     },
     "execution_count": 20,
     "metadata": {},
     "output_type": "execute_result"
    }
   ],
   "source": [
    "type(ran), type(list(ran))"
   ]
  },
  {
   "cell_type": "markdown",
   "id": "cf84c12b-9e08-46d2-89c8-699d2e393664",
   "metadata": {},
   "source": [
    "# range(1,10,2)\n",
    "    start, stop, step=1(defalt값)"
   ]
  },
  {
   "cell_type": "code",
   "execution_count": 22,
   "id": "63efef48-5ea7-4776-b0dc-9c1acf747569",
   "metadata": {},
   "outputs": [
    {
     "data": {
      "text/plain": [
       "[0, 2, 4, 6, 8]"
      ]
     },
     "execution_count": 22,
     "metadata": {},
     "output_type": "execute_result"
    }
   ],
   "source": [
    "list(range(0,10,2))"
   ]
  },
  {
   "cell_type": "code",
   "execution_count": 28,
   "id": "4f08bc95-c0be-4bb4-bf3a-557960424e78",
   "metadata": {},
   "outputs": [
    {
     "name": "stdout",
     "output_type": "stream",
     "text": [
      "5050\n"
     ]
    }
   ],
   "source": [
    "#1 ~ 100 합 구하기\n",
    "\n",
    "sum1 = 0\n",
    "\n",
    "for i in range(1,101):\n",
    "    sum1 +=i\n",
    "print(sum1)"
   ]
  },
  {
   "cell_type": "code",
   "execution_count": 38,
   "id": "d4460bd1-f5e1-46ff-9cba-fc926ea66988",
   "metadata": {},
   "outputs": [
    {
     "data": {
      "text/plain": [
       "1683"
      ]
     },
     "execution_count": 38,
     "metadata": {},
     "output_type": "execute_result"
    }
   ],
   "source": [
    "#3의 배수의 합(0~100)\n",
    "\n",
    "sum2 = 0\n",
    "\n",
    "for i in range(0,101,3): # range(3,101,3)\n",
    "    sum2 += i\n",
    "\n",
    "sum2"
   ]
  },
  {
   "cell_type": "code",
   "execution_count": 34,
   "id": "6d4a7477-2635-44cd-94e7-ec72839f0e85",
   "metadata": {},
   "outputs": [
    {
     "data": {
      "text/plain": [
       "1683"
      ]
     },
     "execution_count": 34,
     "metadata": {},
     "output_type": "execute_result"
    }
   ],
   "source": [
    "#3의 배수의 합(0~100)\n",
    "\n",
    "sum2 = 0 \n",
    "\n",
    "for i in range(0,101):\n",
    "    if (i%3) == 0:\n",
    "        sum2 +=i\n",
    "\n",
    "sum2"
   ]
  },
  {
   "cell_type": "code",
   "execution_count": 39,
   "id": "1f821d34-3167-4c69-a1af-5ff10ed6002c",
   "metadata": {},
   "outputs": [
    {
     "name": "stdout",
     "output_type": "stream",
     "text": [
      "a\n",
      "b\n",
      "c\n"
     ]
    }
   ],
   "source": [
    "char_list =[ 'a', 'b', 'c']\n",
    "for x in char_list:\n",
    "    print(x)"
   ]
  },
  {
   "cell_type": "code",
   "execution_count": 40,
   "id": "1c824037-10b7-410d-9299-bc8629bd5fde",
   "metadata": {},
   "outputs": [
    {
     "name": "stdout",
     "output_type": "stream",
     "text": [
      "0 a\n",
      "1 b\n",
      "2 c\n"
     ]
    }
   ],
   "source": [
    "#인덱스를 같이 꺼낼 때  #enumerate\n",
    "for i,v in enumerate(char_list):\n",
    "    print(i,v)"
   ]
  },
  {
   "cell_type": "code",
   "execution_count": 47,
   "id": "480fe508-8276-4dfd-aac7-6c960b889cf3",
   "metadata": {},
   "outputs": [
    {
     "data": {
      "text/plain": [
       "(<zip at 0x143f3ea4900>, list)"
      ]
     },
     "execution_count": 47,
     "metadata": {},
     "output_type": "execute_result"
    }
   ],
   "source": [
    "# 리스트 2개 딕셔너리로 만들기 ------------------!!!----------------------\n",
    "char_list2 = ['hello', 'hi', 'bye']\n",
    "zip(char_list, char_list2) "
   ]
  },
  {
   "cell_type": "code",
   "execution_count": 48,
   "id": "83ba5044-a252-44bc-8561-f0eb309b1a6e",
   "metadata": {},
   "outputs": [
    {
     "name": "stdout",
     "output_type": "stream",
     "text": [
      "('a', 'hello')\n",
      "('b', 'hi')\n",
      "('c', 'bye')\n"
     ]
    },
    {
     "data": {
      "text/plain": [
       "tuple"
      ]
     },
     "execution_count": 48,
     "metadata": {},
     "output_type": "execute_result"
    }
   ],
   "source": [
    "for item in zip(char_list, char_list2):\n",
    "    print(item)\n",
    "type(item)"
   ]
  },
  {
   "cell_type": "code",
   "execution_count": 56,
   "id": "5f9caa22-7cbd-4ecd-90f8-5b5a1d72ad43",
   "metadata": {},
   "outputs": [
    {
     "name": "stdout",
     "output_type": "stream",
     "text": [
      "2 * 1 = 2\n",
      "2 * 2 = 4\n",
      "2 * 3 = 6\n",
      "2 * 4 = 8\n",
      "2 * 5 = 10\n",
      "2 * 6 = 12\n",
      "2 * 7 = 14\n",
      "2 * 8 = 16\n",
      "2 * 9 = 18\n"
     ]
    }
   ],
   "source": [
    "# 구구단\n",
    "for i in range(1,10):\n",
    "    result = i * 2\n",
    "    print(f'2 * {i} = {result}') "
   ]
  },
  {
   "cell_type": "code",
   "execution_count": 70,
   "id": "332d22b7-c2c2-470c-b43c-27aed3d586ed",
   "metadata": {
    "collapsed": true,
    "jupyter": {
     "outputs_hidden": true
    }
   },
   "outputs": [
    {
     "name": "stdout",
     "output_type": "stream",
     "text": [
      "1단 입니다\n",
      "1 * 1 = 1\n",
      "1 * 2 = 2\n",
      "1 * 3 = 3\n",
      "1 * 4 = 4\n",
      "1 * 5 = 5\n",
      "1 * 6 = 6\n",
      "1 * 7 = 7\n",
      "1 * 8 = 8\n",
      "1 * 9 = 9\n",
      "2단 입니다\n",
      "2 * 1 = 2\n",
      "2 * 2 = 4\n",
      "2 * 3 = 6\n",
      "2 * 4 = 8\n",
      "2 * 5 = 10\n",
      "2 * 6 = 12\n",
      "2 * 7 = 14\n",
      "2 * 8 = 16\n",
      "2 * 9 = 18\n",
      "3단 입니다\n",
      "3 * 1 = 3\n",
      "3 * 2 = 6\n",
      "3 * 3 = 9\n",
      "3 * 4 = 12\n",
      "3 * 5 = 15\n",
      "3 * 6 = 18\n",
      "3 * 7 = 21\n",
      "3 * 8 = 24\n",
      "3 * 9 = 27\n",
      "4단 입니다\n",
      "4 * 1 = 4\n",
      "4 * 2 = 8\n",
      "4 * 3 = 12\n",
      "4 * 4 = 16\n",
      "4 * 5 = 20\n",
      "4 * 6 = 24\n",
      "4 * 7 = 28\n",
      "4 * 8 = 32\n",
      "4 * 9 = 36\n",
      "5단 입니다\n",
      "5 * 1 = 5\n",
      "5 * 2 = 10\n",
      "5 * 3 = 15\n",
      "5 * 4 = 20\n",
      "5 * 5 = 25\n",
      "5 * 6 = 30\n",
      "5 * 7 = 35\n",
      "5 * 8 = 40\n",
      "5 * 9 = 45\n",
      "6단 입니다\n",
      "6 * 1 = 6\n",
      "6 * 2 = 12\n",
      "6 * 3 = 18\n",
      "6 * 4 = 24\n",
      "6 * 5 = 30\n",
      "6 * 6 = 36\n",
      "6 * 7 = 42\n",
      "6 * 8 = 48\n",
      "6 * 9 = 54\n",
      "7단 입니다\n",
      "7 * 1 = 7\n",
      "7 * 2 = 14\n",
      "7 * 3 = 21\n",
      "7 * 4 = 28\n",
      "7 * 5 = 35\n",
      "7 * 6 = 42\n",
      "7 * 7 = 49\n",
      "7 * 8 = 56\n",
      "7 * 9 = 63\n",
      "8단 입니다\n",
      "8 * 1 = 8\n",
      "8 * 2 = 16\n",
      "8 * 3 = 24\n",
      "8 * 4 = 32\n",
      "8 * 5 = 40\n",
      "8 * 6 = 48\n",
      "8 * 7 = 56\n",
      "8 * 8 = 64\n",
      "8 * 9 = 72\n",
      "9단 입니다\n",
      "9 * 1 = 9\n",
      "9 * 2 = 18\n",
      "9 * 3 = 27\n",
      "9 * 4 = 36\n",
      "9 * 5 = 45\n",
      "9 * 6 = 54\n",
      "9 * 7 = 63\n",
      "9 * 8 = 72\n",
      "9 * 9 = 81\n"
     ]
    }
   ],
   "source": [
    "# 구구단\n",
    "for x in range(1,10):\n",
    "    print(f'{x}단 입니다')\n",
    "    for y in range(1,10):\n",
    "        result = x * y\n",
    "        print(f'{x} * {y} = {result}')\n"
   ]
  },
  {
   "cell_type": "code",
   "execution_count": 66,
   "id": "33a9509f-0cec-4fb7-be9b-55d74ade999b",
   "metadata": {},
   "outputs": [
    {
     "name": "stdout",
     "output_type": "stream",
     "text": [
      "영화 미션임파서블의 평점 : ❤❤❤❤\n",
      "영화 미치광이삐애로의 평점 : ❤❤❤❤❤\n",
      "영화 씨너스의 평점 : ❤❤❤\n",
      "영화 울지않는아이의 평점 : ❤❤\n"
     ]
    }
   ],
   "source": [
    "movie_dict = {\"미션임파서블\": 4, \"미치광이삐애로\":5, \"씨너스\":3, \"울지않는아이\":2}\n",
    "for k,v in movie_dict.items():\n",
    "    print(f\"영화 {k}의 평점 : {'❤'*v}\")"
   ]
  },
  {
   "cell_type": "code",
   "execution_count": 72,
   "id": "210745f5-e7ab-4545-af13-5d905fa13b0c",
   "metadata": {},
   "outputs": [
    {
     "name": "stdout",
     "output_type": "stream",
     "text": [
      "*\n",
      "***\n",
      "*****\n",
      "*******\n",
      "*********\n",
      "***********\n",
      "*************\n",
      "***************\n",
      "*****************\n",
      "*******************\n",
      "*********************\n",
      "***********************\n",
      "*************************\n",
      "***************************\n",
      "*****************************\n",
      "*******************************\n",
      "*********************************\n",
      "***********************************\n",
      "*************************************\n",
      "***************************************\n"
     ]
    }
   ],
   "source": [
    "# 삼각형 찍어보기\n",
    "\n",
    "for i in range(1,40,2):\n",
    "    print(f'{'*'*i}')"
   ]
  },
  {
   "cell_type": "code",
   "execution_count": 74,
   "id": "09808787-9285-4af3-b226-faf49e693802",
   "metadata": {},
   "outputs": [
    {
     "name": "stdout",
     "output_type": "stream",
     "text": [
      "*\n",
      "**\n",
      "***\n",
      "****\n",
      "*****\n"
     ]
    }
   ],
   "source": [
    "# 삼각형 찍기\n",
    "for i in range(1,6):\n",
    "    for j in range(i):\n",
    "        print('*', end='')\n",
    "    print()"
   ]
  },
  {
   "cell_type": "code",
   "execution_count": 76,
   "id": "546215a1-192c-4335-877f-bbea637c4c31",
   "metadata": {},
   "outputs": [
    {
     "name": "stdout",
     "output_type": "stream",
     "text": [
      "                   *\n",
      "                 ***\n",
      "               *****\n",
      "             *******\n",
      "           *********\n",
      "         ***********\n",
      "       *************\n",
      "     ***************\n",
      "   *****************\n",
      " *******************\n"
     ]
    }
   ],
   "source": [
    "for i in range(1,20,2):\n",
    "    print(f'{' '*(20-i)}{'*'*i}')\n",
    "    "
   ]
  },
  {
   "cell_type": "code",
   "execution_count": 80,
   "id": "aebc2050-fa7a-43e5-88c3-c58b77c0e346",
   "metadata": {},
   "outputs": [
    {
     "name": "stdout",
     "output_type": "stream",
     "text": [
      "                   *\n",
      "                 ***\n",
      "               *****\n",
      "             *******\n",
      "           *********\n",
      "         ***********\n",
      "       *************\n",
      "     ***************\n",
      "   *****************\n",
      " *******************\n"
     ]
    }
   ],
   "source": [
    "for i in range(1,20,2):\n",
    "    print(f'{' '*(20-i)}{'*'*i}')"
   ]
  },
  {
   "cell_type": "markdown",
   "id": "0563e4f8-3e0e-44fc-a34d-88febfaaff60",
   "metadata": {},
   "source": [
    "# 중첩 반복문"
   ]
  },
  {
   "cell_type": "markdown",
   "id": "787dca6f-690f-4158-910e-2d75cac75b04",
   "metadata": {},
   "source": [
    "# while문"
   ]
  },
  {
   "cell_type": "code",
   "execution_count": 2,
   "id": "9002abfb-d9c6-4314-960b-1723f075ef75",
   "metadata": {},
   "outputs": [
    {
     "data": {
      "text/plain": [
       "6"
      ]
     },
     "execution_count": 2,
     "metadata": {},
     "output_type": "execute_result"
    }
   ],
   "source": [
    "sum = 0\n",
    "for i in range(6):\n",
    "    sum +=1\n",
    "sum"
   ]
  },
  {
   "cell_type": "code",
   "execution_count": 3,
   "id": "007356db-8739-458d-b1d0-178513489f62",
   "metadata": {},
   "outputs": [
    {
     "name": "stdout",
     "output_type": "stream",
     "text": [
      "21\n"
     ]
    }
   ],
   "source": [
    "# i = 1\n",
    "# sum = 0\n",
    "# while True:\n",
    "#     if i>6:\n",
    "#         break\n",
    "#     sum +=i\n",
    "#     i += 1\n",
    "\n",
    "i = 1\n",
    "all = 0\n",
    "while True:\n",
    "    if i > 6:\n",
    "        break\n",
    "    all += i\n",
    "    i += 1\n",
    "\n",
    "print(all)"
   ]
  },
  {
   "cell_type": "code",
   "execution_count": 4,
   "id": "4e62d416-077b-46ea-805c-420a54156f4a",
   "metadata": {},
   "outputs": [
    {
     "data": {
      "text/plain": [
       "20"
      ]
     },
     "execution_count": 4,
     "metadata": {},
     "output_type": "execute_result"
    }
   ],
   "source": [
    "total = 0\n",
    "i = 1\n",
    "while i < 6:\n",
    "    i +=1\n",
    "    total +=i\n",
    "total"
   ]
  },
  {
   "cell_type": "code",
   "execution_count": 1,
   "id": "747776ef-861a-47ea-9617-7b890f68fe32",
   "metadata": {},
   "outputs": [
    {
     "data": {
      "text/plain": [
       "21"
      ]
     },
     "execution_count": 1,
     "metadata": {},
     "output_type": "execute_result"
    }
   ],
   "source": [
    "sum(range(1,7))"
   ]
  },
  {
   "cell_type": "markdown",
   "id": "01736076-049e-40c5-bf48-90413dd71777",
   "metadata": {},
   "source": [
    "# 내포 comprehension"
   ]
  },
  {
   "cell_type": "markdown",
   "id": "35aa3958-63ac-4140-9100-c37157a92cb0",
   "metadata": {},
   "source": [
    "# 리스트 컴프리헨션    \n",
    "'[ 리스트 요소 for <1개> in <반복범위>]'"
   ]
  },
  {
   "cell_type": "code",
   "execution_count": 6,
   "id": "cc052334-38d1-45fe-85c2-91e9465c14ed",
   "metadata": {},
   "outputs": [
    {
     "name": "stdout",
     "output_type": "stream",
     "text": [
      "[2, 4, 6, 8, 10]\n"
     ]
    }
   ],
   "source": [
    "numbers = [1,2,3,4,5]\n",
    "# squares = numbers *2\n",
    "# squares = [ numbers*2 ] # 이렇게 하면 2차원 리스트 (리스트 안에 리스트가 있는 구조) 가 된다.\n",
    "squares = [num*2 for num in numbers]\n",
    "print(squares)"
   ]
  },
  {
   "cell_type": "code",
   "execution_count": 9,
   "id": "700ede1d-02e2-4f1d-8b94-79277f09d670",
   "metadata": {},
   "outputs": [
    {
     "data": {
      "text/plain": [
       "[0, 2, 4, 6, 8, 5, 6, 7, 8, 9]"
      ]
     },
     "execution_count": 9,
     "metadata": {},
     "output_type": "execute_result"
    }
   ],
   "source": [
    "##  조건식 + 리스트 컴프리헨션 \n",
    "\n",
    "test_list = []\n",
    "for x in range(10):\n",
    "    if x <5 :\n",
    "        test_list.append(x*2)\n",
    "    else:\n",
    "        test_list.append(x)\n",
    "\n",
    "test_list"
   ]
  },
  {
   "cell_type": "code",
   "execution_count": 10,
   "id": "3d1cdf02-da7c-4346-9ee4-15e86e6fe2ba",
   "metadata": {},
   "outputs": [
    {
     "data": {
      "text/plain": [
       "[0, 2, 4, 6, 8, 5, 6, 7, 8, 9]"
      ]
     },
     "execution_count": 10,
     "metadata": {},
     "output_type": "execute_result"
    }
   ],
   "source": [
    "[x*2 if x < 5 else x  for x in range(10)] # 조건이 앞으로 온다."
   ]
  },
  {
   "cell_type": "code",
   "execution_count": 12,
   "id": "e317376d-8235-4972-8278-0d8601ffd362",
   "metadata": {},
   "outputs": [
    {
     "data": {
      "text/plain": [
       "[0, 1, 2, 3, 4]"
      ]
     },
     "execution_count": 12,
     "metadata": {},
     "output_type": "execute_result"
    }
   ],
   "source": [
    "[x for x in range(10) if x < 5] # 조건이 뒤로가면 필터"
   ]
  },
  {
   "cell_type": "code",
   "execution_count": null,
   "id": "61ffbb3f-91a2-42b1-85e6-fff94e631c19",
   "metadata": {},
   "outputs": [],
   "source": [
    "#리스트 컴프리헨션을 이용한 변환, 필터"
   ]
  },
  {
   "cell_type": "code",
   "execution_count": 22,
   "id": "7bedf582-b257-4633-9654-3e665a891a4e",
   "metadata": {},
   "outputs": [
    {
     "name": "stdout",
     "output_type": "stream",
     "text": [
      "당청 번호 있음! (23)\n"
     ]
    }
   ],
   "source": [
    "my_numbers = [3, 11, 17, 23, 38, 42]\n",
    "win_numbers =[7, 14, 23, 32, 38, 45]\n",
    "\n",
    "for num in my_numbers:\n",
    "    if num in win_numbers:\n",
    "        print(f'당청 번호 있음! ({num})')\n",
    "        break\n",
    "else:\n",
    "    print('꽝입니다')"
   ]
  },
  {
   "cell_type": "code",
   "execution_count": 23,
   "id": "a8a95e9d-4e1d-4202-89ae-3346c1162bda",
   "metadata": {},
   "outputs": [
    {
     "ename": "SyntaxError",
     "evalue": "expected 'else' after 'if' expression (979213468.py, line 4)",
     "output_type": "error",
     "traceback": [
      "  \u001b[36mCell\u001b[39m\u001b[36m \u001b[39m\u001b[32mIn[23]\u001b[39m\u001b[32m, line 4\u001b[39m\n\u001b[31m    \u001b[39m\u001b[31m[num if num in win_numbers for num in my_numbers else '꽝입니다']\u001b[39m\n     ^\n\u001b[31mSyntaxError\u001b[39m\u001b[31m:\u001b[39m expected 'else' after 'if' expression\n"
     ]
    }
   ],
   "source": [
    "my_numbers = [3, 11, 17, 23, 38, 42]\n",
    "win_numbers =[7, 14, 23, 32, 38, 45]\n",
    "\n",
    "[num if num in win_numbers for num in my_numbers else '꽝입니다']"
   ]
  },
  {
   "cell_type": "code",
   "execution_count": 29,
   "id": "6cc4d2f0-c011-4c27-9330-d82ebf04afc3",
   "metadata": {},
   "outputs": [
    {
     "name": "stdout",
     "output_type": "stream",
     "text": [
      "[23, 38]\n",
      "당첨\n"
     ]
    }
   ],
   "source": [
    "my_numbers = [3, 11, 17, 23, 38, 42]\n",
    "win_numbers =[7, 14, 23, 32, 38, 45]\n",
    "\n",
    "matched = [num for num in my_numbers if num in win_numbers]\n",
    "if matched :\n",
    "     print(matched)\n",
    "else:\n",
    "    print('꽝입니다')\n",
    "\n",
    "print(f'당첨'if matched else f'꽝')"
   ]
  },
  {
   "cell_type": "code",
   "execution_count": null,
   "id": "5f3e304c-249d-4cf8-8894-e357dca04f7a",
   "metadata": {},
   "outputs": [],
   "source": []
  },
  {
   "cell_type": "markdown",
   "id": "660562f7-3b60-466d-b271-c976ef7e1aa8",
   "metadata": {},
   "source": [
    "# Iterator, Generator"
   ]
  },
  {
   "cell_type": "code",
   "execution_count": null,
   "id": "f3b99594-cae7-45a5-9992-43c6526a0e41",
   "metadata": {},
   "outputs": [],
   "source": []
  },
  {
   "cell_type": "markdown",
   "id": "b0dc7fdb-f2b9-48d4-85a0-7c70ae4f2aa8",
   "metadata": {},
   "source": [
    "- Iterable : for의 in 에 나올 수 있는 객체의 유형\n",
    "- Iterator : iter(), enumerate(), for 문에서  next() 직접 호출\n",
    "- Generator : 사용자 정의함수 중에서 yield 사용한 패턴/   일시정지, 메모리 효율이 높다"
   ]
  },
  {
   "cell_type": "markdown",
   "id": "019f5e8c-26dd-41a7-9a44-06c3a8195d9a",
   "metadata": {},
   "source": [
    "## Iterable"
   ]
  },
  {
   "cell_type": "code",
   "execution_count": 1,
   "id": "8568eb9e-d956-4fe3-8ef5-aa259d4c8914",
   "metadata": {},
   "outputs": [
    {
     "data": {
      "text/plain": [
       "True"
      ]
     },
     "execution_count": 1,
     "metadata": {},
     "output_type": "execute_result"
    }
   ],
   "source": [
    "from collections.abc import Iterable\n",
    "\n",
    "isinstance('hello',Iterable)"
   ]
  },
  {
   "cell_type": "code",
   "execution_count": 2,
   "id": "0c14dd01-f55f-4dee-944f-7042d7910f60",
   "metadata": {
    "collapsed": true,
    "jupyter": {
     "outputs_hidden": true
    }
   },
   "outputs": [
    {
     "data": {
      "text/plain": [
       "['__add__',\n",
       " '__class__',\n",
       " '__contains__',\n",
       " '__delattr__',\n",
       " '__dir__',\n",
       " '__doc__',\n",
       " '__eq__',\n",
       " '__format__',\n",
       " '__ge__',\n",
       " '__getattribute__',\n",
       " '__getitem__',\n",
       " '__getnewargs__',\n",
       " '__getstate__',\n",
       " '__gt__',\n",
       " '__hash__',\n",
       " '__init__',\n",
       " '__init_subclass__',\n",
       " '__iter__',\n",
       " '__le__',\n",
       " '__len__',\n",
       " '__lt__',\n",
       " '__mod__',\n",
       " '__mul__',\n",
       " '__ne__',\n",
       " '__new__',\n",
       " '__reduce__',\n",
       " '__reduce_ex__',\n",
       " '__repr__',\n",
       " '__rmod__',\n",
       " '__rmul__',\n",
       " '__setattr__',\n",
       " '__sizeof__',\n",
       " '__str__',\n",
       " '__subclasshook__',\n",
       " 'capitalize',\n",
       " 'casefold',\n",
       " 'center',\n",
       " 'count',\n",
       " 'encode',\n",
       " 'endswith',\n",
       " 'expandtabs',\n",
       " 'find',\n",
       " 'format',\n",
       " 'format_map',\n",
       " 'index',\n",
       " 'isalnum',\n",
       " 'isalpha',\n",
       " 'isascii',\n",
       " 'isdecimal',\n",
       " 'isdigit',\n",
       " 'isidentifier',\n",
       " 'islower',\n",
       " 'isnumeric',\n",
       " 'isprintable',\n",
       " 'isspace',\n",
       " 'istitle',\n",
       " 'isupper',\n",
       " 'join',\n",
       " 'ljust',\n",
       " 'lower',\n",
       " 'lstrip',\n",
       " 'maketrans',\n",
       " 'partition',\n",
       " 'removeprefix',\n",
       " 'removesuffix',\n",
       " 'replace',\n",
       " 'rfind',\n",
       " 'rindex',\n",
       " 'rjust',\n",
       " 'rpartition',\n",
       " 'rsplit',\n",
       " 'rstrip',\n",
       " 'split',\n",
       " 'splitlines',\n",
       " 'startswith',\n",
       " 'strip',\n",
       " 'swapcase',\n",
       " 'title',\n",
       " 'translate',\n",
       " 'upper',\n",
       " 'zfill']"
      ]
     },
     "execution_count": 2,
     "metadata": {},
     "output_type": "execute_result"
    }
   ],
   "source": [
    "itr_test_str = 'hello'\n",
    "dir(itr_test_str)"
   ]
  },
  {
   "cell_type": "code",
   "execution_count": 3,
   "id": "5068f69c-1cb2-42bf-8ed0-77a3ec4ec2e5",
   "metadata": {
    "collapsed": true,
    "jupyter": {
     "outputs_hidden": true
    },
    "scrolled": true
   },
   "outputs": [
    {
     "data": {
      "text/plain": [
       "['__class__',\n",
       " '__delattr__',\n",
       " '__dir__',\n",
       " '__doc__',\n",
       " '__eq__',\n",
       " '__format__',\n",
       " '__ge__',\n",
       " '__getattribute__',\n",
       " '__getstate__',\n",
       " '__gt__',\n",
       " '__hash__',\n",
       " '__init__',\n",
       " '__init_subclass__',\n",
       " '__iter__',\n",
       " '__le__',\n",
       " '__length_hint__',\n",
       " '__lt__',\n",
       " '__ne__',\n",
       " '__new__',\n",
       " '__next__',\n",
       " '__reduce__',\n",
       " '__reduce_ex__',\n",
       " '__repr__',\n",
       " '__setattr__',\n",
       " '__setstate__',\n",
       " '__sizeof__',\n",
       " '__str__',\n",
       " '__subclasshook__']"
      ]
     },
     "execution_count": 3,
     "metadata": {},
     "output_type": "execute_result"
    }
   ],
   "source": [
    "itr_obj = iter(itr_test_str)\n",
    "dir(itr_obj)"
   ]
  },
  {
   "cell_type": "code",
   "execution_count": 20,
   "id": "ee0d1669-28d5-4897-a240-ef62b2dfee6a",
   "metadata": {},
   "outputs": [],
   "source": [
    "itr_obj.__next__()"
   ]
  },
  {
   "cell_type": "code",
   "execution_count": 33,
   "id": "3aca2612-b3e1-4fb9-b3b2-387cd8fb5ad1",
   "metadata": {
    "collapsed": true,
    "jupyter": {
     "outputs_hidden": true
    },
    "scrolled": true
   },
   "outputs": [
    {
     "data": {
      "text/plain": [
       "['__add__',\n",
       " '__class__',\n",
       " '__class_getitem__',\n",
       " '__contains__',\n",
       " '__delattr__',\n",
       " '__delitem__',\n",
       " '__dir__',\n",
       " '__doc__',\n",
       " '__eq__',\n",
       " '__format__',\n",
       " '__ge__',\n",
       " '__getattribute__',\n",
       " '__getitem__',\n",
       " '__getstate__',\n",
       " '__gt__',\n",
       " '__hash__',\n",
       " '__iadd__',\n",
       " '__imul__',\n",
       " '__init__',\n",
       " '__init_subclass__',\n",
       " '__iter__',\n",
       " '__le__',\n",
       " '__len__',\n",
       " '__lt__',\n",
       " '__mul__',\n",
       " '__ne__',\n",
       " '__new__',\n",
       " '__reduce__',\n",
       " '__reduce_ex__',\n",
       " '__repr__',\n",
       " '__reversed__',\n",
       " '__rmul__',\n",
       " '__setattr__',\n",
       " '__setitem__',\n",
       " '__sizeof__',\n",
       " '__str__',\n",
       " '__subclasshook__',\n",
       " 'append',\n",
       " 'clear',\n",
       " 'copy',\n",
       " 'count',\n",
       " 'extend',\n",
       " 'index',\n",
       " 'insert',\n",
       " 'pop',\n",
       " 'remove',\n",
       " 'reverse',\n",
       " 'sort']"
      ]
     },
     "execution_count": 33,
     "metadata": {},
     "output_type": "execute_result"
    }
   ],
   "source": [
    "itr_test_lst = [1,2,3,4]\n",
    "dir(itr_test_lst)"
   ]
  },
  {
   "cell_type": "code",
   "execution_count": 40,
   "id": "cb8fb768-fb09-4d51-8e57-93afc92ea371",
   "metadata": {},
   "outputs": [
    {
     "data": {
      "text/plain": [
       "list_iterator"
      ]
     },
     "execution_count": 40,
     "metadata": {},
     "output_type": "execute_result"
    }
   ],
   "source": [
    "itr_obj_1 = iter(itr_test_lst)\n",
    "type(itr_obj_1)"
   ]
  },
  {
   "cell_type": "code",
   "execution_count": 41,
   "id": "d955b544-81c1-43bb-bd7a-1b0d566814c8",
   "metadata": {},
   "outputs": [
    {
     "data": {
      "text/plain": [
       "1"
      ]
     },
     "execution_count": 41,
     "metadata": {},
     "output_type": "execute_result"
    }
   ],
   "source": [
    "itr_obj_1.__next__() # next메서드"
   ]
  },
  {
   "cell_type": "code",
   "execution_count": 42,
   "id": "d57b5c60-310f-486c-85cb-8e66a976597b",
   "metadata": {},
   "outputs": [
    {
     "data": {
      "text/plain": [
       "2"
      ]
     },
     "execution_count": 42,
     "metadata": {},
     "output_type": "execute_result"
    }
   ],
   "source": [
    "next(itr_obj_1) # next 함수"
   ]
  },
  {
   "cell_type": "code",
   "execution_count": 43,
   "id": "db339cb5-3afa-4091-814e-e6c551210a87",
   "metadata": {},
   "outputs": [
    {
     "name": "stdout",
     "output_type": "stream",
     "text": [
      "3\n",
      "4\n"
     ]
    }
   ],
   "source": [
    "for i in itr_obj_1:\n",
    "    print(i) # 1,2 나와서 3,4 출력됐음 "
   ]
  },
  {
   "cell_type": "markdown",
   "id": "0c37f19f-a7dc-4052-88bb-a3830585b9a1",
   "metadata": {},
   "source": [
    "## enumerate"
   ]
  },
  {
   "cell_type": "code",
   "execution_count": 46,
   "id": "102ed3f6-a8d4-4f3a-9538-93a9db643c05",
   "metadata": {},
   "outputs": [
    {
     "name": "stdout",
     "output_type": "stream",
     "text": [
      "0 1\n",
      "1 2\n",
      "2 3\n",
      "3 4\n"
     ]
    }
   ],
   "source": [
    "itr_obj_1 = iter(itr_test_lst)\n",
    "for i, item in enumerate(itr_obj_1):\n",
    "    print(i, item)"
   ]
  },
  {
   "cell_type": "code",
   "execution_count": 48,
   "id": "79421592-54ad-46ea-867b-70c3d3e9cfd3",
   "metadata": {},
   "outputs": [
    {
     "name": "stdout",
     "output_type": "stream",
     "text": [
      "(0, 'h')\n",
      "(1, 'e')\n",
      "(2, 'l')\n",
      "(3, 'l')\n",
      "(4, 'o')\n"
     ]
    }
   ],
   "source": [
    "msg = 'hello'\n",
    "for i in enumerate(msg):\n",
    "    print(i)"
   ]
  },
  {
   "cell_type": "markdown",
   "id": "fc1de9f5-ca2e-4ca8-9037-97b84f4cfde2",
   "metadata": {},
   "source": [
    "## Generator"
   ]
  },
  {
   "cell_type": "code",
   "execution_count": 49,
   "id": "aeb9476b-b090-40a7-a7b1-cdb1393d498e",
   "metadata": {},
   "outputs": [
    {
     "data": {
      "text/plain": [
       "<generator object gen_자판기 at 0x000001E5837533D0>"
      ]
     },
     "execution_count": 49,
     "metadata": {},
     "output_type": "execute_result"
    }
   ],
   "source": [
    "def gen_자판기():\n",
    "    yield '바나나'\n",
    "    yield '바나나2'\n",
    "    yield '바나나3'\n",
    "\n",
    "gen_자판기()"
   ]
  },
  {
   "cell_type": "code",
   "execution_count": 50,
   "id": "424c1700-112f-44ca-b1c2-fb931f9a56a9",
   "metadata": {},
   "outputs": [
    {
     "data": {
      "text/plain": [
       "'바나나'"
      ]
     },
     "execution_count": 50,
     "metadata": {},
     "output_type": "execute_result"
    }
   ],
   "source": [
    "gen = gen_자판기()\n",
    "# gen.__next__()\n",
    "next(gen)"
   ]
  },
  {
   "cell_type": "code",
   "execution_count": 51,
   "id": "aa52be59-c072-4a8e-9087-d1794ce45ce5",
   "metadata": {},
   "outputs": [
    {
     "data": {
      "text/plain": [
       "'바나나2'"
      ]
     },
     "execution_count": 51,
     "metadata": {},
     "output_type": "execute_result"
    }
   ],
   "source": [
    "next(gen)"
   ]
  },
  {
   "cell_type": "code",
   "execution_count": 52,
   "id": "2f67fc76-dda3-4041-829c-6e11b114f722",
   "metadata": {},
   "outputs": [
    {
     "data": {
      "text/plain": [
       "'바나나3'"
      ]
     },
     "execution_count": 52,
     "metadata": {},
     "output_type": "execute_result"
    }
   ],
   "source": [
    "next(gen)"
   ]
  },
  {
   "cell_type": "code",
   "execution_count": 59,
   "id": "457f959c-05fe-4867-b238-c57a42db28ad",
   "metadata": {},
   "outputs": [],
   "source": [
    "def 제곱머신():\n",
    "    for x in range(10):\n",
    "        yield x**2\n",
    "g_m = 제곱머신()"
   ]
  },
  {
   "cell_type": "code",
   "execution_count": 55,
   "id": "baa0a03a-1f68-4913-8876-3fd76fbbbc7c",
   "metadata": {},
   "outputs": [
    {
     "name": "stdout",
     "output_type": "stream",
     "text": [
      "0\n",
      "1\n",
      "4\n",
      "9\n",
      "16\n",
      "25\n",
      "36\n",
      "49\n",
      "64\n",
      "81\n"
     ]
    }
   ],
   "source": [
    "for n in g_m:\n",
    "    print(n)"
   ]
  },
  {
   "cell_type": "code",
   "execution_count": 60,
   "id": "33c9730f-1c53-413f-a4fd-4bacd6b26eba",
   "metadata": {},
   "outputs": [
    {
     "data": {
      "text/plain": [
       "0"
      ]
     },
     "execution_count": 60,
     "metadata": {},
     "output_type": "execute_result"
    }
   ],
   "source": [
    "next(g_m)"
   ]
  },
  {
   "cell_type": "code",
   "execution_count": 61,
   "id": "c6331023-f85a-4955-ac86-de0a374e3937",
   "metadata": {},
   "outputs": [
    {
     "data": {
      "text/plain": [
       "1"
      ]
     },
     "execution_count": 61,
     "metadata": {},
     "output_type": "execute_result"
    }
   ],
   "source": [
    "next(g_m)"
   ]
  },
  {
   "cell_type": "markdown",
   "id": "cadfe720-605b-42df-afb4-9db38a348dd5",
   "metadata": {},
   "source": [
    "------"
   ]
  },
  {
   "cell_type": "code",
   "execution_count": 63,
   "id": "fdcae553-4068-488d-8c4f-172b8b75a7cd",
   "metadata": {},
   "outputs": [
    {
     "name": "stdout",
     "output_type": "stream",
     "text": [
      "1\n",
      "2\n",
      "3\n"
     ]
    }
   ],
   "source": [
    "nums = [1, 2, 3]\n",
    "it = iter(nums)     # 리스트를 이터레이터로 만듦\n",
    "\n",
    "print(next(it))     # 1\n",
    "print(next(it))     # 2\n",
    "print(next(it))     # 3\n",
    "# print(next(it))   # 더 이상 값이 없으므로 StopIteration 발생"
   ]
  },
  {
   "cell_type": "code",
   "execution_count": 67,
   "id": "a3751283-d5d6-49be-9d46-7be1aa701228",
   "metadata": {},
   "outputs": [
    {
     "ename": "TypeError",
     "evalue": "expected 0 arguments, got 1",
     "output_type": "error",
     "traceback": [
      "\u001b[31m---------------------------------------------------------------------------\u001b[39m",
      "\u001b[31mTypeError\u001b[39m                                 Traceback (most recent call last)",
      "\u001b[36mCell\u001b[39m\u001b[36m \u001b[39m\u001b[32mIn[67]\u001b[39m\u001b[32m, line 2\u001b[39m\n\u001b[32m      1\u001b[39m num = [\u001b[32m1\u001b[39m,\u001b[32m2\u001b[39m,\u001b[32m3\u001b[39m,\u001b[32m4\u001b[39m,\u001b[32m5\u001b[39m]\n\u001b[32m----> \u001b[39m\u001b[32m2\u001b[39m its = num.\u001b[34m__iter__\u001b[39m(\u001b[32m1\u001b[39m)\n\u001b[32m      3\u001b[39m \u001b[38;5;28mprint\u001b[39m(its)\n",
      "\u001b[31mTypeError\u001b[39m: expected 0 arguments, got 1"
     ]
    }
   ],
   "source": [
    "num = [1,2,3,4,5]\n",
    "its = num.__iter__()\n",
    "print(its)"
   ]
  },
  {
   "cell_type": "code",
   "execution_count": null,
   "id": "2f974b84-ca60-4c50-a66a-160f088bacec",
   "metadata": {},
   "outputs": [],
   "source": []
  },
  {
   "cell_type": "code",
   "execution_count": null,
   "id": "22a5ad33-0445-4a21-842c-387c7bc4e3db",
   "metadata": {},
   "outputs": [],
   "source": []
  },
  {
   "cell_type": "code",
   "execution_count": null,
   "id": "7b9dbb87-52a9-4430-af08-72f052305c6f",
   "metadata": {},
   "outputs": [],
   "source": []
  },
  {
   "cell_type": "code",
   "execution_count": null,
   "id": "1f969fda-d567-41ff-8526-db98e17c6f7a",
   "metadata": {},
   "outputs": [],
   "source": []
  },
  {
   "cell_type": "code",
   "execution_count": null,
   "id": "6497e972-49e3-4fc2-9690-de02eeb4b3dc",
   "metadata": {},
   "outputs": [],
   "source": []
  },
  {
   "cell_type": "code",
   "execution_count": null,
   "id": "574254cd-8b89-49fc-b30a-0da7391fa47c",
   "metadata": {},
   "outputs": [],
   "source": []
  },
  {
   "cell_type": "code",
   "execution_count": null,
   "id": "dea8fe1c-24f2-468d-8814-6aa5d3bdca99",
   "metadata": {},
   "outputs": [],
   "source": []
  }
 ],
 "metadata": {
  "kernelspec": {
   "display_name": "Python 3 (ipykernel)",
   "language": "python",
   "name": "python3"
  },
  "language_info": {
   "codemirror_mode": {
    "name": "ipython",
    "version": 3
   },
   "file_extension": ".py",
   "mimetype": "text/x-python",
   "name": "python",
   "nbconvert_exporter": "python",
   "pygments_lexer": "ipython3",
   "version": "3.12.9"
  }
 },
 "nbformat": 4,
 "nbformat_minor": 5
}
