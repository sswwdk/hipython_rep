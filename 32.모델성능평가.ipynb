{
 "cells": [
  {
   "cell_type": "markdown",
   "id": "875cc1e2",
   "metadata": {},
   "source": [
    "# 분류기 만들기  \n",
    "   \n",
    "타이타닉 데이터의 생존여부 분류   \n",
    "- 규칙 : 성별(Sex) = 1 생존하지 않은 것으로 분류"
   ]
  },
  {
   "cell_type": "code",
   "execution_count": 2,
   "id": "a3cd0049",
   "metadata": {},
   "outputs": [],
   "source": [
    "import numpy as np\n",
    "import pandas as pd\n",
    "from sklearn.model_selection import train_test_split\n",
    "from sklearn.metrics import accuracy_score"
   ]
  },
  {
   "cell_type": "code",
   "execution_count": 3,
   "id": "9d738fd5",
   "metadata": {},
   "outputs": [],
   "source": [
    "titanic_df = pd.read_csv('./data/titanic.csv')\n",
    "# df.head()\n",
    "y_titanic_df = titanic_df['Survived']\n",
    "X_titanic_df = titanic_df.drop('Survived', axis = 1)"
   ]
  },
  {
   "cell_type": "markdown",
   "id": "81c4185b",
   "metadata": {},
   "source": [
    "전처리"
   ]
  },
  {
   "cell_type": "code",
   "execution_count": 4,
   "id": "2445facd",
   "metadata": {},
   "outputs": [],
   "source": [
    "from sklearn.preprocessing import LabelEncoder\n",
    "\n",
    "# Null 처리 함수\n",
    "def fillna(df):\n",
    "    df['Age'].fillna(df['Age'].mean(), inplace=True)\n",
    "    df['Cabin'].fillna('N', inplace=True)\n",
    "    df['Embarked'].fillna('N', inplace=True)\n",
    "    df['Fare'].fillna(0, inplace=True)\n",
    "    return df\n",
    "\n",
    "# 머신러닝 알고리즘에 불필요한 피처 제거\n",
    "def drop_features(df):\n",
    "    df.drop(['PassengerId', 'Name', 'Ticket'], axis=1, inplace=True)\n",
    "    return df\n",
    "\n",
    "# 레이블 인코딩 수행 함수\n",
    "def format_features(df):\n",
    "    df['Cabin'] = df['Cabin'].str[:1]\n",
    "    features = ['Cabin', 'Sex', 'Embarked']\n",
    "    for feature in features:\n",
    "        le = LabelEncoder()\n",
    "        le = le.fit(df[feature])\n",
    "        df[feature] = le.transform(df[feature])\n",
    "    return df\n",
    "\n",
    "# 앞에서 설정한 데이터 전처리 함수 호출\n",
    "def transform_features(df):\n",
    "    df = fillna(df) \n",
    "    df = drop_features(df)\n",
    "    df = format_features(df)\n",
    "    return df"
   ]
  },
  {
   "cell_type": "code",
   "execution_count": 5,
   "id": "48aeecd1",
   "metadata": {},
   "outputs": [
    {
     "name": "stderr",
     "output_type": "stream",
     "text": [
      "C:\\Users\\Admin\\AppData\\Local\\Temp\\ipykernel_14224\\2811512165.py:5: FutureWarning: A value is trying to be set on a copy of a DataFrame or Series through chained assignment using an inplace method.\n",
      "The behavior will change in pandas 3.0. This inplace method will never work because the intermediate object on which we are setting values always behaves as a copy.\n",
      "\n",
      "For example, when doing 'df[col].method(value, inplace=True)', try using 'df.method({col: value}, inplace=True)' or df[col] = df[col].method(value) instead, to perform the operation inplace on the original object.\n",
      "\n",
      "\n",
      "  df['Age'].fillna(df['Age'].mean(), inplace=True)\n",
      "C:\\Users\\Admin\\AppData\\Local\\Temp\\ipykernel_14224\\2811512165.py:6: FutureWarning: A value is trying to be set on a copy of a DataFrame or Series through chained assignment using an inplace method.\n",
      "The behavior will change in pandas 3.0. This inplace method will never work because the intermediate object on which we are setting values always behaves as a copy.\n",
      "\n",
      "For example, when doing 'df[col].method(value, inplace=True)', try using 'df.method({col: value}, inplace=True)' or df[col] = df[col].method(value) instead, to perform the operation inplace on the original object.\n",
      "\n",
      "\n",
      "  df['Cabin'].fillna('N', inplace=True)\n",
      "C:\\Users\\Admin\\AppData\\Local\\Temp\\ipykernel_14224\\2811512165.py:7: FutureWarning: A value is trying to be set on a copy of a DataFrame or Series through chained assignment using an inplace method.\n",
      "The behavior will change in pandas 3.0. This inplace method will never work because the intermediate object on which we are setting values always behaves as a copy.\n",
      "\n",
      "For example, when doing 'df[col].method(value, inplace=True)', try using 'df.method({col: value}, inplace=True)' or df[col] = df[col].method(value) instead, to perform the operation inplace on the original object.\n",
      "\n",
      "\n",
      "  df['Embarked'].fillna('N', inplace=True)\n",
      "C:\\Users\\Admin\\AppData\\Local\\Temp\\ipykernel_14224\\2811512165.py:8: FutureWarning: A value is trying to be set on a copy of a DataFrame or Series through chained assignment using an inplace method.\n",
      "The behavior will change in pandas 3.0. This inplace method will never work because the intermediate object on which we are setting values always behaves as a copy.\n",
      "\n",
      "For example, when doing 'df[col].method(value, inplace=True)', try using 'df.method({col: value}, inplace=True)' or df[col] = df[col].method(value) instead, to perform the operation inplace on the original object.\n",
      "\n",
      "\n",
      "  df['Fare'].fillna(0, inplace=True)\n"
     ]
    }
   ],
   "source": [
    "X_titanic_df = transform_features(X_titanic_df)\n",
    "\n",
    "# 데이터셋 분할\n",
    "X_train, X_test, y_train, y_test = train_test_split(X_titanic_df\n",
    "                                                    , y_titanic_df\n",
    "                                                    , test_size=0.2\n",
    "                                                    , random_state=0)"
   ]
  },
  {
   "cell_type": "code",
   "execution_count": 6,
   "id": "5d131c9b",
   "metadata": {},
   "outputs": [],
   "source": [
    "from sklearn.base import BaseEstimator\n",
    "\n",
    "class MyDummyClassifier(BaseEstimator):\n",
    "    def fit(self, X, y):\n",
    "        pass\n",
    "    def predict(self, X):\n",
    "        pred = np.zeros((X.shape[0],1))\n",
    "        for i in range(X.shape[0]):\n",
    "            if X['Sex'].iloc[i] == 1:\n",
    "                pred[i] = 0\n",
    "            else:\n",
    "                pred[i] = 1\n",
    "        return pred"
   ]
  },
  {
   "cell_type": "code",
   "execution_count": 7,
   "id": "462a951b",
   "metadata": {},
   "outputs": [
    {
     "name": "stdout",
     "output_type": "stream",
     "text": [
      "정확도 : 0.78771\n"
     ]
    }
   ],
   "source": [
    "my_clf = MyDummyClassifier()\n",
    "my_clf.fit(X_train, y_train)\n",
    "my_pred = my_clf.predict(X_test)\n",
    "acc = accuracy_score(y_test, my_pred)\n",
    "print(f'정확도 : {acc:.5f}')"
   ]
  },
  {
   "cell_type": "markdown",
   "id": "c7dab9de",
   "metadata": {},
   "source": [
    "# 혼동 행렬"
   ]
  },
  {
   "cell_type": "code",
   "execution_count": 8,
   "id": "bb93234c",
   "metadata": {},
   "outputs": [
    {
     "data": {
      "text/plain": [
       "array([[92, 18],\n",
       "       [20, 49]])"
      ]
     },
     "execution_count": 8,
     "metadata": {},
     "output_type": "execute_result"
    }
   ],
   "source": [
    "# 혼동 행렬\n",
    "from sklearn.metrics import confusion_matrix\n",
    "\n",
    "confusion_matrix(y_test, my_pred)"
   ]
  },
  {
   "cell_type": "code",
   "execution_count": 9,
   "id": "68e23a39",
   "metadata": {},
   "outputs": [
    {
     "data": {
      "text/plain": [
       "(np.float64(0.7313432835820896), np.float64(0.7101449275362319))"
      ]
     },
     "execution_count": 9,
     "metadata": {},
     "output_type": "execute_result"
    }
   ],
   "source": [
    "from sklearn.metrics import precision_score, recall_score\n",
    "precision_score(y_test, my_pred), recall_score(y_test, my_pred)"
   ]
  },
  {
   "cell_type": "markdown",
   "id": "78c33348",
   "metadata": {},
   "source": [
    "# 로지스틱회귀, 랜덤포레스트, KNN의 정밀도, 재연률 비교    \n",
    "정확도(accuracy) : 전체 중 맞춘 비율   \n",
    "정밀도(precision) : 모델이 Positive로 예측한 값 중 실제로 Positive인 비율, 양성 예측도   \n",
    "재연률(recall) : 실제 값이 Positive인 데이터 중 실제 값이 Positive로 일치한 데이터의 비율, 즉 실제 Positive 중 모델이 맞춘 비율로 “민감도 Sensitivity” 또는 TPR(True Positive Rate)라고 한다."
   ]
  },
  {
   "cell_type": "code",
   "execution_count": 10,
   "id": "aa624d0d",
   "metadata": {},
   "outputs": [],
   "source": [
    "def get_clf_eval(y_test, pred):\n",
    "    confusion = confusion_matrix(y_test, pred) # 혼동행렬\n",
    "    accuracy = accuracy_score(y_test, pred) # 정확도\n",
    "    precision = precision_score(y_test, pred) # 정밀도\n",
    "    recall = recall_score(y_test, pred) # 재현율\n",
    "\n",
    "    print(confusion)\n",
    "    print('*'*20)\n",
    "    print(accuracy, precision, recall)"
   ]
  },
  {
   "cell_type": "code",
   "execution_count": 11,
   "id": "f40e1b66",
   "metadata": {},
   "outputs": [
    {
     "name": "stdout",
     "output_type": "stream",
     "text": [
      "[[92 18]\n",
      " [16 53]]\n",
      "********************\n",
      "0.8100558659217877 0.7464788732394366 0.7681159420289855\n"
     ]
    }
   ],
   "source": [
    "# 로지스틱회귀 분류모델 생성\n",
    "from sklearn.linear_model import LogisticRegression\n",
    "\n",
    "lr_clf = LogisticRegression(max_iter=2000)\n",
    "lr_clf.fit(X_train, y_train)\n",
    "pred = lr_clf.predict(X_test)\n",
    "\n",
    "# 정확도, 정밀도, 재현율\n",
    "get_clf_eval(y_test, pred)"
   ]
  },
  {
   "cell_type": "code",
   "execution_count": 12,
   "id": "2e753ba2",
   "metadata": {},
   "outputs": [
    {
     "name": "stdout",
     "output_type": "stream",
     "text": [
      "[[92 18]\n",
      " [16 53]]\n",
      "********************\n",
      "0.8100558659217877 0.7464788732394366 0.7681159420289855\n"
     ]
    }
   ],
   "source": [
    "# 로지스틱회귀 분류모델 생성\n",
    "from sklearn.linear_model import LogisticRegression\n",
    "\n",
    "lr_clf = LogisticRegression(max_iter=2000)\n",
    "lr_clf.fit(X_train, y_train)\n",
    "pred = lr_clf.predict(X_test)\n",
    "\n",
    "# 정확도, 정밀도, 재현율\n",
    "get_clf_eval(y_test, pred)"
   ]
  },
  {
   "cell_type": "code",
   "execution_count": 13,
   "id": "17b7c99e",
   "metadata": {},
   "outputs": [
    {
     "name": "stdout",
     "output_type": "stream",
     "text": [
      "[[100  10]\n",
      " [ 21  48]]\n",
      "********************\n",
      "0.8268156424581006 0.8275862068965517 0.6956521739130435\n"
     ]
    }
   ],
   "source": [
    "# 랜덤포레스트 분류모델 생성\n",
    "from sklearn.ensemble import RandomForestClassifier\n",
    "\n",
    "RF_clf = RandomForestClassifier()\n",
    "RF_clf.fit(X_train, y_train)\n",
    "pred = RF_clf.predict(X_test)\n",
    "\n",
    "# 정확도, 정밀도, 재현율\n",
    "get_clf_eval(y_test, pred)"
   ]
  },
  {
   "cell_type": "code",
   "execution_count": 14,
   "id": "b982d6f7",
   "metadata": {},
   "outputs": [
    {
     "name": "stdout",
     "output_type": "stream",
     "text": [
      "[[94 16]\n",
      " [31 38]]\n",
      "********************\n",
      "0.7374301675977654 0.7037037037037037 0.5507246376811594\n"
     ]
    }
   ],
   "source": [
    "# KNN 분류모델 생성\n",
    "from sklearn.neighbors import KNeighborsClassifier\n",
    "knn_clf = KNeighborsClassifier(n_neighbors=5)\n",
    "knn_clf.fit(X_train, y_train)\n",
    "pred = knn_clf.predict(X_test)\n",
    "\n",
    "# 정확도, 정밀도, 재현율\n",
    "get_clf_eval(y_test, pred)"
   ]
  },
  {
   "cell_type": "code",
   "execution_count": 37,
   "id": "aec0aea4",
   "metadata": {},
   "outputs": [
    {
     "data": {
      "text/plain": [
       "array([0, 0, 0, 1, 1, 1, 1, 1, 1, 1, 0, 1, 0, 1, 1, 1, 0, 0, 0, 0, 0, 1,\n",
       "       0, 1, 1, 1, 0, 1, 1, 1, 0, 1, 0, 1, 0, 1, 0, 0, 0, 0, 0, 0, 0, 0,\n",
       "       1, 0, 0, 1, 0, 0, 1, 1, 1, 0, 1, 0, 0, 1, 0, 0, 0, 1, 1, 1, 1, 0,\n",
       "       1, 0, 1, 1, 1, 0, 1, 0, 0, 1, 0, 1, 0, 0, 0, 0, 1, 0, 0, 1, 1, 0,\n",
       "       1, 1, 1, 0, 1, 1, 1, 0, 1, 0, 0, 1, 0, 0, 0, 0, 1, 1, 1, 1, 0, 1,\n",
       "       0, 1, 0, 1, 0, 1, 1, 1, 0, 1, 0, 0, 0, 0, 0, 0, 0, 0, 0, 0, 1, 0,\n",
       "       0, 1, 0, 0, 0, 1, 0, 0, 0, 1, 0, 1, 1, 1, 0, 1, 1, 0, 0, 1, 1, 0,\n",
       "       1, 0, 1, 0, 1, 1, 0, 0, 1, 0, 0, 0, 0, 0, 0, 0, 0, 1, 0, 0, 1, 0,\n",
       "       1, 0, 0])"
      ]
     },
     "execution_count": 37,
     "metadata": {},
     "output_type": "execute_result"
    }
   ],
   "source": [
    "pred_proba = lr_clf.predict_proba(X_test)\n",
    "pos_proba = pred_proba[:,1] # 양성클래스일 확률\n",
    "\n",
    "threshold = 0.4 # 임계치\n",
    "custom_proba = (pos_proba >= threshold).astype(int) # 임계치보다 크면 1\n",
    "custom_proba"
   ]
  },
  {
   "cell_type": "code",
   "execution_count": 26,
   "id": "a8cf126b",
   "metadata": {},
   "outputs": [
    {
     "data": {
      "text/plain": [
       "array([[0.85354405, 0.14645595],\n",
       "       [0.89028109, 0.10971891],\n",
       "       [0.92550402, 0.07449598],\n",
       "       [0.0579584 , 0.9420416 ],\n",
       "       [0.32222991, 0.67777009],\n",
       "       [0.49175727, 0.50824273],\n",
       "       [0.08753172, 0.91246828],\n",
       "       [0.06751399, 0.93248601],\n",
       "       [0.41957946, 0.58042054],\n",
       "       [0.30545737, 0.69454263],\n",
       "       [0.90914196, 0.09085804],\n",
       "       [0.27527566, 0.72472434],\n",
       "       [0.87931998, 0.12068002],\n",
       "       [0.09297023, 0.90702977],\n",
       "       [0.03697431, 0.96302569],\n",
       "       [0.23659886, 0.76340114],\n",
       "       [0.85876081, 0.14123919],\n",
       "       [0.7547604 , 0.2452396 ],\n",
       "       [0.91048857, 0.08951143],\n",
       "       [0.6404966 , 0.3595034 ],\n",
       "       [0.66523293, 0.33476707],\n",
       "       [0.05638662, 0.94361338],\n",
       "       [0.87932168, 0.12067832],\n",
       "       [0.56468347, 0.43531653],\n",
       "       [0.30323849, 0.69676151],\n",
       "       [0.10937889, 0.89062111],\n",
       "       [0.89948781, 0.10051219],\n",
       "       [0.30380618, 0.69619382],\n",
       "       [0.17264096, 0.82735904],\n",
       "       [0.380422  , 0.619578  ],\n",
       "       [0.87116061, 0.12883939],\n",
       "       [0.36882854, 0.63117146],\n",
       "       [0.88272169, 0.11727831],\n",
       "       [0.49014975, 0.50985025],\n",
       "       [0.91927299, 0.08072701],\n",
       "       [0.42179332, 0.57820668],\n",
       "       [0.93485151, 0.06514849],\n",
       "       [0.75316149, 0.24683851],\n",
       "       [0.72791351, 0.27208649],\n",
       "       [0.90226865, 0.09773135],\n",
       "       [0.77665564, 0.22334436],\n",
       "       [0.8279352 , 0.1720648 ],\n",
       "       [0.8894047 , 0.1105953 ],\n",
       "       [0.94846809, 0.05153191],\n",
       "       [0.10912027, 0.89087973],\n",
       "       [0.89023763, 0.10976237],\n",
       "       [0.89023763, 0.10976237],\n",
       "       [0.04967392, 0.95032608],\n",
       "       [0.82957829, 0.17042171],\n",
       "       [0.80250099, 0.19749901],\n",
       "       [0.5066074 , 0.4933926 ],\n",
       "       [0.36218083, 0.63781917],\n",
       "       [0.10978909, 0.89021091],\n",
       "       [0.8369521 , 0.1630479 ],\n",
       "       [0.41241258, 0.58758742],\n",
       "       [0.8319836 , 0.1680164 ],\n",
       "       [0.79464464, 0.20535536],\n",
       "       [0.56484248, 0.43515752],\n",
       "       [0.92039334, 0.07960666],\n",
       "       [0.93716461, 0.06283539],\n",
       "       [0.80888654, 0.19111346],\n",
       "       [0.42289967, 0.57710033],\n",
       "       [0.17595523, 0.82404477],\n",
       "       [0.4817762 , 0.5182238 ],\n",
       "       [0.37713944, 0.62286056],\n",
       "       [0.8893759 , 0.1106241 ],\n",
       "       [0.14975479, 0.85024521],\n",
       "       [0.75871598, 0.24128402],\n",
       "       [0.10135418, 0.89864582],\n",
       "       [0.04140941, 0.95859059],\n",
       "       [0.21404797, 0.78595203],\n",
       "       [0.74837626, 0.25162374],\n",
       "       [0.54185133, 0.45814867],\n",
       "       [0.89021825, 0.10978175],\n",
       "       [0.86653701, 0.13346299],\n",
       "       [0.42520173, 0.57479827],\n",
       "       [0.60658907, 0.39341093],\n",
       "       [0.59454232, 0.40545768],\n",
       "       [0.90711093, 0.09288907],\n",
       "       [0.70271976, 0.29728024],\n",
       "       [0.91157714, 0.08842286],\n",
       "       [0.8354916 , 0.1645084 ],\n",
       "       [0.23937083, 0.76062917],\n",
       "       [0.81870693, 0.18129307],\n",
       "       [0.86590276, 0.13409724],\n",
       "       [0.04739804, 0.95260196],\n",
       "       [0.08454288, 0.91545712],\n",
       "       [0.71532323, 0.28467677],\n",
       "       [0.20769762, 0.79230238],\n",
       "       [0.35710462, 0.64289538],\n",
       "       [0.48687818, 0.51312182],\n",
       "       [0.8369521 , 0.1630479 ],\n",
       "       [0.58331085, 0.41668915],\n",
       "       [0.0853281 , 0.9146719 ],\n",
       "       [0.45302202, 0.54697798],\n",
       "       [0.85470276, 0.14529724],\n",
       "       [0.17712712, 0.82287288],\n",
       "       [0.95249085, 0.04750915],\n",
       "       [0.82656144, 0.17343856],\n",
       "       [0.38434605, 0.61565395],\n",
       "       [0.96546237, 0.03453763],\n",
       "       [0.92926081, 0.07073919],\n",
       "       [0.82031977, 0.17968023],\n",
       "       [0.88290272, 0.11709728],\n",
       "       [0.45884073, 0.54115927],\n",
       "       [0.53436928, 0.46563072],\n",
       "       [0.18533136, 0.81466864],\n",
       "       [0.55904699, 0.44095301],\n",
       "       [0.79174492, 0.20825508],\n",
       "       [0.43801004, 0.56198996],\n",
       "       [0.94663157, 0.05336843],\n",
       "       [0.05675875, 0.94324125],\n",
       "       [0.89369246, 0.10630754],\n",
       "       [0.37743652, 0.62256348],\n",
       "       [0.63384972, 0.36615028],\n",
       "       [0.18526339, 0.81473661],\n",
       "       [0.40467819, 0.59532181],\n",
       "       [0.03442394, 0.96557606],\n",
       "       [0.92646343, 0.07353657],\n",
       "       [0.41481484, 0.58518516],\n",
       "       [0.88397774, 0.11602226],\n",
       "       [0.87922325, 0.12077675],\n",
       "       [0.84257217, 0.15742783],\n",
       "       [0.65813209, 0.34186791],\n",
       "       [0.90320257, 0.09679743],\n",
       "       [0.68938814, 0.31061186],\n",
       "       [0.85470344, 0.14529656],\n",
       "       [0.90555662, 0.09444338],\n",
       "       [0.76882704, 0.23117296],\n",
       "       [0.89054504, 0.10945496],\n",
       "       [0.27302161, 0.72697839],\n",
       "       [0.84826221, 0.15173779],\n",
       "       [0.86913644, 0.13086356],\n",
       "       [0.36603105, 0.63396895],\n",
       "       [0.84981885, 0.15018115],\n",
       "       [0.84826221, 0.15173779],\n",
       "       [0.91326299, 0.08673701],\n",
       "       [0.5759774 , 0.4240226 ],\n",
       "       [0.89546612, 0.10453388],\n",
       "       [0.71065163, 0.28934837],\n",
       "       [0.7525631 , 0.2474369 ],\n",
       "       [0.09103884, 0.90896116],\n",
       "       [0.89021825, 0.10978175],\n",
       "       [0.2485564 , 0.7514436 ],\n",
       "       [0.19245006, 0.80754994],\n",
       "       [0.32188077, 0.67811923],\n",
       "       [0.76814041, 0.23185959],\n",
       "       [0.37026183, 0.62973817],\n",
       "       [0.08632456, 0.91367544],\n",
       "       [0.89014122, 0.10985878],\n",
       "       [0.71528927, 0.28471073],\n",
       "       [0.37912324, 0.62087676],\n",
       "       [0.45257621, 0.54742379],\n",
       "       [0.88729811, 0.11270189],\n",
       "       [0.09345436, 0.90654564],\n",
       "       [0.73692249, 0.26307751],\n",
       "       [0.47066218, 0.52933782],\n",
       "       [0.92885534, 0.07114466],\n",
       "       [0.3526504 , 0.6473496 ],\n",
       "       [0.21766424, 0.78233576],\n",
       "       [0.89023763, 0.10976237],\n",
       "       [0.79531728, 0.20468272],\n",
       "       [0.21675511, 0.78324489],\n",
       "       [0.67591578, 0.32408422],\n",
       "       [0.8278821 , 0.1721179 ],\n",
       "       [0.85508449, 0.14491551],\n",
       "       [0.9527989 , 0.0472011 ],\n",
       "       [0.85372472, 0.14627528],\n",
       "       [0.86406852, 0.13593148],\n",
       "       [0.8248018 , 0.1751982 ],\n",
       "       [0.95274125, 0.04725875],\n",
       "       [0.09297293, 0.90702707],\n",
       "       [0.89031879, 0.10968121],\n",
       "       [0.8894047 , 0.1105953 ],\n",
       "       [0.17720131, 0.82279869],\n",
       "       [0.89021825, 0.10978175],\n",
       "       [0.07093521, 0.92906479],\n",
       "       [0.85897456, 0.14102544],\n",
       "       [0.83692503, 0.16307497]])"
      ]
     },
     "execution_count": 26,
     "metadata": {},
     "output_type": "execute_result"
    }
   ],
   "source": [
    "pred_proba"
   ]
  },
  {
   "cell_type": "code",
   "execution_count": 16,
   "id": "5b3cec4b",
   "metadata": {},
   "outputs": [
    {
     "name": "stdout",
     "output_type": "stream",
     "text": [
      "[[86 24]\n",
      " [13 56]]\n",
      "********************\n",
      "0.7932960893854749 0.7 0.8115942028985508\n"
     ]
    }
   ],
   "source": [
    "confusion_matrix(y_test, custom_proba)\n",
    "get_clf_eval(y_test, custom_proba)"
   ]
  },
  {
   "cell_type": "markdown",
   "id": "3ef01e72",
   "metadata": {},
   "source": [
    "# 정밀도와 재현율의 변화   \n",
    "   \n",
    "정미도와 재현율의 불균형이 심할 때,   \n",
    "혹은 비지니스의 요구사항이 있을 때   \n",
    "임계치를 조정해야 한다.    \n",
    "     \n",
    "임계치를 낮추면, 정밀도는 낮아지고, 재현율은 올라간다."
   ]
  },
  {
   "cell_type": "markdown",
   "id": "e355b7ef",
   "metadata": {},
   "source": [
    "## 평가 결과 확인하기\n"
   ]
  },
  {
   "cell_type": "code",
   "execution_count": 17,
   "id": "87c9d1f6",
   "metadata": {},
   "outputs": [
    {
     "data": {
      "text/plain": [
       "np.float64(0.6178861788617886)"
      ]
     },
     "execution_count": 17,
     "metadata": {},
     "output_type": "execute_result"
    }
   ],
   "source": [
    "from sklearn.metrics import f1_score, classification_report\n",
    "f1_score(y_test, pred) #정밀도와 재현율의 평균"
   ]
  },
  {
   "cell_type": "code",
   "execution_count": 18,
   "id": "c899fad4",
   "metadata": {},
   "outputs": [
    {
     "name": "stdout",
     "output_type": "stream",
     "text": [
      "              precision    recall  f1-score   support\n",
      "\n",
      "           0       0.75      0.85      0.80       110\n",
      "           1       0.70      0.55      0.62        69\n",
      "\n",
      "    accuracy                           0.74       179\n",
      "   macro avg       0.73      0.70      0.71       179\n",
      "weighted avg       0.73      0.74      0.73       179\n",
      "\n"
     ]
    }
   ],
   "source": [
    "print(classification_report(y_test, pred))  #평가보고서"
   ]
  },
  {
   "cell_type": "code",
   "execution_count": 21,
   "id": "96371528",
   "metadata": {},
   "outputs": [
    {
     "data": {
      "text/plain": [
       "1   -2.593416\n",
       "0   -0.901628\n",
       "3   -0.368137\n",
       "7   -0.107352\n",
       "4   -0.059052\n",
       "6   -0.058762\n",
       "2   -0.042756\n",
       "5    0.001286\n",
       "dtype: float64"
      ]
     },
     "execution_count": 21,
     "metadata": {},
     "output_type": "execute_result"
    }
   ],
   "source": [
    "import pandas as pd\n",
    "pd.Series(lr_clf.coef_[0]).sort_values() # 피처의 중요도는 계수"
   ]
  }
 ],
 "metadata": {
  "kernelspec": {
   "display_name": "hi_ml_env",
   "language": "python",
   "name": "python3"
  },
  "language_info": {
   "codemirror_mode": {
    "name": "ipython",
    "version": 3
   },
   "file_extension": ".py",
   "mimetype": "text/x-python",
   "name": "python",
   "nbconvert_exporter": "python",
   "pygments_lexer": "ipython3",
   "version": "3.10.16"
  }
 },
 "nbformat": 4,
 "nbformat_minor": 5
}
