{
 "cells": [
  {
   "cell_type": "markdown",
   "id": "47b86a89-0472-4d9e-bf96-1f216e4b3a85",
   "metadata": {},
   "source": [
    "# 연산자\n",
    "2+1  #산술연선자     \n",
    "a=2 #대입연선자    \n",
    "a>2 #비교연선자    \n"
   ]
  },
  {
   "cell_type": "code",
   "execution_count": 4,
   "id": "e5102097-7497-4bb9-b94f-41fdf0f28f81",
   "metadata": {},
   "outputs": [
    {
     "data": {
      "text/plain": [
       "(2, 2, 2, 2)"
      ]
     },
     "execution_count": 4,
     "metadata": {},
     "output_type": "execute_result"
    }
   ],
   "source": [
    "b=c=d=a #대입연산자\n",
    "b,c,d,a"
   ]
  },
  {
   "cell_type": "code",
   "execution_count": 6,
   "id": "0e41bd9b-a94b-42bf-924e-0d288be7feee",
   "metadata": {},
   "outputs": [
    {
     "data": {
      "text/plain": [
       "True"
      ]
     },
     "execution_count": 6,
     "metadata": {},
     "output_type": "execute_result"
    }
   ],
   "source": [
    "id(b) == id(a) #비교연산자"
   ]
  },
  {
   "cell_type": "markdown",
   "id": "f57c1e46-b9a6-456c-b754-82c56ac13e1c",
   "metadata": {},
   "source": [
    "# 조건문    \n",
    "- 비교연산자를 이용한 부을값이 출력되어야 한다.\n",
    "- : 이후 영역표시는 들여쓰기로 맞추어야 한다.   "
   ]
  },
  {
   "cell_type": "code",
   "execution_count": 9,
   "id": "d2305870-b063-4332-84e5-35ead08f5b28",
   "metadata": {},
   "outputs": [
    {
     "name": "stdout",
     "output_type": "stream",
     "text": [
      "pass\n"
     ]
    }
   ],
   "source": [
    "kor_score = 95\n",
    "\n",
    "if kor_score > 90 : #True 일때만 실행\n",
    "    print('pass')"
   ]
  },
  {
   "cell_type": "code",
   "execution_count": 29,
   "id": "d2aeaaf8-ff1c-48e3-876e-ddb705f773fe",
   "metadata": {},
   "outputs": [
    {
     "name": "stdout",
     "output_type": "stream",
     "text": [
      "fail\n"
     ]
    }
   ],
   "source": [
    "#한줄작성\n",
    "\n",
    "# 'True일때 실행문' if 조건식 else 'false일때 실행문'\n",
    "#비교연산자, 논리연산자, > 조건식\n",
    "\n",
    "kor_score = 40\n",
    "print('pass') if kor_score > 90 else print('fail') #한줄작성"
   ]
  },
  {
   "cell_type": "code",
   "execution_count": 30,
   "id": "8ae6a743-6c44-4daa-98fc-7712c954d416",
   "metadata": {},
   "outputs": [
    {
     "name": "stdout",
     "output_type": "stream",
     "text": [
      "fail\n"
     ]
    }
   ],
   "source": [
    "kor_score = 40\n",
    "\n",
    "if kor_score > 90 : \n",
    "    print('pass')\n",
    "else:\n",
    "    print('fail')"
   ]
  },
  {
   "cell_type": "code",
   "execution_count": 44,
   "id": "058b02db-2aff-4e54-a519-770c4c48152a",
   "metadata": {},
   "outputs": [
    {
     "name": "stdin",
     "output_type": "stream",
     "text": [
      "점수를 숫자로 입력하세요. 89\n"
     ]
    },
    {
     "name": "stdout",
     "output_type": "stream",
     "text": [
      "우\n"
     ]
    }
   ],
   "source": [
    "#수우미양가\n",
    "\n",
    "score = int(input('점수를 숫자로 입력하세요.'))\n",
    "if score >= 90 :\n",
    "    print('수')\n",
    "else: #89~\n",
    "    if score >=80:\n",
    "        print('우')\n",
    "    else: #79~\n",
    "        if score >=70:\n",
    "            print('미')\n",
    "        else: #67~\n",
    "            if score >=60:\n",
    "                print('양')\n",
    "            else: \n",
    "                print('가')"
   ]
  },
  {
   "cell_type": "code",
   "execution_count": 45,
   "id": "c8a9da34-7ed4-43df-b51e-e44d91ae57ab",
   "metadata": {},
   "outputs": [
    {
     "name": "stdin",
     "output_type": "stream",
     "text": [
      "점수를 숫자로 입력하세요. 89\n"
     ]
    },
    {
     "name": "stdout",
     "output_type": "stream",
     "text": [
      "우\n",
      "미\n",
      "양\n"
     ]
    }
   ],
   "source": [
    "#수우미양가\n",
    "\n",
    "score = int(input('점수를 숫자로 입력하세요.'))\n",
    "\n",
    "if score >= 90 :\n",
    "    print('수')\n",
    "\n",
    "if score >=80:\n",
    "    print('우')\n",
    "\n",
    "if score >=70:\n",
    "    print('미')\n",
    "\n",
    "if score >=60:\n",
    "    print('양')"
   ]
  },
  {
   "cell_type": "code",
   "execution_count": 49,
   "id": "94e546a0-fa32-4a8b-b4a7-40ccba47ad93",
   "metadata": {},
   "outputs": [
    {
     "name": "stdin",
     "output_type": "stream",
     "text": [
      "점수를 숫자로 입력하세요. 70\n"
     ]
    },
    {
     "name": "stdout",
     "output_type": "stream",
     "text": [
      "미\n"
     ]
    }
   ],
   "source": [
    "score = int(input('점수를 숫자로 입력하세요.'))\n",
    "\n",
    "if score >= 90:\n",
    "    print('수')\n",
    "elif score >=80:\n",
    "    print('우')\n",
    "elif score >=70:\n",
    "    print('미')\n",
    "elif score >=60:\n",
    "    print('양')\n",
    "else:\n",
    "    print('가')"
   ]
  },
  {
   "cell_type": "code",
   "execution_count": 60,
   "id": "6e41f092-abe6-4dc6-8aa5-1d20f867eb22",
   "metadata": {},
   "outputs": [
    {
     "name": "stdin",
     "output_type": "stream",
     "text": [
      "수식을 입력하세요.(예 20 * 40) 10 * 30\n"
     ]
    },
    {
     "data": {
      "text/plain": [
       "('10', '*', '30')"
      ]
     },
     "execution_count": 60,
     "metadata": {},
     "output_type": "execute_result"
    }
   ],
   "source": [
    "formula = input(\"수식을 입력하세요.(예 20 * 40)\")\n",
    "\n",
    "num1, opr, num2 = formula.split()\n",
    "\n",
    "num1, opr, num2                          "
   ]
  },
  {
   "cell_type": "code",
   "execution_count": 78,
   "id": "4565b377-d185-43eb-83d8-e32a510b28a1",
   "metadata": {},
   "outputs": [
    {
     "name": "stdin",
     "output_type": "stream",
     "text": [
      "수식을 입력하세요.(예 20 * 40) 60 a 50\n"
     ]
    },
    {
     "name": "stdout",
     "output_type": "stream",
     "text": [
      "지원하지 않은 연산자\n"
     ]
    }
   ],
   "source": [
    "formula = input(\"수식을 입력하세요.(예 20 * 40)\")\n",
    "\n",
    "num1, opr, num2 = formula.split()\n",
    "\n",
    "num1, opr, num2      \n",
    "\n",
    "num1 = float(num1)\n",
    "num2 = float(num2)\n",
    "\n",
    "opr_list = ['+', '-', '*','/'] #연산자\n",
    "\n",
    "if opr == '+' :\n",
    "    result = num1 + num2\n",
    "elif opr == '-' :\n",
    "    result = num1 - num2\n",
    "elif opr == '*':\n",
    "    result = num1 * num2\n",
    "elif opr == '/':\n",
    "    result = num1 / num2\n",
    "else :\n",
    "    result = None\n",
    "    \n",
    "\n",
    "if result == None:\n",
    "    print(\"지원하지 않은 연산자\")\n",
    "else:\n",
    "    print(f'{num1} {opr} {num2} = {result}')"
   ]
  },
  {
   "cell_type": "code",
   "execution_count": 82,
   "id": "33688d53-55ea-4e51-8259-ad889f700863",
   "metadata": {},
   "outputs": [
    {
     "name": "stdin",
     "output_type": "stream",
     "text": [
      "수식을 입력하세요.(예 20 * 40) 60 a 540\n"
     ]
    },
    {
     "name": "stdout",
     "output_type": "stream",
     "text": [
      "지원하지 않은 연산자\n"
     ]
    }
   ],
   "source": [
    "formula = input(\"수식을 입력하세요.(예 20 * 40)\")\n",
    "\n",
    "num1, opr, num2 = formula.split()\n",
    "\n",
    "num1, opr, num2      \n",
    "\n",
    "num1 = float(num1)\n",
    "num2 = float(num2)\n",
    "\n",
    "opr_list = ['+', '-', '*','/'] #연산자\n",
    "\n",
    "if opr not in opr_list:\n",
    "    print(\"지원하지 않은 연산자\")\n",
    "else:\n",
    "    if opr == '+' :\n",
    "        result = num1 + num2\n",
    "    elif opr == '-' :\n",
    "        result = num1 - num2\n",
    "    elif opr == '*':\n",
    "        result = num1 * num2\n",
    "    elif opr == '/':\n",
    "        result = num1 / num2\n",
    "    print(f'{num1} {opr} {num2} = {result}')"
   ]
  },
  {
   "cell_type": "markdown",
   "id": "96fee4db-c3d3-4c2b-874d-2589814f8245",
   "metadata": {},
   "source": [
    "# 1줄로 쓰기"
   ]
  },
  {
   "cell_type": "code",
   "execution_count": null,
   "id": "3b2ae526-b6d8-461a-8959-65ccb5b9c896",
   "metadata": {},
   "outputs": [],
   "source": [
    "num = 7\n",
    "#if num % 2 : print('짝수') else: print('홀수')\n",
    "print('짝수' if num %2 == 0 else '홀수')"
   ]
  },
  {
   "cell_type": "code",
   "execution_count": 106,
   "id": "bda99dc1-6886-46ec-84d7-9cb384adf628",
   "metadata": {},
   "outputs": [
    {
     "name": "stdout",
     "output_type": "stream",
     "text": [
      "화이팅\n"
     ]
    }
   ],
   "source": [
    "# 졸려 = True - 쉽시다,화이팅\n",
    "\n",
    "졸려 = False\n",
    "# print('쉽시다'if 졸려 == True else '화이팅')\n",
    "print('쉽시다'if 졸려 else '화이팅') # <if 졸려>는  <if 졸려 == True>와 같은 의미"
   ]
  },
  {
   "cell_type": "code",
   "execution_count": 109,
   "id": "1fb10bc8-4971-4059-9e9a-404947c9d129",
   "metadata": {},
   "outputs": [
    {
     "data": {
      "text/plain": [
       "'패'"
      ]
     },
     "execution_count": 109,
     "metadata": {},
     "output_type": "execute_result"
    }
   ],
   "source": [
    "player = '가위'\n",
    "computer = '바위'\n",
    "\n",
    "#result = '승', '패', '무승부'\n",
    "\n",
    "result = '승' if player == '가위' and computer =='보' else  '무승부' if player == computer else '패'\n",
    "result"
   ]
  },
  {
   "cell_type": "code",
   "execution_count": 110,
   "id": "319d9b5a-cb39-40c7-b7b7-d7b6f4a75606",
   "metadata": {},
   "outputs": [
    {
     "data": {
      "text/plain": [
       "'패'"
      ]
     },
     "execution_count": 110,
     "metadata": {},
     "output_type": "execute_result"
    }
   ],
   "source": [
    "player = '가위'\n",
    "computer = '바위'\n",
    "\n",
    "#result = '승', '패', '무승부'\n",
    "\n",
    "result = '승' if player == '가위' and computer =='보' else \\\n",
    "        '무승부' if player == computer else \\\n",
    "        '패'\n",
    "result"
   ]
  },
  {
   "cell_type": "code",
   "execution_count": 118,
   "id": "e85b7f94-7311-4012-8990-86123a3a7d3a",
   "metadata": {},
   "outputs": [
    {
     "name": "stdin",
     "output_type": "stream",
     "text": [
      "점수를 입력하세요 90\n"
     ]
    },
    {
     "name": "stdout",
     "output_type": "stream",
     "text": [
      "A\n"
     ]
    }
   ],
   "source": [
    "#학점  A,B,C,D  출력하는 1줄 조건식\n",
    "score = int(input('점수를 입력하세요'))\n",
    "\n",
    "point = 'A' if score >=90 else \\\n",
    "        'B' if score >=80 else \\\n",
    "        'C' if score >=70 else \\\n",
    "        'D' \n",
    "print(point)"
   ]
  },
  {
   "cell_type": "markdown",
   "id": "3449febd-7c56-4474-9aaa-5a3f175959e7",
   "metadata": {},
   "source": [
    "# break, continue, pass"
   ]
  },
  {
   "cell_type": "code",
   "execution_count": 124,
   "id": "a5bd8d63-7ebd-4194-80ba-38746949688b",
   "metadata": {},
   "outputs": [
    {
     "name": "stdout",
     "output_type": "stream",
     "text": [
      "현재 검사 중인 숫자: 1\n",
      "현재 검사 중인 숫자: 3\n",
      "현재 검사 중인 숫자: 5\n",
      "현재 검사 중인 숫자: 7\n",
      "9를 찾았습니다!\n"
     ]
    }
   ],
   "source": [
    "#break\n",
    "numbers = [1, 3, 5, 7, 9, 11, 13, 15]\n",
    "search_number = 9\n",
    "\n",
    "for num in numbers:\n",
    "    if num == search_number:\n",
    "        print(f\"{search_number}를 찾았습니다!\")\n",
    "        break\n",
    "    print(f\"현재 검사 중인 숫자: {num}\")"
   ]
  },
  {
   "cell_type": "code",
   "execution_count": 125,
   "id": "3b4e883b-d9eb-487e-b22a-93bcc69ba537",
   "metadata": {},
   "outputs": [
    {
     "name": "stdout",
     "output_type": "stream",
     "text": [
      "2\n",
      "4\n",
      "6\n",
      "8\n",
      "10\n"
     ]
    }
   ],
   "source": [
    "#continue\n",
    "for i in range(1, 11):\n",
    "    if i % 2 != 0:  # 홀수인 경우\n",
    "        continue\n",
    "    print(i)  # 짝수만 출력"
   ]
  },
  {
   "cell_type": "code",
   "execution_count": 135,
   "id": "af567d41-de38-4586-940b-c6e9a73d4e90",
   "metadata": {},
   "outputs": [],
   "source": [
    "#pass\n",
    "condition = True\n",
    "\n",
    "if condition:\n",
    "    pass  # 나중에 구현할 예정\n",
    "else:\n",
    "    print(\"else 구문 실행\")"
   ]
  },
  {
   "cell_type": "code",
   "execution_count": null,
   "id": "0257c499-4b0d-4cd5-95b4-35951c090369",
   "metadata": {},
   "outputs": [],
   "source": []
  }
 ],
 "metadata": {
  "kernelspec": {
   "display_name": "Python 3 (ipykernel)",
   "language": "python",
   "name": "python3"
  },
  "language_info": {
   "codemirror_mode": {
    "name": "ipython",
    "version": 3
   },
   "file_extension": ".py",
   "mimetype": "text/x-python",
   "name": "python",
   "nbconvert_exporter": "python",
   "pygments_lexer": "ipython3",
   "version": "3.12.9"
  }
 },
 "nbformat": 4,
 "nbformat_minor": 5
}
