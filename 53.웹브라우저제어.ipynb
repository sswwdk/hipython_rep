{
 "cells": [
  {
   "cell_type": "code",
   "execution_count": 107,
   "id": "af0d5290",
   "metadata": {},
   "outputs": [
    {
     "name": "stdout",
     "output_type": "stream",
     "text": [
      "c:\\githome\\hipython_rep\\html\\basic2.html\n",
      "c:\\githome\\hipython_rep/html/basic2.html\n"
     ]
    }
   ],
   "source": [
    "import os\n",
    "file_path = os.getcwd() + '/html/basic2.html'\n",
    "print(os.path.abspath('html/basic2.html')) #path\n",
    "print(file_path)"
   ]
  },
  {
   "cell_type": "code",
   "execution_count": 108,
   "id": "3b292b6e",
   "metadata": {},
   "outputs": [
    {
     "data": {
      "text/plain": [
       "'file:///c:\\\\githome\\\\hipython_rep/html/basic2.html'"
      ]
     },
     "execution_count": 108,
     "metadata": {},
     "output_type": "execute_result"
    }
   ],
   "source": [
    "url = 'file:///'+file_path\n",
    "url"
   ]
  },
  {
   "cell_type": "code",
   "execution_count": null,
   "id": "f0c3e16f",
   "metadata": {},
   "outputs": [
    {
     "data": {
      "text/plain": [
       "<selenium.webdriver.chrome.webdriver.WebDriver (session=\"3a9510e5625a70310761ef2a1f2b995d\")>"
      ]
     },
     "execution_count": 8,
     "metadata": {},
     "output_type": "execute_result"
    }
   ],
   "source": [
    "from selenium import webdriver\n",
    "\n",
    "driver = webdriver.Chrome()\n",
    "driver.get(url)"
   ]
  },
  {
   "cell_type": "code",
   "execution_count": 3,
   "id": "1ce10364",
   "metadata": {},
   "outputs": [
    {
     "name": "stdout",
     "output_type": "stream",
     "text": [
      "4.34.2\n"
     ]
    }
   ],
   "source": [
    "import selenium\n",
    "print(selenium.__version__)\n",
    "\n",
    "#Selenium의 웹드라이버 기능 불러오기 (크롬, 파이어폭스 등 조작 가능)\n",
    "from selenium import webdriver\n",
    "\n",
    "#크롬 브라우저 설정 옵션을 사용하기 위한 클래스\n",
    "from selenium.webdriver.chrome.options import Options\n",
    "\n",
    "\n",
    "#크롬 실행 옵션 객체 생성\n",
    "chrome_options = Options()\n",
    "\n",
    "# 브라우저 종료 방지 옵션\n",
    "chrome_options.add_experimental_option(\"detach\", True)\n",
    "\n",
    "#설정된 옵션과 함께 크롬 브라우저를 실행\n",
    "driver = webdriver.Chrome(options=chrome_options)\n",
    "\n",
    "#지정한 URL을 자동으로 열기 \n",
    "driver.get('https://www.python.org')"
   ]
  },
  {
   "cell_type": "code",
   "execution_count": null,
   "id": "cc7c76cf",
   "metadata": {},
   "outputs": [],
   "source": [
    "import os\n",
    "file_path = os.getcwd() + '/html/basic2.html'\n",
    "print('')\n",
    "print('')\n",
    "\n",
    "url = 'file:///' + file_path\n",
    "\n",
    "driver = webdriver.Chrome\n",
    "driver.get(url)"
   ]
  },
  {
   "cell_type": "code",
   "execution_count": null,
   "id": "ce208eef",
   "metadata": {},
   "outputs": [],
   "source": [
    "username_el = driver.find_element(by='name', value='username')\n",
    "username_el.send_keys('ylkim')"
   ]
  },
  {
   "cell_type": "code",
   "execution_count": 41,
   "id": "15034963",
   "metadata": {},
   "outputs": [],
   "source": [
    "from selenium import webdriver\n",
    "from selenium.webdriver.chrome.options import Options\n",
    "import os\n",
    "\n",
    "file_path = os.getcwd() + '/html/basic2.html'\n",
    "\n",
    "from selenium.webdriver.chrome.options import Options\n",
    "\n",
    "\n",
    "#Chrome 브라우저의 실행 옵션을 설정하기 위해 Options 객체를 만들기\n",
    "chrome_options = Options()\n",
    "\n",
    "#브라우저 창을 자동화가 끝나도 닫지 않고, 계속 열어두게 함\n",
    "chrome_options.add_experimental_option(name='detach', value=True)\n",
    "\n",
    "\n",
    "#Chrome 브라우저를 위에서 설정한 옵션과 함께 실행\n",
    "driver = Chrome(options=chrome_options)\n",
    "\n",
    "#file:///는 로컬 파일을 브라우저에서 여는 URL 형식\n",
    "driver.get(\"file:///\"+file_path) \n",
    "username_el = driver.find_element(by='name', value='username')\n",
    "username_el.send_keys('jangseung')\n",
    "\n",
    "password_el = driver.find_element(by='name', value='password')\n",
    "password_el.send_keys('jangseung')\n",
    "\n",
    "\n",
    "link = driver.find_element(by='link text', value='파이썬전문가그룹')\n",
    "#link = driver.find_element(by='partial link text', value='파이썬')\n",
    "link.click()"
   ]
  },
  {
   "cell_type": "code",
   "execution_count": 30,
   "id": "2f073095",
   "metadata": {},
   "outputs": [],
   "source": [
    "link = driver.find_element(by='link text', value='파이썬전문가그룹')\n",
    "link.click()"
   ]
  },
  {
   "cell_type": "code",
   "execution_count": 35,
   "id": "b24fb9ad",
   "metadata": {},
   "outputs": [],
   "source": [
    "driver.back()"
   ]
  },
  {
   "cell_type": "code",
   "execution_count": 72,
   "id": "895b84e5",
   "metadata": {},
   "outputs": [
    {
     "name": "stdout",
     "output_type": "stream",
     "text": [
      "PSF PyCon Trademark Usage Policy\n",
      "PyCon Italia 2016 (PyCon Sette)\n",
      "PyCon Australia 2013\n",
      "PyCon AU 2019\n",
      "PyCon NL 2025\n",
      "PyCon Australia 2014\n",
      "PyCon Ireland 2012\n",
      "PyCon Ireland 2016\n",
      "PyCon Ireland 2022\n",
      "PyCon Australia 2014\n",
      "PyCon Ireland 2024\n",
      "PyCon APAC 2025\n",
      "PyCon AU 2018\n",
      "PyCon APAC 2022\n",
      "PyCon PH 2024\n",
      "PyCon Ireland 2023\n",
      "PyCon PL 2014\n",
      "PyCon MY 2015\n",
      "PyCon Ireland 2015\n",
      "PyCon AU 2015\n"
     ]
    }
   ],
   "source": [
    "from selenium import webdriver\n",
    "\n",
    "driver = webdriver.Chrome()\n",
    "driver.get('https://www.python.org')\n",
    "\n",
    "input_el = driver.find_element(by='id', value='id-search-field')\n",
    "\n",
    "#from selenium.webdriver.common.by import By\n",
    "#input_el = driver.find_element(By.ID, 'id-search-field')\n",
    "#input_el = driver.find_element(by='css selector', value='#id-search-field')\n",
    "\n",
    "input_el.send_keys('Pycon')  # 검색어 입력\n",
    "\n",
    "from selenium.webdriver.common.keys import Keys\n",
    "input_el.send_keys(Keys.RETURN)  # 엔터키 입력\n",
    "\n",
    "#content > div > section > form > ul > li:nth-child(2) > h3 > a\n",
    "result_list = driver.find_elements(by='css selector', value='form li h3 > a')\n",
    "for result in result_list:\n",
    "    print(result.text)"
   ]
  },
  {
   "cell_type": "code",
   "execution_count": 53,
   "id": "cd46a190",
   "metadata": {},
   "outputs": [],
   "source": [
    "from selenium.webdriver.common.by import By"
   ]
  },
  {
   "cell_type": "code",
   "execution_count": 54,
   "id": "0eead04e",
   "metadata": {},
   "outputs": [],
   "source": [
    "from selenium import webdriver\n",
    "from selenium.webdriver.common.by import By\n",
    "\n",
    "driver = webdriver.Chrome()\n",
    "driver.get('https://www.python.org') \n",
    "input_el2 = driver.find_element(by='css selector', value='#id-search-field')\n",
    "input_el2.send_keys('hellopython')  # 검색어 입력"
   ]
  },
  {
   "cell_type": "markdown",
   "id": "915dda87",
   "metadata": {},
   "source": [
    "#content > div > section > form > ul > li:nth-child(2) > h3 > a"
   ]
  },
  {
   "cell_type": "code",
   "execution_count": 68,
   "id": "0aaef5fd",
   "metadata": {},
   "outputs": [
    {
     "name": "stdout",
     "output_type": "stream",
     "text": [
      "PSF PyCon Trademark Usage Policy\n",
      "PyCon Italia 2016 (PyCon Sette)\n",
      "PyCon Australia 2013\n",
      "PyCon AU 2019\n",
      "PyCon NL 2025\n",
      "PyCon Australia 2014\n",
      "PyCon Ireland 2012\n",
      "PyCon Ireland 2016\n",
      "PyCon Ireland 2022\n",
      "PyCon Australia 2014\n",
      "PyCon Ireland 2024\n",
      "PyCon APAC 2025\n",
      "PyCon AU 2018\n",
      "PyCon APAC 2022\n",
      "PyCon PH 2024\n",
      "PyCon Ireland 2023\n",
      "PyCon PL 2014\n",
      "PyCon MY 2015\n",
      "PyCon Ireland 2015\n",
      "PyCon AU 2015\n"
     ]
    },
    {
     "data": {
      "text/plain": [
       "20"
      ]
     },
     "execution_count": 68,
     "metadata": {},
     "output_type": "execute_result"
    }
   ],
   "source": [
    "result_list = driver.find_elements(by='css selector', value='form li h3 > a')\n",
    "for result in result_list:\n",
    "    print(result.text)\n",
    "    \n",
    "len(result_list)"
   ]
  },
  {
   "cell_type": "code",
   "execution_count": 75,
   "id": "76e49ca8",
   "metadata": {},
   "outputs": [],
   "source": [
    "from selenium import webdriver\n",
    "\n",
    "driver = webdriver.Chrome()\n",
    "driver.get('https://www.python.org')\n",
    "\n",
    "input_el = driver.find_element(by='id', value='id-search-field')\n",
    "\n",
    "#from selenium.webdriver.common.by import By\n",
    "#input_el = driver.find_element(By.ID, 'id-search-field')\n",
    "#input_el = driver.find_element(by='css selector', value='#id-search-field')\n",
    "\n",
    "input_el.send_keys('Pycon')  # 검색어 입력\n",
    "\n",
    "from selenium.webdriver.common.keys import Keys\n",
    "input_el.send_keys(Keys.RETURN)  # 엔터키 입력\n",
    "\n",
    "#content > div > section > form > ul > li:nth-child(2) > h3 > a\n",
    "result_list = driver.find_elements(by='css selector', value='form li h3 > a')\n",
    "for result in result_list:\n",
    "    print(result.text)"
   ]
  },
  {
   "cell_type": "markdown",
   "id": "ffc3b929",
   "metadata": {},
   "source": [
    "결과가 나오지 않을 수 있다. 그래서 # 명시적 대기 driver.implicitly_wait(1) 를 사용한다."
   ]
  },
  {
   "cell_type": "code",
   "execution_count": null,
   "id": "398f8e65",
   "metadata": {},
   "outputs": [
    {
     "name": "stdout",
     "output_type": "stream",
     "text": [
      "PSF PyCon Trademark Usage Policy\n",
      "PyCon Italia 2016 (PyCon Sette)\n",
      "PyCon Australia 2013\n",
      "PyCon AU 2019\n",
      "PyCon NL 2025\n",
      "PyCon Australia 2014\n",
      "PyCon Ireland 2012\n",
      "PyCon Ireland 2016\n",
      "PyCon Ireland 2022\n",
      "PyCon Australia 2014\n",
      "PyCon Ireland 2024\n",
      "PyCon APAC 2025\n",
      "PyCon AU 2018\n",
      "PyCon APAC 2022\n",
      "PyCon PH 2024\n",
      "PyCon Ireland 2023\n",
      "PyCon PL 2014\n",
      "PyCon MY 2015\n",
      "PyCon Ireland 2015\n",
      "PyCon AU 2015\n"
     ]
    }
   ],
   "source": [
    "from selenium import webdriver\n",
    "\n",
    "driver = webdriver.Chrome()\n",
    "driver.get('https://www.python.org')\n",
    "\n",
    "input_el = driver.find_element(by='id', value='id-search-field')\n",
    "\n",
    "#from selenium.webdriver.common.by import By\n",
    "#input_el = driver.find_element(By.ID, 'id-search-field')\n",
    "#input_el = driver.find_element(by='css selector', value='#id-search-field')\n",
    "\n",
    "input_el.send_keys('Pycon')  # 검색어 입력\n",
    "\n",
    "from selenium.webdriver.common.keys import Keys\n",
    "input_el.send_keys(Keys.RETURN)  # 엔터키 입력\n",
    "\n",
    "driver.implicitly_wait(1) # 명시적 대기\n",
    "\n",
    "#content > div > section > form > ul > li:nth-child(2) > h3 > a\n",
    "result_list = driver.find_elements(by='css selector', value='form li h3 > a')\n",
    "for result in result_list:\n",
    "    print(result.text)"
   ]
  },
  {
   "cell_type": "markdown",
   "id": "9f757432",
   "metadata": {},
   "source": [
    "# 날씨 정보를 일반적 조건으로 대기해서 가져오기"
   ]
  },
  {
   "cell_type": "code",
   "execution_count": 82,
   "id": "7e22d04e",
   "metadata": {},
   "outputs": [],
   "source": [
    "import requests"
   ]
  },
  {
   "cell_type": "code",
   "execution_count": 90,
   "id": "54ac7101",
   "metadata": {},
   "outputs": [
    {
     "data": {
      "text/plain": [
       "<Response [200]>"
      ]
     },
     "execution_count": 90,
     "metadata": {},
     "output_type": "execute_result"
    }
   ],
   "source": [
    "url = 'https://www.weather.go.kr/w/index.do'\n",
    "\n",
    "res = requests.get(url)\n",
    "res"
   ]
  },
  {
   "cell_type": "code",
   "execution_count": 91,
   "id": "6d7cc3f2",
   "metadata": {},
   "outputs": [
    {
     "data": {
      "text/plain": [
       "[]"
      ]
     },
     "execution_count": 91,
     "metadata": {},
     "output_type": "execute_result"
    }
   ],
   "source": [
    "from bs4 import BeautifulSoup\n",
    "soup = BeautifulSoup(res.text, 'html.parser')\n",
    "soup.select('.tmp')\n",
    "## 문제라고?"
   ]
  },
  {
   "cell_type": "code",
   "execution_count": 88,
   "id": "b9fe074c",
   "metadata": {},
   "outputs": [],
   "source": [
    "import time\n",
    "res = requests.get(url)\n",
    "time.sleep(3)"
   ]
  },
  {
   "cell_type": "markdown",
   "id": "60ec9c95",
   "metadata": {},
   "source": [
    "#current-weather > div.cmp-cur-weather.wbg.wbg-type2.BGDB00 > ul.wrap-1 > li.w-icon.w-temp.no-w > span.tmp"
   ]
  },
  {
   "cell_type": "code",
   "execution_count": 105,
   "id": "59fb9731",
   "metadata": {},
   "outputs": [
    {
     "data": {
      "text/plain": [
       "'34.9℃'"
      ]
     },
     "execution_count": 105,
     "metadata": {},
     "output_type": "execute_result"
    }
   ],
   "source": [
    "import time\n",
    "from selenium.webdriver import Chrome\n",
    "\n",
    "# res = requests.get(url)\n",
    "driver = Chrome()    \n",
    "driver.get(url)\n",
    "\n",
    "time.sleep(3) # 명시적 대기\n",
    "\n",
    "element = driver.find_element(by='css selector', value='div#current-weather span.tmp')\n",
    "element.text"
   ]
  },
  {
   "cell_type": "code",
   "execution_count": 100,
   "id": "66dbe385",
   "metadata": {},
   "outputs": [
    {
     "name": "stdout",
     "output_type": "stream",
     "text": [
      "34.7℃\n"
     ]
    }
   ],
   "source": [
    "import time\n",
    "from selenium.webdriver import Chrome\n",
    "from selenium.webdriver.common.by import By  # By를 import해야 함\n",
    "\n",
    "driver = Chrome()    \n",
    "driver.get(url)\n",
    "\n",
    "time.sleep(3)  # 명시적 대기\n",
    "\n",
    "element = driver.find_element(By.CSS_SELECTOR, '#current-weather > div.cmp-cur-weather.wbg.wbg-type2.BGDB00 > ul.wrap-1 > li.w-icon.w-temp.no-w > span.tmp')\n",
    "print(element.text)"
   ]
  },
  {
   "cell_type": "code",
   "execution_count": 102,
   "id": "673b160d",
   "metadata": {},
   "outputs": [
    {
     "name": "stdout",
     "output_type": "stream",
     "text": [
      "34.7℃\n"
     ]
    }
   ],
   "source": [
    "from selenium.webdriver import Chrome\n",
    "from selenium.webdriver.support import expected_conditions as EC\n",
    "from selenium.webdriver.support.ui import WebDriverWait\n",
    "driver = Chrome()\n",
    "driver.get(\"https://www.weather.go.kr/w/index.do\")\n",
    "wait = WebDriverWait(driver, 3) # 최대 3초까지 대기\n",
    "\n",
    "\n",
    "# find_element() 함수의 인수로 전달될 by와 value를 튜플 형식으로 지정\n",
    "element = wait.until(\n",
    "    EC.presence_of_element_located((\"css selector\", \"div#current-weather span.tmp\"))\n",
    ")\n",
    "print(element.text)\n",
    "driver.close()"
   ]
  }
 ],
 "metadata": {
  "kernelspec": {
   "display_name": "webcrawl_env",
   "language": "python",
   "name": "python3"
  },
  "language_info": {
   "codemirror_mode": {
    "name": "ipython",
    "version": 3
   },
   "file_extension": ".py",
   "mimetype": "text/x-python",
   "name": "python",
   "nbconvert_exporter": "python",
   "pygments_lexer": "ipython3",
   "version": "3.10.18"
  }
 },
 "nbformat": 4,
 "nbformat_minor": 5
}
