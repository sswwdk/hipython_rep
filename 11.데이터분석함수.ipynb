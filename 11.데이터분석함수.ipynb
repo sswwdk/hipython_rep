{
 "cells": [
  {
   "cell_type": "markdown",
   "id": "704563e7",
   "metadata": {},
   "source": [
    "# defaultdict class"
   ]
  },
  {
   "cell_type": "code",
   "execution_count": 2,
   "id": "484977c0",
   "metadata": {},
   "outputs": [],
   "source": [
    "from collections import defaultdict\n"
   ]
  },
  {
   "cell_type": "code",
   "execution_count": 7,
   "id": "11669695",
   "metadata": {},
   "outputs": [
    {
     "name": "stdout",
     "output_type": "stream",
     "text": [
      "defaultdict(<class 'int'>, {'a': 1, 'b': 0, 'c': 2})\n"
     ]
    }
   ],
   "source": [
    "dd = defaultdict(int)\n",
    "dd['a'] = 1\n",
    "dd['b']\n",
    "dd['c'] = 2\n",
    "\n",
    "print(dd)"
   ]
  },
  {
   "cell_type": "code",
   "execution_count": 9,
   "id": "45fb2cbf",
   "metadata": {},
   "outputs": [
    {
     "data": {
      "text/plain": [
       "[('alice', 90), ('bob', 80), ('charlie', 70), ('alice', 80)]"
      ]
     },
     "execution_count": 9,
     "metadata": {},
     "output_type": "execute_result"
    }
   ],
   "source": [
    "scores = [ ('alice',90), ('bob',80), ('charlie',70), ('alice',80)]\n",
    "scores"
   ]
  },
  {
   "cell_type": "code",
   "execution_count": 14,
   "id": "20ff39ec",
   "metadata": {},
   "outputs": [
    {
     "data": {
      "text/plain": [
       "{'alice': [90, 80], 'bob': [80], 'charlie': [70]}"
      ]
     },
     "execution_count": 14,
     "metadata": {},
     "output_type": "execute_result"
    }
   ],
   "source": [
    "grouped = defaultdict(list)\n",
    "for name, score in scores:\n",
    "  grouped[name].append(score)\n",
    "  \n",
    "dict(grouped)"
   ]
  },
  {
   "cell_type": "code",
   "execution_count": 15,
   "id": "b0a49a20",
   "metadata": {},
   "outputs": [
    {
     "data": {
      "text/plain": [
       "{'b': 1, 'a': 3, 'n': 2}"
      ]
     },
     "execution_count": 15,
     "metadata": {},
     "output_type": "execute_result"
    }
   ],
   "source": [
    "s = 'banana'\n",
    "cnt = defaultdict(int)\n",
    "\n",
    "for char in s:\n",
    "  cnt[char] += 1\n",
    "dict(cnt)"
   ]
  },
  {
   "cell_type": "markdown",
   "id": "e41ca102",
   "metadata": {},
   "source": [
    "# Counter\n",
    "\n",
    "collections 모듈의 클래스. 시퀀스 데이터 - 리스트, 문자열 의 원소의 갯수를 카운트"
   ]
  },
  {
   "cell_type": "code",
   "execution_count": 1,
   "id": "93743d1d",
   "metadata": {},
   "outputs": [
    {
     "data": {
      "text/plain": [
       "Counter({2: 3, 3: 2, 0: 1, 1: 1, 4: 1})"
      ]
     },
     "execution_count": 1,
     "metadata": {},
     "output_type": "execute_result"
    }
   ],
   "source": [
    "from collections import Counter\n",
    "\n",
    "list1 = [0,1,2,3,4,2,2,3]\n",
    "\n",
    "cnt = Counter(list1)\n",
    "cnt"
   ]
  },
  {
   "cell_type": "code",
   "execution_count": 2,
   "id": "32ae8531",
   "metadata": {},
   "outputs": [
    {
     "data": {
      "text/plain": [
       "[(2, 3), (3, 2)]"
      ]
     },
     "execution_count": 2,
     "metadata": {},
     "output_type": "execute_result"
    }
   ],
   "source": [
    "cnt.most_common(2)"
   ]
  },
  {
   "cell_type": "markdown",
   "id": "88d9a4a4",
   "metadata": {},
   "source": [
    "# extend()\n",
    "extend() : 리스트에 풀어서 붙인다.\n",
    "append() : 리스트에 1개씩 추가"
   ]
  },
  {
   "cell_type": "code",
   "execution_count": 3,
   "id": "6e4a34e9",
   "metadata": {},
   "outputs": [
    {
     "data": {
      "text/plain": [
       "[0, 1, 2, 3, 4, 2, 2, 3, [10, 11], 10, 11]"
      ]
     },
     "execution_count": 3,
     "metadata": {},
     "output_type": "execute_result"
    }
   ],
   "source": [
    "list1 = [0,1,2,3,4,2,2,3]\n",
    "list1.append([10,11])\n",
    "list1.extend([10,11])\n",
    "list1"
   ]
  }
 ],
 "metadata": {
  "kernelspec": {
   "display_name": "hipython",
   "language": "python",
   "name": "python3"
  },
  "language_info": {
   "codemirror_mode": {
    "name": "ipython",
    "version": 3
   },
   "file_extension": ".py",
   "mimetype": "text/x-python",
   "name": "python",
   "nbconvert_exporter": "python",
   "pygments_lexer": "ipython3",
   "version": "3.12.9"
  }
 },
 "nbformat": 4,
 "nbformat_minor": 5
}
